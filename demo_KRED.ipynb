{
 "cells": [
  {
   "cell_type": "code",
   "execution_count": 9,
   "metadata": {
    "collapsed": true
   },
   "outputs": [
    {
     "ename": "UnicodeDecodeError",
     "evalue": "'utf-8' codec can't decode byte 0x80 in position 0: invalid start byte",
     "output_type": "error",
     "traceback": [
      "\u001B[0;31m---------------------------------------------------------------------------\u001B[0m",
      "\u001B[0;31mUnicodeDecodeError\u001B[0m                        Traceback (most recent call last)",
      "Cell \u001B[0;32mIn[9], line 4\u001B[0m\n\u001B[1;32m      2\u001B[0m file \u001B[38;5;241m=\u001B[39m \u001B[38;5;28mopen\u001B[39m(\u001B[38;5;124m'\u001B[39m\u001B[38;5;124m/Users/andreaparolin/PycharmProjects/kred/dataset/MINDdemo_utils/word_dict.pkl\u001B[39m\u001B[38;5;124m'\u001B[39m, \u001B[38;5;124m'\u001B[39m\u001B[38;5;124mr\u001B[39m\u001B[38;5;124m'\u001B[39m)\n\u001B[1;32m      3\u001B[0m \u001B[38;5;66;03m# dump information to that file\u001B[39;00m\n\u001B[0;32m----> 4\u001B[0m data \u001B[38;5;241m=\u001B[39m \u001B[43mpickle\u001B[49m\u001B[38;5;241;43m.\u001B[39;49m\u001B[43mload\u001B[49m\u001B[43m(\u001B[49m\u001B[43mfile\u001B[49m\u001B[43m)\u001B[49m\n",
      "File \u001B[0;32m/usr/local/Cellar/python@3.10/3.10.8/Frameworks/Python.framework/Versions/3.10/lib/python3.10/codecs.py:322\u001B[0m, in \u001B[0;36mBufferedIncrementalDecoder.decode\u001B[0;34m(self, input, final)\u001B[0m\n\u001B[1;32m    319\u001B[0m \u001B[38;5;28;01mdef\u001B[39;00m \u001B[38;5;21mdecode\u001B[39m(\u001B[38;5;28mself\u001B[39m, \u001B[38;5;28minput\u001B[39m, final\u001B[38;5;241m=\u001B[39m\u001B[38;5;28;01mFalse\u001B[39;00m):\n\u001B[1;32m    320\u001B[0m     \u001B[38;5;66;03m# decode input (taking the buffer into account)\u001B[39;00m\n\u001B[1;32m    321\u001B[0m     data \u001B[38;5;241m=\u001B[39m \u001B[38;5;28mself\u001B[39m\u001B[38;5;241m.\u001B[39mbuffer \u001B[38;5;241m+\u001B[39m \u001B[38;5;28minput\u001B[39m\n\u001B[0;32m--> 322\u001B[0m     (result, consumed) \u001B[38;5;241m=\u001B[39m \u001B[38;5;28;43mself\u001B[39;49m\u001B[38;5;241;43m.\u001B[39;49m\u001B[43m_buffer_decode\u001B[49m\u001B[43m(\u001B[49m\u001B[43mdata\u001B[49m\u001B[43m,\u001B[49m\u001B[43m \u001B[49m\u001B[38;5;28;43mself\u001B[39;49m\u001B[38;5;241;43m.\u001B[39;49m\u001B[43merrors\u001B[49m\u001B[43m,\u001B[49m\u001B[43m \u001B[49m\u001B[43mfinal\u001B[49m\u001B[43m)\u001B[49m\n\u001B[1;32m    323\u001B[0m     \u001B[38;5;66;03m# keep undecoded input until the next call\u001B[39;00m\n\u001B[1;32m    324\u001B[0m     \u001B[38;5;28mself\u001B[39m\u001B[38;5;241m.\u001B[39mbuffer \u001B[38;5;241m=\u001B[39m data[consumed:]\n",
      "\u001B[0;31mUnicodeDecodeError\u001B[0m: 'utf-8' codec can't decode byte 0x80 in position 0: invalid start byte"
     ]
    }
   ],
   "source": [
    "import pickle\n",
    "file = open('/Users/andreaparolin/PycharmProjects/kred/dataset/MINDdemo_utils/word_dict.pkl', 'r')\n",
    "# dump information to that file\n",
    "data = pickle.load(file)"
   ]
  },
  {
   "cell_type": "code",
   "execution_count": 7,
   "outputs": [],
   "source": [
    "import numpy as np\n",
    "data = np.load('/Users/andreaparolin/PycharmProjects/kred/dataset/MINDdemo_utils/embedding_all.npy')"
   ],
   "metadata": {
    "collapsed": false
   }
  },
  {
   "cell_type": "code",
   "execution_count": 8,
   "outputs": [
    {
     "data": {
      "text/plain": "(41059, 300)"
     },
     "execution_count": 8,
     "metadata": {},
     "output_type": "execute_result"
    }
   ],
   "source": [
    "data.shape"
   ],
   "metadata": {
    "collapsed": false
   }
  },
  {
   "cell_type": "code",
   "execution_count": 12,
   "outputs": [
    {
     "data": {
      "text/plain": "{'the': 1,\n 'brands': 2,\n 'queen': 3,\n 'elizabeth': 4,\n ',': 5,\n 'prince': 6,\n 'charles': 7,\n 'and': 8,\n 'philip': 9,\n 'swear': 10,\n 'by': 11,\n '50': 12,\n 'worst': 13,\n 'habits': 14,\n 'for': 15,\n 'belly': 16,\n 'fat': 17,\n 'cost': 18,\n 'of': 19,\n 'trump': 20,\n 's': 21,\n 'aid': 22,\n 'freeze': 23,\n 'in': 24,\n 'trenches': 25,\n 'ukraine': 26,\n 'war': 27,\n 'i': 28,\n 'was': 29,\n 'an': 30,\n 'nba': 31,\n 'wife': 32,\n '.': 33,\n 'here': 34,\n 'how': 35,\n 'it': 36,\n 'affected': 37,\n 'my': 38,\n 'mental': 39,\n 'health': 40,\n 'to': 41,\n 'get': 42,\n 'rid': 43,\n 'skin': 44,\n 'tags': 45,\n 'according': 46,\n 'a': 47,\n 'dermatologist': 48,\n 'should': 49,\n 'nfl': 50,\n 'be': 51,\n 'able': 52,\n 'fine': 53,\n 'players': 54,\n 'criticizing': 55,\n 'officiating': 56,\n '?': 57,\n 'been': 58,\n 'orlando': 59,\n 'hottest': 60,\n 'october': 61,\n 'ever': 62,\n 'so': 63,\n 'far': 64,\n 'but': 65,\n 'cooler': 66,\n 'temperatures': 67,\n 'on': 68,\n 'way': 69,\n 'chile': 70,\n 'three': 71,\n 'die': 72,\n 'supermarket': 73,\n 'fire': 74,\n 'amid': 75,\n 'protests': 76,\n 'best': 77,\n 'ps5': 78,\n 'games': 79,\n 'top': 80,\n 'playstation': 81,\n '5': 82,\n 'titles': 83,\n 'look': 84,\n 'forward': 85,\n 'report': 86,\n 'weather': 87,\n 'related': 88,\n 'closings': 89,\n 'delays': 90,\n 'foods': 91,\n 'you': 92,\n 'never': 93,\n 'eat': 94,\n 'experts': 95,\n 'trying': 96,\n 'make': 97,\n 'ram': 98,\n '3500': 99,\n 'as': 100,\n 'quick': 101,\n 'viper': 102,\n 'requires': 103,\n 'some': 104,\n 'disassembly': 105,\n '25': 106,\n 'biggest': 107,\n 'grocery': 108,\n 'store': 109,\n 'mistakes': 110,\n 'making': 111,\n 'gain': 112,\n 'weight': 113,\n 'instagram': 114,\n 'filters': 115,\n 'with': 116,\n 'plastic': 117,\n 'surgery': 118,\n 'inspired': 119,\n 'effects': 120,\n 'could': 121,\n 'soon': 122,\n 'disappear': 123,\n 'michigan': 124,\n 'apple': 125,\n 'recall': 126,\n 'nearly': 127,\n '2': 128,\n '300': 129,\n 'crates': 130,\n 'contaminated': 131,\n 'listeria': 132,\n 'kate': 133,\n 'middleton': 134,\n 'hairstyles': 135,\n 'through': 136,\n 'years': 137,\n 'stars': 138,\n 'who': 139,\n 'got': 140,\n 'fired': 141,\n 'from': 142,\n 'major': 143,\n 'projects': 144,\n 'newark': 145,\n 'liberty': 146,\n 'airport': 147,\n 'terminal': 148,\n 'one': 149,\n '7': 150,\n 'billion': 151,\n 'transformative': 152,\n 'project': 153,\n 'is': 154,\n 'this': 155,\n '2021': 156,\n 'gmc': 157,\n 'yukon': 158,\n 'denali': 159,\n 'john': 160,\n 'dorsey': 161,\n 'admits': 162,\n 'talks': 163,\n 'washington': 164,\n 'takes': 165,\n 'two': 166,\n 'tango': 167,\n 'elijah': 168,\n 'cummings': 169,\n 'lie': 170,\n 'state': 171,\n 'at': 172,\n 'us': 173,\n 'capitol': 174,\n 'thursday': 175,\n '17': 176,\n 'abandoned': 177,\n 'theme': 178,\n 'parks': 179,\n 'explore': 180,\n 'thrills': 181,\n 'chills': 182,\n 'nostalgia': 183,\n 'ford': 184,\n 'bronco': 185,\n 'test': 186,\n 'mule': 187,\n 'spotted': 188,\n 'flexing': 189,\n 'its': 190,\n 'muscles': 191,\n 'australia': 192,\n 'trustbusters': 193,\n 'bring': 194,\n 'microsoft': 195,\n 'lessons': 196,\n 'big': 197,\n 'tech': 198,\n 'fight': 199,\n 'pga': 200,\n 'tour': 201,\n 'winners': 202,\n '10': 203,\n 'things': 204,\n 'knew': 205,\n 'about': 206,\n 'owls': 207,\n 'last': 208,\n 'minute': 209,\n 'ideas': 210,\n 'that': 211,\n 'will': 212,\n 'absolutely': 213,\n 'save': 214,\n 'your': 215,\n 'holiday': 216,\n 'dinner': 217,\n 'every': 218,\n 'outfit': 219,\n 'duchess': 220,\n 'has': 221,\n 'worn': 222,\n '2019': 223,\n 'new': 224,\n 'ipad': 225,\n 'pro': 226,\n 'release': 227,\n 'date': 228,\n 'price': 229,\n 'news': 230,\n 'leaks': 231,\n 'these': 232,\n 'simple': 233,\n 'diet': 234,\n 'changes': 235,\n 'helped': 236,\n 'guy': 237,\n 'lose': 238,\n '75': 239,\n 'pounds': 240,\n '9': 241,\n 'months': 242,\n 'without': 243,\n 'help': 244,\n 'un': 245,\n 'climate': 246,\n 'fund': 247,\n 'struggles': 248,\n 'meet': 249,\n 'goal': 250,\n 'ps4': 251,\n 'play': 252,\n 'great': 253,\n '4': 254,\n '23': 255,\n 'tv': 256,\n 'reboots': 257,\n 'all': 258,\n 'time': 259,\n 'netflix': 260,\n 'hackers': 261,\n 'why': 262,\n 'they': 263,\n 'steal': 264,\n 'passwords': 265,\n '20': 266,\n 'must': 267,\n 'try': 268,\n 'gravy': 269,\n 'recipes': 270,\n 'thanksgiving': 271,\n 'feast': 272,\n 'little': 273,\n 'snow': 274,\n 'causes': 275,\n 'mess': 276,\n 'more': 277,\n 'than': 278,\n '100': 279,\n 'crashes': 280,\n 'minnesota': 281,\n 'roads': 282,\n 'extinction': 283,\n 'rebellion': 284,\n 'wins': 285,\n 'court': 286,\n 'challenge': 287,\n 'against': 288,\n 'london': 289,\n 'police': 290,\n 'la': 291,\n 'rivalry': 292,\n 'meaning': 293,\n 'fans': 294,\n 'lakers': 295,\n 'clippers': 296,\n 'hunt': 297,\n 'championship': 298,\n 'mom': 299,\n 'schizophrenia': 300,\n '6': 301,\n 'year': 302,\n 'old': 303,\n 'daughter': 304,\n 'missing': 305,\n 'queens': 306,\n 'probably': 307,\n 'shouldn': 308,\n 't': 309,\n 'buying': 310,\n 'costco': 311,\n 'power': 312,\n 'ranking': 313,\n 'chance': 314,\n 'becoming': 315,\n '2020': 316,\n 'democratic': 317,\n 'presidential': 318,\n 'nominee': 319,\n 'today': 320,\n 'history': 321,\n 'november': 322,\n 'photos': 323,\n 'royal': 324,\n 'family': 325,\n 'balmoral': 326,\n 'castle': 327,\n 'favorite': 328,\n 'home': 329,\n 'm': 330,\n 'afraid': 331,\n 'tell': 332,\n 'male': 333,\n 'bosses': 334,\n 'pregnant': 335,\n 'cranberry': 336,\n 'sauce': 337,\n 'are': 338,\n 'perfect': 339,\n 'phil': 340,\n 'fulmer': 341,\n 'blasts': 342,\n 'ncaa': 343,\n 'after': 344,\n 'key': 345,\n 'tennessee': 346,\n 'freshman': 347,\n 'denied': 348,\n 'eligibility': 349,\n 'george': 350,\n 'life': 351,\n 'can': 352,\n 'answer': 353,\n 'real': 354,\n 'jeopardy': 355,\n 'questions': 356,\n 'shows': 357,\n 'randall': 358,\n 'rant': 359,\n 'tiger': 360,\n 'already': 361,\n 'goat': 362,\n '18': 363,\n 'majors': 364,\n 'most': 365,\n 'desirable': 366,\n 'places': 367,\n 'live': 368,\n '40': 369,\n 'stuffed': 370,\n 'pasta': 371,\n 'll': 372,\n 'want': 373,\n 'night': 374,\n 'bachelor': 375,\n 'amanda': 376,\n 'stanton': 377,\n 'dating': 378,\n 'rich': 379,\n 'kids': 380,\n 'beverly': 381,\n 'hills': 382,\n 'star': 383,\n 'brendan': 384,\n 'fitzpatrick': 385,\n 'sorry': 386,\n 'please': 387,\n 'do': 388,\n 'not': 389,\n 'put': 390,\n 'purse': 391,\n 'couch': 392,\n 'corgis': 393,\n 'other': 394,\n 'beloved': 395,\n 'pets': 396,\n 'toyota': 397,\n 'supra': 398,\n 'gt4': 399,\n 'details': 400,\n 'announced': 401,\n 'makes': 402,\n '429': 403,\n 'horsepower': 404,\n 'tim': 405,\n 'burton': 406,\n 'original': 407,\n 'art': 408,\n 'display': 409,\n 'neon': 410,\n 'museum': 411,\n 'las': 412,\n 'vegas': 413,\n '16': 414,\n 'action': 415,\n 'disney': 416,\n 'movies': 417,\n 'works': 418,\n 'maleficent': 419,\n 'mistress': 420,\n 'evil': 421,\n 'genius': 422,\n 'tips': 423,\n 'holidays': 424,\n 'much': 425,\n 'better': 426,\n 'what': 427,\n 'germany': 428,\n 'low': 429,\n 'countries': 430,\n 'millennials': 431,\n 'killing': 432,\n 'sales': 433,\n 'replacing': 434,\n 'them': 435,\n 'backpacks': 436,\n 'car': 437,\n 'dealerships': 438,\n 'don': 439,\n 'know': 440,\n 'locked': 441,\n 'suns': 442,\n 'wednesday': 443,\n 'blast': 444,\n 'kings': 445,\n 'begin': 446,\n 'season': 447,\n 'we': 448,\n 're': 449,\n 'excited': 450,\n 'rest': 451,\n 'absolute': 452,\n 'piece': 453,\n 'bathing': 454,\n 'suits': 455,\n 'wish': 456,\n 'younger': 457,\n 'self': 458,\n 'weird': 459,\n 'chevy': 460,\n 'colorado': 461,\n 'trolling': 462,\n 'hq': 463,\n 'words': 464,\n 'phrases': 465,\n 'had': 466,\n 'no': 467,\n 'idea': 468,\n 'were': 469,\n 'coined': 470,\n 'york': 471,\n 'city': 472,\n 'kevin': 473,\n 'harvick': 474,\n 'monster': 475,\n 'energy': 476,\n 'series': 477,\n 'victories': 478,\n 'pcc': 479,\n 'community': 480,\n 'markets': 481,\n 'plans': 482,\n 'first': 483,\n 'fast': 484,\n 'casual': 485,\n 'restaurant': 486,\n 'inside': 487,\n 'ballard': 488,\n 'where': 489,\n 'find': 490,\n 'good': 491,\n 'cheap': 492,\n 'sandwich': 493,\n 'chains': 494,\n 'buy': 495,\n 'plant': 496,\n 'based': 497,\n 'versions': 498,\n 'food': 499,\n 'favorites': 500,\n 'hate': 501,\n 'meditating': 502,\n 'people': 503,\n 'anyway': 504,\n 'world': 505,\n 'reminder': 506,\n 'predict': 507,\n 'baseball': 508,\n 'celebrity': 509,\n 'mothers': 510,\n 'daughters': 511,\n 'same': 512,\n 'age': 513,\n 'restaurants': 514,\n 'america': 515,\n 'take': 516,\n 'heart': 517,\n 'investing': 518,\n 'within': 519,\n 'reach': 520,\n 'viral': 521,\n 'college': 522,\n 'football': 523,\n 'fan': 524,\n 'under': 525,\n 'past': 526,\n 'offensive': 527,\n 'tweets': 528,\n 'watch': 529,\n 'priest': 530,\n 'perform': 531,\n 'spirited': 532,\n 'dance': 533,\n 'pep': 534,\n 'rally': 535,\n 'like': 536,\n 'celebrities': 537,\n 'convicted': 538,\n 'tax': 539,\n 'evasion': 540,\n 'eyes': 541,\n 'drew': 542,\n 'brees': 543,\n 'possibility': 544,\n 'return': 545,\n 'nears': 546,\n 'satisfy': 547,\n 'late': 548,\n 'cravings': 549,\n 'louisville': 550,\n 'beyond': 551,\n 'cutest': 552,\n 'cambridge': 553,\n 'cadillac': 554,\n 'escalade': 555,\n 'interior': 556,\n 'spied': 557,\n 'veneno': 558,\n 'roadster': 559,\n '1': 560,\n '77': 561,\n 'laferrari': 562,\n 'p1': 563,\n 'veyron': 564,\n 'headline': 565,\n 'bonham': 566,\n 'auction': 567,\n '46': 568,\n 'mismatched': 569,\n 'nail': 570,\n 'copy': 571,\n 'immediately': 572,\n 'flooding': 573,\n 'across': 574,\n 'globe': 575,\n 'cartoons': 576,\n 'coming': 577,\n 'list': 578,\n 'retailers': 579,\n 'closing': 580,\n 'locations': 581,\n 'extreme': 582,\n 'jeep': 583,\n 'wrangler': 584,\n 'prototype': 585,\n 'caught': 586,\n 'testing': 587,\n 'see': 588,\n 'biopics': 589,\n 'redskins': 590,\n 'place': 591,\n 'te': 592,\n 'jordan': 593,\n 'reed': 594,\n 'injured': 595,\n 'reserve': 596,\n 'ending': 597,\n 'his': 598,\n 'week': 599,\n 'odds': 600,\n 'point': 601,\n 'spreads': 602,\n 'betting': 603,\n 'lines': 604,\n '14': 605,\n '27': 606,\n 'products': 607,\n 'only': 608,\n 'need': 609,\n 'once': 610,\n '26': 611,\n 'fried': 612,\n 'chicken': 613,\n 'sandwiches': 614,\n 'including': 615,\n 'popeyes': 616,\n 'surprising': 617,\n 'ways': 618,\n 'penny': 619,\n 'pinching': 620,\n 'costs': 621,\n 'fascinating': 622,\n 'story': 623,\n 'behind': 624,\n 'hocus': 625,\n 'pocus': 626,\n 'filmed': 627,\n 'early': 628,\n 'symptoms': 629,\n 'dementia': 630,\n 'aware': 631,\n 'subtle': 632,\n 'signs': 633,\n 'man': 634,\n 'killed': 635,\n 'officer': 636,\n 'involved': 637,\n 'shooting': 638,\n 'st': 639,\n 'louis': 640,\n 'etiquette': 641,\n 'stop': 642,\n 'patriots': 643,\n 'vs': 644,\n 'ravens': 645,\n '3': 646,\n 'keys': 647,\n 'game': 648,\n 'fun': 649,\n 'facts': 650,\n 'prediction': 651,\n 'celebs': 652,\n 'over': 653,\n 'shape': 654,\n 'their': 655,\n 'lives': 656,\n 'oldsmobile': 657,\n 'toronado': 658,\n 'ultimate': 659,\n 'personal': 660,\n 'impeachment': 661,\n 'inquiry': 662,\n 'concerns': 663,\n 'getting': 664,\n 'addressed': 665,\n 'gop': 666,\n 'have': 667,\n 'nowhere': 668,\n 'go': 669,\n '28': 670,\n 'surprisingly': 671,\n 'walmart': 672,\n 'target': 673,\n 'impact': 674,\n 'workouts': 675,\n 'if': 676,\n '20s': 677,\n 'anymore': 678,\n 'when': 679,\n 'royals': 680,\n 'tempers': 681,\n 'hot': 682,\n 'jobs': 683,\n 'pay': 684,\n '000': 685,\n 'cousin': 686,\n 'says': 687,\n 'communicate': 688,\n 'very': 689,\n 'well': 690,\n '12': 691,\n 'react': 692,\n 'stress': 693,\n 'ikea': 694,\n 'president': 695,\n 'backpedals': 696,\n 'meeting': 697,\n 'parents': 698,\n 'children': 699,\n 'recalled': 700,\n 'dressers': 701,\n 'multi': 702,\n 'vehicle': 703,\n 'accident': 704,\n '64': 705,\n 'james': 706,\n 'county': 707,\n 'miles': 708,\n 'long': 709,\n 'backup': 710,\n 'dissecting': 711,\n 'softer': 712,\n 'gentler': 713,\n 'woods': 714,\n '39': 715,\n 'appetizers': 716,\n 'crowd': 717,\n 'easy': 718,\n 'unexpected': 719,\n 'guess': 720,\n 'someone': 721,\n 'zodiac': 722,\n 'sign': 723,\n 'men': 724,\n 'attractive': 725,\n 'rams': 726,\n '8': 727,\n 'snap': 728,\n 'count': 729,\n 'analysis': 730,\n 'friends': 731,\n 'pledged': 732,\n 'stay': 733,\n 'touch': 734,\n '60': 735,\n 'later': 736,\n 'still': 737,\n 'cheerleaders': 738,\n 'reasons': 739,\n 'gen': 740,\n 'xers': 741,\n 'struggling': 742,\n 'retirement': 743,\n 'savings': 744,\n 'important': 745,\n 'fatherhood': 746,\n 'taught': 747,\n 'me': 748,\n 'being': 749,\n 'fall': 750,\n 'maintenance': 751,\n 'checklist': 752,\n 'study': 753,\n 'third': 754,\n 'hand': 755,\n 'smoke': 756,\n 'damage': 757,\n 'lungs': 758,\n 'toad': 759,\n 'unusual': 760,\n 'names': 761,\n 'money': 762,\n 'around': 763,\n 'differences': 764,\n 'between': 765,\n 'couples': 766,\n 'bp': 767,\n 'profit': 768,\n 'beats': 769,\n 'strong': 770,\n 'refining': 771,\n 'offsets': 772,\n 'lower': 773,\n 'oil': 774,\n 'website': 775,\n 'defacement': 776,\n 'monitoring': 777,\n 'service': 778,\n 'breasts': 779,\n 'frozen': 780,\n 'shredded': 781,\n 'instant': 782,\n 'lawmakers': 783,\n 'seeking': 784,\n 'reelection': 785,\n 'congress': 786,\n 'seafood': 787,\n 'states': 788,\n 'actually': 789,\n 'prevent': 790,\n 'gray': 791,\n 'hair': 792,\n 'earn': 793,\n 'ahad': 794,\n 'israfil': 795,\n 'gunshot': 796,\n 'wound': 797,\n 'survivor': 798,\n 'dies': 799,\n '19': 800,\n 'super': 801,\n 'delicious': 802,\n 'soups': 803,\n 'made': 804,\n 'scratch': 805,\n 'now': 806,\n 'pumpkin': 807,\n '!': 808,\n 'winter': 809,\n 'storm': 810,\n 'warning': 811,\n 'metro': 812,\n 'denver': 813,\n 'boulder': 814,\n 'update': 815,\n 'kanye': 816,\n 'west': 817,\n 'jesus': 818,\n 'king': 819,\n 'album': 820,\n 'isn': 821,\n 'aren': 822,\n 'happy': 823,\n 'doug': 824,\n 'schoen': 825,\n 'hillary': 826,\n 'clinton': 827,\n 'serious': 828,\n 'her': 829,\n 'defeat': 830,\n 'titans': 831,\n 'force': 832,\n 'turnovers': 833,\n 'winston': 834,\n 'hold': 835,\n 'off': 836,\n 'buccaneers': 837,\n 'amazon': 838,\n 'funniest': 839,\n 'customer': 840,\n 'reviews': 841,\n 'josh': 842,\n 'gordon': 843,\n 'receiver': 844,\n 'mohamed': 845,\n 'sanu': 846,\n 'share': 847,\n 'laugh': 848,\n 'practice': 849,\n 'told': 850,\n 'disability': 851,\n 'she': 852,\n 'wouldn': 853,\n 'everything': 854,\n 'does': 855,\n 'illegal': 856,\n 'leave': 857,\n 'pumpkins': 858,\n 'outside': 859,\n 'maricopa': 860,\n 'water': 861,\n 'drink': 862,\n 'loss': 863,\n '30': 864,\n 'least': 865,\n 'expensive': 866,\n 'dog': 867,\n 'breeds': 868,\n 'cavs': 869,\n 'claim': 870,\n 'alfonzo': 871,\n 'mckinnie': 872,\n 'warriors': 873,\n 'maryland': 874,\n 'id': 875,\n 'crash': 876,\n 'semi': 877,\n 'hauling': 878,\n 'beer': 879,\n 'american': 880,\n 'teenager': 881,\n 'gauff': 882,\n 'reaches': 883,\n 'maiden': 884,\n 'wta': 885,\n 'final': 886,\n 'linz': 887,\n 'avocado': 888,\n 'day': 889,\n 'bad': 890,\n 'cholesterol': 891,\n 'levels': 892,\n 'reduce': 893,\n 'risk': 894,\n 'disease': 895,\n 'latest': 896,\n 'house': 897,\n 'measure': 898,\n 'condemns': 899,\n 'syria': 900,\n 'withdrawal': 901,\n 'searching': 902,\n 'thief': 903,\n 'stealing': 904,\n 'cars': 905,\n 'atlanta': 906,\n 'reason': 907,\n 'mcdonald': 908,\n 'keeps': 909,\n 'filet': 910,\n 'o': 911,\n 'fish': 912,\n 'menu': 913,\n '29': 914,\n 'menus': 915,\n 'easier': 916,\n 'giant': 917,\n 'guitar': 918,\n 'shaped': 919,\n 'hotel': 920,\n 'believe': 921,\n 'princess': 922,\n 'beatrice': 923,\n 'fashion': 924,\n 'hits': 925,\n 'misses': 926,\n 'blueberry': 927,\n 'dump': 928,\n 'cake': 929,\n 'satisfies': 930,\n 'sweet': 931,\n 'tooth': 932,\n 'those': 933,\n 'grueling': 934,\n 'may': 935,\n 'running': 936,\n 'normal': 937,\n 'sen': 938,\n 'manchin': 939,\n 'reacts': 940,\n 'vindman': 941,\n 'attacks': 942,\n 'sony': 943,\n 'feature': 944,\n 'end': 945,\n 'xbox': 946,\n 'battle': 947,\n 'retirees': 948,\n 'incredible': 949,\n 'research': 950,\n 'backed': 951,\n 'benefits': 952,\n 'having': 953,\n 'passion': 954,\n 'work': 955,\n 'grieder': 956,\n 'special': 957,\n 'election': 958,\n 'district': 959,\n 'portends': 960,\n 'deeply': 961,\n 'polarized': 962,\n 'cycle': 963,\n 'deadliest': 964,\n 'yet': 965,\n 'drug': 966,\n 'overdoses': 967,\n 'nearby': 968,\n 'improve': 969,\n 'rare': 970,\n 'albino': 971,\n 'hedgehog': 972,\n 'rescued': 973,\n 'california': 974,\n 'employers': 975,\n 'helping': 976,\n 'workers': 977,\n 'student': 978,\n 'loans': 979,\n 'moved': 980,\n 'canada': 981,\n 'move': 982,\n 'back': 983,\n 'gifts': 984,\n 'women': 985,\n 'flying': 986,\n 'shelves': 987,\n 'baby': 988,\n 'boomers': 989,\n 'remember': 990,\n 'national': 991,\n 'check': 992,\n 'meds': 993,\n 'horror': 994,\n 'excellent': 995,\n 'dividend': 996,\n 'stocks': 997,\n 'friendly': 998,\n 'eagles': 999,\n 'soar': 1000,\n ...}"
     },
     "execution_count": 12,
     "metadata": {},
     "output_type": "execute_result"
    }
   ],
   "source": [
    "data = np.load('/Users/andreaparolin/PycharmProjects/kred/dataset/MINDdemo_utils/word_dict.pkl', allow_pickle=True)\n",
    "data"
   ],
   "metadata": {
    "collapsed": false
   }
  },
  {
   "cell_type": "code",
   "execution_count": 15,
   "outputs": [],
   "source": [
    "data = np.load('/Users/andreaparolin/PycharmProjects/kred/dataset/MINDdemo_utils/vert_dict.pkl', allow_pickle=True)\n"
   ],
   "metadata": {
    "collapsed": false
   }
  },
  {
   "cell_type": "code",
   "execution_count": null,
   "outputs": [],
   "source": [],
   "metadata": {
    "collapsed": false
   }
  }
 ],
 "metadata": {
  "kernelspec": {
   "display_name": "Python 3",
   "language": "python",
   "name": "python3"
  },
  "language_info": {
   "codemirror_mode": {
    "name": "ipython",
    "version": 2
   },
   "file_extension": ".py",
   "mimetype": "text/x-python",
   "name": "python",
   "nbconvert_exporter": "python",
   "pygments_lexer": "ipython2",
   "version": "2.7.6"
  }
 },
 "nbformat": 4,
 "nbformat_minor": 0
}
