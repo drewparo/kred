{
 "cells": [
  {
   "cell_type": "code",
   "execution_count": 1,
   "metadata": {
    "collapsed": true
   },
   "outputs": [],
   "source": [
    "import pandas as pd\n",
    "\n",
    "from train_test import *\n",
    "import argparse\n",
    "from utils.parse_config import ConfigParser"
   ]
  },
  {
   "cell_type": "code",
   "execution_count": 2,
   "outputs": [],
   "source": [
    "# Config Loading\n",
    "parser = argparse.ArgumentParser(description='KRED')\n",
    "parser.add_argument('-f')\n",
    "parser.add_argument('-c', '--config', default=\"./config.json\", type=str,\n",
    "                    help='config file path (default: None)')\n",
    "parser.add_argument('-r', '--resume', default=None, type=str,\n",
    "                    help='path to latest checkpoint (default: None)')\n",
    "parser.add_argument('-d', '--device', default=None, type=str,\n",
    "                    help='indices of GPUs to enable (default: all)')\n",
    "\n",
    "config = ConfigParser.from_args(parser)"
   ],
   "metadata": {
    "collapsed": false
   }
  },
  {
   "cell_type": "code",
   "execution_count": 3,
   "outputs": [],
   "source": [
    "from utils.util_jobs import load_pretrained_data_mind_jobs\n",
    "data = load_pretrained_data_mind_jobs(config)"
   ],
   "metadata": {
    "collapsed": false
   }
  },
  {
   "cell_type": "code",
   "execution_count": 4,
   "outputs": [
    {
     "name": "stdout",
     "output_type": "stream",
     "text": [
      "model training\n",
      "Training epoch 0/5 - 0.0%\n",
      "######\n",
      " Step: 0, 0.0 \n",
      "######\n",
      "######\n",
      " Step: 100, 0.14367816091954022 \n",
      "######\n",
      "######\n",
      " Step: 200, 0.28735632183908044 \n",
      "######\n",
      "######\n",
      " Step: 300, 0.43103448275862066 \n",
      "######\n",
      "######\n",
      " Step: 400, 0.5747126436781609 \n",
      "######\n",
      "######\n",
      " Step: 500, 0.7183908045977011 \n",
      "######\n",
      "######\n",
      " Step: 600, 0.8620689655172413 \n",
      "######\n",
      "auc socre: 0.8381130310910118\n",
      "Saving checkpoint: out\\saved\\models\\KRED\\0216_152403\\checkpoint-model-epoch1.pth ...\n",
      "Training epoch 1/5 - 20.0%\n",
      "######\n",
      " Step: 0, 0.0 \n",
      "######\n",
      "######\n",
      " Step: 100, 0.14367816091954022 \n",
      "######\n",
      "######\n",
      " Step: 200, 0.28735632183908044 \n",
      "######\n",
      "######\n",
      " Step: 300, 0.43103448275862066 \n",
      "######\n",
      "######\n",
      " Step: 400, 0.5747126436781609 \n",
      "######\n",
      "######\n",
      " Step: 500, 0.7183908045977011 \n",
      "######\n",
      "######\n",
      " Step: 600, 0.8620689655172413 \n",
      "######\n",
      "auc socre: 0.8719321348356598\n",
      "Saving checkpoint: out\\saved\\models\\KRED\\0216_152403\\checkpoint-model-epoch2.pth ...\n",
      "Training epoch 2/5 - 40.0%\n",
      "######\n",
      " Step: 0, 0.0 \n",
      "######\n",
      "######\n",
      " Step: 100, 0.14367816091954022 \n",
      "######\n",
      "######\n",
      " Step: 200, 0.28735632183908044 \n",
      "######\n",
      "######\n",
      " Step: 300, 0.43103448275862066 \n",
      "######\n",
      "######\n",
      " Step: 400, 0.5747126436781609 \n",
      "######\n",
      "######\n",
      " Step: 500, 0.7183908045977011 \n",
      "######\n",
      "######\n",
      " Step: 600, 0.8620689655172413 \n",
      "######\n",
      "auc socre: 0.8791853494061415\n",
      "Saving checkpoint: out\\saved\\models\\KRED\\0216_152403\\checkpoint-model-epoch3.pth ...\n",
      "Training epoch 3/5 - 60.0%\n",
      "######\n",
      " Step: 0, 0.0 \n",
      "######\n",
      "######\n",
      " Step: 100, 0.14367816091954022 \n",
      "######\n",
      "######\n",
      " Step: 200, 0.28735632183908044 \n",
      "######\n",
      "######\n",
      " Step: 300, 0.43103448275862066 \n",
      "######\n",
      "######\n",
      " Step: 400, 0.5747126436781609 \n",
      "######\n",
      "######\n",
      " Step: 500, 0.7183908045977011 \n",
      "######\n",
      "######\n",
      " Step: 600, 0.8620689655172413 \n",
      "######\n",
      "auc socre: 0.8812725345917213\n",
      "Saving checkpoint: out\\saved\\models\\KRED\\0216_152403\\checkpoint-model-epoch4.pth ...\n",
      "Training epoch 4/5 - 80.0%\n",
      "######\n",
      " Step: 0, 0.0 \n",
      "######\n",
      "######\n",
      " Step: 100, 0.14367816091954022 \n",
      "######\n",
      "######\n",
      " Step: 200, 0.28735632183908044 \n",
      "######\n",
      "######\n",
      " Step: 300, 0.43103448275862066 \n",
      "######\n",
      "######\n",
      " Step: 400, 0.5747126436781609 \n",
      "######\n",
      "######\n",
      " Step: 500, 0.7183908045977011 \n",
      "######\n",
      "######\n",
      " Step: 600, 0.8620689655172413 \n",
      "######\n",
      "auc socre: 0.8809369210482574\n",
      "Saving checkpoint: out\\saved\\models\\KRED\\0216_152403\\checkpoint-model-epoch5.pth ...\n"
     ]
    }
   ],
   "source": [
    "if config['trainer']['training_type'] == \"single_task\":\n",
    "    single_task_training(config, data)\n",
    "else:\n",
    "    multi_task_training(config, data)"
   ],
   "metadata": {
    "collapsed": false
   }
  },
  {
   "cell_type": "code",
   "execution_count": 5,
   "outputs": [
    {
     "name": "stdout",
     "output_type": "stream",
     "text": [
      "auc score:0.8809369210482574\n",
      "ndcg score:0.6795155651434509\n"
     ]
    }
   ],
   "source": [
    "test_data = data[-1]\n",
    "testing(test_data, config)\n"
   ],
   "metadata": {
    "collapsed": false
   }
  }
 ],
 "metadata": {
  "kernelspec": {
   "display_name": "Python 3",
   "language": "python",
   "name": "python3"
  },
  "language_info": {
   "codemirror_mode": {
    "name": "ipython",
    "version": 2
   },
   "file_extension": ".py",
   "mimetype": "text/x-python",
   "name": "python",
   "nbconvert_exporter": "python",
   "pygments_lexer": "ipython2",
   "version": "2.7.6"
  }
 },
 "nbformat": 4,
 "nbformat_minor": 0
}
