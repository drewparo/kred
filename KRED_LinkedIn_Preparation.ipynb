{
 "nbformat": 4,
 "nbformat_minor": 0,
 "metadata": {
  "colab": {
   "provenance": []
  },
  "kernelspec": {
   "name": "python3",
   "display_name": "Python 3"
  },
  "language_info": {
   "name": "python"
  },
  "accelerator": "GPU",
  "gpuClass": "standard"
 },
 "cells": [
  {
   "cell_type": "code",
   "execution_count": null,
   "outputs": [],
   "source": [
    "!pip install -U pip setuptools wheel\n",
    "!pip install spacy-transformers\n",
    "!pip install sentence-transformers\n",
    "!pip install transformers\n",
    "!pip install sentencepiece\n",
    "!pip install torch\n",
    "!pip install txtai\n",
    "!python -m spacy download en_core_web_sm\n"
   ],
   "metadata": {
    "collapsed": false
   }
  },
  {
   "cell_type": "code",
   "execution_count": null,
   "outputs": [],
   "source": [
    "%cd kred"
   ],
   "metadata": {
    "collapsed": false
   }
  },
  {
   "cell_type": "code",
   "execution_count": 1,
   "outputs": [],
   "source": [
    "# Config Generation\n",
    "import argparse\n",
    "from utils import *\n",
    "from utils.parse_config import ConfigParser\n",
    "\n",
    "parser = argparse.ArgumentParser(description='KRED')\n",
    "parser.add_argument('-f')\n",
    "parser.add_argument('-c', '--config', default=\"config.yaml\", type=str,\n",
    "                    help='config file path (default: None)')\n",
    "parser.add_argument('-r', '--resume', default=None, type=str,\n",
    "                    help='path to latest checkpoint (default: None)')\n",
    "parser.add_argument('-d', '--device', default=None, type=str,\n",
    "                    help='indices of GPUs to enable (default: all)')\n",
    "\n",
    "config = ConfigParser.from_args(parser)"
   ],
   "metadata": {
    "collapsed": false
   }
  },
  {
   "cell_type": "code",
   "execution_count": null,
   "outputs": [],
   "source": [
    "from utils.main import main_preprocessing\n",
    "\n",
    "main_preprocessing(config)"
   ],
   "metadata": {
    "collapsed": false
   }
  },
  {
   "cell_type": "code",
   "execution_count": 2,
   "outputs": [],
   "source": [
    "from utils.user_processing import split_behaviors\n",
    "from utils.util_jobs import load_data_mind_jobs\n",
    "embedding_folder = None\n",
    "data = load_data_mind_jobs(config, embedding_folder)"
   ],
   "metadata": {
    "collapsed": false
   }
  },
  {
   "cell_type": "code",
   "execution_count": 3,
   "outputs": [],
   "source": [
    "from utils.util_jobs import *\n",
    "\n",
    "data_dict = save_dict_by_task(data, config)\n",
    "save_compressed_pickle(f'datasets/LinkedIn-Tech-Job-Data/data_dict_jobs.pkl', data_dict)"
   ],
   "metadata": {
    "collapsed": false
   }
  }
 ]
}
