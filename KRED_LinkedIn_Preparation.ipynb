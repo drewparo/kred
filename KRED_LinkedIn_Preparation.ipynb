{
 "nbformat": 4,
 "nbformat_minor": 0,
 "metadata": {
  "colab": {
   "provenance": []
  },
  "kernelspec": {
   "name": "python3",
   "display_name": "Python 3"
  },
  "language_info": {
   "name": "python"
  },
  "accelerator": "GPU",
  "gpuClass": "standard"
 },
 "cells": [
  {
   "cell_type": "code",
   "execution_count": null,
   "outputs": [],
   "source": [
    "!git clone https://github.com/Mlawrence95/LinkedIn-Tech-Job-Data.git"
   ],
   "metadata": {
    "collapsed": false
   }
  },
  {
   "cell_type": "code",
   "execution_count": null,
   "outputs": [],
   "source": [
    "!pip install -U pip setuptools wheel\n",
    "!pip install spacy-transformers\n",
    "!python -m spacy download en_core_web_trf\n",
    "!python -m spacy download en_core_web_md\n",
    "!python -m spacy download en_core_web_sm\n"
   ],
   "metadata": {
    "collapsed": false
   }
  },
  {
   "cell_type": "code",
   "execution_count": 3,
   "outputs": [],
   "source": [
    "# Config Generation\n",
    "import argparse\n",
    "from utils import *\n",
    "from utils.parse_config import ConfigParser\n",
    "\n",
    "parser = argparse.ArgumentParser(description='KRED')\n",
    "parser.add_argument('-f')\n",
    "parser.add_argument('-c', '--config', default=\"config.yaml\", type=str,\n",
    "                    help='config file path (default: None)')\n",
    "parser.add_argument('-r', '--resume', default=None, type=str,\n",
    "                    help='path to latest checkpoint (default: None)')\n",
    "parser.add_argument('-d', '--device', default=None, type=str,\n",
    "                    help='indices of GPUs to enable (default: all)')\n",
    "\n",
    "config = ConfigParser.from_args(parser)"
   ],
   "metadata": {
    "collapsed": false
   }
  },
  {
   "cell_type": "code",
   "execution_count": null,
   "outputs": [],
   "source": [
    "from utils.main import main_preprocessing\n",
    "\n",
    "main_preprocessing(config)"
   ],
   "metadata": {
    "collapsed": false
   }
  },
  {
   "cell_type": "code",
   "execution_count": 1,
   "outputs": [
    {
     "name": "stdout",
     "output_type": "stream",
     "text": [
      "     post_id                                         industries  \\\n",
      "0         J0                                    Broadcast Media   \n",
      "1         J1  Hospital & Health Care, Medical Devices, and P...   \n",
      "2         J2  Computer Hardware, Computer Software, and Info...   \n",
      "3         J3  Computer Hardware, Computer Software, and Info...   \n",
      "4         J4  Computer Hardware, Computer Software, and Info...   \n",
      "...      ...                                                ...   \n",
      "8256   J8256                                                NaN   \n",
      "8257   J8257  Marketing and Advertising, Computer Software, ...   \n",
      "8258   J8258  Computer Software, Consumer Services, and Ente...   \n",
      "8259   J8259                                                NaN   \n",
      "8260   J8260  Marketing and Advertising, Information Technol...   \n",
      "\n",
      "                                job_function  \\\n",
      "0                     Information Technology   \n",
      "1     Engineering and Information Technology   \n",
      "2     Engineering and Information Technology   \n",
      "3     Engineering and Information Technology   \n",
      "4     Engineering and Information Technology   \n",
      "...                                      ...   \n",
      "8256                                     NaN   \n",
      "8257                  Information Technology   \n",
      "8258  Engineering and Information Technology   \n",
      "8259                                     NaN   \n",
      "8260  Engineering and Information Technology   \n",
      "\n",
      "                                            title  \\\n",
      "0                            Senior Data Engineer   \n",
      "1         Principal Full Stack Software Engineer.   \n",
      "2                        Senior Software Engineer   \n",
      "3                        Senior Software Engineer   \n",
      "4                        Senior Software Engineer   \n",
      "...                                           ...   \n",
      "8256                    Site Reliability Engineer   \n",
      "8257             Senior Site Reliability Engineer   \n",
      "8258                Sr. Site Reliability Engineer   \n",
      "8259  Site Reliability / DevOps Engineer (Remote)   \n",
      "8260                    Site Reliability Engineer   \n",
      "\n",
      "                                               abstract  \\\n",
      "0     Job Title: Senior Data Engineer Location: Alex...   \n",
      "1     Ethicon, part of Johnson & Johnson Medical Dev...   \n",
      "2     Microsoft’s WCB health team is looking for a S...   \n",
      "3     Microsoft’s WCB health team is looking for a S...   \n",
      "4     Microsoft’s WCB health team is looking for a S...   \n",
      "...                                                 ...   \n",
      "8256  Primary Skills: 1. Good hands on experience on...   \n",
      "8257  About The Team The SRE team at Zillow Group em...   \n",
      "8258  PlayStation isn’t just the Best Place to Play ...   \n",
      "8259                                                NaN   \n",
      "8260  Our Company Changing the world through digital...   \n",
      "\n",
      "                                               post_url  \\\n",
      "0     https://www.linkedin.com/jobs/view/senior-data...   \n",
      "1     https://www.linkedin.com/jobs/view/principal-f...   \n",
      "2     https://www.linkedin.com/jobs/view/senior-soft...   \n",
      "3     https://www.linkedin.com/jobs/view/senior-soft...   \n",
      "4     https://www.linkedin.com/jobs/view/senior-soft...   \n",
      "...                                                 ...   \n",
      "8256  https://www.linkedin.com/jobs/view/site-reliab...   \n",
      "8257  https://www.linkedin.com/jobs/view/senior-site...   \n",
      "8258  https://www.linkedin.com/jobs/view/sr-site-rel...   \n",
      "8259  https://www.linkedin.com/jobs/view/site-reliab...   \n",
      "8260  https://www.linkedin.com/jobs/view/site-reliab...   \n",
      "\n",
      "                                      entity_info_title entity_info_abstract  \n",
      "0     [{'Label': 'Alexandria', 'OccurrenceOffsets': ...                   []  \n",
      "1     [{'Label': 'Ethicon', 'OccurrenceOffsets': [0]...                   []  \n",
      "2     [{'Label': 'Microsoft', 'OccurrenceOffsets': [...                   []  \n",
      "3     [{'Label': 'Microsoft', 'OccurrenceOffsets': [...                   []  \n",
      "4     [{'Label': 'Microsoft', 'OccurrenceOffsets': [...                   []  \n",
      "...                                                 ...                  ...  \n",
      "8256  [{'Label': 'Bamboo', 'OccurrenceOffsets': [291...                   []  \n",
      "8257  [{'Label': 'SRE', 'OccurrenceOffsets': [19], '...                   []  \n",
      "8258  [{'Label': 'PlayStation', 'OccurrenceOffsets':...                   []  \n",
      "8259                                                 []                   []  \n",
      "8260  [{'Label': 'NoSQL', 'OccurrenceOffsets': [2373...                   []  \n",
      "\n",
      "[8261 rows x 8 columns]\n"
     ]
    }
   ],
   "source": [
    "import pandas as pd\n",
    "df_j = pd.read_csv('datasets/LinkedIn-Tech-Job-Data/jobs.csv')\n",
    "df_s = pd.read_csv('datasets/LinkedIn-Tech-Job-Data/summary_pegasus.csv')\n",
    "df_j.abstract = df_s.description\n",
    "print(df_j)"
   ],
   "metadata": {
    "collapsed": false
   }
  },
  {
   "cell_type": "code",
   "execution_count": 2,
   "outputs": [],
   "source": [
    "df_j.to_csv('datasets/LinkedIn-Tech-Job-Data/jobs_pegasus.csv', sep=',', index=False)\n"
   ],
   "metadata": {
    "collapsed": false
   }
  },
  {
   "cell_type": "code",
   "execution_count": 4,
   "outputs": [],
   "source": [
    "from utils.user_processing import split_behaviors\n",
    "from utils.util_jobs import load_data_mind_jobs\n",
    "embedding_folder = None\n",
    "#split_behaviors('datasets/LinkedIn-Tech-Job-Data/behaviors_jobs.tsv')\n",
    "data = load_data_mind_jobs(config, embedding_folder)"
   ],
   "metadata": {
    "collapsed": false
   }
  },
  {
   "cell_type": "code",
   "execution_count": 5,
   "outputs": [],
   "source": [
    "from utils.util_jobs import *\n",
    "\n",
    "data_dict = save_dict_by_task(data, config)\n",
    "save_compressed_pickle(f'datasets/LinkedIn-Tech-Job-Data/data_dict_jobs_pegasus.pkl', data_dict)"
   ],
   "metadata": {
    "collapsed": false
   }
  },
  {
   "cell_type": "code",
   "execution_count": 16,
   "outputs": [
    {
     "data": {
      "text/plain": "<module 'utils.util_jobs' from 'J:\\\\Downloads\\\\NLP\\\\kred\\\\utils\\\\util_jobs.py'>"
     },
     "execution_count": 16,
     "metadata": {},
     "output_type": "execute_result"
    }
   ],
   "source": [
    "import importlib\n",
    "from utils import util_jobs\n",
    "importlib.reload(util_jobs)"
   ],
   "metadata": {
    "collapsed": false
   }
  },
  {
   "cell_type": "code",
   "execution_count": null,
   "outputs": [],
   "source": [],
   "metadata": {
    "collapsed": false
   }
  }
 ]
}
