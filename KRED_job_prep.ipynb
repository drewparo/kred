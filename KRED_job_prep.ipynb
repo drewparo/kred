{
 "nbformat": 4,
 "nbformat_minor": 0,
 "metadata": {
  "colab": {
   "provenance": []
  },
  "kernelspec": {
   "name": "python3",
   "display_name": "Python 3"
  },
  "language_info": {
   "name": "python"
  },
  "accelerator": "GPU",
  "gpuClass": "standard"
 },
 "cells": [
  {
   "cell_type": "code",
   "source": [
    "!git clone https://github.com/Mlawrence95/LinkedIn-Tech-Job-Data.git"
   ],
   "metadata": {
    "colab": {
     "base_uri": "https://localhost:8080/"
    },
    "id": "CUXRdve9lMOe",
    "outputId": "65eb63f8-8789-40c8-f565-27c4870e9351"
   },
   "execution_count": 2,
   "outputs": [
    {
     "name": "stderr",
     "output_type": "stream",
     "text": [
      "Cloning into 'LinkedIn-Tech-Job-Data'...\n"
     ]
    }
   ]
  },
  {
   "cell_type": "code",
   "source": [
    "!pip install -U pip setuptools wheel\n",
    "!pip install spacy-transformers\n",
    "#!pip install pytextrank\n",
    "!python -m spacy download en_core_web_trf\n",
    "!python -m spacy download en_core_web_md\n",
    "!python -m spacy download en_core_web_sm\n"
   ],
   "metadata": {
    "colab": {
     "base_uri": "https://localhost:8080/"
    },
    "id": "PgGuqXHFwOJI",
    "outputId": "29b07972-9ed3-473b-baad-a6fef2ad18e8"
   },
   "execution_count": 1,
   "outputs": [
    {
     "name": "stdout",
     "output_type": "stream",
     "text": [
      "Looking in indexes: https://pypi.org/simple, https://pypi.ngc.nvidia.com\n",
      "Requirement already satisfied: pip in j:\\downloads\\nlp\\pyenv\\torchenv\\lib\\site-packages (22.3.1)\n",
      "Collecting pip\n",
      "  Downloading pip-23.0-py3-none-any.whl (2.1 MB)\n",
      "     ---------------------------------------- 2.1/2.1 MB 18.6 MB/s eta 0:00:00\n",
      "Requirement already satisfied: setuptools in j:\\downloads\\nlp\\pyenv\\torchenv\\lib\\site-packages (65.6.3)\n",
      "Collecting setuptools\n",
      "  Downloading setuptools-67.0.0-py3-none-any.whl (1.1 MB)\n",
      "     ---------------------------------------- 1.1/1.1 MB 23.3 MB/s eta 0:00:00\n",
      "Requirement already satisfied: wheel in j:\\downloads\\nlp\\pyenv\\torchenv\\lib\\site-packages (0.38.4)\n"
     ]
    },
    {
     "name": "stderr",
     "output_type": "stream",
     "text": [
      "ERROR: To modify pip, please run the following command:\n",
      "J:\\Downloads\\NLP\\PyEnv\\TorchEnv\\Scripts\\python.exe -m pip install -U pip setuptools wheel\n",
      "\n",
      "[notice] A new release of pip available: 22.3.1 -> 23.0\n",
      "[notice] To update, run: python.exe -m pip install --upgrade pip\n"
     ]
    },
    {
     "name": "stdout",
     "output_type": "stream",
     "text": [
      "Looking in indexes: https://pypi.org/simple, https://pypi.ngc.nvidia.com\n",
      "Requirement already satisfied: spacy-transformers in j:\\downloads\\nlp\\pyenv\\torchenv\\lib\\site-packages (1.1.9)\n",
      "Requirement already satisfied: srsly<3.0.0,>=2.4.0 in j:\\downloads\\nlp\\pyenv\\torchenv\\lib\\site-packages (from spacy-transformers) (2.4.5)\n",
      "Requirement already satisfied: transformers<4.26.0,>=3.4.0 in j:\\downloads\\nlp\\pyenv\\torchenv\\lib\\site-packages (from spacy-transformers) (4.25.1)\n",
      "Requirement already satisfied: spacy<4.0.0,>=3.4.0 in j:\\downloads\\nlp\\pyenv\\torchenv\\lib\\site-packages (from spacy-transformers) (3.4.4)\n",
      "Requirement already satisfied: torch>=1.6.0 in j:\\downloads\\nlp\\pyenv\\torchenv\\lib\\site-packages (from spacy-transformers) (1.13.0+cu117)\n",
      "Requirement already satisfied: spacy-alignments<1.0.0,>=0.7.2 in j:\\downloads\\nlp\\pyenv\\torchenv\\lib\\site-packages (from spacy-transformers) (0.9.0)\n",
      "Requirement already satisfied: setuptools in j:\\downloads\\nlp\\pyenv\\torchenv\\lib\\site-packages (from spacy<4.0.0,>=3.4.0->spacy-transformers) (65.6.3)\n",
      "Requirement already satisfied: packaging>=20.0 in j:\\downloads\\nlp\\pyenv\\torchenv\\lib\\site-packages (from spacy<4.0.0,>=3.4.0->spacy-transformers) (22.0)\n",
      "Requirement already satisfied: jinja2 in j:\\downloads\\nlp\\pyenv\\torchenv\\lib\\site-packages (from spacy<4.0.0,>=3.4.0->spacy-transformers) (3.1.2)\n",
      "Requirement already satisfied: spacy-legacy<3.1.0,>=3.0.10 in j:\\downloads\\nlp\\pyenv\\torchenv\\lib\\site-packages (from spacy<4.0.0,>=3.4.0->spacy-transformers) (3.0.11)\n",
      "Requirement already satisfied: thinc<8.2.0,>=8.1.0 in j:\\downloads\\nlp\\pyenv\\torchenv\\lib\\site-packages (from spacy<4.0.0,>=3.4.0->spacy-transformers) (8.1.6)\n",
      "Requirement already satisfied: tqdm<5.0.0,>=4.38.0 in j:\\downloads\\nlp\\pyenv\\torchenv\\lib\\site-packages (from spacy<4.0.0,>=3.4.0->spacy-transformers) (4.64.1)\n",
      "Requirement already satisfied: spacy-loggers<2.0.0,>=1.0.0 in j:\\downloads\\nlp\\pyenv\\torchenv\\lib\\site-packages (from spacy<4.0.0,>=3.4.0->spacy-transformers) (1.0.4)\n",
      "Requirement already satisfied: preshed<3.1.0,>=3.0.2 in j:\\downloads\\nlp\\pyenv\\torchenv\\lib\\site-packages (from spacy<4.0.0,>=3.4.0->spacy-transformers) (3.0.8)\n",
      "Requirement already satisfied: numpy>=1.15.0 in j:\\downloads\\nlp\\pyenv\\torchenv\\lib\\site-packages (from spacy<4.0.0,>=3.4.0->spacy-transformers) (1.23.5)\n",
      "Requirement already satisfied: murmurhash<1.1.0,>=0.28.0 in j:\\downloads\\nlp\\pyenv\\torchenv\\lib\\site-packages (from spacy<4.0.0,>=3.4.0->spacy-transformers) (1.0.9)\n",
      "Requirement already satisfied: langcodes<4.0.0,>=3.2.0 in j:\\downloads\\nlp\\pyenv\\torchenv\\lib\\site-packages (from spacy<4.0.0,>=3.4.0->spacy-transformers) (3.3.0)\n",
      "Requirement already satisfied: wasabi<1.1.0,>=0.9.1 in j:\\downloads\\nlp\\pyenv\\torchenv\\lib\\site-packages (from spacy<4.0.0,>=3.4.0->spacy-transformers) (0.10.1)\n",
      "Requirement already satisfied: cymem<2.1.0,>=2.0.2 in j:\\downloads\\nlp\\pyenv\\torchenv\\lib\\site-packages (from spacy<4.0.0,>=3.4.0->spacy-transformers) (2.0.7)\n",
      "Requirement already satisfied: requests<3.0.0,>=2.13.0 in j:\\downloads\\nlp\\pyenv\\torchenv\\lib\\site-packages (from spacy<4.0.0,>=3.4.0->spacy-transformers) (2.28.1)\n",
      "Requirement already satisfied: pydantic!=1.8,!=1.8.1,<1.11.0,>=1.7.4 in j:\\downloads\\nlp\\pyenv\\torchenv\\lib\\site-packages (from spacy<4.0.0,>=3.4.0->spacy-transformers) (1.10.4)\n",
      "Requirement already satisfied: catalogue<2.1.0,>=2.0.6 in j:\\downloads\\nlp\\pyenv\\torchenv\\lib\\site-packages (from spacy<4.0.0,>=3.4.0->spacy-transformers) (2.0.8)\n",
      "Requirement already satisfied: pathy>=0.3.5 in j:\\downloads\\nlp\\pyenv\\torchenv\\lib\\site-packages (from spacy<4.0.0,>=3.4.0->spacy-transformers) (0.10.1)\n",
      "Requirement already satisfied: typer<0.8.0,>=0.3.0 in j:\\downloads\\nlp\\pyenv\\torchenv\\lib\\site-packages (from spacy<4.0.0,>=3.4.0->spacy-transformers) (0.7.0)\n",
      "Requirement already satisfied: smart-open<7.0.0,>=5.2.1 in j:\\downloads\\nlp\\pyenv\\torchenv\\lib\\site-packages (from spacy<4.0.0,>=3.4.0->spacy-transformers) (6.3.0)\n",
      "Requirement already satisfied: typing-extensions in j:\\downloads\\nlp\\pyenv\\torchenv\\lib\\site-packages (from torch>=1.6.0->spacy-transformers) (4.4.0)\n",
      "Requirement already satisfied: tokenizers!=0.11.3,<0.14,>=0.11.1 in j:\\downloads\\nlp\\pyenv\\torchenv\\lib\\site-packages (from transformers<4.26.0,>=3.4.0->spacy-transformers) (0.13.2)\n",
      "Requirement already satisfied: filelock in j:\\downloads\\nlp\\pyenv\\torchenv\\lib\\site-packages (from transformers<4.26.0,>=3.4.0->spacy-transformers) (3.8.2)\n",
      "Requirement already satisfied: regex!=2019.12.17 in j:\\downloads\\nlp\\pyenv\\torchenv\\lib\\site-packages (from transformers<4.26.0,>=3.4.0->spacy-transformers) (2022.10.31)\n",
      "Requirement already satisfied: huggingface-hub<1.0,>=0.10.0 in j:\\downloads\\nlp\\pyenv\\torchenv\\lib\\site-packages (from transformers<4.26.0,>=3.4.0->spacy-transformers) (0.11.1)\n",
      "Requirement already satisfied: pyyaml>=5.1 in j:\\downloads\\nlp\\pyenv\\torchenv\\lib\\site-packages (from transformers<4.26.0,>=3.4.0->spacy-transformers) (6.0)\n",
      "Requirement already satisfied: idna<4,>=2.5 in j:\\downloads\\nlp\\pyenv\\torchenv\\lib\\site-packages (from requests<3.0.0,>=2.13.0->spacy<4.0.0,>=3.4.0->spacy-transformers) (3.4)\n",
      "Requirement already satisfied: urllib3<1.27,>=1.21.1 in j:\\downloads\\nlp\\pyenv\\torchenv\\lib\\site-packages (from requests<3.0.0,>=2.13.0->spacy<4.0.0,>=3.4.0->spacy-transformers) (1.26.13)\n",
      "Requirement already satisfied: certifi>=2017.4.17 in j:\\downloads\\nlp\\pyenv\\torchenv\\lib\\site-packages (from requests<3.0.0,>=2.13.0->spacy<4.0.0,>=3.4.0->spacy-transformers) (2022.12.7)\n",
      "Requirement already satisfied: charset-normalizer<3,>=2 in j:\\downloads\\nlp\\pyenv\\torchenv\\lib\\site-packages (from requests<3.0.0,>=2.13.0->spacy<4.0.0,>=3.4.0->spacy-transformers) (2.1.1)\n",
      "Requirement already satisfied: blis<0.8.0,>=0.7.8 in j:\\downloads\\nlp\\pyenv\\torchenv\\lib\\site-packages (from thinc<8.2.0,>=8.1.0->spacy<4.0.0,>=3.4.0->spacy-transformers) (0.7.9)\n",
      "Requirement already satisfied: confection<1.0.0,>=0.0.1 in j:\\downloads\\nlp\\pyenv\\torchenv\\lib\\site-packages (from thinc<8.2.0,>=8.1.0->spacy<4.0.0,>=3.4.0->spacy-transformers) (0.0.3)\n",
      "Requirement already satisfied: colorama in j:\\downloads\\nlp\\pyenv\\torchenv\\lib\\site-packages (from tqdm<5.0.0,>=4.38.0->spacy<4.0.0,>=3.4.0->spacy-transformers) (0.4.6)\n",
      "Requirement already satisfied: click<9.0.0,>=7.1.1 in j:\\downloads\\nlp\\pyenv\\torchenv\\lib\\site-packages (from typer<0.8.0,>=0.3.0->spacy<4.0.0,>=3.4.0->spacy-transformers) (8.1.3)\n",
      "Requirement already satisfied: MarkupSafe>=2.0 in j:\\downloads\\nlp\\pyenv\\torchenv\\lib\\site-packages (from jinja2->spacy<4.0.0,>=3.4.0->spacy-transformers) (2.1.1)\n"
     ]
    },
    {
     "name": "stderr",
     "output_type": "stream",
     "text": [
      "\n",
      "[notice] A new release of pip available: 22.3.1 -> 23.0\n",
      "[notice] To update, run: python.exe -m pip install --upgrade pip\n"
     ]
    },
    {
     "name": "stdout",
     "output_type": "stream",
     "text": [
      "Looking in indexes: https://pypi.org/simple, https://pypi.ngc.nvidia.com\n",
      "Collecting en-core-web-trf==3.4.1\n",
      "  Downloading https://github.com/explosion/spacy-models/releases/download/en_core_web_trf-3.4.1/en_core_web_trf-3.4.1-py3-none-any.whl (460.3 MB)\n",
      "     -------------------------------------- 460.3/460.3 MB 7.4 MB/s eta 0:00:00\n",
      "Requirement already satisfied: spacy-transformers<1.2.0,>=1.1.2 in j:\\downloads\\nlp\\pyenv\\torchenv\\lib\\site-packages (from en-core-web-trf==3.4.1) (1.1.9)\n",
      "Requirement already satisfied: spacy<3.5.0,>=3.4.1 in j:\\downloads\\nlp\\pyenv\\torchenv\\lib\\site-packages (from en-core-web-trf==3.4.1) (3.4.4)\n",
      "Requirement already satisfied: pydantic!=1.8,!=1.8.1,<1.11.0,>=1.7.4 in j:\\downloads\\nlp\\pyenv\\torchenv\\lib\\site-packages (from spacy<3.5.0,>=3.4.1->en-core-web-trf==3.4.1) (1.10.4)\n",
      "Requirement already satisfied: srsly<3.0.0,>=2.4.3 in j:\\downloads\\nlp\\pyenv\\torchenv\\lib\\site-packages (from spacy<3.5.0,>=3.4.1->en-core-web-trf==3.4.1) (2.4.5)\n",
      "Requirement already satisfied: spacy-loggers<2.0.0,>=1.0.0 in j:\\downloads\\nlp\\pyenv\\torchenv\\lib\\site-packages (from spacy<3.5.0,>=3.4.1->en-core-web-trf==3.4.1) (1.0.4)\n",
      "Requirement already satisfied: wasabi<1.1.0,>=0.9.1 in j:\\downloads\\nlp\\pyenv\\torchenv\\lib\\site-packages (from spacy<3.5.0,>=3.4.1->en-core-web-trf==3.4.1) (0.10.1)\n",
      "Requirement already satisfied: typer<0.8.0,>=0.3.0 in j:\\downloads\\nlp\\pyenv\\torchenv\\lib\\site-packages (from spacy<3.5.0,>=3.4.1->en-core-web-trf==3.4.1) (0.7.0)\n",
      "Requirement already satisfied: tqdm<5.0.0,>=4.38.0 in j:\\downloads\\nlp\\pyenv\\torchenv\\lib\\site-packages (from spacy<3.5.0,>=3.4.1->en-core-web-trf==3.4.1) (4.64.1)\n",
      "Requirement already satisfied: langcodes<4.0.0,>=3.2.0 in j:\\downloads\\nlp\\pyenv\\torchenv\\lib\\site-packages (from spacy<3.5.0,>=3.4.1->en-core-web-trf==3.4.1) (3.3.0)\n",
      "Requirement already satisfied: preshed<3.1.0,>=3.0.2 in j:\\downloads\\nlp\\pyenv\\torchenv\\lib\\site-packages (from spacy<3.5.0,>=3.4.1->en-core-web-trf==3.4.1) (3.0.8)\n",
      "Requirement already satisfied: requests<3.0.0,>=2.13.0 in j:\\downloads\\nlp\\pyenv\\torchenv\\lib\\site-packages (from spacy<3.5.0,>=3.4.1->en-core-web-trf==3.4.1) (2.28.1)\n",
      "Requirement already satisfied: cymem<2.1.0,>=2.0.2 in j:\\downloads\\nlp\\pyenv\\torchenv\\lib\\site-packages (from spacy<3.5.0,>=3.4.1->en-core-web-trf==3.4.1) (2.0.7)\n",
      "Requirement already satisfied: packaging>=20.0 in j:\\downloads\\nlp\\pyenv\\torchenv\\lib\\site-packages (from spacy<3.5.0,>=3.4.1->en-core-web-trf==3.4.1) (22.0)\n",
      "Requirement already satisfied: pathy>=0.3.5 in j:\\downloads\\nlp\\pyenv\\torchenv\\lib\\site-packages (from spacy<3.5.0,>=3.4.1->en-core-web-trf==3.4.1) (0.10.1)\n",
      "Requirement already satisfied: jinja2 in j:\\downloads\\nlp\\pyenv\\torchenv\\lib\\site-packages (from spacy<3.5.0,>=3.4.1->en-core-web-trf==3.4.1) (3.1.2)\n",
      "Requirement already satisfied: spacy-legacy<3.1.0,>=3.0.10 in j:\\downloads\\nlp\\pyenv\\torchenv\\lib\\site-packages (from spacy<3.5.0,>=3.4.1->en-core-web-trf==3.4.1) (3.0.11)\n",
      "Requirement already satisfied: murmurhash<1.1.0,>=0.28.0 in j:\\downloads\\nlp\\pyenv\\torchenv\\lib\\site-packages (from spacy<3.5.0,>=3.4.1->en-core-web-trf==3.4.1) (1.0.9)\n",
      "Requirement already satisfied: setuptools in j:\\downloads\\nlp\\pyenv\\torchenv\\lib\\site-packages (from spacy<3.5.0,>=3.4.1->en-core-web-trf==3.4.1) (65.6.3)\n",
      "Requirement already satisfied: catalogue<2.1.0,>=2.0.6 in j:\\downloads\\nlp\\pyenv\\torchenv\\lib\\site-packages (from spacy<3.5.0,>=3.4.1->en-core-web-trf==3.4.1) (2.0.8)\n",
      "Requirement already satisfied: numpy>=1.15.0 in j:\\downloads\\nlp\\pyenv\\torchenv\\lib\\site-packages (from spacy<3.5.0,>=3.4.1->en-core-web-trf==3.4.1) (1.23.5)\n",
      "Requirement already satisfied: thinc<8.2.0,>=8.1.0 in j:\\downloads\\nlp\\pyenv\\torchenv\\lib\\site-packages (from spacy<3.5.0,>=3.4.1->en-core-web-trf==3.4.1) (8.1.6)\n",
      "Requirement already satisfied: smart-open<7.0.0,>=5.2.1 in j:\\downloads\\nlp\\pyenv\\torchenv\\lib\\site-packages (from spacy<3.5.0,>=3.4.1->en-core-web-trf==3.4.1) (6.3.0)\n",
      "Requirement already satisfied: transformers<4.26.0,>=3.4.0 in j:\\downloads\\nlp\\pyenv\\torchenv\\lib\\site-packages (from spacy-transformers<1.2.0,>=1.1.2->en-core-web-trf==3.4.1) (4.25.1)\n",
      "Requirement already satisfied: spacy-alignments<1.0.0,>=0.7.2 in j:\\downloads\\nlp\\pyenv\\torchenv\\lib\\site-packages (from spacy-transformers<1.2.0,>=1.1.2->en-core-web-trf==3.4.1) (0.9.0)\n",
      "Requirement already satisfied: torch>=1.6.0 in j:\\downloads\\nlp\\pyenv\\torchenv\\lib\\site-packages (from spacy-transformers<1.2.0,>=1.1.2->en-core-web-trf==3.4.1) (1.13.0+cu117)\n",
      "Requirement already satisfied: typing-extensions>=4.2.0 in j:\\downloads\\nlp\\pyenv\\torchenv\\lib\\site-packages (from pydantic!=1.8,!=1.8.1,<1.11.0,>=1.7.4->spacy<3.5.0,>=3.4.1->en-core-web-trf==3.4.1) (4.4.0)\n",
      "Requirement already satisfied: charset-normalizer<3,>=2 in j:\\downloads\\nlp\\pyenv\\torchenv\\lib\\site-packages (from requests<3.0.0,>=2.13.0->spacy<3.5.0,>=3.4.1->en-core-web-trf==3.4.1) (2.1.1)\n",
      "Requirement already satisfied: idna<4,>=2.5 in j:\\downloads\\nlp\\pyenv\\torchenv\\lib\\site-packages (from requests<3.0.0,>=2.13.0->spacy<3.5.0,>=3.4.1->en-core-web-trf==3.4.1) (3.4)\n",
      "Requirement already satisfied: urllib3<1.27,>=1.21.1 in j:\\downloads\\nlp\\pyenv\\torchenv\\lib\\site-packages (from requests<3.0.0,>=2.13.0->spacy<3.5.0,>=3.4.1->en-core-web-trf==3.4.1) (1.26.13)\n",
      "Requirement already satisfied: certifi>=2017.4.17 in j:\\downloads\\nlp\\pyenv\\torchenv\\lib\\site-packages (from requests<3.0.0,>=2.13.0->spacy<3.5.0,>=3.4.1->en-core-web-trf==3.4.1) (2022.12.7)\n",
      "Requirement already satisfied: blis<0.8.0,>=0.7.8 in j:\\downloads\\nlp\\pyenv\\torchenv\\lib\\site-packages (from thinc<8.2.0,>=8.1.0->spacy<3.5.0,>=3.4.1->en-core-web-trf==3.4.1) (0.7.9)\n",
      "Requirement already satisfied: confection<1.0.0,>=0.0.1 in j:\\downloads\\nlp\\pyenv\\torchenv\\lib\\site-packages (from thinc<8.2.0,>=8.1.0->spacy<3.5.0,>=3.4.1->en-core-web-trf==3.4.1) (0.0.3)\n",
      "Requirement already satisfied: colorama in j:\\downloads\\nlp\\pyenv\\torchenv\\lib\\site-packages (from tqdm<5.0.0,>=4.38.0->spacy<3.5.0,>=3.4.1->en-core-web-trf==3.4.1) (0.4.6)\n",
      "Requirement already satisfied: filelock in j:\\downloads\\nlp\\pyenv\\torchenv\\lib\\site-packages (from transformers<4.26.0,>=3.4.0->spacy-transformers<1.2.0,>=1.1.2->en-core-web-trf==3.4.1) (3.8.2)\n",
      "Requirement already satisfied: tokenizers!=0.11.3,<0.14,>=0.11.1 in j:\\downloads\\nlp\\pyenv\\torchenv\\lib\\site-packages (from transformers<4.26.0,>=3.4.0->spacy-transformers<1.2.0,>=1.1.2->en-core-web-trf==3.4.1) (0.13.2)\n",
      "Requirement already satisfied: huggingface-hub<1.0,>=0.10.0 in j:\\downloads\\nlp\\pyenv\\torchenv\\lib\\site-packages (from transformers<4.26.0,>=3.4.0->spacy-transformers<1.2.0,>=1.1.2->en-core-web-trf==3.4.1) (0.11.1)\n",
      "Requirement already satisfied: regex!=2019.12.17 in j:\\downloads\\nlp\\pyenv\\torchenv\\lib\\site-packages (from transformers<4.26.0,>=3.4.0->spacy-transformers<1.2.0,>=1.1.2->en-core-web-trf==3.4.1) (2022.10.31)\n",
      "Requirement already satisfied: pyyaml>=5.1 in j:\\downloads\\nlp\\pyenv\\torchenv\\lib\\site-packages (from transformers<4.26.0,>=3.4.0->spacy-transformers<1.2.0,>=1.1.2->en-core-web-trf==3.4.1) (6.0)\n",
      "Requirement already satisfied: click<9.0.0,>=7.1.1 in j:\\downloads\\nlp\\pyenv\\torchenv\\lib\\site-packages (from typer<0.8.0,>=0.3.0->spacy<3.5.0,>=3.4.1->en-core-web-trf==3.4.1) (8.1.3)\n",
      "Requirement already satisfied: MarkupSafe>=2.0 in j:\\downloads\\nlp\\pyenv\\torchenv\\lib\\site-packages (from jinja2->spacy<3.5.0,>=3.4.1->en-core-web-trf==3.4.1) (2.1.1)\n",
      "[+] Download and installation successful\n",
      "You can now load the package via spacy.load('en_core_web_trf')\n"
     ]
    },
    {
     "name": "stderr",
     "output_type": "stream",
     "text": [
      "\n",
      "[notice] A new release of pip available: 22.3.1 -> 23.0\n",
      "[notice] To update, run: python.exe -m pip install --upgrade pip\n"
     ]
    },
    {
     "name": "stdout",
     "output_type": "stream",
     "text": [
      "Looking in indexes: https://pypi.org/simple, https://pypi.ngc.nvidia.com\n",
      "Collecting en-core-web-md==3.4.1\n",
      "  Downloading https://github.com/explosion/spacy-models/releases/download/en_core_web_md-3.4.1/en_core_web_md-3.4.1-py3-none-any.whl (42.8 MB)\n",
      "     --------------------------------------- 42.8/42.8 MB 10.6 MB/s eta 0:00:00\n",
      "Requirement already satisfied: spacy<3.5.0,>=3.4.0 in j:\\downloads\\nlp\\pyenv\\torchenv\\lib\\site-packages (from en-core-web-md==3.4.1) (3.4.4)\n",
      "Requirement already satisfied: langcodes<4.0.0,>=3.2.0 in j:\\downloads\\nlp\\pyenv\\torchenv\\lib\\site-packages (from spacy<3.5.0,>=3.4.0->en-core-web-md==3.4.1) (3.3.0)\n",
      "Requirement already satisfied: numpy>=1.15.0 in j:\\downloads\\nlp\\pyenv\\torchenv\\lib\\site-packages (from spacy<3.5.0,>=3.4.0->en-core-web-md==3.4.1) (1.23.5)\n",
      "Requirement already satisfied: spacy-legacy<3.1.0,>=3.0.10 in j:\\downloads\\nlp\\pyenv\\torchenv\\lib\\site-packages (from spacy<3.5.0,>=3.4.0->en-core-web-md==3.4.1) (3.0.11)\n",
      "Requirement already satisfied: jinja2 in j:\\downloads\\nlp\\pyenv\\torchenv\\lib\\site-packages (from spacy<3.5.0,>=3.4.0->en-core-web-md==3.4.1) (3.1.2)\n",
      "Requirement already satisfied: catalogue<2.1.0,>=2.0.6 in j:\\downloads\\nlp\\pyenv\\torchenv\\lib\\site-packages (from spacy<3.5.0,>=3.4.0->en-core-web-md==3.4.1) (2.0.8)\n",
      "Requirement already satisfied: typer<0.8.0,>=0.3.0 in j:\\downloads\\nlp\\pyenv\\torchenv\\lib\\site-packages (from spacy<3.5.0,>=3.4.0->en-core-web-md==3.4.1) (0.7.0)\n",
      "Requirement already satisfied: packaging>=20.0 in j:\\downloads\\nlp\\pyenv\\torchenv\\lib\\site-packages (from spacy<3.5.0,>=3.4.0->en-core-web-md==3.4.1) (22.0)\n",
      "Requirement already satisfied: srsly<3.0.0,>=2.4.3 in j:\\downloads\\nlp\\pyenv\\torchenv\\lib\\site-packages (from spacy<3.5.0,>=3.4.0->en-core-web-md==3.4.1) (2.4.5)\n",
      "Requirement already satisfied: pydantic!=1.8,!=1.8.1,<1.11.0,>=1.7.4 in j:\\downloads\\nlp\\pyenv\\torchenv\\lib\\site-packages (from spacy<3.5.0,>=3.4.0->en-core-web-md==3.4.1) (1.10.4)\n",
      "Requirement already satisfied: cymem<2.1.0,>=2.0.2 in j:\\downloads\\nlp\\pyenv\\torchenv\\lib\\site-packages (from spacy<3.5.0,>=3.4.0->en-core-web-md==3.4.1) (2.0.7)\n",
      "Requirement already satisfied: setuptools in j:\\downloads\\nlp\\pyenv\\torchenv\\lib\\site-packages (from spacy<3.5.0,>=3.4.0->en-core-web-md==3.4.1) (65.6.3)\n",
      "Requirement already satisfied: wasabi<1.1.0,>=0.9.1 in j:\\downloads\\nlp\\pyenv\\torchenv\\lib\\site-packages (from spacy<3.5.0,>=3.4.0->en-core-web-md==3.4.1) (0.10.1)\n",
      "Requirement already satisfied: spacy-loggers<2.0.0,>=1.0.0 in j:\\downloads\\nlp\\pyenv\\torchenv\\lib\\site-packages (from spacy<3.5.0,>=3.4.0->en-core-web-md==3.4.1) (1.0.4)\n",
      "Requirement already satisfied: requests<3.0.0,>=2.13.0 in j:\\downloads\\nlp\\pyenv\\torchenv\\lib\\site-packages (from spacy<3.5.0,>=3.4.0->en-core-web-md==3.4.1) (2.28.1)\n",
      "Requirement already satisfied: tqdm<5.0.0,>=4.38.0 in j:\\downloads\\nlp\\pyenv\\torchenv\\lib\\site-packages (from spacy<3.5.0,>=3.4.0->en-core-web-md==3.4.1) (4.64.1)\n",
      "Requirement already satisfied: murmurhash<1.1.0,>=0.28.0 in j:\\downloads\\nlp\\pyenv\\torchenv\\lib\\site-packages (from spacy<3.5.0,>=3.4.0->en-core-web-md==3.4.1) (1.0.9)\n",
      "Requirement already satisfied: pathy>=0.3.5 in j:\\downloads\\nlp\\pyenv\\torchenv\\lib\\site-packages (from spacy<3.5.0,>=3.4.0->en-core-web-md==3.4.1) (0.10.1)\n",
      "Requirement already satisfied: smart-open<7.0.0,>=5.2.1 in j:\\downloads\\nlp\\pyenv\\torchenv\\lib\\site-packages (from spacy<3.5.0,>=3.4.0->en-core-web-md==3.4.1) (6.3.0)\n",
      "Requirement already satisfied: thinc<8.2.0,>=8.1.0 in j:\\downloads\\nlp\\pyenv\\torchenv\\lib\\site-packages (from spacy<3.5.0,>=3.4.0->en-core-web-md==3.4.1) (8.1.6)\n",
      "Requirement already satisfied: preshed<3.1.0,>=3.0.2 in j:\\downloads\\nlp\\pyenv\\torchenv\\lib\\site-packages (from spacy<3.5.0,>=3.4.0->en-core-web-md==3.4.1) (3.0.8)\n",
      "Requirement already satisfied: typing-extensions>=4.2.0 in j:\\downloads\\nlp\\pyenv\\torchenv\\lib\\site-packages (from pydantic!=1.8,!=1.8.1,<1.11.0,>=1.7.4->spacy<3.5.0,>=3.4.0->en-core-web-md==3.4.1) (4.4.0)\n",
      "Requirement already satisfied: charset-normalizer<3,>=2 in j:\\downloads\\nlp\\pyenv\\torchenv\\lib\\site-packages (from requests<3.0.0,>=2.13.0->spacy<3.5.0,>=3.4.0->en-core-web-md==3.4.1) (2.1.1)\n",
      "Requirement already satisfied: urllib3<1.27,>=1.21.1 in j:\\downloads\\nlp\\pyenv\\torchenv\\lib\\site-packages (from requests<3.0.0,>=2.13.0->spacy<3.5.0,>=3.4.0->en-core-web-md==3.4.1) (1.26.13)\n",
      "Requirement already satisfied: idna<4,>=2.5 in j:\\downloads\\nlp\\pyenv\\torchenv\\lib\\site-packages (from requests<3.0.0,>=2.13.0->spacy<3.5.0,>=3.4.0->en-core-web-md==3.4.1) (3.4)\n",
      "Requirement already satisfied: certifi>=2017.4.17 in j:\\downloads\\nlp\\pyenv\\torchenv\\lib\\site-packages (from requests<3.0.0,>=2.13.0->spacy<3.5.0,>=3.4.0->en-core-web-md==3.4.1) (2022.12.7)\n",
      "Requirement already satisfied: blis<0.8.0,>=0.7.8 in j:\\downloads\\nlp\\pyenv\\torchenv\\lib\\site-packages (from thinc<8.2.0,>=8.1.0->spacy<3.5.0,>=3.4.0->en-core-web-md==3.4.1) (0.7.9)\n",
      "Requirement already satisfied: confection<1.0.0,>=0.0.1 in j:\\downloads\\nlp\\pyenv\\torchenv\\lib\\site-packages (from thinc<8.2.0,>=8.1.0->spacy<3.5.0,>=3.4.0->en-core-web-md==3.4.1) (0.0.3)\n",
      "Requirement already satisfied: colorama in j:\\downloads\\nlp\\pyenv\\torchenv\\lib\\site-packages (from tqdm<5.0.0,>=4.38.0->spacy<3.5.0,>=3.4.0->en-core-web-md==3.4.1) (0.4.6)\n",
      "Requirement already satisfied: click<9.0.0,>=7.1.1 in j:\\downloads\\nlp\\pyenv\\torchenv\\lib\\site-packages (from typer<0.8.0,>=0.3.0->spacy<3.5.0,>=3.4.0->en-core-web-md==3.4.1) (8.1.3)\n",
      "Requirement already satisfied: MarkupSafe>=2.0 in j:\\downloads\\nlp\\pyenv\\torchenv\\lib\\site-packages (from jinja2->spacy<3.5.0,>=3.4.0->en-core-web-md==3.4.1) (2.1.1)\n",
      "[+] Download and installation successful\n",
      "You can now load the package via spacy.load('en_core_web_md')\n"
     ]
    },
    {
     "name": "stderr",
     "output_type": "stream",
     "text": [
      "\n",
      "[notice] A new release of pip available: 22.3.1 -> 23.0\n",
      "[notice] To update, run: python.exe -m pip install --upgrade pip\n"
     ]
    },
    {
     "name": "stdout",
     "output_type": "stream",
     "text": [
      "Looking in indexes: https://pypi.org/simple, https://pypi.ngc.nvidia.com\n",
      "Collecting en-core-web-sm==3.4.1\n",
      "  Downloading https://github.com/explosion/spacy-models/releases/download/en_core_web_sm-3.4.1/en_core_web_sm-3.4.1-py3-none-any.whl (12.8 MB)\n",
      "     --------------------------------------- 12.8/12.8 MB 14.9 MB/s eta 0:00:00\n",
      "Requirement already satisfied: spacy<3.5.0,>=3.4.0 in j:\\downloads\\nlp\\pyenv\\torchenv\\lib\\site-packages (from en-core-web-sm==3.4.1) (3.4.4)\n",
      "Requirement already satisfied: thinc<8.2.0,>=8.1.0 in j:\\downloads\\nlp\\pyenv\\torchenv\\lib\\site-packages (from spacy<3.5.0,>=3.4.0->en-core-web-sm==3.4.1) (8.1.6)\n",
      "Requirement already satisfied: spacy-legacy<3.1.0,>=3.0.10 in j:\\downloads\\nlp\\pyenv\\torchenv\\lib\\site-packages (from spacy<3.5.0,>=3.4.0->en-core-web-sm==3.4.1) (3.0.11)\n",
      "Requirement already satisfied: murmurhash<1.1.0,>=0.28.0 in j:\\downloads\\nlp\\pyenv\\torchenv\\lib\\site-packages (from spacy<3.5.0,>=3.4.0->en-core-web-sm==3.4.1) (1.0.9)\n",
      "Requirement already satisfied: catalogue<2.1.0,>=2.0.6 in j:\\downloads\\nlp\\pyenv\\torchenv\\lib\\site-packages (from spacy<3.5.0,>=3.4.0->en-core-web-sm==3.4.1) (2.0.8)\n",
      "Requirement already satisfied: setuptools in j:\\downloads\\nlp\\pyenv\\torchenv\\lib\\site-packages (from spacy<3.5.0,>=3.4.0->en-core-web-sm==3.4.1) (65.6.3)\n",
      "Requirement already satisfied: spacy-loggers<2.0.0,>=1.0.0 in j:\\downloads\\nlp\\pyenv\\torchenv\\lib\\site-packages (from spacy<3.5.0,>=3.4.0->en-core-web-sm==3.4.1) (1.0.4)\n",
      "Requirement already satisfied: requests<3.0.0,>=2.13.0 in j:\\downloads\\nlp\\pyenv\\torchenv\\lib\\site-packages (from spacy<3.5.0,>=3.4.0->en-core-web-sm==3.4.1) (2.28.1)\n",
      "Requirement already satisfied: packaging>=20.0 in j:\\downloads\\nlp\\pyenv\\torchenv\\lib\\site-packages (from spacy<3.5.0,>=3.4.0->en-core-web-sm==3.4.1) (22.0)\n",
      "Requirement already satisfied: wasabi<1.1.0,>=0.9.1 in j:\\downloads\\nlp\\pyenv\\torchenv\\lib\\site-packages (from spacy<3.5.0,>=3.4.0->en-core-web-sm==3.4.1) (0.10.1)\n",
      "Requirement already satisfied: langcodes<4.0.0,>=3.2.0 in j:\\downloads\\nlp\\pyenv\\torchenv\\lib\\site-packages (from spacy<3.5.0,>=3.4.0->en-core-web-sm==3.4.1) (3.3.0)\n",
      "Requirement already satisfied: pydantic!=1.8,!=1.8.1,<1.11.0,>=1.7.4 in j:\\downloads\\nlp\\pyenv\\torchenv\\lib\\site-packages (from spacy<3.5.0,>=3.4.0->en-core-web-sm==3.4.1) (1.10.4)\n",
      "Requirement already satisfied: jinja2 in j:\\downloads\\nlp\\pyenv\\torchenv\\lib\\site-packages (from spacy<3.5.0,>=3.4.0->en-core-web-sm==3.4.1) (3.1.2)\n",
      "Requirement already satisfied: preshed<3.1.0,>=3.0.2 in j:\\downloads\\nlp\\pyenv\\torchenv\\lib\\site-packages (from spacy<3.5.0,>=3.4.0->en-core-web-sm==3.4.1) (3.0.8)\n",
      "Requirement already satisfied: pathy>=0.3.5 in j:\\downloads\\nlp\\pyenv\\torchenv\\lib\\site-packages (from spacy<3.5.0,>=3.4.0->en-core-web-sm==3.4.1) (0.10.1)\n",
      "Requirement already satisfied: cymem<2.1.0,>=2.0.2 in j:\\downloads\\nlp\\pyenv\\torchenv\\lib\\site-packages (from spacy<3.5.0,>=3.4.0->en-core-web-sm==3.4.1) (2.0.7)\n",
      "Requirement already satisfied: tqdm<5.0.0,>=4.38.0 in j:\\downloads\\nlp\\pyenv\\torchenv\\lib\\site-packages (from spacy<3.5.0,>=3.4.0->en-core-web-sm==3.4.1) (4.64.1)\n",
      "Requirement already satisfied: srsly<3.0.0,>=2.4.3 in j:\\downloads\\nlp\\pyenv\\torchenv\\lib\\site-packages (from spacy<3.5.0,>=3.4.0->en-core-web-sm==3.4.1) (2.4.5)\n",
      "Requirement already satisfied: numpy>=1.15.0 in j:\\downloads\\nlp\\pyenv\\torchenv\\lib\\site-packages (from spacy<3.5.0,>=3.4.0->en-core-web-sm==3.4.1) (1.23.5)\n",
      "Requirement already satisfied: typer<0.8.0,>=0.3.0 in j:\\downloads\\nlp\\pyenv\\torchenv\\lib\\site-packages (from spacy<3.5.0,>=3.4.0->en-core-web-sm==3.4.1) (0.7.0)\n",
      "Requirement already satisfied: smart-open<7.0.0,>=5.2.1 in j:\\downloads\\nlp\\pyenv\\torchenv\\lib\\site-packages (from spacy<3.5.0,>=3.4.0->en-core-web-sm==3.4.1) (6.3.0)\n",
      "Requirement already satisfied: typing-extensions>=4.2.0 in j:\\downloads\\nlp\\pyenv\\torchenv\\lib\\site-packages (from pydantic!=1.8,!=1.8.1,<1.11.0,>=1.7.4->spacy<3.5.0,>=3.4.0->en-core-web-sm==3.4.1) (4.4.0)\n",
      "Requirement already satisfied: urllib3<1.27,>=1.21.1 in j:\\downloads\\nlp\\pyenv\\torchenv\\lib\\site-packages (from requests<3.0.0,>=2.13.0->spacy<3.5.0,>=3.4.0->en-core-web-sm==3.4.1) (1.26.13)\n",
      "Requirement already satisfied: charset-normalizer<3,>=2 in j:\\downloads\\nlp\\pyenv\\torchenv\\lib\\site-packages (from requests<3.0.0,>=2.13.0->spacy<3.5.0,>=3.4.0->en-core-web-sm==3.4.1) (2.1.1)\n",
      "Requirement already satisfied: certifi>=2017.4.17 in j:\\downloads\\nlp\\pyenv\\torchenv\\lib\\site-packages (from requests<3.0.0,>=2.13.0->spacy<3.5.0,>=3.4.0->en-core-web-sm==3.4.1) (2022.12.7)\n",
      "Requirement already satisfied: idna<4,>=2.5 in j:\\downloads\\nlp\\pyenv\\torchenv\\lib\\site-packages (from requests<3.0.0,>=2.13.0->spacy<3.5.0,>=3.4.0->en-core-web-sm==3.4.1) (3.4)\n",
      "Requirement already satisfied: blis<0.8.0,>=0.7.8 in j:\\downloads\\nlp\\pyenv\\torchenv\\lib\\site-packages (from thinc<8.2.0,>=8.1.0->spacy<3.5.0,>=3.4.0->en-core-web-sm==3.4.1) (0.7.9)\n",
      "Requirement already satisfied: confection<1.0.0,>=0.0.1 in j:\\downloads\\nlp\\pyenv\\torchenv\\lib\\site-packages (from thinc<8.2.0,>=8.1.0->spacy<3.5.0,>=3.4.0->en-core-web-sm==3.4.1) (0.0.3)\n",
      "Requirement already satisfied: colorama in j:\\downloads\\nlp\\pyenv\\torchenv\\lib\\site-packages (from tqdm<5.0.0,>=4.38.0->spacy<3.5.0,>=3.4.0->en-core-web-sm==3.4.1) (0.4.6)\n",
      "Requirement already satisfied: click<9.0.0,>=7.1.1 in j:\\downloads\\nlp\\pyenv\\torchenv\\lib\\site-packages (from typer<0.8.0,>=0.3.0->spacy<3.5.0,>=3.4.0->en-core-web-sm==3.4.1) (8.1.3)\n",
      "Requirement already satisfied: MarkupSafe>=2.0 in j:\\downloads\\nlp\\pyenv\\torchenv\\lib\\site-packages (from jinja2->spacy<3.5.0,>=3.4.0->en-core-web-sm==3.4.1) (2.1.1)\n",
      "[+] Download and installation successful\n",
      "You can now load the package via spacy.load('en_core_web_sm')\n"
     ]
    },
    {
     "name": "stderr",
     "output_type": "stream",
     "text": [
      "\n",
      "[notice] A new release of pip available: 22.3.1 -> 23.0\n",
      "[notice] To update, run: python.exe -m pip install --upgrade pip\n"
     ]
    }
   ]
  },
  {
   "cell_type": "code",
   "execution_count": 5,
   "outputs": [],
   "source": [
    "import pandas as pd\n",
    "import csv\n",
    "from utils import extract_wikidata, util_jobs"
   ],
   "metadata": {
    "collapsed": false
   }
  },
  {
   "cell_type": "code",
   "execution_count": 1,
   "outputs": [
    {
     "name": "stderr",
     "output_type": "stream",
     "text": [
      "[nltk_data] Downloading package averaged_perceptron_tagger to\n",
      "[nltk_data]     C:\\Users\\39333\\AppData\\Roaming\\nltk_data...\n",
      "[nltk_data]   Package averaged_perceptron_tagger is already up-to-\n",
      "[nltk_data]       date!\n",
      "[nltk_data] Downloading package punkt to\n",
      "[nltk_data]     C:\\Users\\39333\\AppData\\Roaming\\nltk_data...\n",
      "[nltk_data]   Package punkt is already up-to-date!\n",
      "[nltk_data] Downloading package maxent_ne_chunker to\n",
      "[nltk_data]     C:\\Users\\39333\\AppData\\Roaming\\nltk_data...\n",
      "[nltk_data]   Package maxent_ne_chunker is already up-to-date!\n",
      "[nltk_data] Downloading package words to\n",
      "[nltk_data]     C:\\Users\\39333\\AppData\\Roaming\\nltk_data...\n",
      "[nltk_data]   Package words is already up-to-date!\n"
     ]
    }
   ],
   "source": [
    "df = pd.read_csv('datasets/LinkedIn-Tech-Job-Data/jobs.csv')\n",
    "records = df.to_dict(orient='records')"
   ],
   "metadata": {
    "collapsed": false
   }
  },
  {
   "cell_type": "code",
   "execution_count": 32,
   "outputs": [],
   "source": [
    "jobs_info = [ 'post_id', 'industries','job_function', 'title', 'abstract', 'post_url', 'entity_info_title', 'entity_info_abstract']\n",
    "\n",
    "#new_dict = []\n",
    "djob = {}\n",
    "wikidata_ids = []\n",
    "with open('datasets/LinkedIn-Tech-Job-Data/jobs_new.csv', 'a', encoding='utf-8', newline='') as csvfile:\n",
    "    writer = csv.DictWriter(csvfile, fieldnames = jobs_info)\n",
    "    #writer.writeheader()\n",
    "    for job in records:\n",
    "        djob[\"post_id\"] = job['post_id']\n",
    "        djob[\"industries\"] = job['Industries']\n",
    "        djob[\"job_function\"] = job['Job function']\n",
    "        djob[\"title\"] = job['title']\n",
    "        djob[\"abstract\"] = extract_wikidata.extract_significant_sentences(job['description']) ##\n",
    "        djob[\"post_url\"] = job['post_url']\n",
    "\n",
    "        #doc_trf = nlp_trf(job['description'])\n",
    "        djob[\"entity_info_title\"] = extract_wikidata.get_extract(job['description'], wikidata_ids)\n",
    "        djob[\"entity_info_abstract\"] = [] #remember to remove from util.py in for entity in eval(entity_info_abstract)\n",
    "        #print(djob)\n",
    "        writer.writerow(djob)\n"
   ],
   "metadata": {
    "collapsed": false
   }
  },
  {
   "cell_type": "code",
   "execution_count": 7,
   "outputs": [],
   "source": [
    "from utils.extract_wikidata import get_ids\n",
    "\n",
    "wikidata_ids = []\n",
    "with open('datasets/LinkedIn-Tech-Job-Data/jobs_new.csv', 'r', encoding='utf-8') as csv_file:\n",
    "    df = pd.read_csv(csv_file)\n",
    "    entity_info_title_col = df.entity_info_title\n",
    "\n",
    "get_ids(entity_info_title_col, wikidata_ids)"
   ],
   "metadata": {
    "collapsed": false
   }
  },
  {
   "cell_type": "code",
   "execution_count": 11,
   "outputs": [
    {
     "data": {
      "text/plain": "13398"
     },
     "execution_count": 11,
     "metadata": {},
     "output_type": "execute_result"
    }
   ],
   "source": [
    "len(wikidata_ids)"
   ],
   "metadata": {
    "collapsed": false
   }
  },
  {
   "cell_type": "code",
   "execution_count": 10,
   "outputs": [],
   "source": [
    "file = open('datasets/LinkedIn-Tech-Job-Data/wikidata_ids.txt', 'a', encoding='utf-8')\n",
    "for wikidata in wikidata_ids:\n",
    "\tfile.write(wikidata + \"\\n\")\n",
    "file.close()"
   ],
   "metadata": {
    "collapsed": false
   }
  },
  {
   "cell_type": "markdown",
   "source": [
    "#news | jobs\n",
    "#id : post_id\n",
    "#category: Industries\n",
    "#subcategory : job function\n",
    "#title: title\n",
    "#abstract : requirements\n",
    "#url : url\n",
    "#entity_info_title : only one [{label, type, wikidataId, confidence, occurrence offsets, surface forms}]\n",
    "#entity_info_abstract: all the first 3[{label, type, wikidataId, confidence, occurrence offsets, surface forms}]\n",
    "\n",
    "\n",
    "data:\n",
    "  train_news : \"./datasets/mind_train_demo/news.tsv\" ###\n",
    "  train_behavior : \"./datasets/mind_train_demo/behaviors.tsv\"\n",
    "  valid_news : \"./datasets/mind_val_demo/news.tsv\"\n",
    "  valid_behavior : \"./datasets/mind_val_demo/behaviors.tsv\"\n",
    "  knowledge_graph : \"./datasets/mind_utils_demo/triple2id.txt\" --- h t r\n",
    "  entity_embedding : \"./datasets/mind_utils_demo/entity2vecd100.vec\" ###\n",
    "  num_entity_embedding: 3275150\n",
    "  relation_embedding : \"./datasets/mind_utils_demo/relation2vecd100.vec\" ---\n",
    "  entity_index : \"./datasets/mind_utils_demo/entity2id.txt\" ###\n",
    "  relation_index : \"./datasets/mind_utils_demo/relation2id.txt\" ---\n",
    "  sparse_adj_entity : \"./datasets/mind_utils_demo/entity_adj.npy\"\n",
    "  sparse_adj_relation : \"./datasets/mind_utils_demo/relation_adj.npy\"\n",
    "  mind_data : \"./data_dict_1672848868384.pkl\""
   ],
   "metadata": {
    "collapsed": false
   }
  },
  {
   "cell_type": "code",
   "execution_count": 3,
   "outputs": [],
   "source": [
    "import numpy as np\n",
    "import pandas as pd\n",
    "with open('datasets/LinkedIn-Tech-Job-Data/jobs_new.csv', 'r', encoding='utf-8') as csv_file:\n",
    "    # Load the data from the CSV file into a pandas DataFrame\n",
    "    df = pd.read_csv(csv_file)\n",
    "\n",
    "    # Calculate the number of rows in the DataFrame\n",
    "    n = df.shape[0]\n",
    "\n",
    "    # Generate a random permutation of the indices\n",
    "    idx = np.random.permutation(n)\n",
    "\n",
    "    # Split the indices into training and validation sets\n",
    "    split = int(0.8 * n)\n",
    "    train_idx = idx[:split]\n",
    "    val_idx = idx[split:]\n",
    "\n",
    "    # Split the DataFrame into training and validation sets based on the indices\n",
    "    train_df = df.iloc[train_idx, :]\n",
    "    val_df = df.iloc[val_idx, :]\n",
    "\n",
    "    # Save the training and validation sets as CSV files\n",
    "    train_df.to_csv('datasets/LinkedIn-Tech-Job-Data/train_jobs.tsv',  sep='\\t', index=False)\n",
    "    val_df.to_csv('datasets/LinkedIn-Tech-Job-Data/valid_jobs.tsv',  sep='\\t', index=False)"
   ],
   "metadata": {
    "collapsed": false
   }
  },
  {
   "cell_type": "code",
   "execution_count": 1,
   "outputs": [],
   "source": [
    "# Config Generation\n",
    "import time\n",
    "import torch\n",
    "import os\n",
    "from utils.cleaner_jobs import *\n",
    "from utils.util_jobs import *\n",
    "from train_test import *\n",
    "import argparse\n",
    "from parse_config import ConfigParser\n",
    "\n",
    "parser = argparse.ArgumentParser(description='KRED')\n",
    "parser.add_argument('-f')\n",
    "parser.add_argument('-c', '--config', default=\"./config.json\", type=str,\n",
    "                    help='config file path (default: None)')\n",
    "parser.add_argument('-r', '--resume', default=None, type=str,\n",
    "                    help='path to latest checkpoint (default: None)')\n",
    "parser.add_argument('-d', '--device', default=None, type=str,\n",
    "                    help='indices of GPUs to enable (default: all)')\n",
    "\n",
    "config = ConfigParser.from_args(parser)"
   ],
   "metadata": {
    "collapsed": false
   }
  },
  {
   "cell_type": "code",
   "execution_count": 2,
   "outputs": [],
   "source": [
    "\n",
    "config = cleaner_jobs(config)"
   ],
   "metadata": {
    "collapsed": false
   }
  },
  {
   "cell_type": "code",
   "execution_count": 3,
   "outputs": [],
   "source": [
    "ent_jobs = entities_jobs(config)"
   ],
   "metadata": {
    "collapsed": false
   }
  },
  {
   "cell_type": "code",
   "execution_count": 4,
   "outputs": [],
   "source": [
    "entity2id_dict = entity_to_id_jobs(config, ent_jobs)"
   ],
   "metadata": {
    "collapsed": false
   }
  },
  {
   "cell_type": "code",
   "execution_count": 6,
   "outputs": [
    {
     "data": {
      "text/plain": "{'Q5': 2,\n 'Q34433': 8,\n 'Q188': 16,\n 'Q1860': 17,\n 'Q7737': 18,\n 'Q39631': 20,\n 'Q30': 21,\n 'Q60': 23,\n 'Q183': 32,\n 'Q21198': 42,\n 'Q1650915': 43,\n 'Q131524': 48,\n 'Q82955': 49,\n 'Q142': 51,\n 'Q43845': 57,\n 'Q298': 58,\n 'Q1321': 63,\n 'Q155': 66,\n 'Q5372': 75,\n 'Q408': 81,\n 'Q36180': 88,\n 'Q6607': 93,\n 'Q38': 95,\n 'Q201788': 97,\n 'Q752297': 99,\n 'Q41176': 103,\n 'Q29': 104,\n 'Q2807': 105,\n 'Q3142': 108,\n 'Q33506': 120,\n 'Q90': 142,\n 'Q11424': 145,\n 'Q1384': 162,\n 'Q2256': 171,\n 'Q145': 172,\n 'Q881': 180,\n 'Q62': 186,\n 'Q5083': 187,\n 'Q1085': 190,\n 'Q7868': 207,\n 'Q643839': 216,\n 'Q181600': 221,\n 'Q125191': 223,\n 'Q174782': 230,\n 'Q174': 231,\n 'Q33': 238,\n 'Q1757': 242,\n 'Q9617': 249,\n 'Q8047': 254,\n 'Q989320': 268,\n 'Q499029': 271,\n 'Q10884': 283,\n 'Q31': 292,\n 'Q4925623': 293,\n 'Q1158477': 303,\n 'Q641': 308,\n 'Q490': 311,\n 'Q1461': 324,\n 'Q2598693': 325,\n 'Q928': 326,\n 'Q1781': 337,\n 'Q8502': 343,\n 'Q797': 345,\n 'Q150': 347,\n 'Q126399': 368,\n 'Q165': 375,\n 'Q17': 382,\n 'Q639669': 384,\n 'Q36834': 386,\n 'Q131578': 388,\n 'Q16533': 394,\n 'Q467': 411,\n 'Q144': 413,\n 'Q1420': 416,\n 'Q79007': 417,\n 'Q8074': 433,\n 'Q19652': 436,\n 'Q20': 464,\n 'Q280658': 469,\n 'Q1166': 477,\n 'Q237': 489,\n 'Q8261': 492,\n 'Q96': 500,\n 'Q4610556': 502,\n 'Q93204': 509,\n 'Q24862': 510,\n 'Q134556': 513,\n 'Q169943': 528,\n 'Q9212': 531,\n 'Q1037': 546,\n 'Q476028': 550,\n 'Q159': 551,\n 'Q12439': 564,\n 'Q49088': 565,\n 'Q7406919': 577,\n 'Q640506': 580,\n 'Q16': 581,\n 'Q8646': 585,\n 'Q40348': 597,\n 'Q55': 602,\n 'Q170434': 626,\n 'Q1268871': 627,\n 'Q15253558': 642,\n 'Q727': 644,\n 'Q8454': 645,\n 'Q4259259': 651,\n 'Q692417': 658,\n 'Q39': 676,\n 'Q1204': 696,\n 'Q36': 700,\n 'Q27': 706,\n 'Q483110': 707,\n 'Q11399': 718,\n 'Q99': 722,\n 'Q652': 727,\n 'Q227': 735,\n 'Q8134': 737,\n 'Q212': 740,\n 'Q158668': 746,\n 'Q1899': 747,\n 'Q115': 756,\n 'Q40244': 757,\n 'Q9687': 758,\n 'Q43': 760,\n 'Q21': 776,\n 'Q2526255': 780,\n 'Q184': 789,\n 'Q43229': 818,\n 'Q190564': 830,\n 'Q414': 836,\n 'Q189004': 848,\n 'Q18013': 849,\n 'Q42973': 876,\n 'Q179200': 889,\n 'Q902': 901,\n 'Q486972': 903,\n 'Q64': 920,\n 'Q1352': 935,\n 'Q668': 936,\n 'Q498162': 942,\n 'Q222': 959,\n 'Q191843': 967,\n 'Q259776': 972,\n 'Q5377': 974,\n 'Q79785': 984,\n 'Q34': 993,\n 'Q9027': 994,\n 'Q7430': 1003,\n 'Q32': 1005,\n 'Q370712': 1028,\n 'Q1524': 1030,\n 'Q215380': 1033,\n 'Q170323': 1055,\n 'Q1406': 1057,\n 'Q48493': 1059,\n 'Q208189': 1061,\n 'Q2176159': 1062,\n 'Q5287': 1073,\n 'Q202585': 1086,\n 'Q37073': 1093,\n 'Q83460': 1108,\n 'Q5818': 1165,\n 'Q8686': 1208,\n 'Q1378320': 1209,\n 'Q168756': 1211,\n 'Q148': 1212,\n 'Q132020': 1240,\n 'Q35': 1250,\n 'Q35794': 1271,\n 'Q12206': 1289,\n 'Q12233': 1305,\n 'Q1492': 1321,\n 'Q2066131': 1324,\n 'Q571': 1326,\n 'Q16552': 1351,\n 'Q65': 1352,\n 'Q3141': 1368,\n 'Q29485': 1418,\n 'Q33935': 1420,\n 'Q801': 1421,\n 'Q656': 1437,\n 'Q854': 1444,\n 'Q1369832': 1452,\n 'Q44946': 1459,\n 'Q17884': 1503,\n 'Q49112': 1508,\n 'Q3400985': 1509,\n 'Q641226': 1531,\n 'Q956': 1532,\n 'Q2086913': 1537,\n 'Q40': 1543,\n 'Q506240': 1554,\n 'Q744800': 1565,\n 'Q1486': 1569,\n 'Q649': 1578,\n 'Q605834': 1595,\n 'Q10686': 1596,\n 'Q1527': 1611,\n 'Q5358214': 1618,\n 'Q1158485': 1627,\n 'Q131512': 1640,\n 'Q769': 1651,\n 'Q84': 1665,\n 'Q172': 1669,\n 'Q1045': 1670,\n 'Q189210': 1700,\n 'Q2005': 1703,\n 'Q8811': 1704,\n 'Q46441': 1705,\n 'Q884': 1708,\n 'Q49110': 1715,\n 'Q9176': 1718,\n 'Q593644': 1743,\n 'Q1261': 1745,\n 'Q3134980': 1746,\n 'Q35933': 1748,\n 'Q81096': 1802,\n 'Q16567': 1813,\n 'Q192334': 1818,\n 'Q49114': 1819,\n 'Q7278': 1823,\n 'Q229': 1860,\n 'Q434841': 1867,\n 'Q23633': 1899,\n 'Q168383': 1973,\n 'Q1904': 2016,\n 'Q618779': 2069,\n 'Q733': 2085,\n 'Q1726': 2134,\n 'Q794': 2137,\n 'Q27169': 2162,\n 'Q4830453': 2167,\n 'Q15042660': 2168,\n 'Q178512': 2170,\n 'Q39715': 2183,\n 'Q39338': 2187,\n 'Q461886': 2195,\n 'Q239': 2231,\n 'Q939743': 2232,\n 'Q273749': 2251,\n 'Q172742': 2276,\n 'Q218': 2307,\n 'Q190080': 2312,\n 'Q34740': 2316,\n 'Q8434': 2341,\n 'Q3947': 2348,\n 'Q221': 2388,\n 'Q340': 2397,\n 'Q1028': 2417,\n 'Q7903': 2427,\n 'Q2634': 2443,\n 'Q54050': 2475,\n 'Q1055': 2569,\n 'Q230': 2614,\n 'Q11190': 2615,\n 'Q901': 2618,\n 'Q41583': 2623,\n 'Q12078': 2630,\n 'Q34038': 2646,\n 'Q100': 2654,\n 'Q2897866': 2664,\n 'Q23444': 2680,\n 'Q3421342': 2681,\n 'Q1033': 2704,\n 'Q328804': 2716,\n 'Q7559': 2717,\n 'Q210723': 2718,\n 'Q24639': 2735,\n 'Q191': 2747,\n 'Q49085': 2769,\n 'Q94': 2799,\n 'Q847142': 2827,\n 'Q804': 2835,\n 'Q574192': 2842,\n 'Q515869': 2854,\n 'Q14748': 2864,\n 'Q506294': 2865,\n 'Q736': 2867,\n 'Q1344': 2886,\n 'Q3331189': 2897,\n 'Q27020041': 2920,\n 'Q37': 2927,\n 'Q1494': 2981,\n 'Q118958': 2994,\n 'Q384593': 3044,\n 'Q29552': 3046,\n 'Q6655': 3078,\n 'Q599151': 3089,\n 'Q217': 3094,\n 'Q188869': 3113,\n 'Q36091': 3121,\n 'Q796': 3131,\n 'Q1473289': 3207,\n 'Q9035': 3213,\n 'Q1049': 3222,\n 'Q22': 3231,\n 'Q184485': 3237,\n 'Q13371': 3239,\n 'Q777403': 3240,\n 'Q168751': 3242,\n 'Q11220': 3243,\n 'Q38022': 3245,\n 'Q813701': 3252,\n 'Q283': 3263,\n 'Q601401': 3273,\n 'Q225': 3290,\n 'Q403': 3291,\n 'Q258': 3299,\n 'Q1371': 3306,\n 'Q200009': 3334,\n 'Q49167': 3357,\n 'Q986210': 3365,\n 'Q12241622': 3378,\n 'Q18419': 3379,\n 'Q17042': 3390,\n 'Q1215892': 3399,\n 'Q1354011': 3409,\n 'Q14500511': 3411,\n 'Q1439': 3412,\n 'Q51689': 3413,\n 'Q23240': 3431,\n 'Q8513': 3436,\n 'Q28': 3440,\n 'Q1537378': 3446,\n 'Q749409': 3465,\n 'Q309988': 3476,\n 'Q844935': 3483,\n 'Q389735': 3495,\n 'Q1047437': 3501,\n 'Q36649': 3502,\n 'Q12271': 3503,\n 'Q37260': 3506,\n 'Q1568': 3530,\n 'Q608276': 3561,\n 'Q1342': 3568,\n 'Q572572': 3715,\n 'Q27001': 3727,\n 'Q9934': 3741,\n 'Q12140': 3748,\n 'Q623': 3752,\n 'Q2609': 3763,\n 'Q12204': 3795,\n 'Q1543': 3808,\n 'Q664': 3819,\n 'Q803': 3840,\n 'Q123705': 3842,\n 'Q837': 3844,\n 'Q5092': 3846,\n 'Q1548690': 3850,\n 'Q397': 3872,\n 'Q35497': 3873,\n 'Q48329': 3963,\n 'Q849697': 3972,\n 'Q462': 4038,\n 'Q34442': 4042,\n 'Q739': 4044,\n 'Q222052': 4059,\n 'Q642878': 4085,\n 'Q18426': 4087,\n 'Q2630093': 4097,\n 'Q61': 4099,\n 'Q174224': 4102,\n 'Q590208': 4137,\n 'Q105186': 4142,\n 'Q8436': 4161,\n 'Q1588': 4267,\n 'Q172771': 4271,\n 'Q25287': 4281,\n 'Q34316': 4288,\n 'Q188473': 4309,\n 'Q1761': 4321,\n 'Q2770': 4352,\n 'Q209868': 4428,\n 'Q5014725': 4452,\n 'Q19610114': 4454,\n 'Q1490': 4458,\n 'Q186471': 4520,\n 'Q16422172': 4534,\n 'Q5482740': 4552,\n 'Q46831': 4576,\n 'Q724': 4594,\n 'Q18716': 4601,\n 'Q47265': 4684,\n 'Q18543': 4693,\n 'Q3957': 4697,\n 'Q9192': 4746,\n 'Q287149': 4770,\n 'Q190868': 4797,\n 'Q11426': 4799,\n 'Q191701': 4833,\n 'Q224': 4863,\n 'Q31058': 4866,\n 'Q46970': 4873,\n 'Q1297': 4880,\n 'Q1542187': 4888,\n 'Q16558': 4889,\n 'Q48': 4907,\n 'Q1754': 4915,\n 'Q1748': 4931,\n 'Q782': 4946,\n 'Q1509': 4959,\n 'Q174736': 4965,\n 'Q13974': 4972,\n 'Q1337530': 4974,\n 'Q1156': 5016,\n 'Q43483': 5018,\n 'Q1537': 5128,\n 'Q1953': 5195,\n 'Q399': 5196,\n 'Q49845': 5206,\n 'Q891723': 5207,\n 'Q177777': 5209,\n 'Q31487': 5219,\n 'Q711': 5232,\n 'Q13406554': 5247,\n 'Q9448': 5259,\n 'Q309': 5274,\n 'Q3918': 5285,\n 'Q1345': 5288,\n 'Q1053996': 5311,\n 'Q7414': 5330,\n 'Q11460': 5416,\n 'Q1573906': 5418,\n 'Q12191064': 5425,\n 'Q484876': 5452,\n 'Q35473': 5460,\n 'Q23436': 5472,\n 'Q800': 5499,\n 'Q19660': 5518,\n 'Q2478141': 5521,\n 'Q334': 5569,\n 'Q1764': 5575,\n 'Q189': 5576,\n 'Q2566598': 5587,\n 'Q388': 5618,\n 'Q190': 5625,\n 'Q11472': 5632,\n 'Q40357': 5633,\n 'Q14116': 5658,\n 'Q878': 5670,\n 'Q1006': 5688,\n 'Q166419': 5734,\n 'Q12483': 5739,\n 'Q1465588': 5775,\n 'Q43380': 5787,\n 'Q1715': 5797,\n 'Q836': 5813,\n 'Q331432': 5817,\n 'Q907311': 5832,\n 'Q678': 5863,\n 'Q13590141': 5891,\n 'Q132241': 5931,\n 'Q104761': 5963,\n 'Q1568338': 5994,\n 'Q683': 6111,\n 'Q486306': 6116,\n 'Q181754': 6117,\n 'Q5503': 6125,\n 'Q7108': 6176,\n 'Q79984': 6178,\n 'Q2841': 6297,\n 'Q816': 6313,\n 'Q8701': 6402,\n 'Q19470': 6403,\n 'Q419': 6485,\n 'Q1489': 6498,\n 'Q72': 6516,\n 'Q515': 6520,\n 'Q688596': 6545,\n 'Q101929': 6572,\n 'Q7100': 6602,\n 'Q327092': 6603,\n 'Q11299': 6609,\n 'Q865': 6617,\n 'Q266423': 6619,\n 'Q8277': 6622,\n 'Q11085': 6627,\n 'Q154869': 6651,\n 'Q8676': 6660,\n 'Q308439': 6662,\n 'Q2725999': 6680,\n 'Q941023': 6713,\n 'Q5390': 6714,\n 'Q644687': 6719,\n 'Q7850': 6730,\n 'Q597': 6739,\n 'Q49190': 6753,\n 'Q219067': 6757,\n 'Q1130172': 6758,\n 'Q133805': 6773,\n 'Q17054': 6775,\n 'Q963': 6811,\n 'Q2259532': 6822,\n 'Q28813': 6826,\n 'Q246': 6830,\n 'Q13780930': 6845,\n 'Q2472587': 6853,\n 'Q199804': 6873,\n 'Q731938': 6874,\n 'Q948': 6876,\n 'Q10566551': 6926,\n 'Q49763': 6932,\n 'Q43196': 6960,\n 'Q228': 6983,\n 'Q507154': 7001,\n 'Q1183': 7002,\n 'Q155702': 7009,\n 'Q270': 7025,\n 'Q2737173': 7037,\n 'Q13955': 7048,\n 'Q131491': 7071,\n 'Q11081': 7083,\n 'Q2095': 7175,\n 'Q28640': 7203,\n 'Q12297': 7234,\n 'Q15978655': 7237,\n 'Q49210': 7244,\n 'Q412563': 7317,\n 'Q497782': 7343,\n 'Q495304': 7363,\n 'Q216364': 7365,\n 'Q215': 7380,\n 'Q8093': 7394,\n 'Q14864328': 7397,\n 'Q721834': 7402,\n 'Q962499': 7404,\n 'Q43445': 7425,\n 'Q49225': 7429,\n 'Q327591': 7436,\n 'Q34687': 7470,\n 'Q9418': 7518,\n 'Q175263': 7521,\n 'Q141488': 7522,\n 'Q1041': 7530,\n 'Q465654': 7543,\n 'Q1543615': 7561,\n 'Q270389': 7604,\n 'Q2307206': 7616,\n 'Q752719': 7619,\n 'Q1391': 7625,\n 'Q7569': 7645,\n 'Q585': 7656,\n 'Q1009': 7661,\n 'Q24530174': 7676,\n 'Q663596': 7679,\n 'Q206921': 7683,\n 'Q1682564': 7711,\n 'Q12136': 7717,\n 'Q984155': 7720,\n 'Q23635': 7731,\n 'Q1145523': 7737,\n 'Q205961': 7757,\n 'Q1347367': 7758,\n 'Q1375280': 7779,\n 'Q18216': 7788,\n 'Q213098': 7790,\n 'Q413486': 7796,\n 'Q15787': 7805,\n 'Q193727': 7819,\n 'Q327022': 7827,\n 'Q25': 7872,\n 'Q5041018': 7907,\n 'Q1983062': 7927,\n 'Q1456': 7931,\n 'Q1088': 7962,\n 'Q128406': 8068,\n 'Q35127': 8106,\n 'Q2249676': 8127,\n 'Q828': 8134,\n 'Q207326': 8135,\n 'Q83307': 8192,\n 'Q14864331': 8271,\n 'Q344': 8275,\n 'Q812': 8328,\n 'Q21578': 8350,\n 'Q463303': 8353,\n 'Q7540126': 8362,\n 'Q18123741': 8391,\n 'Q143': 8397,\n 'Q784': 8437,\n 'Q131479': 8443,\n 'Q894585': 8462,\n 'Q1443933': 8476,\n 'Q12156': 8554,\n 'Q955764': 8573,\n 'Q41506': 8594,\n 'Q12174': 8598,\n 'Q811979': 8616,\n 'Q47465': 8617,\n 'Q200028': 8635,\n 'Q265799': 8640,\n 'Q7892': 8644,\n 'Q9174': 8646,\n 'Q6501338': 8658,\n 'Q16917': 8662,\n 'Q153': 8700,\n 'Q252': 8707,\n 'Q1436063': 8711,\n 'Q221174': 8760,\n 'Q394129': 8802,\n 'Q23548': 8809,\n 'Q729735': 8858,\n 'Q19100': 8893,\n 'Q212646': 8895,\n 'Q17907844': 8910,\n 'Q3100195': 8978,\n 'Q4970': 8985,\n 'Q206901': 9021,\n 'Q7202': 9024,\n 'Q824': 9076,\n 'Q7561': 9131,\n 'Q169950': 9134,\n 'Q1298934': 9141,\n 'Q580689': 9166,\n 'Q1227': 9213,\n 'Q532344': 9252,\n 'Q11660': 9282,\n 'Q10677': 9305,\n 'Q38903': 9321,\n 'Q18594': 9331,\n 'Q22645': 9348,\n 'Q2407': 9367,\n 'Q647': 9390,\n 'Q771': 9414,\n 'Q1589009': 9426,\n 'Q16559': 9427,\n 'Q1034411': 9448,\n 'Q1296024': 9461,\n 'Q1207505': 9462,\n 'Q1207152': 9463,\n 'Q130954': 9493,\n 'Q170584': 9517,\n 'Q42944': 9520,\n 'Q4164871': 9530,\n 'Q763388': 9534,\n 'Q3783594': 9559,\n 'Q5415': 9560,\n 'Q29364': 9644,\n 'Q897': 9691,\n 'Q5283': 9692,\n 'Q880': 9695,\n 'Q2542347': 9710,\n 'Q16554': 9731,\n 'Q846': 9733,\n 'Q648501': 9739,\n 'Q918': 9745,\n 'Q4': 9752,\n 'Q1581': 9761,\n 'Q1348305': 9765,\n 'Q1008': 9769,\n 'Q128570': 9772,\n 'Q1149776': 9773,\n 'Q11030': 9790,\n 'Q9826': 9804,\n 'Q23197': 9815,\n 'Q1454': 9844,\n 'Q23556': 9847,\n 'Q621043': 9848,\n 'Q811': 9854,\n 'Q1445650': 9869,\n 'Q306764': 9880,\n 'Q220317': 9930,\n 'Q173941': 9933,\n 'Q213441': 9983,\n 'Q484847': 9986,\n 'Q126793': 9987,\n 'Q845135': 9991,\n 'Q778': 10020,\n 'Q870033': 10034,\n 'Q868421': 10046,\n 'Q160236': 10049,\n 'Q573': 10052,\n 'Q232595': 10069,\n 'Q384544': 10186,\n 'Q826038': 10211,\n 'Q511138': 10227,\n 'Q104493': 10250,\n 'Q184199': 10268,\n 'Q5322166': 10290,\n 'Q1370': 10357,\n 'Q33959': 10410,\n 'Q133492': 10452,\n 'Q57216': 10454,\n 'Q25305': 10562,\n 'Q2696422': 10563,\n 'Q39546': 10566,\n 'Q783794': 10592,\n 'Q302': 10694,\n 'Q191924': 10723,\n 'Q294660': 10776,\n 'Q39809': 10780,\n 'Q838966': 10838,\n 'Q6343': 10900,\n 'Q19801832': 10947,\n 'Q49241': 11019,\n 'Q810': 11030,\n 'Q46': 11036,\n 'Q49108': 11151,\n 'Q18383': 11168,\n 'Q49229': 11216,\n 'Q23768': 11237,\n 'Q5640540': 11238,\n 'Q16739': 11243,\n 'Q2773': 11255,\n 'Q1397': 11279,\n 'Q808': 11357,\n 'Q80985': 11360,\n 'Q10225': 11415,\n 'Q11451': 11426,\n 'Q4614': 11457,\n 'Q189603': 11498,\n 'Q37836': 11526,\n 'Q7162': 11560,\n 'Q3130': 11573,\n 'Q1119151': 11577,\n 'Q1190554': 11629,\n 'Q842909': 11749,\n 'Q2732142': 11750,\n 'Q3244698': 11769,\n 'Q6938433': 11780,\n 'Q37320': 11805,\n 'Q1663': 11820,\n 'Q1223': 11835,\n 'Q9798': 11876,\n 'Q26426': 11913,\n 'Q1158262': 11922,\n 'Q739416': 11936,\n 'Q23337': 11969,\n 'Q4413096': 11986,\n 'Q6881511': 12058,\n 'Q187939': 12059,\n 'Q485512': 12156,\n 'Q30903': 12170,\n 'Q1757694': 12182,\n 'Q202883': 12196,\n 'Q7240': 12230,\n 'Q612': 12249,\n 'Q43668': 12253,\n 'Q140686': 12267,\n 'Q49258': 12271,\n 'Q2761147': 12273,\n 'Q24925': 12289,\n 'Q4167836': 12342,\n 'Q149757': 12376,\n 'Q208447': 12418,\n 'Q8687': 12458,\n 'Q430464': 12464,\n 'Q7397': 12501,\n 'Q470517': 12594,\n 'Q240642': 12620,\n 'Q3183': 12662,\n 'Q869161': 12668,\n 'Q1408': 12725,\n 'Q83': 12769,\n 'Q25379': 12838,\n 'Q9056': 12888,\n 'Q49243': 12903,\n 'Q171558': 12905,\n 'Q133346': 12933,\n 'Q21077': 12941,\n 'Q1951': 12993,\n 'Q191715': 13002,\n 'Q40970': 13056,\n 'Q5592': 13080,\n 'Q3798668': 13083,\n 'Q15': 13094,\n 'Q39594': 13107,\n 'Q8752': 13127,\n 'Q837171': 13135,\n 'Q424': 13142,\n 'Q23154': 13169,\n 'Q483242': 13171,\n 'Q62832': 13172,\n 'Q899140': 13249,\n 'Q56019': 13314,\n 'Q69488': 13360,\n 'Q1400': 13400,\n 'Q16557': 13454,\n 'Q1142885': 13460,\n 'Q16880979': 13476,\n 'Q2920921': 13540,\n 'Q1470027': 13568,\n 'Q49': 13569,\n 'Q1603': 13601,\n 'Q4481787': 13642,\n 'Q568743': 13670,\n 'Q557880': 13685,\n 'Q183816': 13688,\n 'Q16865897': 13705,\n 'Q1418791': 13718,\n 'Q7180763': 13719,\n 'Q1765120': 13737,\n 'Q4991371': 13740,\n 'Q43115': 13750,\n 'Q1075148': 13782,\n 'Q1718': 13824,\n 'Q159334': 13831,\n 'Q1056391': 13832,\n 'Q623109': 13933,\n 'Q8162': 13980,\n 'Q185091': 14143,\n 'Q52471': 14147,\n 'Q835960': 14192,\n 'Q52467': 14213,\n 'Q52470': 14215,\n 'Q829': 14221,\n 'Q83405': 14235,\n 'Q1497364': 14236,\n 'Q16551': 14322,\n 'Q39816': 14369,\n 'Q341915': 14405,\n 'Q746628': 14449,\n 'Q40435': 14479,\n 'Q52105': 14492,\n 'Q3914': 14537,\n 'Q652965': 14549,\n 'Q1214': 14557,\n 'Q357104': 14586,\n 'Q98': 14588,\n 'Q173395': 14595,\n 'Q236': 14600,\n 'Q179076': 14631,\n 'Q56034': 14645,\n 'Q615838': 14662,\n 'Q1573631': 14665,\n 'Q506': 14690,\n 'Q170416': 14701,\n 'Q928249': 14725,\n 'Q22813352': 14746,\n 'Q11223': 14760,\n 'Q178108': 14795,\n 'Q1770': 14819,\n 'Q21044390': 14835,\n 'Q677': 14875,\n 'Q49218': 14977,\n 'Q81965': 15031,\n 'Q974': 15091,\n 'Q11446': 15135,\n 'Q11344': 15145,\n 'Q105': 15153,\n 'Q339332': 15200,\n 'Q2739': 15203,\n 'Q59853': 15310,\n 'Q13570642': 15317,\n 'Q723682': 15368,\n 'Q180445': 15464,\n 'Q270794': 15470,\n 'Q2665383': 15471,\n 'Q7094': 15473,\n 'Q129421': 15485,\n 'Q1587003': 15530,\n 'Q987': 15574,\n 'Q36442': 15595,\n 'Q202837': 15597,\n 'Q2743': 15601,\n 'Q1065': 15622,\n 'Q38453': 15627,\n 'Q13258171': 15652,\n 'Q5925': 15653,\n 'Q74195': 15746,\n 'Q6346': 15796,\n 'Q622358': 15817,\n 'Q192350': 15830,\n 'Q336': 15833,\n 'Q11862829': 15834,\n 'Q7590': 15836,\n 'Q16563': 15854,\n 'Q2221906': 15861,\n 'Q1628041': 15876,\n 'Q327496': 15926,\n 'Q2516971': 15931,\n 'Q82059': 15932,\n 'Q5027838': 15965,\n 'Q7988102': 15976,\n 'Q8652': 16010,\n 'Q49266': 16045,\n 'Q25113': 16046,\n 'Q37043': 16095,\n 'Q176410': 16099,\n 'Q6106': 16100,\n 'Q2752427': 16136,\n 'Q16555': 16319,\n 'Q16562': 16323,\n 'Q24976': 16324,\n 'Q127060': 16339,\n 'Q708': 16345,\n 'Q13406463': 16364,\n 'Q1326816': 16409,\n 'Q642189': 16428,\n 'Q422665': 16431,\n 'Q179224': 16438,\n 'Q43421': 16471,\n 'Q1181878': 16478,\n 'Q81888': 16482,\n 'Q272059': 16495,\n 'Q337377': 16507,\n 'Q200106': 16529,\n 'Q422652': 16553,\n 'Q41710': 16560,\n 'Q11413': 16579,\n 'Q83187': 16613,\n 'Q936768': 17012,\n 'Q213837': 17018,\n 'Q189524': 17039,\n 'Q1640319': 17048,\n 'Q967': 17085,\n 'Q51993': 17143,\n 'Q34863': 17215,\n 'Q43183': 17217,\n 'Q754': 17254,\n 'Q7208069': 17291,\n 'Q21484845': 17335,\n 'Q820037': 17356,\n 'Q326653': 17422,\n 'Q2534964': 17431,\n 'Q1906857': 17439,\n 'Q16565': 17451,\n 'Q34770': 17456,\n 'Q49256': 17475,\n 'Q485172': 17494,\n 'Q20895042': 17523,\n 'Q1207': 17524,\n 'Q1211': 17525,\n 'Q1553': 17526,\n 'Q1558': 17527,\n 'Q1546': 17528,\n 'Q806805': 17534,\n 'Q161118': 17559,\n 'Q822314': 17619,\n 'Q613014': 17648,\n 'Q180684': 17701,\n 'Q304985': 17707,\n 'Q1900657': 17724,\n 'Q1929446': 17729,\n 'Q975': 17740,\n 'Q173': 17745,\n 'Q1612': 17786,\n 'Q312': 17824,\n 'Q5885': 17862,\n 'Q8097': 17863,\n 'Q1027': 17907,\n 'Q958': 17917,\n 'Q220144': 17919,\n 'Q165972': 17921,\n 'Q207694': 17957,\n 'Q2142601': 18008,\n 'Q370925': 18014,\n 'Q12800811': 18051,\n 'Q131765': 18179,\n 'Q945123': 18192,\n 'Q638': 18207,\n 'Q1210069': 18226,\n 'Q58792': 18237,\n 'Q251': 18274,\n 'Q1359568': 18276,\n 'Q24839341': 18313,\n 'Q43919': 18417,\n 'Q2539': 18456,\n 'Q18121477': 18460,\n 'Q169889': 18518,\n 'Q584451': 18534,\n 'Q157376': 18540,\n 'Q43359': 18586,\n 'Q253414': 18733,\n 'Q38076': 18738,\n 'Q8684': 18814,\n 'Q6010': 18995,\n 'Q10870555': 19037,\n 'Q177005': 19059,\n 'Q9299': 19121,\n 'Q9301': 19122,\n 'Q716': 19138,\n 'Q4740553': 19143,\n 'Q620615': 19150,\n 'Q5405633': 19237,\n 'Q161562': 19238,\n 'Q18389': 19240,\n 'Q75729': 19263,\n 'Q131499': 19270,\n 'Q2994387': 19294,\n 'Q392599': 19335,\n 'Q5580': 19344,\n 'Q983927': 19426,\n 'Q34932': 19445,\n 'Q383568': 19672,\n 'Q131476': 19689,\n 'Q16538': 19742,\n 'Q156839': 19813,\n 'Q13235160': 19853,\n 'Q23404': 19858,\n 'Q184190': 19865,\n 'Q915': 19878,\n 'Q47568': 19887,\n 'Q2329': 19890,\n 'Q188444': 19909,\n 'Q395': 19910,\n 'Q166542': 19943,\n 'Q34508': 19948,\n 'Q171171': 19976,\n 'Q725': 20029,\n ...}"
     },
     "execution_count": 6,
     "metadata": {},
     "output_type": "execute_result"
    }
   ],
   "source": [
    "entity2id_dict"
   ],
   "metadata": {
    "collapsed": false
   }
  },
  {
   "cell_type": "code",
   "execution_count": 5,
   "outputs": [
    {
     "name": "stdout",
     "output_type": "stream",
     "text": [
      "constructing embedding jobs...\n"
     ]
    }
   ],
   "source": [
    "entity_embedding = []\n",
    "entity_embedding.append(np.zeros(config['model']['entity_embedding_dim']))\n",
    "entity2embedding_dict = {}\n",
    "entity2embedding_dict, entity_embedding, relation_embedding = construct_embedding_jobs(config, entity2id_dict, entity_embedding, entity2embedding_dict)"
   ],
   "metadata": {
    "collapsed": false
   }
  },
  {
   "cell_type": "code",
   "execution_count": null,
   "outputs": [],
   "source": [],
   "metadata": {
    "collapsed": false
   }
  },
  {
   "cell_type": "code",
   "execution_count": null,
   "outputs": [],
   "source": [],
   "metadata": {
    "collapsed": false
   }
  },
  {
   "cell_type": "code",
   "execution_count": null,
   "outputs": [],
   "source": [
    "#DA ESEGUIRE ANCORA, CONTROLLARE per behaviour"
   ],
   "metadata": {
    "collapsed": false
   }
  },
  {
   "cell_type": "code",
   "execution_count": null,
   "outputs": [],
   "source": [
    "entity_adj, relation_adj = construct_adj_mind_jobs(config, entity2id_dict, entity2embedding_dict)"
   ],
   "metadata": {
    "collapsed": false
   }
  },
  {
   "cell_type": "code",
   "execution_count": null,
   "outputs": [],
   "source": [
    "entities_not_embedded = set([item for items in entity_adj for item in items]).difference(set(entity2id_dict.values()))\n",
    "entity2id_dict_not_embedded = id_to_entity_jobs(config, entities_not_embedded)\n",
    "entity2embedding_dict, entity_embedding, relation_embedding = construct_embedding_jobs(config, entity2id_dict_not_embedded, entity_embedding, entity2embedding_dict)\n",
    "\n",
    "# Add the new entities to the dictionary\n",
    "entity2id_dict.update(entity2id_dict_not_embedded)\n",
    "# Invert the dictionary\n",
    "id2entity_dict = {v: k for k, v in entity2id_dict.items()}"
   ],
   "metadata": {
    "collapsed": false
   }
  },
  {
   "cell_type": "code",
   "execution_count": null,
   "outputs": [],
   "source": [
    "for i in range(1, len(entity_adj)):\n",
    "    for j in range(0, len(entity_adj[i])):\n",
    "        entity_adj[i][j] = entity2embedding_dict[id2entity_dict[entity_adj[i][j]]]\n",
    "entity_embedding = torch.FloatTensor(np.array(entity_embedding))\n",
    "relation_embedding = torch.FloatTensor(np.array(relation_embedding))"
   ],
   "metadata": {
    "collapsed": false
   }
  },
  {
   "cell_type": "code",
   "execution_count": null,
   "outputs": [],
   "source": [
    "embedding_folder=None\n",
    "news_feature, max_entity_freq, max_entity_pos, max_entity_type = build_news_features_mind_jobs(config, entity2embedding_dict, embedding_folder)\n",
    "\n",
    "# Load the user history\n",
    "user_history = build_user_history_jobs(config) #manca train_behaviour"
   ],
   "metadata": {
    "collapsed": false
   }
  },
  {
   "cell_type": "code",
   "execution_count": null,
   "outputs": [],
   "source": [
    "train_data, dev_data = get_user2item_data(config)\n",
    "vert_train, vert_test = build_vert_data(config)\n",
    "pop_train, pop_test = build_pop_data(config)\n",
    "item2item_train, item2item_test = build_item2item_data(config)#manca train_behaviour"
   ],
   "metadata": {
    "collapsed": false
   }
  },
  {
   "cell_type": "code",
   "execution_count": null,
   "outputs": [],
   "source": [
    "data_dict = {\n",
    "    'user_history' : user_history,\n",
    "    'entity_embedding' : entity_embedding,\n",
    "    'relation_embedding' : relation_embedding,\n",
    "    'entity_adj' : entity_adj,\n",
    "    'relation_adj' : relation_adj,\n",
    "    'news_feature': news_feature,\n",
    "    'max_entity_freq':max_entity_freq,\n",
    "    'max_entity_pos': max_entity_pos,\n",
    "    'max_entity_type':max_entity_type,\n",
    "    'train_data': train_data,\n",
    "    'dev_data':dev_data,\n",
    "    'vert_train': vert_train,\n",
    "    'vert_test' : vert_test,\n",
    "    'pop_train': pop_train,\n",
    "    'pop_test':pop_test,\n",
    "    'item2item_train': item2item_train,\n",
    "    'item2item_test': item2item_test\n",
    "}\n",
    "import gzip\n",
    "import pickle\n",
    "timestamp = int(time.time()*1000)\n",
    "def save_compressed_pickle(filename, obj):\n",
    "    with gzip.open(filename, 'wb') as f:\n",
    "        pickle.dump(obj, f)\n",
    "save_compressed_pickle(f'data_dict_jobs_{timestamp}.pkl', data_dict)"
   ],
   "metadata": {
    "collapsed": false
   }
  }
 ]
}
