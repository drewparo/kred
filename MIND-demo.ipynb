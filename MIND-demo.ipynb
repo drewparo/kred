{
 "cells": [
  {
   "cell_type": "code",
   "execution_count": 7,
   "outputs": [],
   "source": [
    "import os\n",
    "\n",
    "from utils.util import *\n",
    "from train_test import *"
   ],
   "metadata": {
    "collapsed": false
   }
  },
  {
   "cell_type": "code",
   "execution_count": 8,
   "outputs": [],
   "source": [
    "MIND_type = 'small'\n",
    "data_path = \"/datasets/\"\n",
    "\n",
    "train_news_file = os.path.join(data_path, 'mind_train', r'news.tsv')\n",
    "train_behaviors_file = os.path.join(data_path, 'mind_train', r'behaviors.tsv')\n",
    "valid_news_file = os.path.join(data_path, 'mind_val', r'news.tsv')\n",
    "valid_behaviors_file = os.path.join(data_path, 'mind_val', r'behaviors.tsv')\n",
    "knowledge_graph_file = os.path.join(data_path, 'mind_kg', r'wikidata-graph.tsv')\n",
    "entity_embedding_file = os.path.join(data_path, 'mind_kg', r'entity2vecd100.vec')\n",
    "relation_embedding_file = os.path.join(data_path, 'mind_kg', r'relation2vecd100.vec')\n",
    "\n",
    "mind_url, mind_train_dataset, mind_dev_dataset, _ = get_mind_data_set(MIND_type)\n"
   ],
   "metadata": {
    "collapsed": false
   }
  },
  {
   "cell_type": "code",
   "execution_count": 9,
   "outputs": [],
   "source": [
    "import argparse\n",
    "from parse_config import ConfigParser\n",
    "\n",
    "\n",
    "parser = argparse.ArgumentParser(description='KRED')\n",
    "\n",
    "parser.add_argument('-f')\n",
    "\n",
    "\n",
    "parser.add_argument('-c', '--config', default=\"./config.json\", type=str,\n",
    "                    help='config file path (default: None)')\n",
    "parser.add_argument('-r', '--resume', default=None, type=str,\n",
    "                    help='path to latest checkpoint (default: None)')\n",
    "parser.add_argument('-d', '--device', default=None, type=str,\n",
    "                    help='indices of GPUs to enable (default: all)')\n",
    "\n",
    "config = ConfigParser.from_args(parser)"
   ],
   "metadata": {
    "collapsed": false
   }
  },
  {
   "cell_type": "code",
   "execution_count": 10,
   "outputs": [
    {
     "ename": "OSError",
     "evalue": "[Errno 30] Read-only file system: '/datasets/mind_val/test_news.tsv'",
     "output_type": "error",
     "traceback": [
      "\u001B[0;31m---------------------------------------------------------------------------\u001B[0m",
      "\u001B[0;31mOSError\u001B[0m                                   Traceback (most recent call last)",
      "Input \u001B[0;32mIn [10]\u001B[0m, in \u001B[0;36m<cell line: 2>\u001B[0;34m()\u001B[0m\n\u001B[1;32m      1\u001B[0m \u001B[38;5;28;01mfrom\u001B[39;00m \u001B[38;5;21;01mutils\u001B[39;00m\u001B[38;5;21;01m.\u001B[39;00m\u001B[38;5;21;01mcleaner\u001B[39;00m \u001B[38;5;28;01mimport\u001B[39;00m \u001B[38;5;241m*\u001B[39m\n\u001B[0;32m----> 2\u001B[0m config \u001B[38;5;241m=\u001B[39m \u001B[43mcleaner\u001B[49m\u001B[43m(\u001B[49m\u001B[43mconfig\u001B[49m\u001B[43m)\u001B[49m\n",
      "File \u001B[0;32m/notebooks/utils/cleaner.py:47\u001B[0m, in \u001B[0;36mcleaner\u001B[0;34m(config)\u001B[0m\n\u001B[1;32m     45\u001B[0m     src_test \u001B[38;5;241m=\u001B[39m \u001B[38;5;124m'\u001B[39m\u001B[38;5;124mtmp/test_\u001B[39m\u001B[38;5;124m'\u001B[39m \u001B[38;5;241m+\u001B[39m config[\u001B[38;5;124m\"\u001B[39m\u001B[38;5;124mdata\u001B[39m\u001B[38;5;124m\"\u001B[39m][\u001B[38;5;124m\"\u001B[39m\u001B[38;5;124mvalid_news\u001B[39m\u001B[38;5;124m\"\u001B[39m]\u001B[38;5;241m.\u001B[39msplit(\u001B[38;5;124m'\u001B[39m\u001B[38;5;124m/\u001B[39m\u001B[38;5;124m'\u001B[39m)[\u001B[38;5;241m-\u001B[39m\u001B[38;5;241m1\u001B[39m]\n\u001B[1;32m     46\u001B[0m     dst_test \u001B[38;5;241m=\u001B[39m \u001B[38;5;124m'\u001B[39m\u001B[38;5;124m/\u001B[39m\u001B[38;5;124m'\u001B[39m\u001B[38;5;241m.\u001B[39mjoin(config[\u001B[38;5;124m\"\u001B[39m\u001B[38;5;124mdata\u001B[39m\u001B[38;5;124m\"\u001B[39m][\u001B[38;5;124m\"\u001B[39m\u001B[38;5;124mvalid_news\u001B[39m\u001B[38;5;124m\"\u001B[39m]\u001B[38;5;241m.\u001B[39msplit(\u001B[38;5;124m'\u001B[39m\u001B[38;5;124m/\u001B[39m\u001B[38;5;124m'\u001B[39m)[:\u001B[38;5;241m-\u001B[39m\u001B[38;5;241m1\u001B[39m]) \u001B[38;5;241m+\u001B[39m \u001B[38;5;124m'\u001B[39m\u001B[38;5;124m/\u001B[39m\u001B[38;5;124m'\u001B[39m\n\u001B[0;32m---> 47\u001B[0m     \u001B[43mshutil\u001B[49m\u001B[38;5;241;43m.\u001B[39;49m\u001B[43mcopy\u001B[49m\u001B[43m(\u001B[49m\u001B[43msrc_test\u001B[49m\u001B[43m,\u001B[49m\u001B[43m \u001B[49m\u001B[43mdst_test\u001B[49m\u001B[43m)\u001B[49m\n\u001B[1;32m     48\u001B[0m \u001B[38;5;28;01mif\u001B[39;00m change_in_train:\n\u001B[1;32m     49\u001B[0m     src_train \u001B[38;5;241m=\u001B[39m \u001B[38;5;124m'\u001B[39m\u001B[38;5;124mtmp/train_\u001B[39m\u001B[38;5;124m'\u001B[39m \u001B[38;5;241m+\u001B[39m config[\u001B[38;5;124m\"\u001B[39m\u001B[38;5;124mdata\u001B[39m\u001B[38;5;124m\"\u001B[39m][\u001B[38;5;124m\"\u001B[39m\u001B[38;5;124mtrain_news\u001B[39m\u001B[38;5;124m\"\u001B[39m]\u001B[38;5;241m.\u001B[39msplit(\u001B[38;5;124m'\u001B[39m\u001B[38;5;124m/\u001B[39m\u001B[38;5;124m'\u001B[39m)[\u001B[38;5;241m-\u001B[39m\u001B[38;5;241m1\u001B[39m]\n",
      "File \u001B[0;32m/usr/lib/python3.9/shutil.py:427\u001B[0m, in \u001B[0;36mcopy\u001B[0;34m(src, dst, follow_symlinks)\u001B[0m\n\u001B[1;32m    425\u001B[0m \u001B[38;5;28;01mif\u001B[39;00m os\u001B[38;5;241m.\u001B[39mpath\u001B[38;5;241m.\u001B[39misdir(dst):\n\u001B[1;32m    426\u001B[0m     dst \u001B[38;5;241m=\u001B[39m os\u001B[38;5;241m.\u001B[39mpath\u001B[38;5;241m.\u001B[39mjoin(dst, os\u001B[38;5;241m.\u001B[39mpath\u001B[38;5;241m.\u001B[39mbasename(src))\n\u001B[0;32m--> 427\u001B[0m \u001B[43mcopyfile\u001B[49m\u001B[43m(\u001B[49m\u001B[43msrc\u001B[49m\u001B[43m,\u001B[49m\u001B[43m \u001B[49m\u001B[43mdst\u001B[49m\u001B[43m,\u001B[49m\u001B[43m \u001B[49m\u001B[43mfollow_symlinks\u001B[49m\u001B[38;5;241;43m=\u001B[39;49m\u001B[43mfollow_symlinks\u001B[49m\u001B[43m)\u001B[49m\n\u001B[1;32m    428\u001B[0m copymode(src, dst, follow_symlinks\u001B[38;5;241m=\u001B[39mfollow_symlinks)\n\u001B[1;32m    429\u001B[0m \u001B[38;5;28;01mreturn\u001B[39;00m dst\n",
      "File \u001B[0;32m/usr/lib/python3.9/shutil.py:266\u001B[0m, in \u001B[0;36mcopyfile\u001B[0;34m(src, dst, follow_symlinks)\u001B[0m\n\u001B[1;32m    264\u001B[0m \u001B[38;5;28;01mwith\u001B[39;00m \u001B[38;5;28mopen\u001B[39m(src, \u001B[38;5;124m'\u001B[39m\u001B[38;5;124mrb\u001B[39m\u001B[38;5;124m'\u001B[39m) \u001B[38;5;28;01mas\u001B[39;00m fsrc:\n\u001B[1;32m    265\u001B[0m     \u001B[38;5;28;01mtry\u001B[39;00m:\n\u001B[0;32m--> 266\u001B[0m         \u001B[38;5;28;01mwith\u001B[39;00m \u001B[38;5;28;43mopen\u001B[39;49m\u001B[43m(\u001B[49m\u001B[43mdst\u001B[49m\u001B[43m,\u001B[49m\u001B[43m \u001B[49m\u001B[38;5;124;43m'\u001B[39;49m\u001B[38;5;124;43mwb\u001B[39;49m\u001B[38;5;124;43m'\u001B[39;49m\u001B[43m)\u001B[49m \u001B[38;5;28;01mas\u001B[39;00m fdst:\n\u001B[1;32m    267\u001B[0m             \u001B[38;5;66;03m# macOS\u001B[39;00m\n\u001B[1;32m    268\u001B[0m             \u001B[38;5;28;01mif\u001B[39;00m _HAS_FCOPYFILE:\n\u001B[1;32m    269\u001B[0m                 \u001B[38;5;28;01mtry\u001B[39;00m:\n",
      "\u001B[0;31mOSError\u001B[0m: [Errno 30] Read-only file system: '/datasets/mind_val/test_news.tsv'"
     ]
    }
   ],
   "source": [
    "from utils.cleaner import *\n",
    "config = cleaner(config)"
   ],
   "metadata": {
    "collapsed": false
   }
  },
  {
   "cell_type": "code",
   "execution_count": 4,
   "outputs": [],
   "source": [
    "entity2id_dict = entity_to_id(config, entities_news(config))"
   ],
   "metadata": {
    "collapsed": false
   }
  },
  {
   "cell_type": "code",
   "execution_count": 5,
   "outputs": [],
   "source": [
    "entity_embedding = []"
   ],
   "metadata": {
    "collapsed": false
   }
  },
  {
   "cell_type": "code",
   "execution_count": 6,
   "outputs": [],
   "source": [
    "entity_embedding.append(np.zeros(config['model']['entity_embedding_dim']))"
   ],
   "metadata": {
    "collapsed": false
   }
  },
  {
   "cell_type": "code",
   "execution_count": 4,
   "outputs": [],
   "source": [
    "def construct_embedding_mind(config, entity2id_dict, entity_embedding, entity2embedding_dict):\n",
    "    print('constructing embedding ...')\n",
    "    relation_embedding = []\n",
    "    zero_array = np.zeros(config['model']['entity_embedding_dim'])\n",
    "    relation_embedding.append(zero_array)\n",
    "    id2entity_dict = {v: k for k, v in entity2id_dict.items()}\n",
    "    with open(config['data']['entity_embedding'], 'r', encoding='utf-8') as fp_entity_embedding:\n",
    "        i = 1\n",
    "        for line in fp_entity_embedding:\n",
    "            if i in id2entity_dict:\n",
    "              linesplit = line.strip().split('\\t')\n",
    "              linesplit = [float(i) for i in linesplit]\n",
    "              entity2embedding_dict[id2entity_dict[i]] = len(entity_embedding)\n",
    "              entity_embedding.append(linesplit)\n",
    "            i += 1\n",
    "    with open(config['data']['relation_embedding'], 'r', encoding='utf-8') as fp_relation_embedding:\n",
    "        for line in fp_relation_embedding:\n",
    "            linesplit = line.strip().split('\\t')\n",
    "            linesplit = [float(i) for i in linesplit]\n",
    "            relation_embedding.append(linesplit)\n",
    "    return entity2embedding_dict, entity_embedding, relation_embedding"
   ],
   "metadata": {
    "collapsed": false
   }
  },
  {
   "cell_type": "code",
   "execution_count": 11,
   "outputs": [
    {
     "name": "stdout",
     "output_type": "stream",
     "text": [
      "constructing embedding ...\n"
     ]
    }
   ],
   "source": [
    "entity2embedding_dict = {}\n",
    "entity2embedding_dict, entity_embedding, relation_embedding = construct_embedding_mind(config, entity2id_dict, entity_embedding, entity2embedding_dict)\n"
   ],
   "metadata": {
    "collapsed": false
   }
  },
  {
   "cell_type": "code",
   "execution_count": 12,
   "outputs": [
    {
     "ename": "TypeError",
     "evalue": "construct_adj_mind() takes 1 positional argument but 3 were given",
     "output_type": "error",
     "traceback": [
      "\u001B[0;31m---------------------------------------------------------------------------\u001B[0m",
      "\u001B[0;31mTypeError\u001B[0m                                 Traceback (most recent call last)",
      "Input \u001B[0;32mIn [12]\u001B[0m, in \u001B[0;36m<cell line: 1>\u001B[0;34m()\u001B[0m\n\u001B[0;32m----> 1\u001B[0m entity_adj, relation_adj \u001B[38;5;241m=\u001B[39m \u001B[43mconstruct_adj_mind\u001B[49m\u001B[43m(\u001B[49m\u001B[43mconfig\u001B[49m\u001B[43m,\u001B[49m\u001B[43m \u001B[49m\u001B[43mentity2id_dict\u001B[49m\u001B[43m,\u001B[49m\u001B[43m \u001B[49m\u001B[43mentity2embedding_dict\u001B[49m\u001B[43m)\u001B[49m\n",
      "\u001B[0;31mTypeError\u001B[0m: construct_adj_mind() takes 1 positional argument but 3 were given"
     ]
    }
   ],
   "source": [
    "entity_adj, relation_adj = construct_adj_mind(config, entity2id_dict, entity2embedding_dict)"
   ],
   "metadata": {
    "collapsed": false
   }
  },
  {
   "cell_type": "code",
   "execution_count": 26,
   "outputs": [
    {
     "data": {
      "text/plain": "'news.tsv'"
     },
     "execution_count": 26,
     "metadata": {},
     "output_type": "execute_result"
    }
   ],
   "source": [
    "config[\"data\"][\"train_news\"].split('/')[-1]"
   ],
   "metadata": {
    "collapsed": false
   }
  },
  {
   "cell_type": "code",
   "execution_count": 1,
   "outputs": [],
   "source": [
    "from utils.util import entity_to_id"
   ],
   "metadata": {
    "collapsed": false
   }
  },
  {
   "cell_type": "code",
   "execution_count": 8,
   "outputs": [],
   "source": [
    "entity2id_dict = entity_to_id(config, entities_news(config))"
   ],
   "metadata": {
    "collapsed": false
   }
  },
  {
   "cell_type": "code",
   "execution_count": 9,
   "outputs": [
    {
     "data": {
      "text/plain": "{'Q34433': 8,\n 'Q41': 9,\n 'Q1860': 17,\n 'Q30': 21,\n 'Q60': 23,\n 'Q847017': 31,\n 'Q183': 32,\n 'Q2736': 33,\n 'Q131524': 48,\n 'Q12788174': 50,\n 'Q142': 51,\n 'Q298': 58,\n 'Q2887': 62,\n 'Q1321': 63,\n 'Q155': 66,\n 'Q15180': 77,\n 'Q408': 81,\n 'Q38': 95,\n 'Q29': 104,\n 'Q2807': 105,\n 'Q336286': 113,\n 'Q1362411': 116,\n 'Q37226': 122,\n 'Q213': 124,\n 'Q90': 142,\n 'Q11424': 145,\n 'Q25089': 146,\n 'Q19877770': 147,\n 'Q160432': 148,\n 'Q83287': 154,\n 'Q1384': 162,\n 'Q2256': 171,\n 'Q145': 172,\n 'Q62': 186,\n 'Q5083': 187,\n 'Q1085': 190,\n 'Q175621': 197,\n 'Q174': 231,\n 'Q128581': 233,\n 'Q337585': 234,\n 'Q33': 238,\n 'Q193592': 239,\n 'Q9617': 249,\n 'Q9592': 261,\n 'Q611644': 262,\n 'Q250867': 264,\n 'Q31': 292,\n 'Q924': 302,\n 'Q641': 308,\n 'Q490': 311,\n 'Q12152': 323,\n 'Q1461': 324,\n 'Q928': 326,\n 'Q275482': 332,\n 'Q1781': 337,\n 'Q797': 345,\n 'Q860626': 361,\n 'Q1146335': 362,\n 'Q126399': 368,\n 'Q639669': 384,\n 'Q131578': 388,\n 'Q85': 390,\n 'Q79': 395,\n 'Q282722': 401,\n 'Q467': 411,\n 'Q202466': 412,\n 'Q144': 413,\n 'Q1420': 416,\n 'Q8074': 433,\n 'Q43801': 435,\n 'Q20': 464,\n 'Q280658': 469,\n 'Q1166': 477,\n 'Q237': 489,\n 'Q96': 500,\n 'Q134556': 513,\n 'Q4967196': 530,\n 'Q9212': 531,\n 'Q1037': 546,\n 'Q159': 551,\n 'Q203059': 555,\n 'Q12439': 564,\n 'Q49088': 565,\n 'Q174710': 567,\n 'Q113603': 576,\n 'Q16': 581,\n 'Q839078': 582,\n 'Q8646': 585,\n 'Q40348': 597,\n 'Q55': 602,\n 'Q226730': 604,\n 'Q7889': 620,\n 'Q220': 637,\n 'Q4948': 639,\n 'Q727': 644,\n 'Q12135': 650,\n 'Q361': 654,\n 'Q5933': 655,\n 'Q692417': 658,\n 'Q650840': 659,\n 'Q11218': 661,\n 'Q506439': 662,\n 'Q356487': 663,\n 'Q1048902': 666,\n 'Q5369': 667,\n 'Q39': 676,\n 'Q1204': 696,\n 'Q36': 700,\n 'Q27': 706,\n 'Q2599': 716,\n 'Q11399': 718,\n 'Q99': 722,\n 'Q1891': 726,\n 'Q8134': 737,\n 'Q212': 740,\n 'Q16335075': 741,\n 'Q1899': 747,\n 'Q115': 756,\n 'Q9687': 758,\n 'Q43': 760,\n 'Q21': 776,\n 'Q2526255': 780,\n 'Q3282637': 782,\n 'Q1731': 787,\n 'Q184': 789,\n 'Q202440': 803,\n 'Q7026': 822,\n 'Q414': 836,\n 'Q18013': 849,\n 'Q130232': 886,\n 'Q902': 901,\n 'Q64': 920,\n 'Q668': 936,\n 'Q432': 938,\n 'Q497788': 941,\n 'Q846409': 945,\n 'Q222': 959,\n 'Q19509': 966,\n 'Q259776': 972,\n 'Q727096': 983,\n 'Q34': 993,\n 'Q83270': 997,\n 'Q7430': 1003,\n 'Q1524': 1030,\n 'Q6895044': 1054,\n 'Q1406': 1057,\n 'Q48493': 1059,\n 'Q41323': 1069,\n 'Q5287': 1073,\n 'Q188273': 1081,\n 'Q202585': 1086,\n 'Q850412': 1088,\n 'Q211696': 1092,\n 'Q2981': 1098,\n 'Q15620295': 1104,\n 'Q38283': 1111,\n 'Q2096': 1123,\n 'Q41466': 1126,\n 'Q8749': 1162,\n 'Q365': 1201,\n 'Q8686': 1208,\n 'Q217439': 1210,\n 'Q168756': 1211,\n 'Q148': 1212,\n 'Q1020': 1218,\n 'Q132020': 1240,\n 'Q122741': 1242,\n 'Q35': 1250,\n 'Q219': 1256,\n 'Q967165': 1270,\n 'Q12206': 1289,\n 'Q472': 1297,\n 'Q1393123': 1304,\n 'Q1492': 1321,\n 'Q571': 1326,\n 'Q11401': 1333,\n 'Q132821': 1343,\n 'Q16552': 1351,\n 'Q65': 1352,\n 'Q1886': 1360,\n 'Q3141': 1368,\n 'Q801': 1421,\n 'Q656': 1437,\n 'Q854': 1444,\n 'Q42309957': 1462,\n 'Q1251563': 1465,\n 'Q1563': 1474,\n 'Q552959': 1487,\n 'Q17884': 1503,\n 'Q499451': 1507,\n 'Q49112': 1508,\n 'Q1087213': 1510,\n 'Q956': 1532,\n 'Q485408': 1536,\n 'Q2086913': 1537,\n 'Q40': 1543,\n 'Q506240': 1554,\n 'Q1366112': 1563,\n 'Q241': 1573,\n 'Q1198553': 1574,\n 'Q195849': 1575,\n 'Q649': 1578,\n 'Q11032': 1584,\n 'Q10686': 1596,\n 'Q1527': 1611,\n 'Q18711': 1622,\n 'Q19467': 1624,\n 'Q374740': 1631,\n 'Q2844': 1657,\n 'Q9626': 1660,\n 'Q84': 1665,\n 'Q172': 1669,\n 'Q1045': 1670,\n 'Q28848': 1673,\n 'Q159846': 1687,\n 'Q232902': 1692,\n 'Q884': 1708,\n 'Q49110': 1715,\n 'Q838330': 1726,\n 'Q1261': 1745,\n 'Q1734': 1757,\n 'Q16567': 1813,\n 'Q861548': 1815,\n 'Q501758': 1816,\n 'Q192334': 1818,\n 'Q434841': 1867,\n 'Q23633': 1899,\n 'Q1286': 1900,\n 'Q168383': 1973,\n 'Q842256': 1987,\n 'Q1904': 2016,\n 'Q717': 2083,\n 'Q733': 2085,\n 'Q503321': 2091,\n 'Q1726': 2134,\n 'Q794': 2137,\n 'Q149086': 2263,\n 'Q172742': 2276,\n 'Q947873': 2290,\n 'Q218': 2307,\n 'Q428661': 2328,\n 'Q362': 2330,\n 'Q596643': 2335,\n 'Q14475832': 2336,\n 'Q2277': 2377,\n 'Q1218': 2380,\n 'Q1354': 2393,\n 'Q340': 2397,\n 'Q1028': 2417,\n 'Q31920': 2431,\n 'Q2634': 2443,\n 'Q45772': 2532,\n 'Q299483': 2547,\n 'Q41583': 2623,\n 'Q12078': 2630,\n 'Q188874': 2631,\n 'Q100': 2654,\n 'Q1060288': 2655,\n 'Q29468': 2658,\n 'Q9259': 2683,\n 'Q1033': 2704,\n 'Q18424': 2707,\n 'Q8613': 2711,\n 'Q5043': 2721,\n 'Q970153': 2734,\n 'Q24639': 2735,\n 'Q191': 2747,\n 'Q49085': 2769,\n 'Q94': 2799,\n 'Q2924461': 2805,\n 'Q732858': 2807,\n 'Q2695156': 2817,\n 'Q633': 2832,\n 'Q804': 2835,\n 'Q406': 2838,\n 'Q2135': 2841,\n 'Q574192': 2842,\n 'Q1132346': 2846,\n 'Q160009': 2853,\n 'Q515869': 2854,\n 'Q200092': 2858,\n 'Q27020041': 2920,\n 'Q37': 2927,\n 'Q193639': 2939,\n 'Q25391': 2951,\n 'Q1494': 2981,\n 'Q12892': 3040,\n 'Q29552': 3046,\n 'Q788': 3076,\n 'Q232': 3093,\n 'Q217': 3094,\n 'Q109607': 3115,\n 'Q238101': 3119,\n 'Q36091': 3121,\n 'Q796': 3131,\n 'Q3609': 3134,\n 'Q49140': 3179,\n 'Q138089': 3219,\n 'Q1049': 3222,\n 'Q22': 3231,\n 'Q13371': 3239,\n 'Q11220': 3243,\n 'Q38022': 3245,\n 'Q283': 3263,\n 'Q20165': 3272,\n 'Q601401': 3273,\n 'Q18674739': 3279,\n 'Q403': 3291,\n 'Q258': 3299,\n 'Q8068': 3305,\n 'Q1371': 3306,\n 'Q5137571': 3354,\n 'Q313388': 3356,\n 'Q5386': 3363,\n 'Q16556': 3376,\n 'Q18419': 3379,\n 'Q17042': 3390,\n 'Q41254': 3393,\n 'Q207735': 3395,\n 'Q27580': 3398,\n 'Q1215892': 3399,\n 'Q640652': 3403,\n 'Q670897': 3404,\n 'Q813867': 3405,\n 'Q1439': 3412,\n 'Q51689': 3413,\n 'Q948442': 3421,\n 'Q180942': 3425,\n 'Q23240': 3431,\n 'Q28': 3440,\n 'Q385378': 3447,\n 'Q45': 3451,\n 'Q190067': 3471,\n 'Q1415395': 3504,\n 'Q1568': 3530,\n 'Q24806845': 3531,\n 'Q2429253': 3533,\n 'Q207784': 3549,\n 'Q16011703': 3564,\n 'Q1342': 3568,\n 'Q240547': 3570,\n 'Q83440': 3578,\n 'Q750': 3580,\n 'Q214': 3731,\n 'Q422917': 3781,\n 'Q1142327': 3786,\n 'Q34266': 3797,\n 'Q1543': 3808,\n 'Q664': 3819,\n 'Q813': 3827,\n 'Q3037': 3843,\n 'Q837': 3844,\n 'Q5092': 3846,\n 'Q11224': 3847,\n 'Q624232': 3848,\n 'Q44725': 3852,\n 'Q219563': 3855,\n 'Q397': 3872,\n 'Q5705': 3918,\n 'Q179': 3926,\n 'Q6475': 3934,\n 'Q6387': 3936,\n 'Q212128': 3997,\n 'Q626440': 4018,\n 'Q462': 4038,\n 'Q269949': 4041,\n 'Q739': 4044,\n 'Q1320403': 4065,\n 'Q20979382': 4073,\n 'Q642878': 4085,\n 'Q18426': 4087,\n 'Q131252': 4098,\n 'Q61': 4099,\n 'Q174224': 4102,\n 'Q903354': 4117,\n 'Q843': 4123,\n 'Q8436': 4161,\n 'Q240255': 4172,\n 'Q1974': 4179,\n 'Q954': 4182,\n 'Q28271': 4184,\n 'Q55801': 4202,\n 'Q37100': 4203,\n 'Q20981537': 4205,\n 'Q34640': 4213,\n 'Q165862': 4217,\n 'Q492318': 4219,\n 'Q127856': 4253,\n 'Q34404': 4266,\n 'Q1588': 4267,\n 'Q75809': 4268,\n 'Q25287': 4281,\n 'Q34316': 4288,\n 'Q7283': 4305,\n 'Q1761': 4321,\n 'Q181642': 4399,\n 'Q1279564': 4433,\n 'Q744038': 4450,\n 'Q5014725': 4452,\n 'Q19610114': 4454,\n 'Q35715': 4474,\n 'Q5112': 4494,\n 'Q129286': 4514,\n 'Q186471': 4520,\n 'Q114466': 4521,\n 'Q16957': 4530,\n 'Q31519': 4553,\n 'Q49117': 4571,\n 'Q869': 4578,\n 'Q1861': 4579,\n 'Q724': 4594,\n 'Q128133': 4658,\n 'Q18534249': 4663,\n 'Q238593': 4686,\n 'Q689874': 4687,\n 'Q642291': 4688,\n 'Q18543': 4693,\n 'Q36074': 4695,\n 'Q3957': 4697,\n 'Q773432': 4712,\n 'Q1650454': 4717,\n 'Q2468638': 4720,\n 'Q2811': 4723,\n 'Q138367': 4724,\n 'Q35332': 4730,\n 'Q287149': 4770,\n 'Q3224': 4822,\n 'Q309331': 4838,\n 'Q579968': 4840,\n 'Q33881': 4847,\n 'Q2469156': 4853,\n 'Q178095': 4854,\n 'Q483203': 4858,\n 'Q187760': 4859,\n 'Q224': 4863,\n 'Q49191': 4867,\n 'Q46970': 4873,\n 'Q1297': 4880,\n 'Q9219': 4881,\n 'Q309350': 4882,\n 'Q16558': 4889,\n 'Q1624706': 4891,\n 'Q138391': 4894,\n 'Q48': 4907,\n 'Q1754': 4915,\n 'Q207615': 4935,\n 'Q184425': 4945,\n 'Q782': 4946,\n 'Q685': 4949,\n 'Q47716': 4955,\n 'Q1509': 4959,\n 'Q328473': 4970,\n 'Q13974': 4972,\n 'Q506198': 4993,\n 'Q12560': 5005,\n 'Q8682': 5014,\n 'Q1156': 5016,\n 'Q1741': 5019,\n 'Q181257': 5031,\n 'Q1101443': 5086,\n 'Q222595': 5122,\n 'Q1537': 5128,\n 'Q2641': 5141,\n 'Q18125': 5179,\n 'Q399': 5196,\n 'Q786': 5240,\n 'Q124': 5246,\n 'Q1130849': 5256,\n 'Q9448': 5259,\n 'Q1154710': 5261,\n 'Q11812': 5284,\n 'Q1345': 5288,\n 'Q9288': 5309,\n 'Q7414': 5330,\n 'Q11460': 5416,\n 'Q55641': 5419,\n 'Q692': 5430,\n 'Q108503': 5441,\n 'Q484876': 5452,\n 'Q23436': 5472,\n 'Q79820': 5491,\n 'Q800': 5499,\n 'Q308683': 5506,\n 'Q19660': 5518,\n 'Q495': 5519,\n 'Q47912': 5528,\n 'Q7318': 5537,\n 'Q2472136': 5546,\n 'Q74686': 5547,\n 'Q334': 5569,\n 'Q212413': 5574,\n 'Q189': 5576,\n 'Q10708': 5611,\n 'Q193023': 5613,\n 'Q40357': 5633,\n 'Q24809702': 5638,\n 'Q671458': 5639,\n 'Q622747': 5640,\n 'Q6689457': 5641,\n 'Q276539': 5642,\n 'Q1317143': 5644,\n 'Q1035067': 5645,\n 'Q184587': 5654,\n 'Q835831': 5657,\n 'Q878': 5670,\n 'Q17125263': 5682,\n 'Q166105': 5689,\n 'Q328790': 5714,\n 'Q439939': 5720,\n 'Q886': 5730,\n 'Q166419': 5734,\n 'Q12483': 5739,\n 'Q7346': 5765,\n 'Q154510': 5768,\n 'Q40949': 5779,\n 'Q4525': 5785,\n 'Q43380': 5787,\n 'Q836': 5813,\n 'Q907311': 5832,\n 'Q678': 5863,\n 'Q1052281': 5892,\n 'Q132241': 5931,\n 'Q82595': 5967,\n 'Q953': 5970,\n 'Q8683': 5975,\n 'Q486306': 6116,\n 'Q189490': 6135,\n 'Q62975': 6137,\n 'Q531599': 6141,\n 'Q387047': 6212,\n 'Q744089': 6236,\n 'Q1533': 6284,\n 'Q816': 6313,\n 'Q391984': 6319,\n 'Q15799': 6404,\n 'Q189746': 6414,\n 'Q2868': 6484,\n 'Q419': 6485,\n 'Q739627': 6495,\n 'Q1489': 6498,\n 'Q515': 6520,\n 'Q41183': 6549,\n 'Q3930216': 6577,\n 'Q101352': 6606,\n 'Q11299': 6609,\n 'Q865': 6617,\n 'Q8277': 6622,\n 'Q11085': 6627,\n 'Q218842': 6628,\n 'Q1061104': 6653,\n 'Q8676': 6660,\n 'Q308439': 6662,\n 'Q3025883': 6701,\n 'Q124407': 6702,\n 'Q941023': 6713,\n 'Q133073': 6720,\n 'Q1185955': 6746,\n 'Q2407584': 6748,\n 'Q219067': 6757,\n 'Q1130172': 6758,\n 'Q157661': 6767,\n 'Q114': 6780,\n 'Q1036': 6781,\n 'Q2550304': 6789,\n 'Q320476': 6790,\n 'Q216820': 6791,\n 'Q963': 6811,\n 'Q460173': 6829,\n 'Q246': 6830,\n 'Q23317': 6831,\n 'Q131123': 6844,\n 'Q774': 6870,\n 'Q199804': 6873,\n 'Q948': 6876,\n 'Q10566551': 6926,\n 'Q126412': 6955,\n 'Q43196': 6960,\n 'Q16059622': 6995,\n 'Q507154': 7001,\n 'Q1183': 7002,\n 'Q131132': 7007,\n 'Q8717': 7033,\n 'Q79797': 7046,\n 'Q131491': 7071,\n 'Q11081': 7083,\n 'Q833': 7114,\n 'Q2095': 7175,\n 'Q5419': 7180,\n 'Q192775': 7215,\n 'Q49210': 7244,\n 'Q23482': 7296,\n 'Q189138': 7301,\n 'Q849823': 7304,\n 'Q56074': 7306,\n 'Q495304': 7363,\n 'Q216364': 7365,\n 'Q188642': 7391,\n 'Q8093': 7394,\n 'Q962499': 7404,\n 'Q207': 7426,\n 'Q49225': 7429,\n 'Q327591': 7436,\n 'Q42267': 7486,\n 'Q49242': 7499,\n 'Q7341': 7511,\n 'Q1041': 7530,\n 'Q49213': 7542,\n 'Q29052': 7584,\n 'Q1521725': 7602,\n 'Q270389': 7604,\n 'Q26807': 7614,\n 'Q1391': 7625,\n 'Q585': 7656,\n 'Q1009': 7661,\n 'Q918224': 7672,\n 'Q3528311': 7673,\n 'Q183344': 7688,\n 'Q12136': 7717,\n 'Q984155': 7720,\n 'Q221150': 7722,\n 'Q766': 7725,\n 'Q23635': 7731,\n 'Q815819': 7747,\n 'Q822': 7785,\n 'Q10916362': 7794,\n 'Q15787': 7805,\n 'Q2480424': 7826,\n 'Q327022': 7827,\n 'Q270222': 7852,\n 'Q6837710': 7853,\n 'Q320484': 7854,\n 'Q51787': 7903,\n 'Q1325591': 7911,\n 'Q7733': 7913,\n 'Q1456': 7931,\n 'Q864106': 7934,\n 'Q186969': 7993,\n 'Q1215575': 7995,\n 'Q1997': 8039,\n 'Q158205': 8056,\n 'Q273199': 8113,\n 'Q490595': 8117,\n 'Q6736665': 8118,\n 'Q12070759': 8120,\n 'Q1460420': 8124,\n 'Q2840': 8126,\n 'Q828': 8134,\n 'Q848103': 8137,\n 'Q1143358': 8138,\n 'Q11995': 8149,\n 'Q1525831': 8229,\n 'Q214940': 8257,\n 'Q1188369': 8294,\n 'Q812': 8328,\n 'Q28564': 8360,\n 'Q15568': 8374,\n 'Q48954': 8416,\n 'Q34600': 8459,\n 'Q955764': 8573,\n 'Q1190812': 8583,\n 'Q41506': 8594,\n 'Q333886': 8622,\n 'Q8458': 8650,\n 'Q16917': 8662,\n 'Q810998': 8663,\n 'Q252': 8707,\n 'Q161790': 8712,\n 'Q738258': 8716,\n 'Q41861': 8745,\n 'Q708492': 8792,\n 'Q23548': 8809,\n 'Q52413': 8810,\n 'Q851': 8894,\n 'Q212646': 8895,\n 'Q95': 8906,\n 'Q590643': 8907,\n 'Q235034': 8963,\n 'Q2261792': 9035,\n 'Q824': 9076,\n 'Q965': 9090,\n 'Q2751': 9095,\n 'Q7561': 9131,\n 'Q169950': 9134,\n 'Q503415': 9149,\n 'Q939416': 9208,\n 'Q1227': 9213,\n 'Q2483011': 9224,\n 'Q108745': 9228,\n 'Q29250': 9231,\n 'Q105221': 9232,\n 'Q498163': 9246,\n 'Q44437': 9261,\n 'Q4628': 9268,\n 'Q11660': 9282,\n 'Q9678': 9286,\n 'Q51482': 9291,\n 'Q38903': 9321,\n 'Q771': 9414,\n 'Q2483996': 9421,\n 'Q16559': 9427,\n 'Q9682': 9496,\n 'Q165745': 9499,\n 'Q5086153': 9513,\n 'Q188449': 9524,\n 'Q4412': 9529,\n 'Q3315550': 9542,\n 'Q490423': 9544,\n 'Q985268': 9549,\n 'Q491148': 9602,\n 'Q29364': 9644,\n 'Q186437': 9650,\n 'Q1706893': 9659,\n 'Q80011': 9665,\n 'Q163740': 9720,\n 'Q3556413': 9727,\n 'Q16554': 9731,\n 'Q21015832': 9732,\n 'Q846': 9733,\n 'Q648501': 9739,\n 'Q214700': 9740,\n 'Q918': 9745,\n 'Q5557977': 9759,\n 'Q1581': 9761,\n 'Q736674': 9767,\n 'Q104994': 9807,\n 'Q23197': 9815,\n 'Q18325436': 9819,\n 'Q617433': 9825,\n 'Q1454': 9844,\n 'Q23556': 9847,\n 'Q621043': 9848,\n 'Q457281': 9877,\n 'Q189489': 9889,\n 'Q165219': 9893,\n 'Q23894967': 9896,\n 'Q804409': 9920,\n 'Q24665': 9921,\n 'Q976396': 9923,\n 'Q230492': 9978,\n 'Q911830': 9979,\n 'Q126793': 9987,\n 'Q778': 10020,\n 'Q493518': 10042,\n 'Q83813': 10075,\n 'Q932981': 10086,\n 'Q49236': 10149,\n 'Q57055': 10175,\n 'Q97': 10252,\n 'Q213665': 10294,\n 'Q49115': 10303,\n 'Q39561': 10340,\n 'Q1370': 10357,\n 'Q318165': 10392,\n 'Q33959': 10410,\n 'Q7325': 10460,\n 'Q500816': 10463,\n 'Q160120': 10482,\n 'Q3438398': 10646,\n 'Q302': 10694,\n 'Q191924': 10723,\n 'Q11637': 10748,\n 'Q213439': 10804,\n 'Q56152': 10818,\n 'Q838966': 10838,\n 'Q817': 10867,\n 'Q131694': 10903,\n 'Q165005': 10954,\n 'Q44687': 10964,\n 'Q108117': 11004,\n 'Q49241': 11019,\n 'Q810': 11030,\n 'Q46': 11036,\n 'Q49108': 11151,\n 'Q18383': 11168,\n 'Q1088113': 11176,\n 'Q49200': 11189,\n 'Q502435': 11213,\n 'Q49229': 11216,\n 'Q23768': 11237,\n 'Q1299': 11241,\n 'Q16739': 11243,\n 'Q4955209': 11277,\n 'Q1397': 11279,\n 'Q168426': 11302,\n 'Q219712': 11308,\n 'Q863259': 11328,\n 'Q5618454': 11329,\n 'Q808': 11357,\n 'Q486': 11378,\n 'Q44806': 11411,\n 'Q10225': 11415,\n 'Q11451': 11426,\n 'Q372454': 11456,\n 'Q4614': 11457,\n 'Q5577': 11462,\n 'Q334526': 11478,\n 'Q260725': 11481,\n 'Q233510': 11483,\n 'Q189603': 11498,\n 'Q1814435': 11502,\n 'Q37836': 11526,\n 'Q131062': 11564,\n 'Q3130': 11573,\n 'Q403310': 11618,\n 'Q26887': 11638,\n 'Q1529158': 11647,\n 'Q271796': 11691,\n 'Q842909': 11749,\n 'Q2493240': 11794,\n 'Q1138671': 11797,\n 'Q409596': 11803,\n 'Q37320': 11805,\n 'Q615196': 11815,\n 'Q1223': 11835,\n 'Q35765': 11875,\n 'Q26426': 11913,\n 'Q23337': 11969,\n 'Q51552': 11979,\n 'Q1788582': 11987,\n 'Q187939': 12059,\n 'Q164597': 12154,\n 'Q38245': 12168,\n 'Q2495353': 12189,\n 'Q476190': 12190,\n 'Q2495355': 12191,\n 'Q2495362': 12192,\n 'Q14713606': 12218,\n 'Q7240': 12230,\n 'Q612': 12249,\n 'Q43668': 12253,\n 'Q140686': 12267,\n 'Q49258': 12271,\n 'Q5547838': 12387,\n 'Q208447': 12418,\n 'Q430464': 12464,\n 'Q1773974': 12505,\n 'Q1255921': 12512,\n 'Q8639': 12548,\n 'Q153265': 12559,\n 'Q456': 12580,\n 'Q546976': 12613,\n 'Q1455': 12659,\n 'Q3183': 12662,\n 'Q204862': 12667,\n 'Q1408': 12725,\n 'Q498024': 12735,\n 'Q3616': 12766,\n 'Q224164': 12850,\n 'Q4918': 12876,\n 'Q49243': 12903,\n 'Q51': 12925,\n 'Q122020': 12926,\n 'Q858': 12984,\n 'Q1951': 12993,\n 'Q191715': 13002,\n 'Q28856068': 13093,\n 'Q15': 13094,\n 'Q1435': 13118,\n 'Q8740': 13141,\n 'Q424': 13142,\n 'Q211236': 13168,\n 'Q23154': 13169,\n 'Q513': 13174,\n 'Q12554': 13179,\n 'Q18432': 13244,\n 'Q1400': 13400,\n 'Q54264': 13402,\n 'Q16557': 13454,\n 'Q504309': 13457,\n 'Q388858': 13458,\n 'Q177456': 13465,\n 'Q15987267': 13483,\n 'Q853577': 13485,\n 'Q12125': 13498,\n 'Q966943': 13524,\n 'Q2502979': 13558,\n 'Q312746': 13567,\n 'Q1470027': 13568,\n 'Q49': 13569,\n 'Q7700070': 13587,\n 'Q1603': 13601,\n 'Q2195766': 13616,\n 'Q421974': 13620,\n 'Q47729': 13623,\n 'Q568743': 13670,\n 'Q3870': 13681,\n 'Q2503844': 13725,\n 'Q2503911': 13728,\n 'Q1056123': 13736,\n 'Q49542': 13743,\n 'Q463397': 13802,\n 'Q159334': 13831,\n 'Q12128': 13838,\n 'Q162954': 13955,\n 'Q161337': 13956,\n 'Q71': 13972,\n 'Q1530': 13981,\n 'Q3766': 13982,\n 'Q83317': 13984,\n 'Q6608367': 14000,\n 'Q1186': 14011,\n 'Q52472': 14091,\n 'Q829': 14221,\n 'Q238512': 14290,\n 'Q16551': 14322,\n 'Q220072': 14340,\n 'Q7934247': 14344,\n 'Q1124': 14355,\n 'Q341915': 14405,\n 'Q121998': 14418,\n 'Q37643': 14459,\n 'Q897614': 14461,\n 'Q180950': 14476,\n 'Q170558': 14477,\n 'Q1781055': 14478,\n 'Q40435': 14479,\n 'Q169165': 14480,\n 'Q12630': 14491,\n 'Q61978409': 14494,\n 'Q204623': 14495,\n 'Q949739': 14550,\n 'Q1214': 14557,\n 'Q1068752': 14570,\n 'Q11211': 14587,\n 'Q98': 14588,\n 'Q173395': 14595,\n 'Q844924': 14623,\n 'Q748': 14627,\n 'Q11223': 14760,\n 'Q2156427': 14887,\n 'Q5633421': 14933,\n 'Q212991': 14946,\n 'Q10918728': 14951,\n 'Q223': 14955,\n 'Q49218': 14977,\n 'Q49268': 15021,\n 'Q81965': 15031,\n 'Q3231690': 15032,\n 'Q491239': 15088,\n 'Q974': 15091,\n 'Q3838': 15092,\n 'Q570116': 15147,\n 'Q36479': 15281,\n 'Q134674': 15332,\n 'Q27436': 15346,\n 'Q192152': 15348,\n 'Q3820': 15366,\n 'Q15416': 15384,\n 'Q180445': 15464,\n 'Q852647': 15486,\n 'Q42448': 15494,\n 'Q1475020': 15569,\n 'Q987': 15574,\n 'Q36442': 15595,\n 'Q2743': 15601,\n 'Q734': 15608,\n 'Q1065': 15622,\n 'Q207991': 15623,\n 'Q38453': 15627,\n 'Q5925': 15653,\n 'Q185729': 15654,\n 'Q490065': 15686,\n 'Q9005': 15692,\n 'Q2046665': 15710,\n 'Q486472': 15740,\n 'Q1072819': 15742,\n 'Q246782': 15743,\n 'Q74195': 15746,\n 'Q957763': 15778,\n 'Q332498': 15781,\n 'Q431603': 15791,\n 'Q6346': 15796,\n 'Q586617': 15808,\n 'Q2002085': 15815,\n 'Q1060160': 15839,\n 'Q16563': 15854,\n 'Q1565828': 15857,\n 'Q327496': 15926,\n 'Q783': 15973,\n 'Q3976365': 15975,\n 'Q1449': 15990,\n 'Q1908566': 16004,\n 'Q8652': 16010,\n 'Q79875': 16019,\n 'Q34804': 16041,\n 'Q49266': 16045,\n 'Q191477': 16047,\n 'Q138345': 16057,\n 'Q37043': 16095,\n 'Q6106': 16100,\n 'Q207360': 16224,\n 'Q1815710': 16274,\n 'Q129817': 16309,\n 'Q16555': 16319,\n 'Q530348': 16320,\n 'Q16562': 16323,\n 'Q24976': 16324,\n 'Q4874596': 16329,\n 'Q621549': 16370,\n 'Q160544': 16385,\n ...}"
     },
     "execution_count": 9,
     "metadata": {},
     "output_type": "execute_result"
    }
   ],
   "source": [
    "entity2id_dict"
   ],
   "metadata": {
    "collapsed": false
   }
  },
  {
   "cell_type": "code",
   "execution_count": 29,
   "outputs": [],
   "source": [
    "if not os.path.exists(\"tmp\"):\n",
    "    os.makedirs(\"tmp\")\n",
    "with open(config[\"data\"][\"train_news\"]) as old, open('tmp/train_'+ config[\"data\"][\"train_news\"].split('/')[-1], 'w+') as new:\n",
    "    for line in old:\n",
    "        newsid, vert, subvert, title, abstract, url, entity_info_title, entity_info_abstract = line.strip().split('\\t')\n",
    "        entity_info_title = json.loads(entity_info_title)\n",
    "        for index, entity in enumerate(entity_info_title):\n",
    "            if entity2id_dict.get(entity['WikidataId'], config[\"data\"][\"num_entity_embedding\"]) > config[\"data\"][\"num_entity_embedding\"]:\n",
    "                del entity_info_title[index]\n",
    "        entity_info_title = json.dumps(entity_info_title)\n",
    "        entity_info_abstract = json.loads(entity_info_abstract)\n",
    "        for index, entity in enumerate(entity_info_abstract):\n",
    "            if entity2id_dict.get(entity['WikidataId'], config[\"data\"][\"num_entity_embedding\"]) > config[\"data\"][\"num_entity_embedding\"]:\n",
    "                del entity_info_abstract[index]\n",
    "        entity_info_abstract = json.dumps(entity_info_abstract)\n",
    "        new_line = '\\t'.join([newsid, vert, subvert, title, abstract, url, entity_info_title, entity_info_abstract] )\n",
    "        new.write(new_line+ '\\n')"
   ],
   "metadata": {
    "collapsed": false
   }
  },
  {
   "cell_type": "code",
   "execution_count": 30,
   "outputs": [],
   "source": [
    "with open(config[\"data\"][\"valid_news\"]) as old, open('tmp/test_' + config[\"data\"][\"valid_news\"].split('/')[-1], 'w+') as new:\n",
    "    for line in old:\n",
    "        newsid, vert, subvert, title, abstract, url, entity_info_title, entity_info_abstract = line.strip().split('\\t')\n",
    "        entity_info_title = json.loads(entity_info_title)\n",
    "        for index, entity in enumerate(entity_info_title):\n",
    "            if entity2id_dict.get(entity['WikidataId'], config[\"data\"][\"num_entity_embedding\"]) > config[\"data\"][\"num_entity_embedding\"]:\n",
    "                del entity_info_title[index]\n",
    "        entity_info_title = json.dumps(entity_info_title)\n",
    "        entity_info_abstract = json.loads(entity_info_abstract)\n",
    "        for index, entity in enumerate(entity_info_abstract):\n",
    "            if entity2id_dict.get(entity['WikidataId'], config[\"data\"][\"num_entity_embedding\"]) > config[\"data\"][\"num_entity_embedding\"]:\n",
    "                del entity_info_abstract[index]\n",
    "        entity_info_abstract = json.dumps(entity_info_abstract)\n",
    "        new_line = '\\t'.join([newsid, vert, subvert, title, abstract, url, entity_info_title, entity_info_abstract] )\n",
    "        new.write(new_line+ '\\n')"
   ],
   "metadata": {
    "collapsed": false
   }
  },
  {
   "cell_type": "code",
   "execution_count": 31,
   "outputs": [
    {
     "data": {
      "text/plain": "'tmp/test_news.tsv'"
     },
     "execution_count": 31,
     "metadata": {},
     "output_type": "execute_result"
    }
   ],
   "source": [
    "\n",
    "src_test"
   ],
   "metadata": {
    "collapsed": false
   }
  },
  {
   "cell_type": "code",
   "execution_count": 32,
   "outputs": [
    {
     "ename": "OSError",
     "evalue": "[Errno 30] Read-only file system: '/datasets/mind_val/test_news.tsv'",
     "output_type": "error",
     "traceback": [
      "\u001B[0;31m---------------------------------------------------------------------------\u001B[0m",
      "\u001B[0;31mOSError\u001B[0m                                   Traceback (most recent call last)",
      "Input \u001B[0;32mIn [32]\u001B[0m, in \u001B[0;36m<cell line: 5>\u001B[0;34m()\u001B[0m\n\u001B[1;32m      3\u001B[0m dst_test \u001B[38;5;241m=\u001B[39m \u001B[38;5;124m'\u001B[39m\u001B[38;5;124m/\u001B[39m\u001B[38;5;124m'\u001B[39m\u001B[38;5;241m.\u001B[39mjoin(config[\u001B[38;5;124m\"\u001B[39m\u001B[38;5;124mdata\u001B[39m\u001B[38;5;124m\"\u001B[39m][\u001B[38;5;124m\"\u001B[39m\u001B[38;5;124mvalid_news\u001B[39m\u001B[38;5;124m\"\u001B[39m]\u001B[38;5;241m.\u001B[39msplit(\u001B[38;5;124m'\u001B[39m\u001B[38;5;124m/\u001B[39m\u001B[38;5;124m'\u001B[39m)[:\u001B[38;5;241m-\u001B[39m\u001B[38;5;241m1\u001B[39m]) \u001B[38;5;241m+\u001B[39m \u001B[38;5;124m'\u001B[39m\u001B[38;5;124m/\u001B[39m\u001B[38;5;124m'\u001B[39m\n\u001B[1;32m      4\u001B[0m src_test\n\u001B[0;32m----> 5\u001B[0m \u001B[43mshutil\u001B[49m\u001B[38;5;241;43m.\u001B[39;49m\u001B[43mcopy\u001B[49m\u001B[43m(\u001B[49m\u001B[43msrc_test\u001B[49m\u001B[43m,\u001B[49m\u001B[43m \u001B[49m\u001B[43mdst_test\u001B[49m\u001B[43m)\u001B[49m\n",
      "File \u001B[0;32m/usr/lib/python3.9/shutil.py:427\u001B[0m, in \u001B[0;36mcopy\u001B[0;34m(src, dst, follow_symlinks)\u001B[0m\n\u001B[1;32m    425\u001B[0m \u001B[38;5;28;01mif\u001B[39;00m os\u001B[38;5;241m.\u001B[39mpath\u001B[38;5;241m.\u001B[39misdir(dst):\n\u001B[1;32m    426\u001B[0m     dst \u001B[38;5;241m=\u001B[39m os\u001B[38;5;241m.\u001B[39mpath\u001B[38;5;241m.\u001B[39mjoin(dst, os\u001B[38;5;241m.\u001B[39mpath\u001B[38;5;241m.\u001B[39mbasename(src))\n\u001B[0;32m--> 427\u001B[0m \u001B[43mcopyfile\u001B[49m\u001B[43m(\u001B[49m\u001B[43msrc\u001B[49m\u001B[43m,\u001B[49m\u001B[43m \u001B[49m\u001B[43mdst\u001B[49m\u001B[43m,\u001B[49m\u001B[43m \u001B[49m\u001B[43mfollow_symlinks\u001B[49m\u001B[38;5;241;43m=\u001B[39;49m\u001B[43mfollow_symlinks\u001B[49m\u001B[43m)\u001B[49m\n\u001B[1;32m    428\u001B[0m copymode(src, dst, follow_symlinks\u001B[38;5;241m=\u001B[39mfollow_symlinks)\n\u001B[1;32m    429\u001B[0m \u001B[38;5;28;01mreturn\u001B[39;00m dst\n",
      "File \u001B[0;32m/usr/lib/python3.9/shutil.py:266\u001B[0m, in \u001B[0;36mcopyfile\u001B[0;34m(src, dst, follow_symlinks)\u001B[0m\n\u001B[1;32m    264\u001B[0m \u001B[38;5;28;01mwith\u001B[39;00m \u001B[38;5;28mopen\u001B[39m(src, \u001B[38;5;124m'\u001B[39m\u001B[38;5;124mrb\u001B[39m\u001B[38;5;124m'\u001B[39m) \u001B[38;5;28;01mas\u001B[39;00m fsrc:\n\u001B[1;32m    265\u001B[0m     \u001B[38;5;28;01mtry\u001B[39;00m:\n\u001B[0;32m--> 266\u001B[0m         \u001B[38;5;28;01mwith\u001B[39;00m \u001B[38;5;28;43mopen\u001B[39;49m\u001B[43m(\u001B[49m\u001B[43mdst\u001B[49m\u001B[43m,\u001B[49m\u001B[43m \u001B[49m\u001B[38;5;124;43m'\u001B[39;49m\u001B[38;5;124;43mwb\u001B[39;49m\u001B[38;5;124;43m'\u001B[39;49m\u001B[43m)\u001B[49m \u001B[38;5;28;01mas\u001B[39;00m fdst:\n\u001B[1;32m    267\u001B[0m             \u001B[38;5;66;03m# macOS\u001B[39;00m\n\u001B[1;32m    268\u001B[0m             \u001B[38;5;28;01mif\u001B[39;00m _HAS_FCOPYFILE:\n\u001B[1;32m    269\u001B[0m                 \u001B[38;5;28;01mtry\u001B[39;00m:\n",
      "\u001B[0;31mOSError\u001B[0m: [Errno 30] Read-only file system: '/datasets/mind_val/test_news.tsv'"
     ]
    }
   ],
   "source": [
    "import shutil\n",
    "src_test = 'tmp/test_' + config[\"data\"][\"valid_news\"].split('/')[-1]\n",
    "dst_test = '/'.join(config[\"data\"][\"valid_news\"].split('/')[:-1]) + '/'\n",
    "src_test\n",
    "shutil.copy(src_test, dst_test)\n"
   ],
   "metadata": {
    "collapsed": false
   }
  }
 ],
 "metadata": {
  "kernelspec": {
   "display_name": "Python 3",
   "language": "python",
   "name": "python3"
  },
  "language_info": {
   "codemirror_mode": {
    "name": "ipython",
    "version": 2
   },
   "file_extension": ".py",
   "mimetype": "text/x-python",
   "name": "python",
   "nbconvert_exporter": "python",
   "pygments_lexer": "ipython2",
   "version": "2.7.6"
  }
 },
 "nbformat": 4,
 "nbformat_minor": 0
}
