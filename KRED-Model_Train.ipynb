{
 "cells": [
  {
   "cell_type": "code",
   "execution_count": 2,
   "metadata": {
    "collapsed": true
   },
   "outputs": [],
   "source": [
    "import gzip\n",
    "import time\n",
    "import torch\n",
    "import os\n",
    "from utils import *\n",
    "from train_test import *\n",
    "import argparse\n",
    "from parse_config import ConfigParser"
   ]
  },
  {
   "cell_type": "code",
   "execution_count": 3,
   "outputs": [],
   "source": [
    "# Config Loading\n",
    "parser = argparse.ArgumentParser(description='KRED')\n",
    "parser.add_argument('-f')\n",
    "parser.add_argument('-c', '--config', default=\"./config.json\", type=str,\n",
    "                    help='config file path (default: None)')\n",
    "parser.add_argument('-r', '--resume', default=None, type=str,\n",
    "                    help='path to latest checkpoint (default: None)')\n",
    "parser.add_argument('-d', '--device', default=None, type=str,\n",
    "                    help='indices of GPUs to enable (default: all)')\n",
    "\n",
    "config = ConfigParser.from_args(parser)"
   ],
   "metadata": {
    "collapsed": false
   }
  },
  {
   "cell_type": "code",
   "execution_count": 4,
   "outputs": [],
   "source": [
    "data = load_pretrained_data_mind(config)"
   ],
   "metadata": {
    "collapsed": false
   }
  },
  {
   "cell_type": "code",
   "execution_count": 5,
   "outputs": [
    {
     "name": "stdout",
     "output_type": "stream",
     "text": [
      "model training\n",
      "Training epoch 0/6 - 0.0\n",
      "######\n",
      " Step: 0, 0.0 \n",
      "######\n",
      "######\n",
      " Step: 100, 0.7352941176470589 \n",
      "######\n",
      "all loss: tensor(67.9950, device='cuda:0', grad_fn=<AddBackward0>)\n",
      "_train_epoch\n",
      "auc socre: 0.6016769477529045\n",
      "valid_socre\n",
      "valid_scores\n",
      "early_stopping\n",
      "Saving checkpoint: out/saved/models/KRED/1224_162557/checkpoint-model-epoch1.pth ...\n",
      "epoch % self.save_period\n",
      "Training epoch 1/6 - 0.16666666666666666\n",
      "######\n",
      " Step: 0, 0.0 \n",
      "######\n",
      "######\n",
      " Step: 100, 0.7352941176470589 \n",
      "######\n",
      "all loss: tensor(67.5678, device='cuda:0', grad_fn=<AddBackward0>)\n",
      "_train_epoch\n",
      "auc socre: 0.6122532964868165\n",
      "valid_socre\n",
      "valid_scores\n",
      "early_stopping\n",
      "Saving checkpoint: out/saved/models/KRED/1224_162557/checkpoint-model-epoch2.pth ...\n",
      "epoch % self.save_period\n",
      "Training epoch 2/6 - 0.3333333333333333\n",
      "######\n",
      " Step: 0, 0.0 \n",
      "######\n",
      "######\n",
      " Step: 100, 0.7352941176470589 \n",
      "######\n",
      "all loss: tensor(66.3738, device='cuda:0', grad_fn=<AddBackward0>)\n",
      "_train_epoch\n",
      "auc socre: 0.6163112281855666\n",
      "valid_socre\n",
      "valid_scores\n",
      "early_stopping\n",
      "Saving checkpoint: out/saved/models/KRED/1224_162557/checkpoint-model-epoch3.pth ...\n",
      "epoch % self.save_period\n",
      "Training epoch 3/6 - 0.5\n",
      "######\n",
      " Step: 0, 0.0 \n",
      "######\n",
      "######\n",
      " Step: 100, 0.7352941176470589 \n",
      "######\n",
      "all loss: tensor(65.2543, device='cuda:0', grad_fn=<AddBackward0>)\n",
      "_train_epoch\n",
      "auc socre: 0.6129660111026131\n",
      "valid_socre\n",
      "valid_scores\n",
      "early_stopping\n",
      "Saving checkpoint: out/saved/models/KRED/1224_162557/checkpoint-model-epoch4.pth ...\n",
      "epoch % self.save_period\n",
      "Training epoch 4/6 - 0.6666666666666666\n",
      "######\n",
      " Step: 0, 0.0 \n",
      "######\n",
      "######\n",
      " Step: 100, 0.7352941176470589 \n",
      "######\n",
      "all loss: tensor(64.6711, device='cuda:0', grad_fn=<AddBackward0>)\n",
      "_train_epoch\n",
      "auc socre: 0.6136670800353788\n",
      "valid_socre\n",
      "valid_scores\n",
      "early_stopping\n",
      "Saving checkpoint: out/saved/models/KRED/1224_162557/checkpoint-model-epoch5.pth ...\n",
      "epoch % self.save_period\n"
     ]
    }
   ],
   "source": [
    "if config['trainer']['training_type'] == \"single_task\":\n",
    "    single_task_training(config, data)\n",
    "else:\n",
    "    multi_task_training(config, data)"
   ],
   "metadata": {
    "collapsed": false
   }
  },
  {
   "cell_type": "code",
   "execution_count": 6,
   "outputs": [
    {
     "name": "stdout",
     "output_type": "stream",
     "text": [
      "auc score:0.6136670800353788\n",
      "ndcg score:0.32852655509261247\n"
     ]
    }
   ],
   "source": [
    "test_data = data[-1]\n",
    "testing(test_data, config)"
   ],
   "metadata": {
    "collapsed": false
   }
  },
  {
   "cell_type": "code",
   "execution_count": null,
   "outputs": [],
   "source": [
    "if config['trainer']['task'] == \"user2item\":\n",
    "    task_index = 0\n",
    "elif config['trainer']['task'] == \"item2item\":\n",
    "    task_index = 4\n",
    "elif config['trainer']['task'] == \"vert_classify\":\n",
    "    task_index = 1\n",
    "elif config['trainer']['task'] == \"pop_predict\":\n",
    "    task_index = 3\n",
    "model = torch.load('./out/saved/models/KRED/checkpoint.pt')\n",
    "model.eval()\n",
    "y_pred = []\n",
    "start_list = list(range(0, len(test_data['label']), config['data_loader']['batch_size']))\n",
    "for start in start_list:\n",
    "    if start + config['data_loader']['batch_size'] <= len(test_data['label']):\n",
    "        end = start + config['data_loader']['batch_size']\n",
    "    else:\n",
    "        end = len(test_data['label'])\n",
    "    out = model(test_data['item1'][start:end], test_data['item2'][start:end], config['data_loader']['batch_size'])[\n",
    "        task_index].cpu().data.numpy()\n",
    "\n",
    "    y_pred.extend(out)\n",
    "truth = test_data['label']\n",
    "score = evaluate(y_pred, truth, test_data, config['trainer']['task'])"
   ],
   "metadata": {
    "collapsed": false
   }
  },
  {
   "cell_type": "code",
   "execution_count": null,
   "outputs": [],
   "source": [
    "user_st = 'U7395_dev'\n",
    "for user, item, t,p in zip(test_data['item1'], test_data['item2'], truth, y_pred):\n",
    "    if user != user_st:\n",
    "        break\n",
    "    print(user,item, t, p)\n"
   ],
   "metadata": {
    "collapsed": false
   }
  }
 ],
 "metadata": {
  "kernelspec": {
   "display_name": "Python 3",
   "language": "python",
   "name": "python3"
  },
  "language_info": {
   "codemirror_mode": {
    "name": "ipython",
    "version": 2
   },
   "file_extension": ".py",
   "mimetype": "text/x-python",
   "name": "python",
   "nbconvert_exporter": "python",
   "pygments_lexer": "ipython2",
   "version": "2.7.6"
  }
 },
 "nbformat": 4,
 "nbformat_minor": 0
}
