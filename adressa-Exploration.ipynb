{
 "cells": [
  {
   "cell_type": "markdown",
   "source": [
    "Adressa Dataset: Gulla, J. A., Zhang, L., Liu, P., Özgöbek, Ö., & Su, X. (2017, August). The Adressa dataset for news recommendation. In Proceedings of the International Conference on Web Intelligence (pp. 1042-1048). ACM."
   ],
   "metadata": {
    "collapsed": false
   }
  },
  {
   "cell_type": "code",
   "execution_count": null,
   "outputs": [],
   "source": [],
   "metadata": {
    "collapsed": false
   }
  },
  {
   "cell_type": "code",
   "execution_count": 7,
   "outputs": [],
   "source": [
    "from tqdm import tqdm\n",
    "import os\n",
    "import json\n",
    "from utils.adressa_util import preprocessing"
   ],
   "metadata": {
    "collapsed": false
   }
  },
  {
   "cell_type": "code",
   "execution_count": 8,
   "outputs": [],
   "source": [
    "one_week_path = './adressa/one_week'\n",
    "content_news = './adressa/content_refine'\n",
    "out_path = './adressa/mind_format'"
   ],
   "metadata": {
    "collapsed": false
   }
  },
  {
   "cell_type": "code",
   "execution_count": 9,
   "outputs": [
    {
     "name": "stderr",
     "output_type": "stream",
     "text": [
      "1513739it [00:28, 53654.44it/s]\n"
     ]
    }
   ],
   "source": [
    "hash_title, hash2id = preprocessing.news_title(one_week_path)"
   ],
   "metadata": {
    "collapsed": false
   }
  },
  {
   "cell_type": "code",
   "execution_count": 10,
   "outputs": [
    {
     "name": "stderr",
     "output_type": "stream",
     "text": [
      "100%|██████████| 4641/4641 [00:00<00:00, 781569.30it/s]\n"
     ]
    }
   ],
   "source": [
    "from pathlib import Path\n",
    "\n",
    "out_path = Path(out_path)\n",
    "preprocessing.write_news_files(hash_title,hash2id,out_path)"
   ],
   "metadata": {
    "collapsed": false
   }
  },
  {
   "cell_type": "code",
   "execution_count": 11,
   "outputs": [],
   "source": [
    "news_line = \"\"\"\n",
    "N55528\tlifestyle\tlifestyleroyals\tThe Brands Queen Elizabeth, Prince Charles, and Prince Philip Swear By\tShop the notebooks, jackets, and more that the royals can't live without.\thttps://assets.msn.com/labs/mind/AAGH0ET.html\t[{\"Label\": \"Prince Philip, Duke of Edinburgh\", \"Type\": \"P\", \"WikidataId\": \"Q80976\", \"Confidence\": 1.0, \"OccurrenceOffsets\": [48], \"SurfaceForms\": [\"Prince Philip\"]}, {\"Label\": \"Charles, Prince of Wales\", \"Type\": \"P\", \"WikidataId\": \"Q43274\", \"Confidence\": 1.0, \"OccurrenceOffsets\": [28], \"SurfaceForms\": [\"Prince Charles\"]}, {\"Label\": \"Elizabeth II\", \"Type\": \"P\", \"WikidataId\": \"Q9682\", \"Confidence\": 0.97, \"OccurrenceOffsets\": [11], \"SurfaceForms\": [\"Queen Elizabeth\"]}]\t[]\n",
    "\"\"\""
   ],
   "metadata": {
    "collapsed": false
   }
  },
  {
   "cell_type": "code",
   "execution_count": 12,
   "outputs": [],
   "source": [
    "article_hash_content = {}\n",
    "for filename in os.listdir(content_news):\n",
    "    with open(os.path.join(content_news, filename), \"r\") as f:\n",
    "        article = json.load(f)\n",
    "        article_hash = article['id']\n",
    "        article_dict = {d['field'] : d['value'] for d in article['fields']}\n",
    "        article_hash_content[article_hash] = article_dict"
   ],
   "metadata": {
    "collapsed": false
   }
  },
  {
   "cell_type": "code",
   "execution_count": 13,
   "outputs": [
    {
     "data": {
      "text/plain": "{'modifiedtime': '2012-04-19T11:05:59.000Z',\n 'adressa-access': 'free',\n 'adressa-importance': '0',\n 'author': 'ingrid j. brissach',\n 'body': ['Saken oppdateres.',\n  'I 1991 satte en duo ved navn Trond A. Tune og Nicolai Riise i gang med å lete opp operaen «Fredkulla», skrevet i 1858 av Martin Andreas Udbye (1820-1889). Bakgrunnen for gravejobben var en hovedfagsoppgave i musikkvitenskap ved Universitetet i Oslo. Etter det begynte snøballen å rulle, og det endte med uroppførelse av Norges første opera i Olavshallen under tusenårsjubileet i Trondheim i 1997.',\n  'Udbyes gate ligger på Øya og går mellom Olav Kyrres gate og Abels gate.',\n  'Martin Andreas Udbye var født i Trondheim og vokste opp i Sanden. Foreldrene var Ole og Bergitte (Øien) Udbye. Begge foreldrene var musikalske, men ikke særlig bemidlet. Men selv om gutten ikke hadde mer skolegang enn vanlig «almueskole», viste han tidlig gode evner.',\n  'Allerede som 16-åring ble han huslærer på Verdalsøra og senere i Sparbu. I disse årene syslet unge Martin med små komposisjoner. Som selvlært begynte han 19 år gammel som lærer ved Domsognets almueskole hvor han ble i 40 år. Kort tid etter begynte han som organist i Hospitalskirken, og flyttet senere over til Vår Frue kirke.',\n  'Han var sanglærer ved blant annet Katedralskolen, hadde privatelever og var dirigent i Trøndernes Mandssangforening. Han hadde også to studieopphold i Leipzig i Tyskland og underviste da i orgelspill. Tiden i Tyskland brukte han også til å komponere. Det var en musikkhistoriker fra Oslo som på 1940-tallet begynte å grave frem trondhjemsmannen fra glemselen. W. Kwetzinsky var lærer ved Musikkonservatoriet i Oslo og kom i 1946 til Trondheim for å studere Udbyes liv og produksjon. Det var ingen lett oppgave. Visstnok var det et skikkelig mosaikkarbeid å skape et helthetsbilde av komponisten og personen. Men så ble Udbye atter glemt - frem til 1991.',\n  'Udbye regnes for å være Norges første kor- og orkesterkomponist. Totalt komponerte han over 800 verker.I 1907 ble det avduket en bauta på Domkirkegården. Den har inskripsjonen: «Reist av sangere og musikkvenner i Trondhjem».'],\n 'category0': 'nyheter',\n 'category1': 'nyheter|trondheim',\n 'category2': 'nyheter|trondheim|byens gater',\n 'contenthash': '2f21686981884f591230d6c53a8246bd52eaf48f6f628bf807d53d3597a4f617',\n 'createtime': '2015-10-08T09:11:37.000Z',\n 'description': 'Norges første opera ble skrevet for 145 år siden. Uroppførelsen skjedde 139 år senere i Olavshallen. Trondhjemmeren Martin Andreas Udbye var en undervurdert komponist i Norge.',\n 'dominantimage': 'http://www.adressa.no/incoming/article1058376.ece5/ALTERNATES/w980-default/ver2%20Udbyes%20gt',\n 'dominantimagedimensions': '980x551',\n 'dominantthumbnail': 'http://content-thumbnail.cxpublic.com/content/dominantthumbnail/7ae358503726b54c7b489062955c51fc496e07b0.jpg?59897ba5',\n 'dominantthumbnaildimensions': '300x169',\n 'heading': 'Udbyes gate -adressa.no',\n 'id': '7ae358503726b54c7b489062955c51fc496e07b0',\n 'keyword': ['utenriks',\n  'innenriks',\n  'trondheim',\n  'E6',\n  'midtbyen',\n  'bybrann',\n  'bilulykker'],\n 'keywords': 'utenriks,innenriks,trondheim,E6,midtbyen,bybrann,bilulykker',\n 'kw-category': ['nyheter', 'byens gater', 'trondheim'],\n 'kw-classification': 'education',\n 'kw-concept': ['begynte', 'trondheim', 'gate'],\n 'kw-entity': ['vår frue',\n  'øya',\n  'ole og bergitte',\n  'øien',\n  'domkirkegården',\n  'sanden',\n  'trond a. tune og nicolai riise',\n  'musikkonservatoriet',\n  'domsognets',\n  'olavshallen',\n  'abels',\n  'trøndernes mandssangforening',\n  'trondhjem',\n  'fredkulla',\n  'sparbu',\n  'universitetet',\n  'hospitalskirken',\n  'katedralskolen',\n  'verdalsøra'],\n 'kw-location': ['trondheim', 'oslo', 'norge', 'leipzig', 'tyskland'],\n 'kw-pageclass': 'article',\n 'kw-person': ['olav kyrres', 'nicolai riise', 'martin andreas udbye'],\n 'kw-taxonomy': ['nyheter',\n  'nyheter/trondheim',\n  'nyheter/trondheim/byens gater'],\n 'og-image': 'http://www.adressa.no/incoming/article1058376.ece5/ALTERNATES/w980-default/ver2%20Udbyes%20gt',\n 'og-locale': 'nb_NO',\n 'og-site-name': 'adressa.no',\n 'og-title': 'Udbyes gate',\n 'og-type': 'article',\n 'og-url': 'http://www.adressa.no/nyheter/trondheim/byens_gater/article62747.ece',\n 'pageclass': ['article'],\n 'publishtime': '2003-05-09T14:30:35.000Z',\n 'recs-articleid': '2162378',\n 'recs-category-type': 'taxonomy',\n 'recs-category0': 'taxonomy|nyheter',\n 'recs-category1': 'taxonomy|nyheter|trondheim',\n 'recs-category2': 'taxonomy|nyheter|trondheim|byens gater',\n 'recs-publishtime': '2003-05-09T14:30:35.000Z',\n 'recs-rawtitle': 'Udbyes gate -adressa.no',\n 'recs-recommendable': 'true',\n 'recs-recommending': 'true',\n 'siteid': '9222270286501375973',\n 'taxonomy': ['nyheter', 'nyheter/trondheim', 'nyheter/trondheim/byens gater'],\n 'teaser': 'Norges første opera ble skrevet for 145 år siden. Uroppførelsen skjedde 139 år senere i Olavshallen. Trondhjemmeren Martin Andreas Udbye var en undervurdert komponist i Norge.',\n 'thumbnail': 'http://content-thumbnail.cxpublic.com/content/thumbnail200x150/7ae358503726b54c7b489062955c51fc496e07b0.jpg?59897ba5',\n 'thumbnailfullheightdimensions': '200x1018',\n 'timestamp': '2017-08-08T08:51:49.000Z',\n 'title': 'Udbyes gate',\n 'url': 'http://www.adressa.no/nyheter/trondheim/byens_gater/article62747.ece',\n 'urlhash': '7ae358503726b54c7b489062955c51fc496e07b0'}"
     },
     "execution_count": 13,
     "metadata": {},
     "output_type": "execute_result"
    }
   ],
   "source": [
    "article_hash_content['7ae358503726b54c7b489062955c51fc496e07b0']"
   ],
   "metadata": {
    "collapsed": false
   }
  },
  {
   "cell_type": "code",
   "execution_count": 14,
   "outputs": [
    {
     "name": "stderr",
     "output_type": "stream",
     "text": [
      "100%|██████████| 4641/4641 [00:00<00:00, 340025.24it/s]\n"
     ]
    }
   ],
   "source": [
    "from utils.adressa_util.preprocessing import write_news_files_full\n",
    "write_news_files_full(hash_title,hash2id,out_path,article_hash_content)"
   ],
   "metadata": {
    "collapsed": false
   }
  },
  {
   "cell_type": "code",
   "execution_count": 18,
   "outputs": [
    {
     "name": "stderr",
     "output_type": "stream",
     "text": [
      "The tokenizer class you load from this checkpoint is not the same type as the class this function is called from. It may result in unexpected tokenization. \n",
      "The tokenizer class you load from this checkpoint is 'M2M100Tokenizer'. \n",
      "The class this function is called from is 'SMALL100Tokenizer'.\n"
     ]
    }
   ],
   "source": [
    "from transformers import M2M100ForConditionalGeneration\n",
    "from utils.tokenization_small100 import SMALL100Tokenizer\n",
    "\n",
    "model = M2M100ForConditionalGeneration.from_pretrained(\"alirezamsh/small100\")\n",
    "tokenizer = SMALL100Tokenizer.from_pretrained(\"alirezamsh/small100\")"
   ],
   "metadata": {
    "collapsed": false
   }
  },
  {
   "cell_type": "code",
   "execution_count": null,
   "outputs": [],
   "source": [
    "hi_text = article_hash_content['7ae358503726b54c7b489062955c51fc496e07b0']['description']\n",
    "\n",
    "# translate Hindi to French\n",
    "tokenizer.tgt_lang = \"en\"\n",
    "encoded_no = tokenizer(hi_text, return_tensors=\"pt\")\n",
    "generated_tokens = model.generate(**encoded_no)\n",
    "results = tokenizer.batch_decode(generated_tokens, skip_special_tokens=True)"
   ],
   "metadata": {
    "collapsed": false,
    "pycharm": {
     "is_executing": true
    }
   }
  },
  {
   "cell_type": "code",
   "execution_count": null,
   "outputs": [
    {
     "name": "stderr",
     "output_type": "stream",
     "text": [
      "Downloading /Users/andreaparolin/.cache/refined/wikipedia_model/model.pt: 100%|██████████| 734M/734M [04:15<00:00, 2.87MB/s] \n",
      "Downloading /Users/andreaparolin/.cache/refined/wikipedia_model/config.json: 100%|██████████| 702/702 [00:00<00:00, 2.37kB/s]\n",
      "Downloading /Users/andreaparolin/.cache/refined/wikipedia_model/precomputed_entity_descriptions_emb_wikidata_33831487-300.np:  24%|██▍       | 4.87G/20.3G [19:14<1:51:59, 2.30MB/s]"
     ]
    }
   ],
   "source": [
    "from refined.inference.processor import Refined\n",
    "refined = Refined.from_pretrained(\n",
    "    model_name='wikipedia_model',\n",
    "    entity_set=\"wikidata\"\n",
    ")"
   ],
   "metadata": {
    "collapsed": false,
    "pycharm": {
     "is_executing": true
    }
   }
  },
  {
   "cell_type": "code",
   "execution_count": null,
   "outputs": [],
   "source": [
    "from refined.data_types.base_types import Entity, Span\n",
    "def spans_to_mind_format(results : Span):\n",
    "    entity_list = []\n",
    "    for entity in results:\n",
    "        if entity.predicted_entity.wikidata_entity_id == None:\n",
    "            continue\n",
    "            # An entity has been detected but does not have a wikidata page\n",
    "        entity_list.append({\n",
    "            'Label' : entity.predicted_entity.wikipedia_entity_title,\n",
    "            'Type': entity.coarse_mention_type,\n",
    "            'WikidataId': entity.predicted_entity.wikidata_entity_id,\n",
    "            'Confidence': entity.candidate_entities[0][1],\n",
    "            'OccurrenceOffsets': [entity.start],\n",
    "            'SurfaceForms': [entity.text]\n",
    "        })\n",
    "    return entity_list"
   ],
   "metadata": {
    "collapsed": false,
    "pycharm": {
     "is_executing": true
    }
   }
  },
  {
   "cell_type": "code",
   "execution_count": null,
   "outputs": [],
   "source": [],
   "metadata": {
    "collapsed": false
   }
  }
 ],
 "metadata": {
  "kernelspec": {
   "display_name": "Python 3",
   "language": "python",
   "name": "python3"
  },
  "language_info": {
   "codemirror_mode": {
    "name": "ipython",
    "version": 2
   },
   "file_extension": ".py",
   "mimetype": "text/x-python",
   "name": "python",
   "nbconvert_exporter": "python",
   "pygments_lexer": "ipython2",
   "version": "2.7.6"
  }
 },
 "nbformat": 4,
 "nbformat_minor": 0
}
