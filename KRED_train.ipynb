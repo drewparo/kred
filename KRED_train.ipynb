{
 "nbformat": 4,
 "nbformat_minor": 0,
 "metadata": {
  "colab": {
   "provenance": []
  },
  "kernelspec": {
   "name": "python3",
   "display_name": "Python 3"
  },
  "language_info": {
   "name": "python"
  },
  "accelerator": "GPU",
  "gpuClass": "standard"
 },
 "cells": [
  {
   "cell_type": "code",
   "source": [
    "!git clone https://github.com/Mlawrence95/LinkedIn-Tech-Job-Data.git"
   ],
   "metadata": {
    "colab": {
     "base_uri": "https://localhost:8080/"
    },
    "id": "CUXRdve9lMOe",
    "outputId": "65eb63f8-8789-40c8-f565-27c4870e9351"
   },
   "execution_count": 2,
   "outputs": [
    {
     "name": "stderr",
     "output_type": "stream",
     "text": [
      "Cloning into 'LinkedIn-Tech-Job-Data'...\n"
     ]
    }
   ]
  },
  {
   "cell_type": "code",
   "source": [
    "%cd LinkedIn-Tech-Job-Data"
   ],
   "metadata": {
    "colab": {
     "base_uri": "https://localhost:8080/"
    },
    "id": "3QkKiONVlWpy",
    "outputId": "5d71864b-531f-4233-edb4-cd2ce86d8a83"
   },
   "execution_count": 2,
   "outputs": [
    {
     "name": "stdout",
     "output_type": "stream",
     "text": [
      "J:\\Downloads\\NLP\\kred\\LinkedIn-Tech-Job-Data\n"
     ]
    }
   ]
  },
  {
   "cell_type": "code",
   "source": [
    "!pip install -U pip setuptools wheel\n",
    "!pip install spacy-transformers\n",
    "#!pip install pytextrank\n",
    "!python -m spacy download en_core_web_trf\n",
    "!python -m spacy download en_core_web_md\n",
    "!python -m spacy download en_core_web_sm\n"
   ],
   "metadata": {
    "colab": {
     "base_uri": "https://localhost:8080/"
    },
    "id": "PgGuqXHFwOJI",
    "outputId": "29b07972-9ed3-473b-baad-a6fef2ad18e8"
   },
   "execution_count": 1,
   "outputs": [
    {
     "name": "stdout",
     "output_type": "stream",
     "text": [
      "Looking in indexes: https://pypi.org/simple, https://pypi.ngc.nvidia.com\n",
      "Requirement already satisfied: pip in j:\\downloads\\nlp\\pyenv\\torchenv\\lib\\site-packages (22.3.1)\n",
      "Collecting pip\n",
      "  Downloading pip-23.0-py3-none-any.whl (2.1 MB)\n",
      "     ---------------------------------------- 2.1/2.1 MB 18.6 MB/s eta 0:00:00\n",
      "Requirement already satisfied: setuptools in j:\\downloads\\nlp\\pyenv\\torchenv\\lib\\site-packages (65.6.3)\n",
      "Collecting setuptools\n",
      "  Downloading setuptools-67.0.0-py3-none-any.whl (1.1 MB)\n",
      "     ---------------------------------------- 1.1/1.1 MB 23.3 MB/s eta 0:00:00\n",
      "Requirement already satisfied: wheel in j:\\downloads\\nlp\\pyenv\\torchenv\\lib\\site-packages (0.38.4)\n"
     ]
    },
    {
     "name": "stderr",
     "output_type": "stream",
     "text": [
      "ERROR: To modify pip, please run the following command:\n",
      "J:\\Downloads\\NLP\\PyEnv\\TorchEnv\\Scripts\\python.exe -m pip install -U pip setuptools wheel\n",
      "\n",
      "[notice] A new release of pip available: 22.3.1 -> 23.0\n",
      "[notice] To update, run: python.exe -m pip install --upgrade pip\n"
     ]
    },
    {
     "name": "stdout",
     "output_type": "stream",
     "text": [
      "Looking in indexes: https://pypi.org/simple, https://pypi.ngc.nvidia.com\n",
      "Requirement already satisfied: spacy-transformers in j:\\downloads\\nlp\\pyenv\\torchenv\\lib\\site-packages (1.1.9)\n",
      "Requirement already satisfied: srsly<3.0.0,>=2.4.0 in j:\\downloads\\nlp\\pyenv\\torchenv\\lib\\site-packages (from spacy-transformers) (2.4.5)\n",
      "Requirement already satisfied: transformers<4.26.0,>=3.4.0 in j:\\downloads\\nlp\\pyenv\\torchenv\\lib\\site-packages (from spacy-transformers) (4.25.1)\n",
      "Requirement already satisfied: spacy<4.0.0,>=3.4.0 in j:\\downloads\\nlp\\pyenv\\torchenv\\lib\\site-packages (from spacy-transformers) (3.4.4)\n",
      "Requirement already satisfied: torch>=1.6.0 in j:\\downloads\\nlp\\pyenv\\torchenv\\lib\\site-packages (from spacy-transformers) (1.13.0+cu117)\n",
      "Requirement already satisfied: spacy-alignments<1.0.0,>=0.7.2 in j:\\downloads\\nlp\\pyenv\\torchenv\\lib\\site-packages (from spacy-transformers) (0.9.0)\n",
      "Requirement already satisfied: setuptools in j:\\downloads\\nlp\\pyenv\\torchenv\\lib\\site-packages (from spacy<4.0.0,>=3.4.0->spacy-transformers) (65.6.3)\n",
      "Requirement already satisfied: packaging>=20.0 in j:\\downloads\\nlp\\pyenv\\torchenv\\lib\\site-packages (from spacy<4.0.0,>=3.4.0->spacy-transformers) (22.0)\n",
      "Requirement already satisfied: jinja2 in j:\\downloads\\nlp\\pyenv\\torchenv\\lib\\site-packages (from spacy<4.0.0,>=3.4.0->spacy-transformers) (3.1.2)\n",
      "Requirement already satisfied: spacy-legacy<3.1.0,>=3.0.10 in j:\\downloads\\nlp\\pyenv\\torchenv\\lib\\site-packages (from spacy<4.0.0,>=3.4.0->spacy-transformers) (3.0.11)\n",
      "Requirement already satisfied: thinc<8.2.0,>=8.1.0 in j:\\downloads\\nlp\\pyenv\\torchenv\\lib\\site-packages (from spacy<4.0.0,>=3.4.0->spacy-transformers) (8.1.6)\n",
      "Requirement already satisfied: tqdm<5.0.0,>=4.38.0 in j:\\downloads\\nlp\\pyenv\\torchenv\\lib\\site-packages (from spacy<4.0.0,>=3.4.0->spacy-transformers) (4.64.1)\n",
      "Requirement already satisfied: spacy-loggers<2.0.0,>=1.0.0 in j:\\downloads\\nlp\\pyenv\\torchenv\\lib\\site-packages (from spacy<4.0.0,>=3.4.0->spacy-transformers) (1.0.4)\n",
      "Requirement already satisfied: preshed<3.1.0,>=3.0.2 in j:\\downloads\\nlp\\pyenv\\torchenv\\lib\\site-packages (from spacy<4.0.0,>=3.4.0->spacy-transformers) (3.0.8)\n",
      "Requirement already satisfied: numpy>=1.15.0 in j:\\downloads\\nlp\\pyenv\\torchenv\\lib\\site-packages (from spacy<4.0.0,>=3.4.0->spacy-transformers) (1.23.5)\n",
      "Requirement already satisfied: murmurhash<1.1.0,>=0.28.0 in j:\\downloads\\nlp\\pyenv\\torchenv\\lib\\site-packages (from spacy<4.0.0,>=3.4.0->spacy-transformers) (1.0.9)\n",
      "Requirement already satisfied: langcodes<4.0.0,>=3.2.0 in j:\\downloads\\nlp\\pyenv\\torchenv\\lib\\site-packages (from spacy<4.0.0,>=3.4.0->spacy-transformers) (3.3.0)\n",
      "Requirement already satisfied: wasabi<1.1.0,>=0.9.1 in j:\\downloads\\nlp\\pyenv\\torchenv\\lib\\site-packages (from spacy<4.0.0,>=3.4.0->spacy-transformers) (0.10.1)\n",
      "Requirement already satisfied: cymem<2.1.0,>=2.0.2 in j:\\downloads\\nlp\\pyenv\\torchenv\\lib\\site-packages (from spacy<4.0.0,>=3.4.0->spacy-transformers) (2.0.7)\n",
      "Requirement already satisfied: requests<3.0.0,>=2.13.0 in j:\\downloads\\nlp\\pyenv\\torchenv\\lib\\site-packages (from spacy<4.0.0,>=3.4.0->spacy-transformers) (2.28.1)\n",
      "Requirement already satisfied: pydantic!=1.8,!=1.8.1,<1.11.0,>=1.7.4 in j:\\downloads\\nlp\\pyenv\\torchenv\\lib\\site-packages (from spacy<4.0.0,>=3.4.0->spacy-transformers) (1.10.4)\n",
      "Requirement already satisfied: catalogue<2.1.0,>=2.0.6 in j:\\downloads\\nlp\\pyenv\\torchenv\\lib\\site-packages (from spacy<4.0.0,>=3.4.0->spacy-transformers) (2.0.8)\n",
      "Requirement already satisfied: pathy>=0.3.5 in j:\\downloads\\nlp\\pyenv\\torchenv\\lib\\site-packages (from spacy<4.0.0,>=3.4.0->spacy-transformers) (0.10.1)\n",
      "Requirement already satisfied: typer<0.8.0,>=0.3.0 in j:\\downloads\\nlp\\pyenv\\torchenv\\lib\\site-packages (from spacy<4.0.0,>=3.4.0->spacy-transformers) (0.7.0)\n",
      "Requirement already satisfied: smart-open<7.0.0,>=5.2.1 in j:\\downloads\\nlp\\pyenv\\torchenv\\lib\\site-packages (from spacy<4.0.0,>=3.4.0->spacy-transformers) (6.3.0)\n",
      "Requirement already satisfied: typing-extensions in j:\\downloads\\nlp\\pyenv\\torchenv\\lib\\site-packages (from torch>=1.6.0->spacy-transformers) (4.4.0)\n",
      "Requirement already satisfied: tokenizers!=0.11.3,<0.14,>=0.11.1 in j:\\downloads\\nlp\\pyenv\\torchenv\\lib\\site-packages (from transformers<4.26.0,>=3.4.0->spacy-transformers) (0.13.2)\n",
      "Requirement already satisfied: filelock in j:\\downloads\\nlp\\pyenv\\torchenv\\lib\\site-packages (from transformers<4.26.0,>=3.4.0->spacy-transformers) (3.8.2)\n",
      "Requirement already satisfied: regex!=2019.12.17 in j:\\downloads\\nlp\\pyenv\\torchenv\\lib\\site-packages (from transformers<4.26.0,>=3.4.0->spacy-transformers) (2022.10.31)\n",
      "Requirement already satisfied: huggingface-hub<1.0,>=0.10.0 in j:\\downloads\\nlp\\pyenv\\torchenv\\lib\\site-packages (from transformers<4.26.0,>=3.4.0->spacy-transformers) (0.11.1)\n",
      "Requirement already satisfied: pyyaml>=5.1 in j:\\downloads\\nlp\\pyenv\\torchenv\\lib\\site-packages (from transformers<4.26.0,>=3.4.0->spacy-transformers) (6.0)\n",
      "Requirement already satisfied: idna<4,>=2.5 in j:\\downloads\\nlp\\pyenv\\torchenv\\lib\\site-packages (from requests<3.0.0,>=2.13.0->spacy<4.0.0,>=3.4.0->spacy-transformers) (3.4)\n",
      "Requirement already satisfied: urllib3<1.27,>=1.21.1 in j:\\downloads\\nlp\\pyenv\\torchenv\\lib\\site-packages (from requests<3.0.0,>=2.13.0->spacy<4.0.0,>=3.4.0->spacy-transformers) (1.26.13)\n",
      "Requirement already satisfied: certifi>=2017.4.17 in j:\\downloads\\nlp\\pyenv\\torchenv\\lib\\site-packages (from requests<3.0.0,>=2.13.0->spacy<4.0.0,>=3.4.0->spacy-transformers) (2022.12.7)\n",
      "Requirement already satisfied: charset-normalizer<3,>=2 in j:\\downloads\\nlp\\pyenv\\torchenv\\lib\\site-packages (from requests<3.0.0,>=2.13.0->spacy<4.0.0,>=3.4.0->spacy-transformers) (2.1.1)\n",
      "Requirement already satisfied: blis<0.8.0,>=0.7.8 in j:\\downloads\\nlp\\pyenv\\torchenv\\lib\\site-packages (from thinc<8.2.0,>=8.1.0->spacy<4.0.0,>=3.4.0->spacy-transformers) (0.7.9)\n",
      "Requirement already satisfied: confection<1.0.0,>=0.0.1 in j:\\downloads\\nlp\\pyenv\\torchenv\\lib\\site-packages (from thinc<8.2.0,>=8.1.0->spacy<4.0.0,>=3.4.0->spacy-transformers) (0.0.3)\n",
      "Requirement already satisfied: colorama in j:\\downloads\\nlp\\pyenv\\torchenv\\lib\\site-packages (from tqdm<5.0.0,>=4.38.0->spacy<4.0.0,>=3.4.0->spacy-transformers) (0.4.6)\n",
      "Requirement already satisfied: click<9.0.0,>=7.1.1 in j:\\downloads\\nlp\\pyenv\\torchenv\\lib\\site-packages (from typer<0.8.0,>=0.3.0->spacy<4.0.0,>=3.4.0->spacy-transformers) (8.1.3)\n",
      "Requirement already satisfied: MarkupSafe>=2.0 in j:\\downloads\\nlp\\pyenv\\torchenv\\lib\\site-packages (from jinja2->spacy<4.0.0,>=3.4.0->spacy-transformers) (2.1.1)\n"
     ]
    },
    {
     "name": "stderr",
     "output_type": "stream",
     "text": [
      "\n",
      "[notice] A new release of pip available: 22.3.1 -> 23.0\n",
      "[notice] To update, run: python.exe -m pip install --upgrade pip\n"
     ]
    },
    {
     "name": "stdout",
     "output_type": "stream",
     "text": [
      "Looking in indexes: https://pypi.org/simple, https://pypi.ngc.nvidia.com\n",
      "Collecting en-core-web-trf==3.4.1\n",
      "  Downloading https://github.com/explosion/spacy-models/releases/download/en_core_web_trf-3.4.1/en_core_web_trf-3.4.1-py3-none-any.whl (460.3 MB)\n",
      "     -------------------------------------- 460.3/460.3 MB 7.4 MB/s eta 0:00:00\n",
      "Requirement already satisfied: spacy-transformers<1.2.0,>=1.1.2 in j:\\downloads\\nlp\\pyenv\\torchenv\\lib\\site-packages (from en-core-web-trf==3.4.1) (1.1.9)\n",
      "Requirement already satisfied: spacy<3.5.0,>=3.4.1 in j:\\downloads\\nlp\\pyenv\\torchenv\\lib\\site-packages (from en-core-web-trf==3.4.1) (3.4.4)\n",
      "Requirement already satisfied: pydantic!=1.8,!=1.8.1,<1.11.0,>=1.7.4 in j:\\downloads\\nlp\\pyenv\\torchenv\\lib\\site-packages (from spacy<3.5.0,>=3.4.1->en-core-web-trf==3.4.1) (1.10.4)\n",
      "Requirement already satisfied: srsly<3.0.0,>=2.4.3 in j:\\downloads\\nlp\\pyenv\\torchenv\\lib\\site-packages (from spacy<3.5.0,>=3.4.1->en-core-web-trf==3.4.1) (2.4.5)\n",
      "Requirement already satisfied: spacy-loggers<2.0.0,>=1.0.0 in j:\\downloads\\nlp\\pyenv\\torchenv\\lib\\site-packages (from spacy<3.5.0,>=3.4.1->en-core-web-trf==3.4.1) (1.0.4)\n",
      "Requirement already satisfied: wasabi<1.1.0,>=0.9.1 in j:\\downloads\\nlp\\pyenv\\torchenv\\lib\\site-packages (from spacy<3.5.0,>=3.4.1->en-core-web-trf==3.4.1) (0.10.1)\n",
      "Requirement already satisfied: typer<0.8.0,>=0.3.0 in j:\\downloads\\nlp\\pyenv\\torchenv\\lib\\site-packages (from spacy<3.5.0,>=3.4.1->en-core-web-trf==3.4.1) (0.7.0)\n",
      "Requirement already satisfied: tqdm<5.0.0,>=4.38.0 in j:\\downloads\\nlp\\pyenv\\torchenv\\lib\\site-packages (from spacy<3.5.0,>=3.4.1->en-core-web-trf==3.4.1) (4.64.1)\n",
      "Requirement already satisfied: langcodes<4.0.0,>=3.2.0 in j:\\downloads\\nlp\\pyenv\\torchenv\\lib\\site-packages (from spacy<3.5.0,>=3.4.1->en-core-web-trf==3.4.1) (3.3.0)\n",
      "Requirement already satisfied: preshed<3.1.0,>=3.0.2 in j:\\downloads\\nlp\\pyenv\\torchenv\\lib\\site-packages (from spacy<3.5.0,>=3.4.1->en-core-web-trf==3.4.1) (3.0.8)\n",
      "Requirement already satisfied: requests<3.0.0,>=2.13.0 in j:\\downloads\\nlp\\pyenv\\torchenv\\lib\\site-packages (from spacy<3.5.0,>=3.4.1->en-core-web-trf==3.4.1) (2.28.1)\n",
      "Requirement already satisfied: cymem<2.1.0,>=2.0.2 in j:\\downloads\\nlp\\pyenv\\torchenv\\lib\\site-packages (from spacy<3.5.0,>=3.4.1->en-core-web-trf==3.4.1) (2.0.7)\n",
      "Requirement already satisfied: packaging>=20.0 in j:\\downloads\\nlp\\pyenv\\torchenv\\lib\\site-packages (from spacy<3.5.0,>=3.4.1->en-core-web-trf==3.4.1) (22.0)\n",
      "Requirement already satisfied: pathy>=0.3.5 in j:\\downloads\\nlp\\pyenv\\torchenv\\lib\\site-packages (from spacy<3.5.0,>=3.4.1->en-core-web-trf==3.4.1) (0.10.1)\n",
      "Requirement already satisfied: jinja2 in j:\\downloads\\nlp\\pyenv\\torchenv\\lib\\site-packages (from spacy<3.5.0,>=3.4.1->en-core-web-trf==3.4.1) (3.1.2)\n",
      "Requirement already satisfied: spacy-legacy<3.1.0,>=3.0.10 in j:\\downloads\\nlp\\pyenv\\torchenv\\lib\\site-packages (from spacy<3.5.0,>=3.4.1->en-core-web-trf==3.4.1) (3.0.11)\n",
      "Requirement already satisfied: murmurhash<1.1.0,>=0.28.0 in j:\\downloads\\nlp\\pyenv\\torchenv\\lib\\site-packages (from spacy<3.5.0,>=3.4.1->en-core-web-trf==3.4.1) (1.0.9)\n",
      "Requirement already satisfied: setuptools in j:\\downloads\\nlp\\pyenv\\torchenv\\lib\\site-packages (from spacy<3.5.0,>=3.4.1->en-core-web-trf==3.4.1) (65.6.3)\n",
      "Requirement already satisfied: catalogue<2.1.0,>=2.0.6 in j:\\downloads\\nlp\\pyenv\\torchenv\\lib\\site-packages (from spacy<3.5.0,>=3.4.1->en-core-web-trf==3.4.1) (2.0.8)\n",
      "Requirement already satisfied: numpy>=1.15.0 in j:\\downloads\\nlp\\pyenv\\torchenv\\lib\\site-packages (from spacy<3.5.0,>=3.4.1->en-core-web-trf==3.4.1) (1.23.5)\n",
      "Requirement already satisfied: thinc<8.2.0,>=8.1.0 in j:\\downloads\\nlp\\pyenv\\torchenv\\lib\\site-packages (from spacy<3.5.0,>=3.4.1->en-core-web-trf==3.4.1) (8.1.6)\n",
      "Requirement already satisfied: smart-open<7.0.0,>=5.2.1 in j:\\downloads\\nlp\\pyenv\\torchenv\\lib\\site-packages (from spacy<3.5.0,>=3.4.1->en-core-web-trf==3.4.1) (6.3.0)\n",
      "Requirement already satisfied: transformers<4.26.0,>=3.4.0 in j:\\downloads\\nlp\\pyenv\\torchenv\\lib\\site-packages (from spacy-transformers<1.2.0,>=1.1.2->en-core-web-trf==3.4.1) (4.25.1)\n",
      "Requirement already satisfied: spacy-alignments<1.0.0,>=0.7.2 in j:\\downloads\\nlp\\pyenv\\torchenv\\lib\\site-packages (from spacy-transformers<1.2.0,>=1.1.2->en-core-web-trf==3.4.1) (0.9.0)\n",
      "Requirement already satisfied: torch>=1.6.0 in j:\\downloads\\nlp\\pyenv\\torchenv\\lib\\site-packages (from spacy-transformers<1.2.0,>=1.1.2->en-core-web-trf==3.4.1) (1.13.0+cu117)\n",
      "Requirement already satisfied: typing-extensions>=4.2.0 in j:\\downloads\\nlp\\pyenv\\torchenv\\lib\\site-packages (from pydantic!=1.8,!=1.8.1,<1.11.0,>=1.7.4->spacy<3.5.0,>=3.4.1->en-core-web-trf==3.4.1) (4.4.0)\n",
      "Requirement already satisfied: charset-normalizer<3,>=2 in j:\\downloads\\nlp\\pyenv\\torchenv\\lib\\site-packages (from requests<3.0.0,>=2.13.0->spacy<3.5.0,>=3.4.1->en-core-web-trf==3.4.1) (2.1.1)\n",
      "Requirement already satisfied: idna<4,>=2.5 in j:\\downloads\\nlp\\pyenv\\torchenv\\lib\\site-packages (from requests<3.0.0,>=2.13.0->spacy<3.5.0,>=3.4.1->en-core-web-trf==3.4.1) (3.4)\n",
      "Requirement already satisfied: urllib3<1.27,>=1.21.1 in j:\\downloads\\nlp\\pyenv\\torchenv\\lib\\site-packages (from requests<3.0.0,>=2.13.0->spacy<3.5.0,>=3.4.1->en-core-web-trf==3.4.1) (1.26.13)\n",
      "Requirement already satisfied: certifi>=2017.4.17 in j:\\downloads\\nlp\\pyenv\\torchenv\\lib\\site-packages (from requests<3.0.0,>=2.13.0->spacy<3.5.0,>=3.4.1->en-core-web-trf==3.4.1) (2022.12.7)\n",
      "Requirement already satisfied: blis<0.8.0,>=0.7.8 in j:\\downloads\\nlp\\pyenv\\torchenv\\lib\\site-packages (from thinc<8.2.0,>=8.1.0->spacy<3.5.0,>=3.4.1->en-core-web-trf==3.4.1) (0.7.9)\n",
      "Requirement already satisfied: confection<1.0.0,>=0.0.1 in j:\\downloads\\nlp\\pyenv\\torchenv\\lib\\site-packages (from thinc<8.2.0,>=8.1.0->spacy<3.5.0,>=3.4.1->en-core-web-trf==3.4.1) (0.0.3)\n",
      "Requirement already satisfied: colorama in j:\\downloads\\nlp\\pyenv\\torchenv\\lib\\site-packages (from tqdm<5.0.0,>=4.38.0->spacy<3.5.0,>=3.4.1->en-core-web-trf==3.4.1) (0.4.6)\n",
      "Requirement already satisfied: filelock in j:\\downloads\\nlp\\pyenv\\torchenv\\lib\\site-packages (from transformers<4.26.0,>=3.4.0->spacy-transformers<1.2.0,>=1.1.2->en-core-web-trf==3.4.1) (3.8.2)\n",
      "Requirement already satisfied: tokenizers!=0.11.3,<0.14,>=0.11.1 in j:\\downloads\\nlp\\pyenv\\torchenv\\lib\\site-packages (from transformers<4.26.0,>=3.4.0->spacy-transformers<1.2.0,>=1.1.2->en-core-web-trf==3.4.1) (0.13.2)\n",
      "Requirement already satisfied: huggingface-hub<1.0,>=0.10.0 in j:\\downloads\\nlp\\pyenv\\torchenv\\lib\\site-packages (from transformers<4.26.0,>=3.4.0->spacy-transformers<1.2.0,>=1.1.2->en-core-web-trf==3.4.1) (0.11.1)\n",
      "Requirement already satisfied: regex!=2019.12.17 in j:\\downloads\\nlp\\pyenv\\torchenv\\lib\\site-packages (from transformers<4.26.0,>=3.4.0->spacy-transformers<1.2.0,>=1.1.2->en-core-web-trf==3.4.1) (2022.10.31)\n",
      "Requirement already satisfied: pyyaml>=5.1 in j:\\downloads\\nlp\\pyenv\\torchenv\\lib\\site-packages (from transformers<4.26.0,>=3.4.0->spacy-transformers<1.2.0,>=1.1.2->en-core-web-trf==3.4.1) (6.0)\n",
      "Requirement already satisfied: click<9.0.0,>=7.1.1 in j:\\downloads\\nlp\\pyenv\\torchenv\\lib\\site-packages (from typer<0.8.0,>=0.3.0->spacy<3.5.0,>=3.4.1->en-core-web-trf==3.4.1) (8.1.3)\n",
      "Requirement already satisfied: MarkupSafe>=2.0 in j:\\downloads\\nlp\\pyenv\\torchenv\\lib\\site-packages (from jinja2->spacy<3.5.0,>=3.4.1->en-core-web-trf==3.4.1) (2.1.1)\n",
      "[+] Download and installation successful\n",
      "You can now load the package via spacy.load('en_core_web_trf')\n"
     ]
    },
    {
     "name": "stderr",
     "output_type": "stream",
     "text": [
      "\n",
      "[notice] A new release of pip available: 22.3.1 -> 23.0\n",
      "[notice] To update, run: python.exe -m pip install --upgrade pip\n"
     ]
    },
    {
     "name": "stdout",
     "output_type": "stream",
     "text": [
      "Looking in indexes: https://pypi.org/simple, https://pypi.ngc.nvidia.com\n",
      "Collecting en-core-web-md==3.4.1\n",
      "  Downloading https://github.com/explosion/spacy-models/releases/download/en_core_web_md-3.4.1/en_core_web_md-3.4.1-py3-none-any.whl (42.8 MB)\n",
      "     --------------------------------------- 42.8/42.8 MB 10.6 MB/s eta 0:00:00\n",
      "Requirement already satisfied: spacy<3.5.0,>=3.4.0 in j:\\downloads\\nlp\\pyenv\\torchenv\\lib\\site-packages (from en-core-web-md==3.4.1) (3.4.4)\n",
      "Requirement already satisfied: langcodes<4.0.0,>=3.2.0 in j:\\downloads\\nlp\\pyenv\\torchenv\\lib\\site-packages (from spacy<3.5.0,>=3.4.0->en-core-web-md==3.4.1) (3.3.0)\n",
      "Requirement already satisfied: numpy>=1.15.0 in j:\\downloads\\nlp\\pyenv\\torchenv\\lib\\site-packages (from spacy<3.5.0,>=3.4.0->en-core-web-md==3.4.1) (1.23.5)\n",
      "Requirement already satisfied: spacy-legacy<3.1.0,>=3.0.10 in j:\\downloads\\nlp\\pyenv\\torchenv\\lib\\site-packages (from spacy<3.5.0,>=3.4.0->en-core-web-md==3.4.1) (3.0.11)\n",
      "Requirement already satisfied: jinja2 in j:\\downloads\\nlp\\pyenv\\torchenv\\lib\\site-packages (from spacy<3.5.0,>=3.4.0->en-core-web-md==3.4.1) (3.1.2)\n",
      "Requirement already satisfied: catalogue<2.1.0,>=2.0.6 in j:\\downloads\\nlp\\pyenv\\torchenv\\lib\\site-packages (from spacy<3.5.0,>=3.4.0->en-core-web-md==3.4.1) (2.0.8)\n",
      "Requirement already satisfied: typer<0.8.0,>=0.3.0 in j:\\downloads\\nlp\\pyenv\\torchenv\\lib\\site-packages (from spacy<3.5.0,>=3.4.0->en-core-web-md==3.4.1) (0.7.0)\n",
      "Requirement already satisfied: packaging>=20.0 in j:\\downloads\\nlp\\pyenv\\torchenv\\lib\\site-packages (from spacy<3.5.0,>=3.4.0->en-core-web-md==3.4.1) (22.0)\n",
      "Requirement already satisfied: srsly<3.0.0,>=2.4.3 in j:\\downloads\\nlp\\pyenv\\torchenv\\lib\\site-packages (from spacy<3.5.0,>=3.4.0->en-core-web-md==3.4.1) (2.4.5)\n",
      "Requirement already satisfied: pydantic!=1.8,!=1.8.1,<1.11.0,>=1.7.4 in j:\\downloads\\nlp\\pyenv\\torchenv\\lib\\site-packages (from spacy<3.5.0,>=3.4.0->en-core-web-md==3.4.1) (1.10.4)\n",
      "Requirement already satisfied: cymem<2.1.0,>=2.0.2 in j:\\downloads\\nlp\\pyenv\\torchenv\\lib\\site-packages (from spacy<3.5.0,>=3.4.0->en-core-web-md==3.4.1) (2.0.7)\n",
      "Requirement already satisfied: setuptools in j:\\downloads\\nlp\\pyenv\\torchenv\\lib\\site-packages (from spacy<3.5.0,>=3.4.0->en-core-web-md==3.4.1) (65.6.3)\n",
      "Requirement already satisfied: wasabi<1.1.0,>=0.9.1 in j:\\downloads\\nlp\\pyenv\\torchenv\\lib\\site-packages (from spacy<3.5.0,>=3.4.0->en-core-web-md==3.4.1) (0.10.1)\n",
      "Requirement already satisfied: spacy-loggers<2.0.0,>=1.0.0 in j:\\downloads\\nlp\\pyenv\\torchenv\\lib\\site-packages (from spacy<3.5.0,>=3.4.0->en-core-web-md==3.4.1) (1.0.4)\n",
      "Requirement already satisfied: requests<3.0.0,>=2.13.0 in j:\\downloads\\nlp\\pyenv\\torchenv\\lib\\site-packages (from spacy<3.5.0,>=3.4.0->en-core-web-md==3.4.1) (2.28.1)\n",
      "Requirement already satisfied: tqdm<5.0.0,>=4.38.0 in j:\\downloads\\nlp\\pyenv\\torchenv\\lib\\site-packages (from spacy<3.5.0,>=3.4.0->en-core-web-md==3.4.1) (4.64.1)\n",
      "Requirement already satisfied: murmurhash<1.1.0,>=0.28.0 in j:\\downloads\\nlp\\pyenv\\torchenv\\lib\\site-packages (from spacy<3.5.0,>=3.4.0->en-core-web-md==3.4.1) (1.0.9)\n",
      "Requirement already satisfied: pathy>=0.3.5 in j:\\downloads\\nlp\\pyenv\\torchenv\\lib\\site-packages (from spacy<3.5.0,>=3.4.0->en-core-web-md==3.4.1) (0.10.1)\n",
      "Requirement already satisfied: smart-open<7.0.0,>=5.2.1 in j:\\downloads\\nlp\\pyenv\\torchenv\\lib\\site-packages (from spacy<3.5.0,>=3.4.0->en-core-web-md==3.4.1) (6.3.0)\n",
      "Requirement already satisfied: thinc<8.2.0,>=8.1.0 in j:\\downloads\\nlp\\pyenv\\torchenv\\lib\\site-packages (from spacy<3.5.0,>=3.4.0->en-core-web-md==3.4.1) (8.1.6)\n",
      "Requirement already satisfied: preshed<3.1.0,>=3.0.2 in j:\\downloads\\nlp\\pyenv\\torchenv\\lib\\site-packages (from spacy<3.5.0,>=3.4.0->en-core-web-md==3.4.1) (3.0.8)\n",
      "Requirement already satisfied: typing-extensions>=4.2.0 in j:\\downloads\\nlp\\pyenv\\torchenv\\lib\\site-packages (from pydantic!=1.8,!=1.8.1,<1.11.0,>=1.7.4->spacy<3.5.0,>=3.4.0->en-core-web-md==3.4.1) (4.4.0)\n",
      "Requirement already satisfied: charset-normalizer<3,>=2 in j:\\downloads\\nlp\\pyenv\\torchenv\\lib\\site-packages (from requests<3.0.0,>=2.13.0->spacy<3.5.0,>=3.4.0->en-core-web-md==3.4.1) (2.1.1)\n",
      "Requirement already satisfied: urllib3<1.27,>=1.21.1 in j:\\downloads\\nlp\\pyenv\\torchenv\\lib\\site-packages (from requests<3.0.0,>=2.13.0->spacy<3.5.0,>=3.4.0->en-core-web-md==3.4.1) (1.26.13)\n",
      "Requirement already satisfied: idna<4,>=2.5 in j:\\downloads\\nlp\\pyenv\\torchenv\\lib\\site-packages (from requests<3.0.0,>=2.13.0->spacy<3.5.0,>=3.4.0->en-core-web-md==3.4.1) (3.4)\n",
      "Requirement already satisfied: certifi>=2017.4.17 in j:\\downloads\\nlp\\pyenv\\torchenv\\lib\\site-packages (from requests<3.0.0,>=2.13.0->spacy<3.5.0,>=3.4.0->en-core-web-md==3.4.1) (2022.12.7)\n",
      "Requirement already satisfied: blis<0.8.0,>=0.7.8 in j:\\downloads\\nlp\\pyenv\\torchenv\\lib\\site-packages (from thinc<8.2.0,>=8.1.0->spacy<3.5.0,>=3.4.0->en-core-web-md==3.4.1) (0.7.9)\n",
      "Requirement already satisfied: confection<1.0.0,>=0.0.1 in j:\\downloads\\nlp\\pyenv\\torchenv\\lib\\site-packages (from thinc<8.2.0,>=8.1.0->spacy<3.5.0,>=3.4.0->en-core-web-md==3.4.1) (0.0.3)\n",
      "Requirement already satisfied: colorama in j:\\downloads\\nlp\\pyenv\\torchenv\\lib\\site-packages (from tqdm<5.0.0,>=4.38.0->spacy<3.5.0,>=3.4.0->en-core-web-md==3.4.1) (0.4.6)\n",
      "Requirement already satisfied: click<9.0.0,>=7.1.1 in j:\\downloads\\nlp\\pyenv\\torchenv\\lib\\site-packages (from typer<0.8.0,>=0.3.0->spacy<3.5.0,>=3.4.0->en-core-web-md==3.4.1) (8.1.3)\n",
      "Requirement already satisfied: MarkupSafe>=2.0 in j:\\downloads\\nlp\\pyenv\\torchenv\\lib\\site-packages (from jinja2->spacy<3.5.0,>=3.4.0->en-core-web-md==3.4.1) (2.1.1)\n",
      "[+] Download and installation successful\n",
      "You can now load the package via spacy.load('en_core_web_md')\n"
     ]
    },
    {
     "name": "stderr",
     "output_type": "stream",
     "text": [
      "\n",
      "[notice] A new release of pip available: 22.3.1 -> 23.0\n",
      "[notice] To update, run: python.exe -m pip install --upgrade pip\n"
     ]
    },
    {
     "name": "stdout",
     "output_type": "stream",
     "text": [
      "Looking in indexes: https://pypi.org/simple, https://pypi.ngc.nvidia.com\n",
      "Collecting en-core-web-sm==3.4.1\n",
      "  Downloading https://github.com/explosion/spacy-models/releases/download/en_core_web_sm-3.4.1/en_core_web_sm-3.4.1-py3-none-any.whl (12.8 MB)\n",
      "     --------------------------------------- 12.8/12.8 MB 14.9 MB/s eta 0:00:00\n",
      "Requirement already satisfied: spacy<3.5.0,>=3.4.0 in j:\\downloads\\nlp\\pyenv\\torchenv\\lib\\site-packages (from en-core-web-sm==3.4.1) (3.4.4)\n",
      "Requirement already satisfied: thinc<8.2.0,>=8.1.0 in j:\\downloads\\nlp\\pyenv\\torchenv\\lib\\site-packages (from spacy<3.5.0,>=3.4.0->en-core-web-sm==3.4.1) (8.1.6)\n",
      "Requirement already satisfied: spacy-legacy<3.1.0,>=3.0.10 in j:\\downloads\\nlp\\pyenv\\torchenv\\lib\\site-packages (from spacy<3.5.0,>=3.4.0->en-core-web-sm==3.4.1) (3.0.11)\n",
      "Requirement already satisfied: murmurhash<1.1.0,>=0.28.0 in j:\\downloads\\nlp\\pyenv\\torchenv\\lib\\site-packages (from spacy<3.5.0,>=3.4.0->en-core-web-sm==3.4.1) (1.0.9)\n",
      "Requirement already satisfied: catalogue<2.1.0,>=2.0.6 in j:\\downloads\\nlp\\pyenv\\torchenv\\lib\\site-packages (from spacy<3.5.0,>=3.4.0->en-core-web-sm==3.4.1) (2.0.8)\n",
      "Requirement already satisfied: setuptools in j:\\downloads\\nlp\\pyenv\\torchenv\\lib\\site-packages (from spacy<3.5.0,>=3.4.0->en-core-web-sm==3.4.1) (65.6.3)\n",
      "Requirement already satisfied: spacy-loggers<2.0.0,>=1.0.0 in j:\\downloads\\nlp\\pyenv\\torchenv\\lib\\site-packages (from spacy<3.5.0,>=3.4.0->en-core-web-sm==3.4.1) (1.0.4)\n",
      "Requirement already satisfied: requests<3.0.0,>=2.13.0 in j:\\downloads\\nlp\\pyenv\\torchenv\\lib\\site-packages (from spacy<3.5.0,>=3.4.0->en-core-web-sm==3.4.1) (2.28.1)\n",
      "Requirement already satisfied: packaging>=20.0 in j:\\downloads\\nlp\\pyenv\\torchenv\\lib\\site-packages (from spacy<3.5.0,>=3.4.0->en-core-web-sm==3.4.1) (22.0)\n",
      "Requirement already satisfied: wasabi<1.1.0,>=0.9.1 in j:\\downloads\\nlp\\pyenv\\torchenv\\lib\\site-packages (from spacy<3.5.0,>=3.4.0->en-core-web-sm==3.4.1) (0.10.1)\n",
      "Requirement already satisfied: langcodes<4.0.0,>=3.2.0 in j:\\downloads\\nlp\\pyenv\\torchenv\\lib\\site-packages (from spacy<3.5.0,>=3.4.0->en-core-web-sm==3.4.1) (3.3.0)\n",
      "Requirement already satisfied: pydantic!=1.8,!=1.8.1,<1.11.0,>=1.7.4 in j:\\downloads\\nlp\\pyenv\\torchenv\\lib\\site-packages (from spacy<3.5.0,>=3.4.0->en-core-web-sm==3.4.1) (1.10.4)\n",
      "Requirement already satisfied: jinja2 in j:\\downloads\\nlp\\pyenv\\torchenv\\lib\\site-packages (from spacy<3.5.0,>=3.4.0->en-core-web-sm==3.4.1) (3.1.2)\n",
      "Requirement already satisfied: preshed<3.1.0,>=3.0.2 in j:\\downloads\\nlp\\pyenv\\torchenv\\lib\\site-packages (from spacy<3.5.0,>=3.4.0->en-core-web-sm==3.4.1) (3.0.8)\n",
      "Requirement already satisfied: pathy>=0.3.5 in j:\\downloads\\nlp\\pyenv\\torchenv\\lib\\site-packages (from spacy<3.5.0,>=3.4.0->en-core-web-sm==3.4.1) (0.10.1)\n",
      "Requirement already satisfied: cymem<2.1.0,>=2.0.2 in j:\\downloads\\nlp\\pyenv\\torchenv\\lib\\site-packages (from spacy<3.5.0,>=3.4.0->en-core-web-sm==3.4.1) (2.0.7)\n",
      "Requirement already satisfied: tqdm<5.0.0,>=4.38.0 in j:\\downloads\\nlp\\pyenv\\torchenv\\lib\\site-packages (from spacy<3.5.0,>=3.4.0->en-core-web-sm==3.4.1) (4.64.1)\n",
      "Requirement already satisfied: srsly<3.0.0,>=2.4.3 in j:\\downloads\\nlp\\pyenv\\torchenv\\lib\\site-packages (from spacy<3.5.0,>=3.4.0->en-core-web-sm==3.4.1) (2.4.5)\n",
      "Requirement already satisfied: numpy>=1.15.0 in j:\\downloads\\nlp\\pyenv\\torchenv\\lib\\site-packages (from spacy<3.5.0,>=3.4.0->en-core-web-sm==3.4.1) (1.23.5)\n",
      "Requirement already satisfied: typer<0.8.0,>=0.3.0 in j:\\downloads\\nlp\\pyenv\\torchenv\\lib\\site-packages (from spacy<3.5.0,>=3.4.0->en-core-web-sm==3.4.1) (0.7.0)\n",
      "Requirement already satisfied: smart-open<7.0.0,>=5.2.1 in j:\\downloads\\nlp\\pyenv\\torchenv\\lib\\site-packages (from spacy<3.5.0,>=3.4.0->en-core-web-sm==3.4.1) (6.3.0)\n",
      "Requirement already satisfied: typing-extensions>=4.2.0 in j:\\downloads\\nlp\\pyenv\\torchenv\\lib\\site-packages (from pydantic!=1.8,!=1.8.1,<1.11.0,>=1.7.4->spacy<3.5.0,>=3.4.0->en-core-web-sm==3.4.1) (4.4.0)\n",
      "Requirement already satisfied: urllib3<1.27,>=1.21.1 in j:\\downloads\\nlp\\pyenv\\torchenv\\lib\\site-packages (from requests<3.0.0,>=2.13.0->spacy<3.5.0,>=3.4.0->en-core-web-sm==3.4.1) (1.26.13)\n",
      "Requirement already satisfied: charset-normalizer<3,>=2 in j:\\downloads\\nlp\\pyenv\\torchenv\\lib\\site-packages (from requests<3.0.0,>=2.13.0->spacy<3.5.0,>=3.4.0->en-core-web-sm==3.4.1) (2.1.1)\n",
      "Requirement already satisfied: certifi>=2017.4.17 in j:\\downloads\\nlp\\pyenv\\torchenv\\lib\\site-packages (from requests<3.0.0,>=2.13.0->spacy<3.5.0,>=3.4.0->en-core-web-sm==3.4.1) (2022.12.7)\n",
      "Requirement already satisfied: idna<4,>=2.5 in j:\\downloads\\nlp\\pyenv\\torchenv\\lib\\site-packages (from requests<3.0.0,>=2.13.0->spacy<3.5.0,>=3.4.0->en-core-web-sm==3.4.1) (3.4)\n",
      "Requirement already satisfied: blis<0.8.0,>=0.7.8 in j:\\downloads\\nlp\\pyenv\\torchenv\\lib\\site-packages (from thinc<8.2.0,>=8.1.0->spacy<3.5.0,>=3.4.0->en-core-web-sm==3.4.1) (0.7.9)\n",
      "Requirement already satisfied: confection<1.0.0,>=0.0.1 in j:\\downloads\\nlp\\pyenv\\torchenv\\lib\\site-packages (from thinc<8.2.0,>=8.1.0->spacy<3.5.0,>=3.4.0->en-core-web-sm==3.4.1) (0.0.3)\n",
      "Requirement already satisfied: colorama in j:\\downloads\\nlp\\pyenv\\torchenv\\lib\\site-packages (from tqdm<5.0.0,>=4.38.0->spacy<3.5.0,>=3.4.0->en-core-web-sm==3.4.1) (0.4.6)\n",
      "Requirement already satisfied: click<9.0.0,>=7.1.1 in j:\\downloads\\nlp\\pyenv\\torchenv\\lib\\site-packages (from typer<0.8.0,>=0.3.0->spacy<3.5.0,>=3.4.0->en-core-web-sm==3.4.1) (8.1.3)\n",
      "Requirement already satisfied: MarkupSafe>=2.0 in j:\\downloads\\nlp\\pyenv\\torchenv\\lib\\site-packages (from jinja2->spacy<3.5.0,>=3.4.0->en-core-web-sm==3.4.1) (2.1.1)\n",
      "[+] Download and installation successful\n",
      "You can now load the package via spacy.load('en_core_web_sm')\n"
     ]
    },
    {
     "name": "stderr",
     "output_type": "stream",
     "text": [
      "\n",
      "[notice] A new release of pip available: 22.3.1 -> 23.0\n",
      "[notice] To update, run: python.exe -m pip install --upgrade pip\n"
     ]
    }
   ]
  },
  {
   "cell_type": "code",
   "execution_count": 1,
   "outputs": [
    {
     "name": "stdout",
     "output_type": "stream",
     "text": [
      " Il volume nell'unit… J Š HDD\n",
      " Numero di serie del volume: 7C24-9F9D\n",
      "\n",
      " Directory di J:\\Downloads\\NLP\\kred\n",
      "\n",
      "31/01/2023  13:08    <DIR>          .\n",
      "14/01/2023  11:41    <DIR>          ..\n",
      "05/01/2023  10:26               107 .gitignore\n",
      "31/01/2023  13:09    <DIR>          .idea\n",
      "05/01/2023  00:25    <DIR>          .vscode\n",
      "05/01/2023  00:25                 0 __init__.py\n",
      "31/01/2023  11:04    <DIR>          __pycache__\n",
      "10/01/2023  13:16    <DIR>          apicache-py3\n",
      "05/01/2023  08:56    <DIR>          base\n",
      "05/01/2023  11:33         3.655.339 checkpoint.pt\n",
      "05/01/2023  10:55             1.481 config.yaml\n",
      "08/01/2023  16:31    <DIR>          core\n",
      "04/01/2023  17:14       131.711.608 data_dict_1672848868384.pkl\n",
      "04/01/2023  17:52    <DIR>          datasets\n",
      "05/01/2023  10:22        10.320.431 first100pairs_test_data.csv\n",
      "05/01/2023  00:25           175.182 framework.PNG\n",
      "05/01/2023  00:25            31.065 kred_example.ipynb\n",
      "31/01/2023  13:08            42.732 KRED_train.ipynb\n",
      "31/01/2023  11:13         1.368.520 KRED-Data_Preparation.ipynb\n",
      "05/01/2023  13:01           434.464 KRED-Model_Train.ipynb\n",
      "08/01/2023  16:16    <DIR>          LinkedIn-Tech-Job-Data\n",
      "05/01/2023  08:56    <DIR>          logger\n",
      "05/01/2023  00:25             1.102 main.py\n",
      "05/01/2023  00:25            41.638 MIND-demo.ipynb\n",
      "05/01/2023  09:45    <DIR>          model\n",
      "05/01/2023  00:25            99.756 model_run.ipynb\n",
      "05/01/2023  00:25    <DIR>          old\n",
      "05/01/2023  08:58    <DIR>          out\n",
      "05/01/2023  00:25             6.413 parse_config.py\n",
      "08/01/2023  16:33                 0 pywikibot.lwp\n",
      "05/01/2023  00:25             1.138 README.md\n",
      "05/01/2023  00:25            16.274 req.txt\n",
      "05/01/2023  00:25                 0 requirements.txt\n",
      "05/01/2023  12:25        10.095.654 test_data.pkl\n",
      "13/01/2023  23:09                 0 throttle.ctrl\n",
      "31/01/2023  11:12    <DIR>          tmp\n",
      "31/01/2023  13:08                96 train_jobs.csv\n",
      "05/01/2023  12:50             9.572 train_test.py\n",
      "05/01/2023  08:56    <DIR>          trainer\n",
      "31/01/2023  12:58    <DIR>          utils\n",
      "              23 File    158.012.572 byte\n",
      "              17 Directory  1.507.863.859.200 byte disponibili\n"
     ]
    }
   ],
   "source": [
    "%ls"
   ],
   "metadata": {
    "collapsed": false
   }
  },
  {
   "cell_type": "code",
   "execution_count": 5,
   "outputs": [],
   "source": [
    "import pandas as pd\n",
    "import csv\n",
    "from utils import extract_wikidata"
   ],
   "metadata": {
    "collapsed": false
   }
  },
  {
   "cell_type": "code",
   "execution_count": 1,
   "outputs": [
    {
     "name": "stderr",
     "output_type": "stream",
     "text": [
      "[nltk_data] Downloading package averaged_perceptron_tagger to\n",
      "[nltk_data]     C:\\Users\\39333\\AppData\\Roaming\\nltk_data...\n",
      "[nltk_data]   Package averaged_perceptron_tagger is already up-to-\n",
      "[nltk_data]       date!\n",
      "[nltk_data] Downloading package punkt to\n",
      "[nltk_data]     C:\\Users\\39333\\AppData\\Roaming\\nltk_data...\n",
      "[nltk_data]   Package punkt is already up-to-date!\n",
      "[nltk_data] Downloading package maxent_ne_chunker to\n",
      "[nltk_data]     C:\\Users\\39333\\AppData\\Roaming\\nltk_data...\n",
      "[nltk_data]   Package maxent_ne_chunker is already up-to-date!\n",
      "[nltk_data] Downloading package words to\n",
      "[nltk_data]     C:\\Users\\39333\\AppData\\Roaming\\nltk_data...\n",
      "[nltk_data]   Package words is already up-to-date!\n"
     ]
    }
   ],
   "source": [
    "df = pd.read_csv('datasets/SO-Indeed/jobs.csv')\n",
    "records = df.to_dict(orient='records')"
   ],
   "metadata": {
    "collapsed": false
   }
  },
  {
   "cell_type": "code",
   "execution_count": 32,
   "outputs": [],
   "source": [
    "\n",
    "jobs_info = [ 'post_id', 'industries','job_function', 'title', 'abstract', 'post_url', 'entity_info_title', 'entity_info_abstract']\n",
    "\n",
    "#new_dict = []\n",
    "djob = {}\n",
    "#wikidata_ids = []\n",
    "with open('train_jobs.csv', 'a', encoding='utf-8', newline='') as csvfile:\n",
    "    writer = csv.DictWriter(csvfile, fieldnames = jobs_info)\n",
    "    #writer.writeheader()\n",
    "    for job in records[7713:]:\n",
    "        djob[\"post_id\"] = job['post_id']\n",
    "        djob[\"industries\"] = job['Industries']\n",
    "        djob[\"job_function\"] = job['Job function']\n",
    "        djob[\"title\"] = job['title']\n",
    "        djob[\"abstract\"] = extract_wikidata.extract_significant_sentences(job['description']) ##\n",
    "        djob[\"post_url\"] = job['post_url']\n",
    "\n",
    "        #doc_trf = nlp_trf(job['description'])\n",
    "        djob[\"entity_info_title\"] = extract_wikidata.get_extract(job['description'], wikidata_ids)\n",
    "        djob[\"entity_info_abstract\"] = [] #remember to remove from util.py in for entity in eval(entity_info_abstract)\n",
    "        #print(djob)\n",
    "        writer.writerow(djob)\n"
   ],
   "metadata": {
    "collapsed": false
   }
  },
  {
   "cell_type": "code",
   "execution_count": 7,
   "outputs": [],
   "source": [
    "from utils.extract_wikidata import get_ids\n",
    "\n",
    "wikidata_ids = []\n",
    "with open('train_jobs.csv', 'r', encoding='utf-8') as csv_file:\n",
    "    df = pd.read_csv(csv_file)\n",
    "    entity_info_title_col = df.entity_info_title\n",
    "\n",
    "get_ids(entity_info_title_col, wikidata_ids)"
   ],
   "metadata": {
    "collapsed": false
   }
  },
  {
   "cell_type": "code",
   "execution_count": 11,
   "outputs": [
    {
     "data": {
      "text/plain": "13398"
     },
     "execution_count": 11,
     "metadata": {},
     "output_type": "execute_result"
    }
   ],
   "source": [
    "len(wikidata_ids)"
   ],
   "metadata": {
    "collapsed": false
   }
  },
  {
   "cell_type": "code",
   "execution_count": 10,
   "outputs": [],
   "source": [
    "file = open('wikidata_ids.txt', 'a', encoding='utf-8')\n",
    "for wikidata in wikidata_ids:\n",
    "\tfile.write(wikidata + \"\\n\")\n",
    "file.close()"
   ],
   "metadata": {
    "collapsed": false
   }
  },
  {
   "cell_type": "markdown",
   "source": [
    "#news | jobs\n",
    "#id : post_id\n",
    "#category: Industries\n",
    "#subcategory : job function\n",
    "#title: title\n",
    "#abstract : requirements\n",
    "#url : url\n",
    "#entity_info_title : only one [{label, type, wikidataId, confidence, occurrence offsets, surface forms}]\n",
    "#entity_info_abstract: all the first 3[{label, type, wikidataId, confidence, occurrence offsets, surface forms}]\n",
    "\n",
    "\n",
    "data:\n",
    "  train_news : \"./datasets/mind_train_demo/news.tsv\" ###\n",
    "  train_behavior : \"./datasets/mind_train_demo/behaviors.tsv\"\n",
    "  valid_news : \"./datasets/mind_val_demo/news.tsv\"\n",
    "  valid_behavior : \"./datasets/mind_val_demo/behaviors.tsv\"\n",
    "  knowledge_graph : \"./datasets/mind_utils_demo/triple2id.txt\" --- h t r\n",
    "  entity_embedding : \"./datasets/mind_utils_demo/entity2vecd100.vec\" ###\n",
    "  num_entity_embedding: 3275150\n",
    "  relation_embedding : \"./datasets/mind_utils_demo/relation2vecd100.vec\" ---\n",
    "  entity_index : \"./datasets/mind_utils_demo/entity2id.txt\" ###\n",
    "  relation_index : \"./datasets/mind_utils_demo/relation2id.txt\" ---\n",
    "  sparse_adj_entity : \"./datasets/mind_utils_demo/entity_adj.npy\"\n",
    "  sparse_adj_relation : \"./datasets/mind_utils_demo/relation_adj.npy\"\n",
    "  mind_data : \"./data_dict_1672848868384.pkl\""
   ],
   "metadata": {
    "collapsed": false
   }
  }
 ]
}
