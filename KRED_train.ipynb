{
 "nbformat": 4,
 "nbformat_minor": 0,
 "metadata": {
  "colab": {
   "provenance": []
  },
  "kernelspec": {
   "name": "python3",
   "display_name": "Python 3"
  },
  "language_info": {
   "name": "python"
  },
  "accelerator": "GPU",
  "gpuClass": "standard"
 },
 "cells": [
  {
   "cell_type": "code",
   "execution_count": 4,
   "metadata": {
    "colab": {
     "base_uri": "https://localhost:8080/"
    },
    "id": "ZDi6BTjudjq2",
    "outputId": "c40a1d80-88d0-42bd-bb06-d8b4df8a7180"
   },
   "outputs": [
    {
     "name": "stdout",
     "output_type": "stream",
     "text": [
      " Il volume nell'unit… J Š HDD\n",
      " Numero di serie del volume: 7C24-9F9D\n",
      "\n",
      " Directory di J:\\Downloads\\NLP\\kred\n",
      "\n",
      "08/01/2023  16:18    <DIR>          .\n",
      "05/01/2023  10:38    <DIR>          ..\n",
      "05/01/2023  10:26               107 .gitignore\n",
      "08/01/2023  14:58    <DIR>          .idea\n",
      "05/01/2023  00:25    <DIR>          .vscode\n",
      "05/01/2023  00:25                 0 __init__.py\n",
      "05/01/2023  08:56    <DIR>          __pycache__\n",
      "05/01/2023  08:56    <DIR>          base\n",
      "05/01/2023  11:33         3.655.339 checkpoint.pt\n",
      "05/01/2023  10:55             1.481 config.yaml\n",
      "04/01/2023  17:14       131.711.608 data_dict_1672848868384.pkl\n",
      "04/01/2023  17:52    <DIR>          datasets\n",
      "05/01/2023  10:22        10.320.431 first100pairs_test_data.csv\n",
      "05/01/2023  00:25           175.182 framework.PNG\n",
      "05/01/2023  00:25            31.065 kred_example.ipynb\n",
      "08/01/2023  16:18           101.899 KRED_train.ipynb\n",
      "05/01/2023  00:25             9.149 KRED-Data_Preparation.ipynb\n",
      "05/01/2023  13:01           434.464 KRED-Model_Train.ipynb\n",
      "08/01/2023  16:16    <DIR>          LinkedIn-Tech-Job-Data\n",
      "05/01/2023  08:56    <DIR>          logger\n",
      "05/01/2023  00:25             1.102 main.py\n",
      "05/01/2023  00:25            41.638 MIND-demo.ipynb\n",
      "05/01/2023  09:45    <DIR>          model\n",
      "05/01/2023  00:25            99.756 model_run.ipynb\n",
      "05/01/2023  00:25    <DIR>          old\n",
      "05/01/2023  08:58    <DIR>          out\n",
      "05/01/2023  00:25             6.413 parse_config.py\n",
      "07/01/2023  19:52               615 prep_SO+Indeed.ipynb\n",
      "05/01/2023  00:25             1.138 README.md\n",
      "05/01/2023  00:25            16.274 req.txt\n",
      "05/01/2023  00:25                 0 requirements.txt\n",
      "05/01/2023  12:25        10.095.654 test_data.pkl\n",
      "05/01/2023  12:50             9.572 train_test.py\n",
      "05/01/2023  08:56    <DIR>          trainer\n",
      "05/01/2023  08:56    <DIR>          utils\n",
      "              21 File    156.712.887 byte\n",
      "              14 Directory  1.561.743.245.312 byte disponibili\n"
     ]
    }
   ],
   "source": [
    "import RAKE\n",
    "%ls"
   ]
  },
  {
   "cell_type": "code",
   "source": [
    "!git clone https://github.com/Mlawrence95/LinkedIn-Tech-Job-Data.git"
   ],
   "metadata": {
    "colab": {
     "base_uri": "https://localhost:8080/"
    },
    "id": "CUXRdve9lMOe",
    "outputId": "65eb63f8-8789-40c8-f565-27c4870e9351"
   },
   "execution_count": 2,
   "outputs": [
    {
     "name": "stderr",
     "output_type": "stream",
     "text": [
      "Cloning into 'LinkedIn-Tech-Job-Data'...\n"
     ]
    }
   ]
  },
  {
   "cell_type": "code",
   "source": [
    "%cd LinkedIn-Tech-Job-Data"
   ],
   "metadata": {
    "colab": {
     "base_uri": "https://localhost:8080/"
    },
    "id": "3QkKiONVlWpy",
    "outputId": "5d71864b-531f-4233-edb4-cd2ce86d8a83"
   },
   "execution_count": 4,
   "outputs": [
    {
     "output_type": "stream",
     "name": "stdout",
     "text": [
      "/content/drive/MyDrive/kred/LinkedIn-Tech-Job-Data\n"
     ]
    }
   ]
  },
  {
   "cell_type": "code",
   "source": [
    "!pip install --upgrade ipython\n",
    "!pip install sentence_transformers"
   ],
   "metadata": {
    "id": "_c7M_IkXgbqJ"
   },
   "execution_count": 3,
   "outputs": [
    {
     "name": "stdout",
     "output_type": "stream",
     "text": [
      "Looking in indexes: https://pypi.org/simple, https://pypi.ngc.nvidia.com\n",
      "Requirement already satisfied: ipython in j:\\downloads\\nlp\\pyenv\\torchenv\\lib\\site-packages (8.7.0)\n",
      "Collecting ipython\n",
      "  Downloading ipython-8.8.0-py3-none-any.whl (775 kB)\n",
      "     -------------------------------------- 775.8/775.8 kB 6.1 MB/s eta 0:00:00\n",
      "Requirement already satisfied: jedi>=0.16 in j:\\downloads\\nlp\\pyenv\\torchenv\\lib\\site-packages (from ipython) (0.18.2)\n",
      "Requirement already satisfied: prompt-toolkit<3.1.0,>=3.0.11 in j:\\downloads\\nlp\\pyenv\\torchenv\\lib\\site-packages (from ipython) (3.0.36)\n",
      "Requirement already satisfied: matplotlib-inline in j:\\downloads\\nlp\\pyenv\\torchenv\\lib\\site-packages (from ipython) (0.1.6)\n",
      "Requirement already satisfied: backcall in j:\\downloads\\nlp\\pyenv\\torchenv\\lib\\site-packages (from ipython) (0.2.0)\n",
      "Requirement already satisfied: pygments>=2.4.0 in j:\\downloads\\nlp\\pyenv\\torchenv\\lib\\site-packages (from ipython) (2.13.0)\n",
      "Requirement already satisfied: traitlets>=5 in j:\\downloads\\nlp\\pyenv\\torchenv\\lib\\site-packages (from ipython) (5.7.1)\n",
      "Requirement already satisfied: decorator in j:\\downloads\\nlp\\pyenv\\torchenv\\lib\\site-packages (from ipython) (5.1.1)\n",
      "Requirement already satisfied: stack-data in j:\\downloads\\nlp\\pyenv\\torchenv\\lib\\site-packages (from ipython) (0.6.2)\n",
      "Requirement already satisfied: pickleshare in j:\\downloads\\nlp\\pyenv\\torchenv\\lib\\site-packages (from ipython) (0.7.5)\n",
      "Requirement already satisfied: colorama in j:\\downloads\\nlp\\pyenv\\torchenv\\lib\\site-packages (from ipython) (0.4.6)\n",
      "Requirement already satisfied: parso<0.9.0,>=0.8.0 in j:\\downloads\\nlp\\pyenv\\torchenv\\lib\\site-packages (from jedi>=0.16->ipython) (0.8.3)\n",
      "Requirement already satisfied: wcwidth in j:\\downloads\\nlp\\pyenv\\torchenv\\lib\\site-packages (from prompt-toolkit<3.1.0,>=3.0.11->ipython) (0.2.5)\n",
      "Requirement already satisfied: executing>=1.2.0 in j:\\downloads\\nlp\\pyenv\\torchenv\\lib\\site-packages (from stack-data->ipython) (1.2.0)\n",
      "Requirement already satisfied: asttokens>=2.1.0 in j:\\downloads\\nlp\\pyenv\\torchenv\\lib\\site-packages (from stack-data->ipython) (2.2.1)\n",
      "Requirement already satisfied: pure-eval in j:\\downloads\\nlp\\pyenv\\torchenv\\lib\\site-packages (from stack-data->ipython) (0.2.2)\n",
      "Requirement already satisfied: six in j:\\downloads\\nlp\\pyenv\\torchenv\\lib\\site-packages (from asttokens>=2.1.0->stack-data->ipython) (1.16.0)\n",
      "Installing collected packages: ipython\n",
      "  Attempting uninstall: ipython\n",
      "    Found existing installation: ipython 8.7.0\n",
      "    Uninstalling ipython-8.7.0:\n",
      "      Successfully uninstalled ipython-8.7.0\n",
      "Successfully installed ipython-8.8.0\n",
      "Looking in indexes: https://pypi.org/simple, https://pypi.ngc.nvidia.com\n",
      "Requirement already satisfied: sentence_transformers in j:\\downloads\\nlp\\pyenv\\torchenv\\lib\\site-packages (2.2.2)\n",
      "Requirement already satisfied: transformers<5.0.0,>=4.6.0 in j:\\downloads\\nlp\\pyenv\\torchenv\\lib\\site-packages (from sentence_transformers) (4.25.1)\n",
      "Requirement already satisfied: tqdm in j:\\downloads\\nlp\\pyenv\\torchenv\\lib\\site-packages (from sentence_transformers) (4.64.1)\n",
      "Requirement already satisfied: torch>=1.6.0 in j:\\downloads\\nlp\\pyenv\\torchenv\\lib\\site-packages (from sentence_transformers) (1.13.0+cu117)\n",
      "Requirement already satisfied: torchvision in j:\\downloads\\nlp\\pyenv\\torchenv\\lib\\site-packages (from sentence_transformers) (0.14.0+cu117)\n",
      "Requirement already satisfied: numpy in j:\\downloads\\nlp\\pyenv\\torchenv\\lib\\site-packages (from sentence_transformers) (1.23.5)\n",
      "Requirement already satisfied: scikit-learn in j:\\downloads\\nlp\\pyenv\\torchenv\\lib\\site-packages (from sentence_transformers) (1.2.0)\n",
      "Requirement already satisfied: scipy in j:\\downloads\\nlp\\pyenv\\torchenv\\lib\\site-packages (from sentence_transformers) (1.9.3)\n",
      "Requirement already satisfied: nltk in j:\\downloads\\nlp\\pyenv\\torchenv\\lib\\site-packages (from sentence_transformers) (3.8)\n",
      "Requirement already satisfied: sentencepiece in j:\\downloads\\nlp\\pyenv\\torchenv\\lib\\site-packages (from sentence_transformers) (0.1.97)\n",
      "Requirement already satisfied: huggingface-hub>=0.4.0 in j:\\downloads\\nlp\\pyenv\\torchenv\\lib\\site-packages (from sentence_transformers) (0.11.1)\n",
      "Requirement already satisfied: pyyaml>=5.1 in j:\\downloads\\nlp\\pyenv\\torchenv\\lib\\site-packages (from huggingface-hub>=0.4.0->sentence_transformers) (6.0)\n",
      "Requirement already satisfied: filelock in j:\\downloads\\nlp\\pyenv\\torchenv\\lib\\site-packages (from huggingface-hub>=0.4.0->sentence_transformers) (3.8.2)\n",
      "Requirement already satisfied: packaging>=20.9 in j:\\downloads\\nlp\\pyenv\\torchenv\\lib\\site-packages (from huggingface-hub>=0.4.0->sentence_transformers) (22.0)\n",
      "Requirement already satisfied: typing-extensions>=3.7.4.3 in j:\\downloads\\nlp\\pyenv\\torchenv\\lib\\site-packages (from huggingface-hub>=0.4.0->sentence_transformers) (4.4.0)\n",
      "Requirement already satisfied: requests in j:\\downloads\\nlp\\pyenv\\torchenv\\lib\\site-packages (from huggingface-hub>=0.4.0->sentence_transformers) (2.28.1)\n",
      "Requirement already satisfied: tokenizers!=0.11.3,<0.14,>=0.11.1 in j:\\downloads\\nlp\\pyenv\\torchenv\\lib\\site-packages (from transformers<5.0.0,>=4.6.0->sentence_transformers) (0.13.2)\n",
      "Requirement already satisfied: regex!=2019.12.17 in j:\\downloads\\nlp\\pyenv\\torchenv\\lib\\site-packages (from transformers<5.0.0,>=4.6.0->sentence_transformers) (2022.10.31)\n",
      "Requirement already satisfied: colorama in j:\\downloads\\nlp\\pyenv\\torchenv\\lib\\site-packages (from tqdm->sentence_transformers) (0.4.6)\n",
      "Requirement already satisfied: joblib in j:\\downloads\\nlp\\pyenv\\torchenv\\lib\\site-packages (from nltk->sentence_transformers) (1.2.0)\n",
      "Requirement already satisfied: click in j:\\downloads\\nlp\\pyenv\\torchenv\\lib\\site-packages (from nltk->sentence_transformers) (8.1.3)\n",
      "Requirement already satisfied: threadpoolctl>=2.0.0 in j:\\downloads\\nlp\\pyenv\\torchenv\\lib\\site-packages (from scikit-learn->sentence_transformers) (3.1.0)\n",
      "Requirement already satisfied: pillow!=8.3.*,>=5.3.0 in j:\\downloads\\nlp\\pyenv\\torchenv\\lib\\site-packages (from torchvision->sentence_transformers) (9.3.0)\n",
      "Requirement already satisfied: charset-normalizer<3,>=2 in j:\\downloads\\nlp\\pyenv\\torchenv\\lib\\site-packages (from requests->huggingface-hub>=0.4.0->sentence_transformers) (2.1.1)\n",
      "Requirement already satisfied: idna<4,>=2.5 in j:\\downloads\\nlp\\pyenv\\torchenv\\lib\\site-packages (from requests->huggingface-hub>=0.4.0->sentence_transformers) (3.4)\n",
      "Requirement already satisfied: certifi>=2017.4.17 in j:\\downloads\\nlp\\pyenv\\torchenv\\lib\\site-packages (from requests->huggingface-hub>=0.4.0->sentence_transformers) (2022.12.7)\n",
      "Requirement already satisfied: urllib3<1.27,>=1.21.1 in j:\\downloads\\nlp\\pyenv\\torchenv\\lib\\site-packages (from requests->huggingface-hub>=0.4.0->sentence_transformers) (1.26.13)\n"
     ]
    }
   ]
  },
  {
   "cell_type": "code",
   "source": [
    "import gzip\n",
    "import time\n",
    "import torch\n",
    "import os\n",
    "from utils import *\n",
    "from train_test import *\n",
    "import argparse\n",
    "from parse_config import ConfigParser\n",
    "\n",
    "\n",
    "# Config Loading\n",
    "parser = argparse.ArgumentParser(description='KRED')\n",
    "parser.add_argument('-f')\n",
    "parser.add_argument('-c', '--config', default=\"./config.json\", type=str,\n",
    "                    help='config file path (default: None)')\n",
    "parser.add_argument('-r', '--resume', default=None, type=str,\n",
    "                    help='path to latest checkpoint (default: None)')\n",
    "parser.add_argument('-d', '--device', default=None, type=str,\n",
    "                    help='indices of GPUs to enable (default: all)')\n",
    "\n",
    "config = ConfigParser.from_args(parser)\n",
    "\n",
    "data = load_pretrained_data_mind(config)\n"
   ],
   "metadata": {
    "id": "b7qQxQxjd5qs"
   },
   "execution_count": null,
   "outputs": []
  },
  {
   "cell_type": "code",
   "source": [
    "if config['trainer']['training_type'] == \"single_task\":\n",
    "    single_task_training(config, data)\n",
    "else:\n",
    "    multi_task_training(config, data)"
   ],
   "metadata": {
    "colab": {
     "base_uri": "https://localhost:8080/"
    },
    "id": "AzX0yJp5gJ1Y",
    "outputId": "84f829a1-976e-4078-b058-4f7058cb18e2"
   },
   "execution_count": null,
   "outputs": [
    {
     "output_type": "stream",
     "name": "stdout",
     "text": [
      "model training\n",
      "Training epoch 0/11 - 0.0\n",
      "######\n",
      " Step: 0, 0.0 \n",
      "######\n",
      "######\n",
      " Step: 100, 0.7352941176470589 \n",
      "######\n",
      "all loss: tensor(67.9992, device='cuda:0', grad_fn=<AddBackward0>)\n",
      "_train_epoch\n",
      "auc socre: 0.6118746087795882\n",
      "valid_socre\n",
      "valid_scores\n",
      "early_stopping\n",
      "Saving checkpoint: out/saved/models/KRED/0105_110654/checkpoint-model-epoch1.pth ...\n",
      "epoch % self.save_period\n",
      "Training epoch 1/11 - 0.09090909090909091\n",
      "######\n",
      " Step: 0, 0.0 \n",
      "######\n",
      "######\n",
      " Step: 100, 0.7352941176470589 \n",
      "######\n",
      "all loss: tensor(67.5875, device='cuda:0', grad_fn=<AddBackward0>)\n",
      "_train_epoch\n",
      "auc socre: 0.6117740784406757\n",
      "valid_socre\n",
      "valid_scores\n",
      "early_stopping\n",
      "Saving checkpoint: out/saved/models/KRED/0105_110654/checkpoint-model-epoch2.pth ...\n",
      "epoch % self.save_period\n",
      "Training epoch 2/11 - 0.18181818181818182\n",
      "######\n",
      " Step: 0, 0.0 \n",
      "######\n",
      "######\n",
      " Step: 100, 0.7352941176470589 \n",
      "######\n",
      "all loss: tensor(66.4398, device='cuda:0', grad_fn=<AddBackward0>)\n",
      "_train_epoch\n",
      "auc socre: 0.6167082639081938\n",
      "valid_socre\n",
      "valid_scores\n",
      "early_stopping\n",
      "Saving checkpoint: out/saved/models/KRED/0105_110654/checkpoint-model-epoch3.pth ...\n",
      "epoch % self.save_period\n",
      "Training epoch 3/11 - 0.2727272727272727\n",
      "######\n",
      " Step: 0, 0.0 \n",
      "######\n",
      "######\n",
      " Step: 100, 0.7352941176470589 \n",
      "######\n",
      "all loss: tensor(65.3839, device='cuda:0', grad_fn=<AddBackward0>)\n",
      "_train_epoch\n",
      "auc socre: 0.619277363560926\n",
      "valid_socre\n",
      "valid_scores\n",
      "early_stopping\n",
      "Saving checkpoint: out/saved/models/KRED/0105_110654/checkpoint-model-epoch4.pth ...\n",
      "epoch % self.save_period\n",
      "Training epoch 4/11 - 0.36363636363636365\n",
      "######\n",
      " Step: 0, 0.0 \n",
      "######\n",
      "######\n",
      " Step: 100, 0.7352941176470589 \n",
      "######\n",
      "all loss: tensor(64.7786, device='cuda:0', grad_fn=<AddBackward0>)\n",
      "_train_epoch\n",
      "auc socre: 0.6221128189972126\n",
      "valid_socre\n",
      "valid_scores\n",
      "early_stopping\n",
      "Saving checkpoint: out/saved/models/KRED/0105_110654/checkpoint-model-epoch5.pth ...\n",
      "epoch % self.save_period\n",
      "Training epoch 5/11 - 0.45454545454545453\n",
      "######\n",
      " Step: 0, 0.0 \n",
      "######\n",
      "######\n",
      " Step: 100, 0.7352941176470589 \n",
      "######\n",
      "all loss: tensor(64.4022, device='cuda:0', grad_fn=<AddBackward0>)\n",
      "_train_epoch\n",
      "auc socre: 0.6225734384315449\n",
      "valid_socre\n",
      "valid_scores\n",
      "early_stopping\n",
      "Saving checkpoint: out/saved/models/KRED/0105_110654/checkpoint-model-epoch6.pth ...\n",
      "epoch % self.save_period\n",
      "Training epoch 6/11 - 0.5454545454545454\n",
      "######\n",
      " Step: 0, 0.0 \n",
      "######\n",
      "######\n",
      " Step: 100, 0.7352941176470589 \n",
      "######\n",
      "all loss: tensor(64.1197, device='cuda:0', grad_fn=<AddBackward0>)\n",
      "_train_epoch\n",
      "auc socre: 0.6240798455536513\n",
      "valid_socre\n",
      "valid_scores\n",
      "early_stopping\n",
      "Saving checkpoint: out/saved/models/KRED/0105_110654/checkpoint-model-epoch7.pth ...\n",
      "epoch % self.save_period\n",
      "Training epoch 7/11 - 0.6363636363636364\n",
      "######\n",
      " Step: 0, 0.0 \n",
      "######\n",
      "######\n",
      " Step: 100, 0.7352941176470589 \n",
      "######\n",
      "all loss: tensor(63.8918, device='cuda:0', grad_fn=<AddBackward0>)\n",
      "_train_epoch\n",
      "auc socre: 0.6233244385387438\n",
      "valid_socre\n",
      "valid_scores\n",
      "early_stopping\n",
      "Saving checkpoint: out/saved/models/KRED/0105_110654/checkpoint-model-epoch8.pth ...\n",
      "epoch % self.save_period\n",
      "Training epoch 8/11 - 0.7272727272727273\n",
      "######\n",
      " Step: 0, 0.0 \n",
      "######\n",
      "######\n",
      " Step: 100, 0.7352941176470589 \n",
      "######\n",
      "all loss: tensor(63.6715, device='cuda:0', grad_fn=<AddBackward0>)\n",
      "_train_epoch\n",
      "auc socre: 0.623521874220932\n",
      "valid_socre\n",
      "valid_scores\n",
      "early_stopping\n",
      "Saving checkpoint: out/saved/models/KRED/0105_110654/checkpoint-model-epoch9.pth ...\n",
      "epoch % self.save_period\n",
      "Training epoch 9/11 - 0.8181818181818182\n",
      "######\n",
      " Step: 0, 0.0 \n",
      "######\n",
      "######\n",
      " Step: 100, 0.7352941176470589 \n",
      "######\n",
      "all loss: tensor(63.4644, device='cuda:0', grad_fn=<AddBackward0>)\n",
      "_train_epoch\n",
      "auc socre: 0.6246956269465205\n",
      "valid_socre\n",
      "valid_scores\n",
      "early_stopping\n",
      "Saving checkpoint: out/saved/models/KRED/0105_110654/checkpoint-model-epoch10.pth ...\n",
      "epoch % self.save_period\n"
     ]
    }
   ]
  },
  {
   "cell_type": "code",
   "source": [
    "test_data = data[-1]\n",
    "testing(test_data, config)"
   ],
   "metadata": {
    "colab": {
     "base_uri": "https://localhost:8080/"
    },
    "id": "ol5gQeq6LQg2",
    "outputId": "1fba9e24-bf57-4863-f7c2-0264e2c7a7b8"
   },
   "execution_count": null,
   "outputs": [
    {
     "output_type": "stream",
     "name": "stdout",
     "text": [
      "auc score:0.6246956269465205\n",
      "ndcg score:0.32927349361412417\n"
     ]
    }
   ]
  },
  {
   "cell_type": "code",
   "source": [
    "!pip install -U pip setuptools wheel\n",
    "!pip install spacy-transformers\n",
    "!pip install pytextrank\n",
    "!python -m spacy download en_core_web_trf\n",
    "!python -m spacy download en_core_web_md\n",
    "!python -m spacy download en_core_web_sm\n"
   ],
   "metadata": {
    "colab": {
     "base_uri": "https://localhost:8080/"
    },
    "id": "PgGuqXHFwOJI",
    "outputId": "29b07972-9ed3-473b-baad-a6fef2ad18e8"
   },
   "execution_count": 13,
   "outputs": [
    {
     "name": "stdout",
     "output_type": "stream",
     "text": [
      "Looking in indexes: https://pypi.org/simple, https://pypi.ngc.nvidia.com\n",
      "Requirement already satisfied: pip in j:\\downloads\\nlp\\pyenv\\torchenv\\lib\\site-packages (22.3.1)\n",
      "Requirement already satisfied: setuptools in j:\\downloads\\nlp\\pyenv\\torchenv\\lib\\site-packages (65.6.3)\n",
      "Requirement already satisfied: wheel in j:\\downloads\\nlp\\pyenv\\torchenv\\lib\\site-packages (0.38.4)\n",
      "Looking in indexes: https://pypi.org/simple, https://pypi.ngc.nvidia.com\n",
      "Collecting spacy-transformers\n",
      "  Downloading spacy_transformers-1.1.9-py2.py3-none-any.whl (53 kB)\n",
      "     ---------------------------------------- 53.5/53.5 kB 1.4 MB/s eta 0:00:00\n",
      "Collecting spacy<4.0.0,>=3.4.0\n",
      "  Downloading spacy-3.4.4-cp39-cp39-win_amd64.whl (11.9 MB)\n",
      "     ---------------------------------------- 11.9/11.9 MB 8.5 MB/s eta 0:00:00\n",
      "Collecting spacy-alignments<1.0.0,>=0.7.2\n",
      "  Downloading spacy_alignments-0.9.0-cp39-cp39-win_amd64.whl (186 kB)\n",
      "     -------------------------------------- 186.7/186.7 kB 5.7 MB/s eta 0:00:00\n",
      "Requirement already satisfied: torch>=1.6.0 in j:\\downloads\\nlp\\pyenv\\torchenv\\lib\\site-packages (from spacy-transformers) (1.13.0+cu117)\n",
      "Requirement already satisfied: transformers<4.26.0,>=3.4.0 in j:\\downloads\\nlp\\pyenv\\torchenv\\lib\\site-packages (from spacy-transformers) (4.25.1)\n",
      "Collecting srsly<3.0.0,>=2.4.0\n",
      "  Downloading srsly-2.4.5-cp39-cp39-win_amd64.whl (481 kB)\n",
      "     ------------------------------------- 481.4/481.4 kB 10.0 MB/s eta 0:00:00\n",
      "Requirement already satisfied: packaging>=20.0 in j:\\downloads\\nlp\\pyenv\\torchenv\\lib\\site-packages (from spacy<4.0.0,>=3.4.0->spacy-transformers) (22.0)\n",
      "Collecting pathy>=0.3.5\n",
      "  Downloading pathy-0.10.1-py3-none-any.whl (48 kB)\n",
      "     ---------------------------------------- 48.9/48.9 kB ? eta 0:00:00\n",
      "Requirement already satisfied: requests<3.0.0,>=2.13.0 in j:\\downloads\\nlp\\pyenv\\torchenv\\lib\\site-packages (from spacy<4.0.0,>=3.4.0->spacy-transformers) (2.28.1)\n",
      "Collecting murmurhash<1.1.0,>=0.28.0\n",
      "  Downloading murmurhash-1.0.9-cp39-cp39-win_amd64.whl (18 kB)\n",
      "Collecting langcodes<4.0.0,>=3.2.0\n",
      "  Downloading langcodes-3.3.0-py3-none-any.whl (181 kB)\n",
      "     ------------------------------------- 181.6/181.6 kB 10.7 MB/s eta 0:00:00\n",
      "Requirement already satisfied: setuptools in j:\\downloads\\nlp\\pyenv\\torchenv\\lib\\site-packages (from spacy<4.0.0,>=3.4.0->spacy-transformers) (65.6.3)\n",
      "Collecting cymem<2.1.0,>=2.0.2\n",
      "  Downloading cymem-2.0.7-cp39-cp39-win_amd64.whl (30 kB)\n",
      "Collecting typer<0.8.0,>=0.3.0\n",
      "  Downloading typer-0.7.0-py3-none-any.whl (38 kB)\n",
      "Collecting catalogue<2.1.0,>=2.0.6\n",
      "  Downloading catalogue-2.0.8-py3-none-any.whl (17 kB)\n",
      "Collecting spacy-loggers<2.0.0,>=1.0.0\n",
      "  Downloading spacy_loggers-1.0.4-py3-none-any.whl (11 kB)\n",
      "Collecting pydantic!=1.8,!=1.8.1,<1.11.0,>=1.7.4\n",
      "  Downloading pydantic-1.10.4-cp39-cp39-win_amd64.whl (2.1 MB)\n",
      "     ---------------------------------------- 2.1/2.1 MB 8.0 MB/s eta 0:00:00\n",
      "Requirement already satisfied: numpy>=1.15.0 in j:\\downloads\\nlp\\pyenv\\torchenv\\lib\\site-packages (from spacy<4.0.0,>=3.4.0->spacy-transformers) (1.23.5)\n",
      "Collecting spacy-legacy<3.1.0,>=3.0.10\n",
      "  Downloading spacy_legacy-3.0.11-py2.py3-none-any.whl (24 kB)\n",
      "Collecting thinc<8.2.0,>=8.1.0\n",
      "  Downloading thinc-8.1.6-cp39-cp39-win_amd64.whl (1.3 MB)\n",
      "     ---------------------------------------- 1.3/1.3 MB 8.1 MB/s eta 0:00:00\n",
      "Requirement already satisfied: tqdm<5.0.0,>=4.38.0 in j:\\downloads\\nlp\\pyenv\\torchenv\\lib\\site-packages (from spacy<4.0.0,>=3.4.0->spacy-transformers) (4.64.1)\n",
      "Requirement already satisfied: jinja2 in j:\\downloads\\nlp\\pyenv\\torchenv\\lib\\site-packages (from spacy<4.0.0,>=3.4.0->spacy-transformers) (3.1.2)\n",
      "Collecting smart-open<7.0.0,>=5.2.1\n",
      "  Downloading smart_open-6.3.0-py3-none-any.whl (56 kB)\n",
      "     ---------------------------------------- 56.8/56.8 kB ? eta 0:00:00\n",
      "Collecting preshed<3.1.0,>=3.0.2\n",
      "  Downloading preshed-3.0.8-cp39-cp39-win_amd64.whl (96 kB)\n",
      "     ---------------------------------------- 96.8/96.8 kB 5.8 MB/s eta 0:00:00\n",
      "Collecting wasabi<1.1.0,>=0.9.1\n",
      "  Downloading wasabi-0.10.1-py3-none-any.whl (26 kB)\n",
      "Requirement already satisfied: typing-extensions in j:\\downloads\\nlp\\pyenv\\torchenv\\lib\\site-packages (from torch>=1.6.0->spacy-transformers) (4.4.0)\n",
      "Requirement already satisfied: huggingface-hub<1.0,>=0.10.0 in j:\\downloads\\nlp\\pyenv\\torchenv\\lib\\site-packages (from transformers<4.26.0,>=3.4.0->spacy-transformers) (0.11.1)\n",
      "Requirement already satisfied: regex!=2019.12.17 in j:\\downloads\\nlp\\pyenv\\torchenv\\lib\\site-packages (from transformers<4.26.0,>=3.4.0->spacy-transformers) (2022.10.31)\n",
      "Requirement already satisfied: pyyaml>=5.1 in j:\\downloads\\nlp\\pyenv\\torchenv\\lib\\site-packages (from transformers<4.26.0,>=3.4.0->spacy-transformers) (6.0)\n",
      "Requirement already satisfied: tokenizers!=0.11.3,<0.14,>=0.11.1 in j:\\downloads\\nlp\\pyenv\\torchenv\\lib\\site-packages (from transformers<4.26.0,>=3.4.0->spacy-transformers) (0.13.2)\n",
      "Requirement already satisfied: filelock in j:\\downloads\\nlp\\pyenv\\torchenv\\lib\\site-packages (from transformers<4.26.0,>=3.4.0->spacy-transformers) (3.8.2)\n",
      "Requirement already satisfied: idna<4,>=2.5 in j:\\downloads\\nlp\\pyenv\\torchenv\\lib\\site-packages (from requests<3.0.0,>=2.13.0->spacy<4.0.0,>=3.4.0->spacy-transformers) (3.4)\n",
      "Requirement already satisfied: certifi>=2017.4.17 in j:\\downloads\\nlp\\pyenv\\torchenv\\lib\\site-packages (from requests<3.0.0,>=2.13.0->spacy<4.0.0,>=3.4.0->spacy-transformers) (2022.12.7)\n",
      "Requirement already satisfied: charset-normalizer<3,>=2 in j:\\downloads\\nlp\\pyenv\\torchenv\\lib\\site-packages (from requests<3.0.0,>=2.13.0->spacy<4.0.0,>=3.4.0->spacy-transformers) (2.1.1)\n",
      "Requirement already satisfied: urllib3<1.27,>=1.21.1 in j:\\downloads\\nlp\\pyenv\\torchenv\\lib\\site-packages (from requests<3.0.0,>=2.13.0->spacy<4.0.0,>=3.4.0->spacy-transformers) (1.26.13)\n",
      "Collecting confection<1.0.0,>=0.0.1\n",
      "  Downloading confection-0.0.3-py3-none-any.whl (32 kB)\n",
      "Collecting blis<0.8.0,>=0.7.8\n",
      "  Downloading blis-0.7.9-cp39-cp39-win_amd64.whl (7.0 MB)\n",
      "     ---------------------------------------- 7.0/7.0 MB 7.2 MB/s eta 0:00:00\n",
      "Requirement already satisfied: colorama in j:\\downloads\\nlp\\pyenv\\torchenv\\lib\\site-packages (from tqdm<5.0.0,>=4.38.0->spacy<4.0.0,>=3.4.0->spacy-transformers) (0.4.6)\n",
      "Requirement already satisfied: click<9.0.0,>=7.1.1 in j:\\downloads\\nlp\\pyenv\\torchenv\\lib\\site-packages (from typer<0.8.0,>=0.3.0->spacy<4.0.0,>=3.4.0->spacy-transformers) (8.1.3)\n",
      "Requirement already satisfied: MarkupSafe>=2.0 in j:\\downloads\\nlp\\pyenv\\torchenv\\lib\\site-packages (from jinja2->spacy<4.0.0,>=3.4.0->spacy-transformers) (2.1.1)\n",
      "Installing collected packages: wasabi, cymem, spacy-loggers, spacy-legacy, spacy-alignments, smart-open, pydantic, murmurhash, langcodes, catalogue, blis, typer, srsly, preshed, pathy, confection, thinc, spacy, spacy-transformers\n",
      "Successfully installed blis-0.7.9 catalogue-2.0.8 confection-0.0.3 cymem-2.0.7 langcodes-3.3.0 murmurhash-1.0.9 pathy-0.10.1 preshed-3.0.8 pydantic-1.10.4 smart-open-6.3.0 spacy-3.4.4 spacy-alignments-0.9.0 spacy-legacy-3.0.11 spacy-loggers-1.0.4 spacy-transformers-1.1.9 srsly-2.4.5 thinc-8.1.6 typer-0.7.0 wasabi-0.10.1\n",
      "Looking in indexes: https://pypi.org/simple, https://pypi.ngc.nvidia.com\n",
      "Collecting en-core-web-trf==3.4.1\n",
      "  Downloading https://github.com/explosion/spacy-models/releases/download/en_core_web_trf-3.4.1/en_core_web_trf-3.4.1-py3-none-any.whl (460.3 MB)\n",
      "     -------------------------------------- 460.3/460.3 MB 5.0 MB/s eta 0:00:00\n",
      "Requirement already satisfied: spacy-transformers<1.2.0,>=1.1.2 in j:\\downloads\\nlp\\pyenv\\torchenv\\lib\\site-packages (from en-core-web-trf==3.4.1) (1.1.9)\n",
      "Requirement already satisfied: spacy<3.5.0,>=3.4.1 in j:\\downloads\\nlp\\pyenv\\torchenv\\lib\\site-packages (from en-core-web-trf==3.4.1) (3.4.4)\n",
      "Requirement already satisfied: pathy>=0.3.5 in j:\\downloads\\nlp\\pyenv\\torchenv\\lib\\site-packages (from spacy<3.5.0,>=3.4.1->en-core-web-trf==3.4.1) (0.10.1)\n",
      "Requirement already satisfied: langcodes<4.0.0,>=3.2.0 in j:\\downloads\\nlp\\pyenv\\torchenv\\lib\\site-packages (from spacy<3.5.0,>=3.4.1->en-core-web-trf==3.4.1) (3.3.0)\n",
      "Requirement already satisfied: murmurhash<1.1.0,>=0.28.0 in j:\\downloads\\nlp\\pyenv\\torchenv\\lib\\site-packages (from spacy<3.5.0,>=3.4.1->en-core-web-trf==3.4.1) (1.0.9)\n",
      "Requirement already satisfied: cymem<2.1.0,>=2.0.2 in j:\\downloads\\nlp\\pyenv\\torchenv\\lib\\site-packages (from spacy<3.5.0,>=3.4.1->en-core-web-trf==3.4.1) (2.0.7)\n",
      "Requirement already satisfied: srsly<3.0.0,>=2.4.3 in j:\\downloads\\nlp\\pyenv\\torchenv\\lib\\site-packages (from spacy<3.5.0,>=3.4.1->en-core-web-trf==3.4.1) (2.4.5)\n",
      "Requirement already satisfied: typer<0.8.0,>=0.3.0 in j:\\downloads\\nlp\\pyenv\\torchenv\\lib\\site-packages (from spacy<3.5.0,>=3.4.1->en-core-web-trf==3.4.1) (0.7.0)\n",
      "Requirement already satisfied: pydantic!=1.8,!=1.8.1,<1.11.0,>=1.7.4 in j:\\downloads\\nlp\\pyenv\\torchenv\\lib\\site-packages (from spacy<3.5.0,>=3.4.1->en-core-web-trf==3.4.1) (1.10.4)\n",
      "Requirement already satisfied: requests<3.0.0,>=2.13.0 in j:\\downloads\\nlp\\pyenv\\torchenv\\lib\\site-packages (from spacy<3.5.0,>=3.4.1->en-core-web-trf==3.4.1) (2.28.1)\n",
      "Requirement already satisfied: spacy-legacy<3.1.0,>=3.0.10 in j:\\downloads\\nlp\\pyenv\\torchenv\\lib\\site-packages (from spacy<3.5.0,>=3.4.1->en-core-web-trf==3.4.1) (3.0.11)\n",
      "Requirement already satisfied: numpy>=1.15.0 in j:\\downloads\\nlp\\pyenv\\torchenv\\lib\\site-packages (from spacy<3.5.0,>=3.4.1->en-core-web-trf==3.4.1) (1.23.5)\n",
      "Requirement already satisfied: tqdm<5.0.0,>=4.38.0 in j:\\downloads\\nlp\\pyenv\\torchenv\\lib\\site-packages (from spacy<3.5.0,>=3.4.1->en-core-web-trf==3.4.1) (4.64.1)\n",
      "Requirement already satisfied: smart-open<7.0.0,>=5.2.1 in j:\\downloads\\nlp\\pyenv\\torchenv\\lib\\site-packages (from spacy<3.5.0,>=3.4.1->en-core-web-trf==3.4.1) (6.3.0)\n",
      "Requirement already satisfied: catalogue<2.1.0,>=2.0.6 in j:\\downloads\\nlp\\pyenv\\torchenv\\lib\\site-packages (from spacy<3.5.0,>=3.4.1->en-core-web-trf==3.4.1) (2.0.8)\n",
      "Requirement already satisfied: wasabi<1.1.0,>=0.9.1 in j:\\downloads\\nlp\\pyenv\\torchenv\\lib\\site-packages (from spacy<3.5.0,>=3.4.1->en-core-web-trf==3.4.1) (0.10.1)\n",
      "Requirement already satisfied: setuptools in j:\\downloads\\nlp\\pyenv\\torchenv\\lib\\site-packages (from spacy<3.5.0,>=3.4.1->en-core-web-trf==3.4.1) (65.6.3)\n",
      "Requirement already satisfied: thinc<8.2.0,>=8.1.0 in j:\\downloads\\nlp\\pyenv\\torchenv\\lib\\site-packages (from spacy<3.5.0,>=3.4.1->en-core-web-trf==3.4.1) (8.1.6)\n",
      "Requirement already satisfied: jinja2 in j:\\downloads\\nlp\\pyenv\\torchenv\\lib\\site-packages (from spacy<3.5.0,>=3.4.1->en-core-web-trf==3.4.1) (3.1.2)\n",
      "Requirement already satisfied: packaging>=20.0 in j:\\downloads\\nlp\\pyenv\\torchenv\\lib\\site-packages (from spacy<3.5.0,>=3.4.1->en-core-web-trf==3.4.1) (22.0)\n",
      "Requirement already satisfied: spacy-loggers<2.0.0,>=1.0.0 in j:\\downloads\\nlp\\pyenv\\torchenv\\lib\\site-packages (from spacy<3.5.0,>=3.4.1->en-core-web-trf==3.4.1) (1.0.4)\n",
      "Requirement already satisfied: preshed<3.1.0,>=3.0.2 in j:\\downloads\\nlp\\pyenv\\torchenv\\lib\\site-packages (from spacy<3.5.0,>=3.4.1->en-core-web-trf==3.4.1) (3.0.8)\n",
      "Requirement already satisfied: torch>=1.6.0 in j:\\downloads\\nlp\\pyenv\\torchenv\\lib\\site-packages (from spacy-transformers<1.2.0,>=1.1.2->en-core-web-trf==3.4.1) (1.13.0+cu117)\n",
      "Requirement already satisfied: spacy-alignments<1.0.0,>=0.7.2 in j:\\downloads\\nlp\\pyenv\\torchenv\\lib\\site-packages (from spacy-transformers<1.2.0,>=1.1.2->en-core-web-trf==3.4.1) (0.9.0)\n",
      "Requirement already satisfied: transformers<4.26.0,>=3.4.0 in j:\\downloads\\nlp\\pyenv\\torchenv\\lib\\site-packages (from spacy-transformers<1.2.0,>=1.1.2->en-core-web-trf==3.4.1) (4.25.1)\n",
      "Requirement already satisfied: typing-extensions>=4.2.0 in j:\\downloads\\nlp\\pyenv\\torchenv\\lib\\site-packages (from pydantic!=1.8,!=1.8.1,<1.11.0,>=1.7.4->spacy<3.5.0,>=3.4.1->en-core-web-trf==3.4.1) (4.4.0)\n",
      "Requirement already satisfied: idna<4,>=2.5 in j:\\downloads\\nlp\\pyenv\\torchenv\\lib\\site-packages (from requests<3.0.0,>=2.13.0->spacy<3.5.0,>=3.4.1->en-core-web-trf==3.4.1) (3.4)\n",
      "Requirement already satisfied: charset-normalizer<3,>=2 in j:\\downloads\\nlp\\pyenv\\torchenv\\lib\\site-packages (from requests<3.0.0,>=2.13.0->spacy<3.5.0,>=3.4.1->en-core-web-trf==3.4.1) (2.1.1)\n",
      "Requirement already satisfied: certifi>=2017.4.17 in j:\\downloads\\nlp\\pyenv\\torchenv\\lib\\site-packages (from requests<3.0.0,>=2.13.0->spacy<3.5.0,>=3.4.1->en-core-web-trf==3.4.1) (2022.12.7)\n",
      "Requirement already satisfied: urllib3<1.27,>=1.21.1 in j:\\downloads\\nlp\\pyenv\\torchenv\\lib\\site-packages (from requests<3.0.0,>=2.13.0->spacy<3.5.0,>=3.4.1->en-core-web-trf==3.4.1) (1.26.13)\n",
      "Requirement already satisfied: confection<1.0.0,>=0.0.1 in j:\\downloads\\nlp\\pyenv\\torchenv\\lib\\site-packages (from thinc<8.2.0,>=8.1.0->spacy<3.5.0,>=3.4.1->en-core-web-trf==3.4.1) (0.0.3)\n",
      "Requirement already satisfied: blis<0.8.0,>=0.7.8 in j:\\downloads\\nlp\\pyenv\\torchenv\\lib\\site-packages (from thinc<8.2.0,>=8.1.0->spacy<3.5.0,>=3.4.1->en-core-web-trf==3.4.1) (0.7.9)\n",
      "Requirement already satisfied: colorama in j:\\downloads\\nlp\\pyenv\\torchenv\\lib\\site-packages (from tqdm<5.0.0,>=4.38.0->spacy<3.5.0,>=3.4.1->en-core-web-trf==3.4.1) (0.4.6)\n",
      "Requirement already satisfied: huggingface-hub<1.0,>=0.10.0 in j:\\downloads\\nlp\\pyenv\\torchenv\\lib\\site-packages (from transformers<4.26.0,>=3.4.0->spacy-transformers<1.2.0,>=1.1.2->en-core-web-trf==3.4.1) (0.11.1)\n",
      "Requirement already satisfied: pyyaml>=5.1 in j:\\downloads\\nlp\\pyenv\\torchenv\\lib\\site-packages (from transformers<4.26.0,>=3.4.0->spacy-transformers<1.2.0,>=1.1.2->en-core-web-trf==3.4.1) (6.0)\n",
      "Requirement already satisfied: regex!=2019.12.17 in j:\\downloads\\nlp\\pyenv\\torchenv\\lib\\site-packages (from transformers<4.26.0,>=3.4.0->spacy-transformers<1.2.0,>=1.1.2->en-core-web-trf==3.4.1) (2022.10.31)\n",
      "Requirement already satisfied: filelock in j:\\downloads\\nlp\\pyenv\\torchenv\\lib\\site-packages (from transformers<4.26.0,>=3.4.0->spacy-transformers<1.2.0,>=1.1.2->en-core-web-trf==3.4.1) (3.8.2)\n",
      "Requirement already satisfied: tokenizers!=0.11.3,<0.14,>=0.11.1 in j:\\downloads\\nlp\\pyenv\\torchenv\\lib\\site-packages (from transformers<4.26.0,>=3.4.0->spacy-transformers<1.2.0,>=1.1.2->en-core-web-trf==3.4.1) (0.13.2)\n",
      "Requirement already satisfied: click<9.0.0,>=7.1.1 in j:\\downloads\\nlp\\pyenv\\torchenv\\lib\\site-packages (from typer<0.8.0,>=0.3.0->spacy<3.5.0,>=3.4.1->en-core-web-trf==3.4.1) (8.1.3)\n",
      "Requirement already satisfied: MarkupSafe>=2.0 in j:\\downloads\\nlp\\pyenv\\torchenv\\lib\\site-packages (from jinja2->spacy<3.5.0,>=3.4.1->en-core-web-trf==3.4.1) (2.1.1)\n",
      "Installing collected packages: en-core-web-trf\n",
      "Successfully installed en-core-web-trf-3.4.1\n",
      "[+] Download and installation successful\n",
      "You can now load the package via spacy.load('en_core_web_trf')\n",
      "Looking in indexes: https://pypi.org/simple, https://pypi.ngc.nvidia.com\n",
      "Collecting en-core-web-md==3.4.1\n",
      "  Downloading https://github.com/explosion/spacy-models/releases/download/en_core_web_md-3.4.1/en_core_web_md-3.4.1-py3-none-any.whl (42.8 MB)\n",
      "     ---------------------------------------- 42.8/42.8 MB 2.5 MB/s eta 0:00:00\n",
      "Requirement already satisfied: spacy<3.5.0,>=3.4.0 in j:\\downloads\\nlp\\pyenv\\torchenv\\lib\\site-packages (from en-core-web-md==3.4.1) (3.4.4)\n",
      "Requirement already satisfied: preshed<3.1.0,>=3.0.2 in j:\\downloads\\nlp\\pyenv\\torchenv\\lib\\site-packages (from spacy<3.5.0,>=3.4.0->en-core-web-md==3.4.1) (3.0.8)\n",
      "Requirement already satisfied: cymem<2.1.0,>=2.0.2 in j:\\downloads\\nlp\\pyenv\\torchenv\\lib\\site-packages (from spacy<3.5.0,>=3.4.0->en-core-web-md==3.4.1) (2.0.7)\n",
      "Requirement already satisfied: pydantic!=1.8,!=1.8.1,<1.11.0,>=1.7.4 in j:\\downloads\\nlp\\pyenv\\torchenv\\lib\\site-packages (from spacy<3.5.0,>=3.4.0->en-core-web-md==3.4.1) (1.10.4)\n",
      "Requirement already satisfied: pathy>=0.3.5 in j:\\downloads\\nlp\\pyenv\\torchenv\\lib\\site-packages (from spacy<3.5.0,>=3.4.0->en-core-web-md==3.4.1) (0.10.1)\n",
      "Requirement already satisfied: packaging>=20.0 in j:\\downloads\\nlp\\pyenv\\torchenv\\lib\\site-packages (from spacy<3.5.0,>=3.4.0->en-core-web-md==3.4.1) (22.0)\n",
      "Requirement already satisfied: srsly<3.0.0,>=2.4.3 in j:\\downloads\\nlp\\pyenv\\torchenv\\lib\\site-packages (from spacy<3.5.0,>=3.4.0->en-core-web-md==3.4.1) (2.4.5)\n",
      "Requirement already satisfied: langcodes<4.0.0,>=3.2.0 in j:\\downloads\\nlp\\pyenv\\torchenv\\lib\\site-packages (from spacy<3.5.0,>=3.4.0->en-core-web-md==3.4.1) (3.3.0)\n",
      "Requirement already satisfied: typer<0.8.0,>=0.3.0 in j:\\downloads\\nlp\\pyenv\\torchenv\\lib\\site-packages (from spacy<3.5.0,>=3.4.0->en-core-web-md==3.4.1) (0.7.0)\n",
      "Requirement already satisfied: smart-open<7.0.0,>=5.2.1 in j:\\downloads\\nlp\\pyenv\\torchenv\\lib\\site-packages (from spacy<3.5.0,>=3.4.0->en-core-web-md==3.4.1) (6.3.0)\n",
      "Requirement already satisfied: jinja2 in j:\\downloads\\nlp\\pyenv\\torchenv\\lib\\site-packages (from spacy<3.5.0,>=3.4.0->en-core-web-md==3.4.1) (3.1.2)\n",
      "Requirement already satisfied: spacy-legacy<3.1.0,>=3.0.10 in j:\\downloads\\nlp\\pyenv\\torchenv\\lib\\site-packages (from spacy<3.5.0,>=3.4.0->en-core-web-md==3.4.1) (3.0.11)\n",
      "Requirement already satisfied: numpy>=1.15.0 in j:\\downloads\\nlp\\pyenv\\torchenv\\lib\\site-packages (from spacy<3.5.0,>=3.4.0->en-core-web-md==3.4.1) (1.23.5)\n",
      "Requirement already satisfied: wasabi<1.1.0,>=0.9.1 in j:\\downloads\\nlp\\pyenv\\torchenv\\lib\\site-packages (from spacy<3.5.0,>=3.4.0->en-core-web-md==3.4.1) (0.10.1)\n",
      "Requirement already satisfied: tqdm<5.0.0,>=4.38.0 in j:\\downloads\\nlp\\pyenv\\torchenv\\lib\\site-packages (from spacy<3.5.0,>=3.4.0->en-core-web-md==3.4.1) (4.64.1)\n",
      "Requirement already satisfied: requests<3.0.0,>=2.13.0 in j:\\downloads\\nlp\\pyenv\\torchenv\\lib\\site-packages (from spacy<3.5.0,>=3.4.0->en-core-web-md==3.4.1) (2.28.1)\n",
      "Requirement already satisfied: spacy-loggers<2.0.0,>=1.0.0 in j:\\downloads\\nlp\\pyenv\\torchenv\\lib\\site-packages (from spacy<3.5.0,>=3.4.0->en-core-web-md==3.4.1) (1.0.4)\n",
      "Requirement already satisfied: catalogue<2.1.0,>=2.0.6 in j:\\downloads\\nlp\\pyenv\\torchenv\\lib\\site-packages (from spacy<3.5.0,>=3.4.0->en-core-web-md==3.4.1) (2.0.8)\n",
      "Requirement already satisfied: setuptools in j:\\downloads\\nlp\\pyenv\\torchenv\\lib\\site-packages (from spacy<3.5.0,>=3.4.0->en-core-web-md==3.4.1) (65.6.3)\n",
      "Requirement already satisfied: murmurhash<1.1.0,>=0.28.0 in j:\\downloads\\nlp\\pyenv\\torchenv\\lib\\site-packages (from spacy<3.5.0,>=3.4.0->en-core-web-md==3.4.1) (1.0.9)\n",
      "Requirement already satisfied: thinc<8.2.0,>=8.1.0 in j:\\downloads\\nlp\\pyenv\\torchenv\\lib\\site-packages (from spacy<3.5.0,>=3.4.0->en-core-web-md==3.4.1) (8.1.6)\n",
      "Requirement already satisfied: typing-extensions>=4.2.0 in j:\\downloads\\nlp\\pyenv\\torchenv\\lib\\site-packages (from pydantic!=1.8,!=1.8.1,<1.11.0,>=1.7.4->spacy<3.5.0,>=3.4.0->en-core-web-md==3.4.1) (4.4.0)\n",
      "Requirement already satisfied: charset-normalizer<3,>=2 in j:\\downloads\\nlp\\pyenv\\torchenv\\lib\\site-packages (from requests<3.0.0,>=2.13.0->spacy<3.5.0,>=3.4.0->en-core-web-md==3.4.1) (2.1.1)\n",
      "Requirement already satisfied: urllib3<1.27,>=1.21.1 in j:\\downloads\\nlp\\pyenv\\torchenv\\lib\\site-packages (from requests<3.0.0,>=2.13.0->spacy<3.5.0,>=3.4.0->en-core-web-md==3.4.1) (1.26.13)\n",
      "Requirement already satisfied: certifi>=2017.4.17 in j:\\downloads\\nlp\\pyenv\\torchenv\\lib\\site-packages (from requests<3.0.0,>=2.13.0->spacy<3.5.0,>=3.4.0->en-core-web-md==3.4.1) (2022.12.7)\n",
      "Requirement already satisfied: idna<4,>=2.5 in j:\\downloads\\nlp\\pyenv\\torchenv\\lib\\site-packages (from requests<3.0.0,>=2.13.0->spacy<3.5.0,>=3.4.0->en-core-web-md==3.4.1) (3.4)\n",
      "Requirement already satisfied: confection<1.0.0,>=0.0.1 in j:\\downloads\\nlp\\pyenv\\torchenv\\lib\\site-packages (from thinc<8.2.0,>=8.1.0->spacy<3.5.0,>=3.4.0->en-core-web-md==3.4.1) (0.0.3)\n",
      "Requirement already satisfied: blis<0.8.0,>=0.7.8 in j:\\downloads\\nlp\\pyenv\\torchenv\\lib\\site-packages (from thinc<8.2.0,>=8.1.0->spacy<3.5.0,>=3.4.0->en-core-web-md==3.4.1) (0.7.9)\n",
      "Requirement already satisfied: colorama in j:\\downloads\\nlp\\pyenv\\torchenv\\lib\\site-packages (from tqdm<5.0.0,>=4.38.0->spacy<3.5.0,>=3.4.0->en-core-web-md==3.4.1) (0.4.6)\n",
      "Requirement already satisfied: click<9.0.0,>=7.1.1 in j:\\downloads\\nlp\\pyenv\\torchenv\\lib\\site-packages (from typer<0.8.0,>=0.3.0->spacy<3.5.0,>=3.4.0->en-core-web-md==3.4.1) (8.1.3)\n",
      "Requirement already satisfied: MarkupSafe>=2.0 in j:\\downloads\\nlp\\pyenv\\torchenv\\lib\\site-packages (from jinja2->spacy<3.5.0,>=3.4.0->en-core-web-md==3.4.1) (2.1.1)\n",
      "Installing collected packages: en-core-web-md\n",
      "Successfully installed en-core-web-md-3.4.1\n",
      "[+] Download and installation successful\n",
      "You can now load the package via spacy.load('en_core_web_md')\n"
     ]
    }
   ]
  },
  {
   "cell_type": "code",
   "execution_count": 231,
   "outputs": [],
   "source": [
    "#Employment type, Industries, Job function, Seniority level, company, company_id, context, date, description,\n",
    "#education, location, months_experience, post_id, post_url, sal_high, sal_low, salary, title\n",
    "\n",
    "# Full-time,Broadcast Media,Information Technology,Mid-Senior level,CyberCoders,21836.0,\"{\"\"@context\"\": \"\"http://schema.org\"\", \"\"@type\"\": \"\"JobPosting\"\", \"\"datePosted\"\": \"\"2021-07-09T17:39:28.000Z\"\", \"\"description\"\": \"\"Job Title: Senior Data Engineer&lt\n",
    "import pandas as pd\n",
    "\n",
    "df = pd.read_csv('datasets/SO-Indeed/jobs.csv')\n",
    "records = df.to_dict(orient='records')"
   ],
   "metadata": {
    "collapsed": false
   }
  },
  {
   "cell_type": "code",
   "execution_count": 232,
   "outputs": [],
   "source": [
    "import spacy\n",
    "import pywikibot\n",
    "from spacy import displacy\n",
    "from collections import Counter\n",
    "import en_core_web_sm, en_core_web_trf, en_core_web_md\n",
    "nlp = spacy.load(\"en_core_web_trf\")"
   ],
   "metadata": {
    "collapsed": false
   }
  },
  {
   "cell_type": "code",
   "execution_count": 233,
   "outputs": [
    {
     "data": {
      "text/plain": "<spacy.pipeline.entity_linker.EntityLinker at 0x22ff0d45a60>"
     },
     "execution_count": 233,
     "metadata": {},
     "output_type": "execute_result"
    }
   ],
   "source": [
    "from spacy.pipeline.entity_linker import DEFAULT_NEL_MODEL\n",
    "config = {\n",
    "   \"labels_discard\": [],\n",
    "   \"n_sents\": 0,\n",
    "   \"incl_prior\": True,\n",
    "   \"incl_context\": True,\n",
    "   \"model\": DEFAULT_NEL_MODEL,\n",
    "   \"entity_vector_length\": 64,\n",
    "   \"get_candidates\": {'@misc': 'spacy.CandidateGenerator.v1'},\n",
    "   \"threshold\": None,\n",
    "}\n",
    "doc = nlp(records[0]['description'])\n",
    "nlp.add_pipe('entity_linker', config=config)"
   ],
   "metadata": {
    "collapsed": false
   }
  },
  {
   "cell_type": "code",
   "source": [
    "print([(X.text, X.label_) for X in doc.ents])"
   ],
   "metadata": {
    "colab": {
     "base_uri": "https://localhost:8080/"
    },
    "id": "GZJ6SlGmi6xg",
    "outputId": "c6e78e82-c1d5-463f-c2c8-3c70c36b13a2"
   },
   "execution_count": 234,
   "outputs": [
    {
     "name": "stdout",
     "output_type": "stream",
     "text": [
      "[('Alexandria', 'GPE'), ('VA', 'GPE'), ('$120k - $150k', 'MONEY'), ('AWS', 'ORG'), ('Alexandria', 'GPE'), ('VA', 'GPE'), ('DC', 'GPE'), ('at least 5 years', 'DATE'), ('Python', 'LANGUAGE'), ('AWS', 'ORG'), ('Google Cloud', 'ORG'), ('Spark', 'PRODUCT'), ('NoSQL', 'PRODUCT'), ('Machine Learning', 'ORG'), ('5+ years', 'DATE'), ('AWS', 'ORG'), ('Google Cloud', 'ORG'), ('Spark', 'PRODUCT'), ('401', 'PRODUCT'), ('all day', 'DATE'), ('every day', 'DATE'), ('today', 'DATE'), ('Shiv Warrier', 'PERSON'), ('U.S.', 'GPE'), ('CyberCoders, Inc', 'ORG'), ('the United States', 'GPE')]\n"
     ]
    }
   ]
  },
  {
   "cell_type": "code",
   "execution_count": null,
   "outputs": [],
   "source": [],
   "metadata": {
    "collapsed": false
   }
  },
  {
   "cell_type": "code",
   "source": [
    "from pywikibot.exceptions import NoPageError\n",
    "graph = []\n",
    "\n",
    "def get_wikidata(doc): #con trf e entity_linker\n",
    "    # Iterate over the entities in the document\n",
    "    for ent in doc.ents:\n",
    "        # Get the entity label\n",
    "        label = ent.label_\n",
    "\n",
    "        # Get the entity text\n",
    "        entity = ent.text\n",
    "\n",
    "        # Search Wikidata for the entity\n",
    "        site = pywikibot.Site(\"en\", \"wikipedia\")\n",
    "        page = pywikibot.Page(site, entity)\n",
    "\n",
    "        # Get the Wikidata page for the entity\n",
    "        try: graph.append({'entity': entity, \"label\": label, \"WikidataId\": page.data_item()})\n",
    "        except NoPageError: None\n",
    "        #wd_page = page.data_item()\n",
    "        # Print the graph\n",
    "        print(graph)\n",
    "        # Add the entity to the graph\n",
    "        return graph\n",
    "\n"
   ],
   "metadata": {
    "colab": {
     "base_uri": "https://localhost:8080/"
    },
    "id": "zTfQEf5XBrlI",
    "outputId": "df0102bc-998c-456f-c403-9058d37a84de"
   },
   "execution_count": 248,
   "outputs": []
  },
  {
   "cell_type": "code",
   "execution_count": 236,
   "outputs": [
    {
     "name": "stdout",
     "output_type": "stream",
     "text": [
      "[]\n"
     ]
    }
   ],
   "source": [
    "print([d['WikidataId'].id  for d in graph if 'ETL' in d['entity']]) #wikidataID"
   ],
   "metadata": {
    "collapsed": false
   }
  },
  {
   "cell_type": "markdown",
   "source": [
    "TextRank for most important sentence"
   ],
   "metadata": {
    "collapsed": false
   }
  },
  {
   "cell_type": "code",
   "execution_count": 255,
   "outputs": [
    {
     "data": {
      "text/plain": "<pytextrank.base.BaseTextRankFactory at 0x22f85f108e0>"
     },
     "execution_count": 255,
     "metadata": {},
     "output_type": "execute_result"
    }
   ],
   "source": [
    "import pytextrank\n",
    "\n",
    "# example text\n",
    "text = records[0]['description']\n",
    "\n",
    "# load a spaCy model, depending on language, scale, etc. without NER\n",
    "nlp = spacy.load(\"en_core_web_sm\")\n",
    "# source NER from the same pipeline package as the last component\n",
    "#nlp.add_pipe('entity_linker', config=config)\n",
    "# add PyTextRank to the spaCy pipeline\n",
    "nlp.add_pipe(\"textrank\")\n"
   ],
   "metadata": {
    "collapsed": false
   }
  },
  {
   "cell_type": "code",
   "execution_count": 259,
   "outputs": [],
   "source": [
    "doc = nlp(text)\n",
    "l = []\n",
    "def myFunc(e):\n",
    "  return e['rank']\n",
    "\n",
    "def construct_entity_info_title(doc):\n",
    "    # examine the top-ranked phrases in the document\n",
    "    for phrase in doc._.phrases:\n",
    "        #d1 = nlp()\n",
    "        l.append({ 'text': phrase.text, 'rank': phrase.rank})\n",
    "        #print(phrase.text)\n",
    "        #print(phrase.rank)\n",
    "\n",
    "    l.sort(key=myFunc, reverse=True)\n",
    "\n",
    "    return l[0] #first ranked\n",
    "\n",
    "f = construct_entity_info_title(doc)"
   ],
   "metadata": {
    "collapsed": false
   }
  },
  {
   "cell_type": "code",
   "execution_count": 262,
   "outputs": [
    {
     "ename": "NoPageError",
     "evalue": "Page [[en:ETL experience]] doesn't exist.",
     "output_type": "error",
     "traceback": [
      "\u001B[1;31m---------------------------------------------------------------------------\u001B[0m",
      "\u001B[1;31mNoPageError\u001B[0m                               Traceback (most recent call last)",
      "Cell \u001B[1;32mIn[262], line 7\u001B[0m\n\u001B[0;32m      5\u001B[0m site \u001B[38;5;241m=\u001B[39m pywikibot\u001B[38;5;241m.\u001B[39mSite(\u001B[38;5;124m\"\u001B[39m\u001B[38;5;124men\u001B[39m\u001B[38;5;124m\"\u001B[39m, \u001B[38;5;124m\"\u001B[39m\u001B[38;5;124mwikipedia\u001B[39m\u001B[38;5;124m\"\u001B[39m)\n\u001B[0;32m      6\u001B[0m page \u001B[38;5;241m=\u001B[39m pywikibot\u001B[38;5;241m.\u001B[39mPage(site, entity)\n\u001B[1;32m----> 7\u001B[0m \u001B[38;5;28mid\u001B[39m \u001B[38;5;241m=\u001B[39m \u001B[43mpage\u001B[49m\u001B[38;5;241;43m.\u001B[39;49m\u001B[43mdata_item\u001B[49m\u001B[43m(\u001B[49m\u001B[43m)\u001B[49m\n\u001B[0;32m      8\u001B[0m \u001B[38;5;28mprint\u001B[39m(\u001B[38;5;28mid\u001B[39m)\n",
      "File \u001B[1;32mJ:\\Downloads\\NLP\\PyEnv\\TorchEnv\\lib\\site-packages\\pywikibot\\page\\_pages.py:1528\u001B[0m, in \u001B[0;36mBasePage.data_item\u001B[1;34m(self)\u001B[0m\n\u001B[0;32m   1522\u001B[0m \u001B[38;5;28;01mdef\u001B[39;00m \u001B[38;5;21mdata_item\u001B[39m(\u001B[38;5;28mself\u001B[39m):\n\u001B[0;32m   1523\u001B[0m     \u001B[38;5;124;03m\"\"\"\u001B[39;00m\n\u001B[0;32m   1524\u001B[0m \u001B[38;5;124;03m    Convenience function to get the Wikibase item of a page.\u001B[39;00m\n\u001B[0;32m   1525\u001B[0m \n\u001B[0;32m   1526\u001B[0m \u001B[38;5;124;03m    :rtype: pywikibot.page.ItemPage\u001B[39;00m\n\u001B[0;32m   1527\u001B[0m \u001B[38;5;124;03m    \"\"\"\u001B[39;00m\n\u001B[1;32m-> 1528\u001B[0m     \u001B[38;5;28;01mreturn\u001B[39;00m \u001B[43mpywikibot\u001B[49m\u001B[38;5;241;43m.\u001B[39;49m\u001B[43mItemPage\u001B[49m\u001B[38;5;241;43m.\u001B[39;49m\u001B[43mfromPage\u001B[49m\u001B[43m(\u001B[49m\u001B[38;5;28;43mself\u001B[39;49m\u001B[43m)\u001B[49m\n",
      "File \u001B[1;32mJ:\\Downloads\\NLP\\PyEnv\\TorchEnv\\lib\\site-packages\\pywikibot\\page\\_wikibase.py:929\u001B[0m, in \u001B[0;36mItemPage.fromPage\u001B[1;34m(cls, page, lazy_load)\u001B[0m\n\u001B[0;32m    926\u001B[0m     \u001B[38;5;28;01mraise\u001B[39;00m WikiBaseError(\u001B[38;5;124m'\u001B[39m\u001B[38;5;132;01m{}\u001B[39;00m\u001B[38;5;124m has no data repository\u001B[39m\u001B[38;5;124m'\u001B[39m\n\u001B[0;32m    927\u001B[0m                         \u001B[38;5;241m.\u001B[39mformat(page\u001B[38;5;241m.\u001B[39msite))\n\u001B[0;32m    928\u001B[0m \u001B[38;5;28;01mif\u001B[39;00m \u001B[38;5;129;01mnot\u001B[39;00m lazy_load \u001B[38;5;129;01mand\u001B[39;00m \u001B[38;5;129;01mnot\u001B[39;00m page\u001B[38;5;241m.\u001B[39mexists():\n\u001B[1;32m--> 929\u001B[0m     \u001B[38;5;28;01mraise\u001B[39;00m NoPageError(page)\n\u001B[0;32m    931\u001B[0m repo \u001B[38;5;241m=\u001B[39m page\u001B[38;5;241m.\u001B[39msite\u001B[38;5;241m.\u001B[39mdata_repository()\n\u001B[0;32m    932\u001B[0m \u001B[38;5;28;01mif\u001B[39;00m \u001B[38;5;28mhasattr\u001B[39m(page,\n\u001B[0;32m    933\u001B[0m            \u001B[38;5;124m'\u001B[39m\u001B[38;5;124m_pageprops\u001B[39m\u001B[38;5;124m'\u001B[39m) \u001B[38;5;129;01mand\u001B[39;00m page\u001B[38;5;241m.\u001B[39mproperties()\u001B[38;5;241m.\u001B[39mget(\u001B[38;5;124m'\u001B[39m\u001B[38;5;124mwikibase_item\u001B[39m\u001B[38;5;124m'\u001B[39m):\n\u001B[0;32m    934\u001B[0m     \u001B[38;5;66;03m# If we have already fetched the pageprops for something else,\u001B[39;00m\n\u001B[0;32m    935\u001B[0m     \u001B[38;5;66;03m# we already have the id, so use it\u001B[39;00m\n",
      "\u001B[1;31mNoPageError\u001B[0m: Page [[en:ETL experience]] doesn't exist."
     ]
    }
   ],
   "source": [
    "doc = nlp(f['text'])\n",
    "# Get the entity text\n",
    "entity = doc.text\n",
    "# Search Wikidata for the entity\n",
    "site = pywikibot.Site(\"en\", \"wikipedia\")\n",
    "page = pywikibot.Page(site, entity)\n",
    "id = page.data_item()\n",
    "print(id)"
   ],
   "metadata": {
    "collapsed": false
   }
  },
  {
   "cell_type": "markdown",
   "source": [
    "non funziona fare prima il rank e poi wikidataID, provare contrario"
   ],
   "metadata": {
    "collapsed": false
   }
  },
  {
   "cell_type": "code",
   "execution_count": 192,
   "outputs": [],
   "source": [
    "import csv\n",
    "#entity_info_title : [{\"Label\": \"Weight gain\", \"Type\": \"C\", \"WikidataId\": \"Q3403879\", \"Confidence\": 1.0, \"OccurrenceOffsets\": [45], \"SurfaceForms\": [\"Gain Weight\"]}]\n",
    "jobs_info = [ 'post_id', 'industries','job_function', 'title', 'abstract', 'post_url', 'entity_info_title', 'entity_info_abstract']\n",
    "\n",
    "new_dict = []\n",
    "djob = {}\n",
    "for job in records:\n",
    "    djob[\"post_id\"] = job['post_id']\n",
    "    djob[\"industries\"] = job['Industries']\n",
    "    djob[\"job_function\"] = job['Job function']\n",
    "    djob[\"title\"] = job['title']\n",
    "    djob[\"abstract\"] = job['description'].split('.')[0]\n",
    "    djob[\"post_url\"] = job['post_url']\n",
    "    djob[\"entity_info_title\"] = job['post_id']\n",
    "    djob[\"entity_info_abstract\"] = []\n",
    "    new_dict.append(djob)\n"
   ],
   "metadata": {
    "collapsed": false
   }
  },
  {
   "cell_type": "code",
   "execution_count": null,
   "outputs": [],
   "source": [
    "with open('train_jobs.csv', 'w') as csvfile:\n",
    "    writer = csv.DictWriter(csvfile, fieldnames = jobs_info)\n",
    "    writer.writeheader()\n",
    "    writer.writerows(new_dict)"
   ],
   "metadata": {
    "collapsed": false
   }
  },
  {
   "cell_type": "markdown",
   "source": [
    "#news | jobs\n",
    "#id : post_id\n",
    "#category: Industries\n",
    "#subcategory : job function\n",
    "#title: title\n",
    "#abstract : requirements\n",
    "#url : url\n",
    "#entity_info_title : only one [{label, type, wikidataId, confidence, occurrence offsets, surface forms}]\n",
    "#entity_info_abstract: all the first 3[{label, type, wikidataId, confidence, occurrence offsets, surface forms}]"
   ],
   "metadata": {
    "collapsed": false
   }
  },
  {
   "cell_type": "code",
   "execution_count": null,
   "outputs": [],
   "source": [],
   "metadata": {
    "collapsed": false
   }
  },
  {
   "cell_type": "code",
   "execution_count": null,
   "outputs": [],
   "source": [],
   "metadata": {
    "collapsed": false
   }
  },
  {
   "cell_type": "code",
   "execution_count": 85,
   "outputs": [
    {
     "name": "stdout",
     "output_type": "stream",
     "text": [
      "Looking in indexes: https://pypi.org/simple, https://pypi.ngc.nvidia.com\n",
      "Requirement already satisfied: spacy[transformers] in j:\\downloads\\nlp\\pyenv\\torchenv\\lib\\site-packages (3.4.4)\n",
      "Requirement already satisfied: smart-open<7.0.0,>=5.2.1 in j:\\downloads\\nlp\\pyenv\\torchenv\\lib\\site-packages (from spacy[transformers]) (6.3.0)\n",
      "Requirement already satisfied: preshed<3.1.0,>=3.0.2 in j:\\downloads\\nlp\\pyenv\\torchenv\\lib\\site-packages (from spacy[transformers]) (3.0.8)\n",
      "Requirement already satisfied: pydantic!=1.8,!=1.8.1,<1.11.0,>=1.7.4 in j:\\downloads\\nlp\\pyenv\\torchenv\\lib\\site-packages (from spacy[transformers]) (1.10.4)\n",
      "Requirement already satisfied: srsly<3.0.0,>=2.4.3 in j:\\downloads\\nlp\\pyenv\\torchenv\\lib\\site-packages (from spacy[transformers]) (2.4.5)\n",
      "Requirement already satisfied: tqdm<5.0.0,>=4.38.0 in j:\\downloads\\nlp\\pyenv\\torchenv\\lib\\site-packages (from spacy[transformers]) (4.64.1)\n",
      "Requirement already satisfied: setuptools in j:\\downloads\\nlp\\pyenv\\torchenv\\lib\\site-packages (from spacy[transformers]) (65.6.3)\n",
      "Requirement already satisfied: langcodes<4.0.0,>=3.2.0 in j:\\downloads\\nlp\\pyenv\\torchenv\\lib\\site-packages (from spacy[transformers]) (3.3.0)\n",
      "Requirement already satisfied: spacy-loggers<2.0.0,>=1.0.0 in j:\\downloads\\nlp\\pyenv\\torchenv\\lib\\site-packages (from spacy[transformers]) (1.0.4)\n",
      "Requirement already satisfied: spacy-legacy<3.1.0,>=3.0.10 in j:\\downloads\\nlp\\pyenv\\torchenv\\lib\\site-packages (from spacy[transformers]) (3.0.11)\n",
      "Requirement already satisfied: cymem<2.1.0,>=2.0.2 in j:\\downloads\\nlp\\pyenv\\torchenv\\lib\\site-packages (from spacy[transformers]) (2.0.7)\n",
      "Requirement already satisfied: packaging>=20.0 in j:\\downloads\\nlp\\pyenv\\torchenv\\lib\\site-packages (from spacy[transformers]) (22.0)\n",
      "Requirement already satisfied: jinja2 in j:\\downloads\\nlp\\pyenv\\torchenv\\lib\\site-packages (from spacy[transformers]) (3.1.2)\n",
      "Requirement already satisfied: pathy>=0.3.5 in j:\\downloads\\nlp\\pyenv\\torchenv\\lib\\site-packages (from spacy[transformers]) (0.10.1)\n",
      "Requirement already satisfied: murmurhash<1.1.0,>=0.28.0 in j:\\downloads\\nlp\\pyenv\\torchenv\\lib\\site-packages (from spacy[transformers]) (1.0.9)\n",
      "Requirement already satisfied: wasabi<1.1.0,>=0.9.1 in j:\\downloads\\nlp\\pyenv\\torchenv\\lib\\site-packages (from spacy[transformers]) (0.10.1)\n",
      "Requirement already satisfied: numpy>=1.15.0 in j:\\downloads\\nlp\\pyenv\\torchenv\\lib\\site-packages (from spacy[transformers]) (1.23.5)\n",
      "Requirement already satisfied: requests<3.0.0,>=2.13.0 in j:\\downloads\\nlp\\pyenv\\torchenv\\lib\\site-packages (from spacy[transformers]) (2.28.1)\n",
      "Requirement already satisfied: catalogue<2.1.0,>=2.0.6 in j:\\downloads\\nlp\\pyenv\\torchenv\\lib\\site-packages (from spacy[transformers]) (2.0.8)\n",
      "Requirement already satisfied: typer<0.8.0,>=0.3.0 in j:\\downloads\\nlp\\pyenv\\torchenv\\lib\\site-packages (from spacy[transformers]) (0.7.0)\n",
      "Requirement already satisfied: thinc<8.2.0,>=8.1.0 in j:\\downloads\\nlp\\pyenv\\torchenv\\lib\\site-packages (from spacy[transformers]) (8.1.6)\n",
      "Requirement already satisfied: spacy-transformers<1.2.0,>=1.1.2 in j:\\downloads\\nlp\\pyenv\\torchenv\\lib\\site-packages (from spacy[transformers]) (1.1.9)\n",
      "Requirement already satisfied: typing-extensions>=4.2.0 in j:\\downloads\\nlp\\pyenv\\torchenv\\lib\\site-packages (from pydantic!=1.8,!=1.8.1,<1.11.0,>=1.7.4->spacy[transformers]) (4.4.0)\n",
      "Requirement already satisfied: certifi>=2017.4.17 in j:\\downloads\\nlp\\pyenv\\torchenv\\lib\\site-packages (from requests<3.0.0,>=2.13.0->spacy[transformers]) (2022.12.7)\n",
      "Requirement already satisfied: idna<4,>=2.5 in j:\\downloads\\nlp\\pyenv\\torchenv\\lib\\site-packages (from requests<3.0.0,>=2.13.0->spacy[transformers]) (3.4)\n",
      "Requirement already satisfied: charset-normalizer<3,>=2 in j:\\downloads\\nlp\\pyenv\\torchenv\\lib\\site-packages (from requests<3.0.0,>=2.13.0->spacy[transformers]) (2.1.1)\n",
      "Requirement already satisfied: urllib3<1.27,>=1.21.1 in j:\\downloads\\nlp\\pyenv\\torchenv\\lib\\site-packages (from requests<3.0.0,>=2.13.0->spacy[transformers]) (1.26.13)\n",
      "Requirement already satisfied: spacy-alignments<1.0.0,>=0.7.2 in j:\\downloads\\nlp\\pyenv\\torchenv\\lib\\site-packages (from spacy-transformers<1.2.0,>=1.1.2->spacy[transformers]) (0.9.0)\n",
      "Requirement already satisfied: torch>=1.6.0 in j:\\downloads\\nlp\\pyenv\\torchenv\\lib\\site-packages (from spacy-transformers<1.2.0,>=1.1.2->spacy[transformers]) (1.13.0+cu117)\n",
      "Requirement already satisfied: transformers<4.26.0,>=3.4.0 in j:\\downloads\\nlp\\pyenv\\torchenv\\lib\\site-packages (from spacy-transformers<1.2.0,>=1.1.2->spacy[transformers]) (4.25.1)\n",
      "Requirement already satisfied: blis<0.8.0,>=0.7.8 in j:\\downloads\\nlp\\pyenv\\torchenv\\lib\\site-packages (from thinc<8.2.0,>=8.1.0->spacy[transformers]) (0.7.9)\n",
      "Requirement already satisfied: confection<1.0.0,>=0.0.1 in j:\\downloads\\nlp\\pyenv\\torchenv\\lib\\site-packages (from thinc<8.2.0,>=8.1.0->spacy[transformers]) (0.0.3)\n",
      "Requirement already satisfied: colorama in j:\\downloads\\nlp\\pyenv\\torchenv\\lib\\site-packages (from tqdm<5.0.0,>=4.38.0->spacy[transformers]) (0.4.6)\n",
      "Requirement already satisfied: click<9.0.0,>=7.1.1 in j:\\downloads\\nlp\\pyenv\\torchenv\\lib\\site-packages (from typer<0.8.0,>=0.3.0->spacy[transformers]) (8.1.3)\n",
      "Requirement already satisfied: MarkupSafe>=2.0 in j:\\downloads\\nlp\\pyenv\\torchenv\\lib\\site-packages (from jinja2->spacy[transformers]) (2.1.1)\n",
      "Requirement already satisfied: huggingface-hub<1.0,>=0.10.0 in j:\\downloads\\nlp\\pyenv\\torchenv\\lib\\site-packages (from transformers<4.26.0,>=3.4.0->spacy-transformers<1.2.0,>=1.1.2->spacy[transformers]) (0.11.1)\n",
      "Requirement already satisfied: pyyaml>=5.1 in j:\\downloads\\nlp\\pyenv\\torchenv\\lib\\site-packages (from transformers<4.26.0,>=3.4.0->spacy-transformers<1.2.0,>=1.1.2->spacy[transformers]) (6.0)\n",
      "Requirement already satisfied: filelock in j:\\downloads\\nlp\\pyenv\\torchenv\\lib\\site-packages (from transformers<4.26.0,>=3.4.0->spacy-transformers<1.2.0,>=1.1.2->spacy[transformers]) (3.8.2)\n",
      "Requirement already satisfied: regex!=2019.12.17 in j:\\downloads\\nlp\\pyenv\\torchenv\\lib\\site-packages (from transformers<4.26.0,>=3.4.0->spacy-transformers<1.2.0,>=1.1.2->spacy[transformers]) (2022.10.31)\n",
      "Requirement already satisfied: tokenizers!=0.11.3,<0.14,>=0.11.1 in j:\\downloads\\nlp\\pyenv\\torchenv\\lib\\site-packages (from transformers<4.26.0,>=3.4.0->spacy-transformers<1.2.0,>=1.1.2->spacy[transformers]) (0.13.2)\n",
      "Looking in indexes: https://pypi.org/simple, https://pypi.ngc.nvidia.com\n",
      "Requirement already satisfied: spacy[cuda111,transformers] in j:\\downloads\\nlp\\pyenv\\torchenv\\lib\\site-packages (3.4.4)\n",
      "Requirement already satisfied: thinc<8.2.0,>=8.1.0 in j:\\downloads\\nlp\\pyenv\\torchenv\\lib\\site-packages (from spacy[cuda111,transformers]) (8.1.6)\n",
      "Requirement already satisfied: numpy>=1.15.0 in j:\\downloads\\nlp\\pyenv\\torchenv\\lib\\site-packages (from spacy[cuda111,transformers]) (1.23.5)\n",
      "Requirement already satisfied: packaging>=20.0 in j:\\downloads\\nlp\\pyenv\\torchenv\\lib\\site-packages (from spacy[cuda111,transformers]) (22.0)\n",
      "Requirement already satisfied: murmurhash<1.1.0,>=0.28.0 in j:\\downloads\\nlp\\pyenv\\torchenv\\lib\\site-packages (from spacy[cuda111,transformers]) (1.0.9)\n",
      "Requirement already satisfied: catalogue<2.1.0,>=2.0.6 in j:\\downloads\\nlp\\pyenv\\torchenv\\lib\\site-packages (from spacy[cuda111,transformers]) (2.0.8)\n",
      "Requirement already satisfied: spacy-loggers<2.0.0,>=1.0.0 in j:\\downloads\\nlp\\pyenv\\torchenv\\lib\\site-packages (from spacy[cuda111,transformers]) (1.0.4)\n",
      "Requirement already satisfied: smart-open<7.0.0,>=5.2.1 in j:\\downloads\\nlp\\pyenv\\torchenv\\lib\\site-packages (from spacy[cuda111,transformers]) (6.3.0)\n",
      "Requirement already satisfied: langcodes<4.0.0,>=3.2.0 in j:\\downloads\\nlp\\pyenv\\torchenv\\lib\\site-packages (from spacy[cuda111,transformers]) (3.3.0)\n",
      "Requirement already satisfied: tqdm<5.0.0,>=4.38.0 in j:\\downloads\\nlp\\pyenv\\torchenv\\lib\\site-packages (from spacy[cuda111,transformers]) (4.64.1)\n",
      "Requirement already satisfied: requests<3.0.0,>=2.13.0 in j:\\downloads\\nlp\\pyenv\\torchenv\\lib\\site-packages (from spacy[cuda111,transformers]) (2.28.1)\n",
      "Requirement already satisfied: wasabi<1.1.0,>=0.9.1 in j:\\downloads\\nlp\\pyenv\\torchenv\\lib\\site-packages (from spacy[cuda111,transformers]) (0.10.1)\n",
      "Requirement already satisfied: pydantic!=1.8,!=1.8.1,<1.11.0,>=1.7.4 in j:\\downloads\\nlp\\pyenv\\torchenv\\lib\\site-packages (from spacy[cuda111,transformers]) (1.10.4)\n",
      "Requirement already satisfied: srsly<3.0.0,>=2.4.3 in j:\\downloads\\nlp\\pyenv\\torchenv\\lib\\site-packages (from spacy[cuda111,transformers]) (2.4.5)\n",
      "Requirement already satisfied: typer<0.8.0,>=0.3.0 in j:\\downloads\\nlp\\pyenv\\torchenv\\lib\\site-packages (from spacy[cuda111,transformers]) (0.7.0)\n",
      "Requirement already satisfied: jinja2 in j:\\downloads\\nlp\\pyenv\\torchenv\\lib\\site-packages (from spacy[cuda111,transformers]) (3.1.2)\n",
      "Requirement already satisfied: cymem<2.1.0,>=2.0.2 in j:\\downloads\\nlp\\pyenv\\torchenv\\lib\\site-packages (from spacy[cuda111,transformers]) (2.0.7)\n",
      "Requirement already satisfied: spacy-legacy<3.1.0,>=3.0.10 in j:\\downloads\\nlp\\pyenv\\torchenv\\lib\\site-packages (from spacy[cuda111,transformers]) (3.0.11)\n",
      "Requirement already satisfied: setuptools in j:\\downloads\\nlp\\pyenv\\torchenv\\lib\\site-packages (from spacy[cuda111,transformers]) (65.6.3)\n",
      "Requirement already satisfied: pathy>=0.3.5 in j:\\downloads\\nlp\\pyenv\\torchenv\\lib\\site-packages (from spacy[cuda111,transformers]) (0.10.1)\n",
      "Requirement already satisfied: preshed<3.1.0,>=3.0.2 in j:\\downloads\\nlp\\pyenv\\torchenv\\lib\\site-packages (from spacy[cuda111,transformers]) (3.0.8)\n",
      "Collecting cupy-cuda111<12.0.0,>=5.0.0b4\n",
      "  Downloading cupy_cuda111-11.4.0-cp39-cp39-win_amd64.whl (82.2 MB)\n",
      "     ---------------------------------------- 82.2/82.2 MB 2.4 MB/s eta 0:00:00\n",
      "Requirement already satisfied: spacy-transformers<1.2.0,>=1.1.2 in j:\\downloads\\nlp\\pyenv\\torchenv\\lib\\site-packages (from spacy[cuda111,transformers]) (1.1.9)\n",
      "Collecting fastrlock>=0.5\n",
      "  Downloading fastrlock-0.8.1-cp39-cp39-win_amd64.whl (34 kB)\n",
      "Requirement already satisfied: typing-extensions>=4.2.0 in j:\\downloads\\nlp\\pyenv\\torchenv\\lib\\site-packages (from pydantic!=1.8,!=1.8.1,<1.11.0,>=1.7.4->spacy[cuda111,transformers]) (4.4.0)\n",
      "Requirement already satisfied: certifi>=2017.4.17 in j:\\downloads\\nlp\\pyenv\\torchenv\\lib\\site-packages (from requests<3.0.0,>=2.13.0->spacy[cuda111,transformers]) (2022.12.7)\n",
      "Requirement already satisfied: idna<4,>=2.5 in j:\\downloads\\nlp\\pyenv\\torchenv\\lib\\site-packages (from requests<3.0.0,>=2.13.0->spacy[cuda111,transformers]) (3.4)\n",
      "Requirement already satisfied: charset-normalizer<3,>=2 in j:\\downloads\\nlp\\pyenv\\torchenv\\lib\\site-packages (from requests<3.0.0,>=2.13.0->spacy[cuda111,transformers]) (2.1.1)\n",
      "Requirement already satisfied: urllib3<1.27,>=1.21.1 in j:\\downloads\\nlp\\pyenv\\torchenv\\lib\\site-packages (from requests<3.0.0,>=2.13.0->spacy[cuda111,transformers]) (1.26.13)\n",
      "Requirement already satisfied: torch>=1.6.0 in j:\\downloads\\nlp\\pyenv\\torchenv\\lib\\site-packages (from spacy-transformers<1.2.0,>=1.1.2->spacy[cuda111,transformers]) (1.13.0+cu117)\n",
      "Requirement already satisfied: transformers<4.26.0,>=3.4.0 in j:\\downloads\\nlp\\pyenv\\torchenv\\lib\\site-packages (from spacy-transformers<1.2.0,>=1.1.2->spacy[cuda111,transformers]) (4.25.1)\n",
      "Requirement already satisfied: spacy-alignments<1.0.0,>=0.7.2 in j:\\downloads\\nlp\\pyenv\\torchenv\\lib\\site-packages (from spacy-transformers<1.2.0,>=1.1.2->spacy[cuda111,transformers]) (0.9.0)\n",
      "Requirement already satisfied: blis<0.8.0,>=0.7.8 in j:\\downloads\\nlp\\pyenv\\torchenv\\lib\\site-packages (from thinc<8.2.0,>=8.1.0->spacy[cuda111,transformers]) (0.7.9)\n",
      "Requirement already satisfied: confection<1.0.0,>=0.0.1 in j:\\downloads\\nlp\\pyenv\\torchenv\\lib\\site-packages (from thinc<8.2.0,>=8.1.0->spacy[cuda111,transformers]) (0.0.3)\n",
      "Requirement already satisfied: colorama in j:\\downloads\\nlp\\pyenv\\torchenv\\lib\\site-packages (from tqdm<5.0.0,>=4.38.0->spacy[cuda111,transformers]) (0.4.6)\n",
      "Requirement already satisfied: click<9.0.0,>=7.1.1 in j:\\downloads\\nlp\\pyenv\\torchenv\\lib\\site-packages (from typer<0.8.0,>=0.3.0->spacy[cuda111,transformers]) (8.1.3)\n",
      "Requirement already satisfied: MarkupSafe>=2.0 in j:\\downloads\\nlp\\pyenv\\torchenv\\lib\\site-packages (from jinja2->spacy[cuda111,transformers]) (2.1.1)\n",
      "Requirement already satisfied: regex!=2019.12.17 in j:\\downloads\\nlp\\pyenv\\torchenv\\lib\\site-packages (from transformers<4.26.0,>=3.4.0->spacy-transformers<1.2.0,>=1.1.2->spacy[cuda111,transformers]) (2022.10.31)\n",
      "Requirement already satisfied: tokenizers!=0.11.3,<0.14,>=0.11.1 in j:\\downloads\\nlp\\pyenv\\torchenv\\lib\\site-packages (from transformers<4.26.0,>=3.4.0->spacy-transformers<1.2.0,>=1.1.2->spacy[cuda111,transformers]) (0.13.2)\n",
      "Requirement already satisfied: pyyaml>=5.1 in j:\\downloads\\nlp\\pyenv\\torchenv\\lib\\site-packages (from transformers<4.26.0,>=3.4.0->spacy-transformers<1.2.0,>=1.1.2->spacy[cuda111,transformers]) (6.0)\n",
      "Requirement already satisfied: huggingface-hub<1.0,>=0.10.0 in j:\\downloads\\nlp\\pyenv\\torchenv\\lib\\site-packages (from transformers<4.26.0,>=3.4.0->spacy-transformers<1.2.0,>=1.1.2->spacy[cuda111,transformers]) (0.11.1)\n",
      "Requirement already satisfied: filelock in j:\\downloads\\nlp\\pyenv\\torchenv\\lib\\site-packages (from transformers<4.26.0,>=3.4.0->spacy-transformers<1.2.0,>=1.1.2->spacy[cuda111,transformers]) (3.8.2)\n",
      "Installing collected packages: fastrlock, cupy-cuda111\n",
      "Successfully installed cupy-cuda111-11.4.0 fastrlock-0.8.1\n"
     ]
    }
   ],
   "source": [
    "!pip install spacy[transformers]\n",
    "!pip install spacy[transformers,cuda111]"
   ],
   "metadata": {
    "collapsed": false
   }
  },
  {
   "cell_type": "code",
   "execution_count": null,
   "outputs": [],
   "source": [],
   "metadata": {
    "collapsed": false
   }
  },
  {
   "cell_type": "markdown",
   "source": [
    "!pip install requests\n",
    "!git clone https://gerrit.wikimedia.org/r/pywikibot/core.git\n",
    "!cd core\n",
    "!git submodule update --init\n",
    "!python pwb.py script_name\n",
    "!pip install pywikibot\n",
    "!pip install \"mwparserfromhell>=0.5.0\"\n",
    "!pip install \"wikitextparser>=0.47.5\"\n",
    "\n",
    "import spacy\n",
    "import pywikibot\n",
    "\n",
    "# Load the en_core_web_md model\n",
    "nlp = spacy.load(\"en_core_web_md\")\n",
    "\n",
    "# Define the text to process\n",
    "text = \"Barack Obama was born in Honolulu, Hawaii. He served as the 44th President of the United States from 2009 to 2017.\"\n",
    "\n",
    "# Process the text using the model\n",
    "doc = nlp(text)\n",
    "\n",
    "# Create an empty graph\n",
    "graph = {}\n",
    "\n",
    "# Iterate over the entities in the document\n",
    "for ent in doc.ents:\n",
    "    # Get the entity label\n",
    "    label = ent.label_\n",
    "\n",
    "    # Get the entity text\n",
    "    entity = ent.text\n",
    "\n",
    "    # Search Wikidata for the entity\n",
    "    site = pywikibot.Site(\"en\", \"wikipedia\")\n",
    "    page = pywikibot.Page(site, entity)\n",
    "    print(entity, page.data_item())\n",
    "    # Get the Wikidata page for the entity\n",
    "    wd_page = page.data_item()\n",
    "    # Add the entity to the graph\n",
    "    #graph[entity] = {\"label\": label, \"ID\": wd_page}\n",
    "\n",
    "# Print the graph\n",
    "print(graph)\n",
    "Barack Obama [[wikidata:Q76]]\n",
    "Honolulu [[wikidata:Q18094]]\n",
    "Hawaii [[wikidata:Q782]]"
   ],
   "metadata": {
    "collapsed": false
   }
  }
 ]
}
