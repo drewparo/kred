{
 "nbformat": 4,
 "nbformat_minor": 0,
 "metadata": {
  "colab": {
   "provenance": []
  },
  "kernelspec": {
   "name": "python3",
   "display_name": "Python 3"
  },
  "language_info": {
   "name": "python"
  },
  "accelerator": "GPU",
  "gpuClass": "standard"
 },
 "cells": [
  {
   "cell_type": "code",
   "source": [
    "!git clone https://github.com/Mlawrence95/LinkedIn-Tech-Job-Data.git"
   ],
   "metadata": {
    "colab": {
     "base_uri": "https://localhost:8080/"
    },
    "id": "CUXRdve9lMOe",
    "outputId": "65eb63f8-8789-40c8-f565-27c4870e9351"
   },
   "execution_count": 2,
   "outputs": [
    {
     "name": "stderr",
     "output_type": "stream",
     "text": [
      "Cloning into 'LinkedIn-Tech-Job-Data'...\n"
     ]
    }
   ]
  },
  {
   "cell_type": "code",
   "source": [
    "%cd LinkedIn-Tech-Job-Data"
   ],
   "metadata": {
    "colab": {
     "base_uri": "https://localhost:8080/"
    },
    "id": "3QkKiONVlWpy",
    "outputId": "5d71864b-531f-4233-edb4-cd2ce86d8a83"
   },
   "execution_count": 4,
   "outputs": [
    {
     "output_type": "stream",
     "name": "stdout",
     "text": [
      "/content/drive/MyDrive/kred/LinkedIn-Tech-Job-Data\n"
     ]
    }
   ]
  },
  {
   "cell_type": "code",
   "source": [
    "!pip install -U pip setuptools wheel\n",
    "!pip install spacy-transformers\n",
    "#!pip install pytextrank\n",
    "!python -m spacy download en_core_web_trf\n",
    "!python -m spacy download en_core_web_md\n",
    "!python -m spacy download en_core_web_sm\n"
   ],
   "metadata": {
    "colab": {
     "base_uri": "https://localhost:8080/"
    },
    "id": "PgGuqXHFwOJI",
    "outputId": "29b07972-9ed3-473b-baad-a6fef2ad18e8"
   },
   "execution_count": 13,
   "outputs": [
    {
     "name": "stdout",
     "output_type": "stream",
     "text": [
      "Looking in indexes: https://pypi.org/simple, https://pypi.ngc.nvidia.com\n",
      "Requirement already satisfied: pip in j:\\downloads\\nlp\\pyenv\\torchenv\\lib\\site-packages (22.3.1)\n",
      "Requirement already satisfied: setuptools in j:\\downloads\\nlp\\pyenv\\torchenv\\lib\\site-packages (65.6.3)\n",
      "Requirement already satisfied: wheel in j:\\downloads\\nlp\\pyenv\\torchenv\\lib\\site-packages (0.38.4)\n",
      "Looking in indexes: https://pypi.org/simple, https://pypi.ngc.nvidia.com\n",
      "Collecting spacy-transformers\n",
      "  Downloading spacy_transformers-1.1.9-py2.py3-none-any.whl (53 kB)\n",
      "     ---------------------------------------- 53.5/53.5 kB 1.4 MB/s eta 0:00:00\n",
      "Collecting spacy<4.0.0,>=3.4.0\n",
      "  Downloading spacy-3.4.4-cp39-cp39-win_amd64.whl (11.9 MB)\n",
      "     ---------------------------------------- 11.9/11.9 MB 8.5 MB/s eta 0:00:00\n",
      "Collecting spacy-alignments<1.0.0,>=0.7.2\n",
      "  Downloading spacy_alignments-0.9.0-cp39-cp39-win_amd64.whl (186 kB)\n",
      "     -------------------------------------- 186.7/186.7 kB 5.7 MB/s eta 0:00:00\n",
      "Requirement already satisfied: torch>=1.6.0 in j:\\downloads\\nlp\\pyenv\\torchenv\\lib\\site-packages (from spacy-transformers) (1.13.0+cu117)\n",
      "Requirement already satisfied: transformers<4.26.0,>=3.4.0 in j:\\downloads\\nlp\\pyenv\\torchenv\\lib\\site-packages (from spacy-transformers) (4.25.1)\n",
      "Collecting srsly<3.0.0,>=2.4.0\n",
      "  Downloading srsly-2.4.5-cp39-cp39-win_amd64.whl (481 kB)\n",
      "     ------------------------------------- 481.4/481.4 kB 10.0 MB/s eta 0:00:00\n",
      "Requirement already satisfied: packaging>=20.0 in j:\\downloads\\nlp\\pyenv\\torchenv\\lib\\site-packages (from spacy<4.0.0,>=3.4.0->spacy-transformers) (22.0)\n",
      "Collecting pathy>=0.3.5\n",
      "  Downloading pathy-0.10.1-py3-none-any.whl (48 kB)\n",
      "     ---------------------------------------- 48.9/48.9 kB ? eta 0:00:00\n",
      "Requirement already satisfied: requests<3.0.0,>=2.13.0 in j:\\downloads\\nlp\\pyenv\\torchenv\\lib\\site-packages (from spacy<4.0.0,>=3.4.0->spacy-transformers) (2.28.1)\n",
      "Collecting murmurhash<1.1.0,>=0.28.0\n",
      "  Downloading murmurhash-1.0.9-cp39-cp39-win_amd64.whl (18 kB)\n",
      "Collecting langcodes<4.0.0,>=3.2.0\n",
      "  Downloading langcodes-3.3.0-py3-none-any.whl (181 kB)\n",
      "     ------------------------------------- 181.6/181.6 kB 10.7 MB/s eta 0:00:00\n",
      "Requirement already satisfied: setuptools in j:\\downloads\\nlp\\pyenv\\torchenv\\lib\\site-packages (from spacy<4.0.0,>=3.4.0->spacy-transformers) (65.6.3)\n",
      "Collecting cymem<2.1.0,>=2.0.2\n",
      "  Downloading cymem-2.0.7-cp39-cp39-win_amd64.whl (30 kB)\n",
      "Collecting typer<0.8.0,>=0.3.0\n",
      "  Downloading typer-0.7.0-py3-none-any.whl (38 kB)\n",
      "Collecting catalogue<2.1.0,>=2.0.6\n",
      "  Downloading catalogue-2.0.8-py3-none-any.whl (17 kB)\n",
      "Collecting spacy-loggers<2.0.0,>=1.0.0\n",
      "  Downloading spacy_loggers-1.0.4-py3-none-any.whl (11 kB)\n",
      "Collecting pydantic!=1.8,!=1.8.1,<1.11.0,>=1.7.4\n",
      "  Downloading pydantic-1.10.4-cp39-cp39-win_amd64.whl (2.1 MB)\n",
      "     ---------------------------------------- 2.1/2.1 MB 8.0 MB/s eta 0:00:00\n",
      "Requirement already satisfied: numpy>=1.15.0 in j:\\downloads\\nlp\\pyenv\\torchenv\\lib\\site-packages (from spacy<4.0.0,>=3.4.0->spacy-transformers) (1.23.5)\n",
      "Collecting spacy-legacy<3.1.0,>=3.0.10\n",
      "  Downloading spacy_legacy-3.0.11-py2.py3-none-any.whl (24 kB)\n",
      "Collecting thinc<8.2.0,>=8.1.0\n",
      "  Downloading thinc-8.1.6-cp39-cp39-win_amd64.whl (1.3 MB)\n",
      "     ---------------------------------------- 1.3/1.3 MB 8.1 MB/s eta 0:00:00\n",
      "Requirement already satisfied: tqdm<5.0.0,>=4.38.0 in j:\\downloads\\nlp\\pyenv\\torchenv\\lib\\site-packages (from spacy<4.0.0,>=3.4.0->spacy-transformers) (4.64.1)\n",
      "Requirement already satisfied: jinja2 in j:\\downloads\\nlp\\pyenv\\torchenv\\lib\\site-packages (from spacy<4.0.0,>=3.4.0->spacy-transformers) (3.1.2)\n",
      "Collecting smart-open<7.0.0,>=5.2.1\n",
      "  Downloading smart_open-6.3.0-py3-none-any.whl (56 kB)\n",
      "     ---------------------------------------- 56.8/56.8 kB ? eta 0:00:00\n",
      "Collecting preshed<3.1.0,>=3.0.2\n",
      "  Downloading preshed-3.0.8-cp39-cp39-win_amd64.whl (96 kB)\n",
      "     ---------------------------------------- 96.8/96.8 kB 5.8 MB/s eta 0:00:00\n",
      "Collecting wasabi<1.1.0,>=0.9.1\n",
      "  Downloading wasabi-0.10.1-py3-none-any.whl (26 kB)\n",
      "Requirement already satisfied: typing-extensions in j:\\downloads\\nlp\\pyenv\\torchenv\\lib\\site-packages (from torch>=1.6.0->spacy-transformers) (4.4.0)\n",
      "Requirement already satisfied: huggingface-hub<1.0,>=0.10.0 in j:\\downloads\\nlp\\pyenv\\torchenv\\lib\\site-packages (from transformers<4.26.0,>=3.4.0->spacy-transformers) (0.11.1)\n",
      "Requirement already satisfied: regex!=2019.12.17 in j:\\downloads\\nlp\\pyenv\\torchenv\\lib\\site-packages (from transformers<4.26.0,>=3.4.0->spacy-transformers) (2022.10.31)\n",
      "Requirement already satisfied: pyyaml>=5.1 in j:\\downloads\\nlp\\pyenv\\torchenv\\lib\\site-packages (from transformers<4.26.0,>=3.4.0->spacy-transformers) (6.0)\n",
      "Requirement already satisfied: tokenizers!=0.11.3,<0.14,>=0.11.1 in j:\\downloads\\nlp\\pyenv\\torchenv\\lib\\site-packages (from transformers<4.26.0,>=3.4.0->spacy-transformers) (0.13.2)\n",
      "Requirement already satisfied: filelock in j:\\downloads\\nlp\\pyenv\\torchenv\\lib\\site-packages (from transformers<4.26.0,>=3.4.0->spacy-transformers) (3.8.2)\n",
      "Requirement already satisfied: idna<4,>=2.5 in j:\\downloads\\nlp\\pyenv\\torchenv\\lib\\site-packages (from requests<3.0.0,>=2.13.0->spacy<4.0.0,>=3.4.0->spacy-transformers) (3.4)\n",
      "Requirement already satisfied: certifi>=2017.4.17 in j:\\downloads\\nlp\\pyenv\\torchenv\\lib\\site-packages (from requests<3.0.0,>=2.13.0->spacy<4.0.0,>=3.4.0->spacy-transformers) (2022.12.7)\n",
      "Requirement already satisfied: charset-normalizer<3,>=2 in j:\\downloads\\nlp\\pyenv\\torchenv\\lib\\site-packages (from requests<3.0.0,>=2.13.0->spacy<4.0.0,>=3.4.0->spacy-transformers) (2.1.1)\n",
      "Requirement already satisfied: urllib3<1.27,>=1.21.1 in j:\\downloads\\nlp\\pyenv\\torchenv\\lib\\site-packages (from requests<3.0.0,>=2.13.0->spacy<4.0.0,>=3.4.0->spacy-transformers) (1.26.13)\n",
      "Collecting confection<1.0.0,>=0.0.1\n",
      "  Downloading confection-0.0.3-py3-none-any.whl (32 kB)\n",
      "Collecting blis<0.8.0,>=0.7.8\n",
      "  Downloading blis-0.7.9-cp39-cp39-win_amd64.whl (7.0 MB)\n",
      "     ---------------------------------------- 7.0/7.0 MB 7.2 MB/s eta 0:00:00\n",
      "Requirement already satisfied: colorama in j:\\downloads\\nlp\\pyenv\\torchenv\\lib\\site-packages (from tqdm<5.0.0,>=4.38.0->spacy<4.0.0,>=3.4.0->spacy-transformers) (0.4.6)\n",
      "Requirement already satisfied: click<9.0.0,>=7.1.1 in j:\\downloads\\nlp\\pyenv\\torchenv\\lib\\site-packages (from typer<0.8.0,>=0.3.0->spacy<4.0.0,>=3.4.0->spacy-transformers) (8.1.3)\n",
      "Requirement already satisfied: MarkupSafe>=2.0 in j:\\downloads\\nlp\\pyenv\\torchenv\\lib\\site-packages (from jinja2->spacy<4.0.0,>=3.4.0->spacy-transformers) (2.1.1)\n",
      "Installing collected packages: wasabi, cymem, spacy-loggers, spacy-legacy, spacy-alignments, smart-open, pydantic, murmurhash, langcodes, catalogue, blis, typer, srsly, preshed, pathy, confection, thinc, spacy, spacy-transformers\n",
      "Successfully installed blis-0.7.9 catalogue-2.0.8 confection-0.0.3 cymem-2.0.7 langcodes-3.3.0 murmurhash-1.0.9 pathy-0.10.1 preshed-3.0.8 pydantic-1.10.4 smart-open-6.3.0 spacy-3.4.4 spacy-alignments-0.9.0 spacy-legacy-3.0.11 spacy-loggers-1.0.4 spacy-transformers-1.1.9 srsly-2.4.5 thinc-8.1.6 typer-0.7.0 wasabi-0.10.1\n",
      "Looking in indexes: https://pypi.org/simple, https://pypi.ngc.nvidia.com\n",
      "Collecting en-core-web-trf==3.4.1\n",
      "  Downloading https://github.com/explosion/spacy-models/releases/download/en_core_web_trf-3.4.1/en_core_web_trf-3.4.1-py3-none-any.whl (460.3 MB)\n",
      "     -------------------------------------- 460.3/460.3 MB 5.0 MB/s eta 0:00:00\n",
      "Requirement already satisfied: spacy-transformers<1.2.0,>=1.1.2 in j:\\downloads\\nlp\\pyenv\\torchenv\\lib\\site-packages (from en-core-web-trf==3.4.1) (1.1.9)\n",
      "Requirement already satisfied: spacy<3.5.0,>=3.4.1 in j:\\downloads\\nlp\\pyenv\\torchenv\\lib\\site-packages (from en-core-web-trf==3.4.1) (3.4.4)\n",
      "Requirement already satisfied: pathy>=0.3.5 in j:\\downloads\\nlp\\pyenv\\torchenv\\lib\\site-packages (from spacy<3.5.0,>=3.4.1->en-core-web-trf==3.4.1) (0.10.1)\n",
      "Requirement already satisfied: langcodes<4.0.0,>=3.2.0 in j:\\downloads\\nlp\\pyenv\\torchenv\\lib\\site-packages (from spacy<3.5.0,>=3.4.1->en-core-web-trf==3.4.1) (3.3.0)\n",
      "Requirement already satisfied: murmurhash<1.1.0,>=0.28.0 in j:\\downloads\\nlp\\pyenv\\torchenv\\lib\\site-packages (from spacy<3.5.0,>=3.4.1->en-core-web-trf==3.4.1) (1.0.9)\n",
      "Requirement already satisfied: cymem<2.1.0,>=2.0.2 in j:\\downloads\\nlp\\pyenv\\torchenv\\lib\\site-packages (from spacy<3.5.0,>=3.4.1->en-core-web-trf==3.4.1) (2.0.7)\n",
      "Requirement already satisfied: srsly<3.0.0,>=2.4.3 in j:\\downloads\\nlp\\pyenv\\torchenv\\lib\\site-packages (from spacy<3.5.0,>=3.4.1->en-core-web-trf==3.4.1) (2.4.5)\n",
      "Requirement already satisfied: typer<0.8.0,>=0.3.0 in j:\\downloads\\nlp\\pyenv\\torchenv\\lib\\site-packages (from spacy<3.5.0,>=3.4.1->en-core-web-trf==3.4.1) (0.7.0)\n",
      "Requirement already satisfied: pydantic!=1.8,!=1.8.1,<1.11.0,>=1.7.4 in j:\\downloads\\nlp\\pyenv\\torchenv\\lib\\site-packages (from spacy<3.5.0,>=3.4.1->en-core-web-trf==3.4.1) (1.10.4)\n",
      "Requirement already satisfied: requests<3.0.0,>=2.13.0 in j:\\downloads\\nlp\\pyenv\\torchenv\\lib\\site-packages (from spacy<3.5.0,>=3.4.1->en-core-web-trf==3.4.1) (2.28.1)\n",
      "Requirement already satisfied: spacy-legacy<3.1.0,>=3.0.10 in j:\\downloads\\nlp\\pyenv\\torchenv\\lib\\site-packages (from spacy<3.5.0,>=3.4.1->en-core-web-trf==3.4.1) (3.0.11)\n",
      "Requirement already satisfied: numpy>=1.15.0 in j:\\downloads\\nlp\\pyenv\\torchenv\\lib\\site-packages (from spacy<3.5.0,>=3.4.1->en-core-web-trf==3.4.1) (1.23.5)\n",
      "Requirement already satisfied: tqdm<5.0.0,>=4.38.0 in j:\\downloads\\nlp\\pyenv\\torchenv\\lib\\site-packages (from spacy<3.5.0,>=3.4.1->en-core-web-trf==3.4.1) (4.64.1)\n",
      "Requirement already satisfied: smart-open<7.0.0,>=5.2.1 in j:\\downloads\\nlp\\pyenv\\torchenv\\lib\\site-packages (from spacy<3.5.0,>=3.4.1->en-core-web-trf==3.4.1) (6.3.0)\n",
      "Requirement already satisfied: catalogue<2.1.0,>=2.0.6 in j:\\downloads\\nlp\\pyenv\\torchenv\\lib\\site-packages (from spacy<3.5.0,>=3.4.1->en-core-web-trf==3.4.1) (2.0.8)\n",
      "Requirement already satisfied: wasabi<1.1.0,>=0.9.1 in j:\\downloads\\nlp\\pyenv\\torchenv\\lib\\site-packages (from spacy<3.5.0,>=3.4.1->en-core-web-trf==3.4.1) (0.10.1)\n",
      "Requirement already satisfied: setuptools in j:\\downloads\\nlp\\pyenv\\torchenv\\lib\\site-packages (from spacy<3.5.0,>=3.4.1->en-core-web-trf==3.4.1) (65.6.3)\n",
      "Requirement already satisfied: thinc<8.2.0,>=8.1.0 in j:\\downloads\\nlp\\pyenv\\torchenv\\lib\\site-packages (from spacy<3.5.0,>=3.4.1->en-core-web-trf==3.4.1) (8.1.6)\n",
      "Requirement already satisfied: jinja2 in j:\\downloads\\nlp\\pyenv\\torchenv\\lib\\site-packages (from spacy<3.5.0,>=3.4.1->en-core-web-trf==3.4.1) (3.1.2)\n",
      "Requirement already satisfied: packaging>=20.0 in j:\\downloads\\nlp\\pyenv\\torchenv\\lib\\site-packages (from spacy<3.5.0,>=3.4.1->en-core-web-trf==3.4.1) (22.0)\n",
      "Requirement already satisfied: spacy-loggers<2.0.0,>=1.0.0 in j:\\downloads\\nlp\\pyenv\\torchenv\\lib\\site-packages (from spacy<3.5.0,>=3.4.1->en-core-web-trf==3.4.1) (1.0.4)\n",
      "Requirement already satisfied: preshed<3.1.0,>=3.0.2 in j:\\downloads\\nlp\\pyenv\\torchenv\\lib\\site-packages (from spacy<3.5.0,>=3.4.1->en-core-web-trf==3.4.1) (3.0.8)\n",
      "Requirement already satisfied: torch>=1.6.0 in j:\\downloads\\nlp\\pyenv\\torchenv\\lib\\site-packages (from spacy-transformers<1.2.0,>=1.1.2->en-core-web-trf==3.4.1) (1.13.0+cu117)\n",
      "Requirement already satisfied: spacy-alignments<1.0.0,>=0.7.2 in j:\\downloads\\nlp\\pyenv\\torchenv\\lib\\site-packages (from spacy-transformers<1.2.0,>=1.1.2->en-core-web-trf==3.4.1) (0.9.0)\n",
      "Requirement already satisfied: transformers<4.26.0,>=3.4.0 in j:\\downloads\\nlp\\pyenv\\torchenv\\lib\\site-packages (from spacy-transformers<1.2.0,>=1.1.2->en-core-web-trf==3.4.1) (4.25.1)\n",
      "Requirement already satisfied: typing-extensions>=4.2.0 in j:\\downloads\\nlp\\pyenv\\torchenv\\lib\\site-packages (from pydantic!=1.8,!=1.8.1,<1.11.0,>=1.7.4->spacy<3.5.0,>=3.4.1->en-core-web-trf==3.4.1) (4.4.0)\n",
      "Requirement already satisfied: idna<4,>=2.5 in j:\\downloads\\nlp\\pyenv\\torchenv\\lib\\site-packages (from requests<3.0.0,>=2.13.0->spacy<3.5.0,>=3.4.1->en-core-web-trf==3.4.1) (3.4)\n",
      "Requirement already satisfied: charset-normalizer<3,>=2 in j:\\downloads\\nlp\\pyenv\\torchenv\\lib\\site-packages (from requests<3.0.0,>=2.13.0->spacy<3.5.0,>=3.4.1->en-core-web-trf==3.4.1) (2.1.1)\n",
      "Requirement already satisfied: certifi>=2017.4.17 in j:\\downloads\\nlp\\pyenv\\torchenv\\lib\\site-packages (from requests<3.0.0,>=2.13.0->spacy<3.5.0,>=3.4.1->en-core-web-trf==3.4.1) (2022.12.7)\n",
      "Requirement already satisfied: urllib3<1.27,>=1.21.1 in j:\\downloads\\nlp\\pyenv\\torchenv\\lib\\site-packages (from requests<3.0.0,>=2.13.0->spacy<3.5.0,>=3.4.1->en-core-web-trf==3.4.1) (1.26.13)\n",
      "Requirement already satisfied: confection<1.0.0,>=0.0.1 in j:\\downloads\\nlp\\pyenv\\torchenv\\lib\\site-packages (from thinc<8.2.0,>=8.1.0->spacy<3.5.0,>=3.4.1->en-core-web-trf==3.4.1) (0.0.3)\n",
      "Requirement already satisfied: blis<0.8.0,>=0.7.8 in j:\\downloads\\nlp\\pyenv\\torchenv\\lib\\site-packages (from thinc<8.2.0,>=8.1.0->spacy<3.5.0,>=3.4.1->en-core-web-trf==3.4.1) (0.7.9)\n",
      "Requirement already satisfied: colorama in j:\\downloads\\nlp\\pyenv\\torchenv\\lib\\site-packages (from tqdm<5.0.0,>=4.38.0->spacy<3.5.0,>=3.4.1->en-core-web-trf==3.4.1) (0.4.6)\n",
      "Requirement already satisfied: huggingface-hub<1.0,>=0.10.0 in j:\\downloads\\nlp\\pyenv\\torchenv\\lib\\site-packages (from transformers<4.26.0,>=3.4.0->spacy-transformers<1.2.0,>=1.1.2->en-core-web-trf==3.4.1) (0.11.1)\n",
      "Requirement already satisfied: pyyaml>=5.1 in j:\\downloads\\nlp\\pyenv\\torchenv\\lib\\site-packages (from transformers<4.26.0,>=3.4.0->spacy-transformers<1.2.0,>=1.1.2->en-core-web-trf==3.4.1) (6.0)\n",
      "Requirement already satisfied: regex!=2019.12.17 in j:\\downloads\\nlp\\pyenv\\torchenv\\lib\\site-packages (from transformers<4.26.0,>=3.4.0->spacy-transformers<1.2.0,>=1.1.2->en-core-web-trf==3.4.1) (2022.10.31)\n",
      "Requirement already satisfied: filelock in j:\\downloads\\nlp\\pyenv\\torchenv\\lib\\site-packages (from transformers<4.26.0,>=3.4.0->spacy-transformers<1.2.0,>=1.1.2->en-core-web-trf==3.4.1) (3.8.2)\n",
      "Requirement already satisfied: tokenizers!=0.11.3,<0.14,>=0.11.1 in j:\\downloads\\nlp\\pyenv\\torchenv\\lib\\site-packages (from transformers<4.26.0,>=3.4.0->spacy-transformers<1.2.0,>=1.1.2->en-core-web-trf==3.4.1) (0.13.2)\n",
      "Requirement already satisfied: click<9.0.0,>=7.1.1 in j:\\downloads\\nlp\\pyenv\\torchenv\\lib\\site-packages (from typer<0.8.0,>=0.3.0->spacy<3.5.0,>=3.4.1->en-core-web-trf==3.4.1) (8.1.3)\n",
      "Requirement already satisfied: MarkupSafe>=2.0 in j:\\downloads\\nlp\\pyenv\\torchenv\\lib\\site-packages (from jinja2->spacy<3.5.0,>=3.4.1->en-core-web-trf==3.4.1) (2.1.1)\n",
      "Installing collected packages: en-core-web-trf\n",
      "Successfully installed en-core-web-trf-3.4.1\n",
      "[+] Download and installation successful\n",
      "You can now load the package via spacy.load('en_core_web_trf')\n",
      "Looking in indexes: https://pypi.org/simple, https://pypi.ngc.nvidia.com\n",
      "Collecting en-core-web-md==3.4.1\n",
      "  Downloading https://github.com/explosion/spacy-models/releases/download/en_core_web_md-3.4.1/en_core_web_md-3.4.1-py3-none-any.whl (42.8 MB)\n",
      "     ---------------------------------------- 42.8/42.8 MB 2.5 MB/s eta 0:00:00\n",
      "Requirement already satisfied: spacy<3.5.0,>=3.4.0 in j:\\downloads\\nlp\\pyenv\\torchenv\\lib\\site-packages (from en-core-web-md==3.4.1) (3.4.4)\n",
      "Requirement already satisfied: preshed<3.1.0,>=3.0.2 in j:\\downloads\\nlp\\pyenv\\torchenv\\lib\\site-packages (from spacy<3.5.0,>=3.4.0->en-core-web-md==3.4.1) (3.0.8)\n",
      "Requirement already satisfied: cymem<2.1.0,>=2.0.2 in j:\\downloads\\nlp\\pyenv\\torchenv\\lib\\site-packages (from spacy<3.5.0,>=3.4.0->en-core-web-md==3.4.1) (2.0.7)\n",
      "Requirement already satisfied: pydantic!=1.8,!=1.8.1,<1.11.0,>=1.7.4 in j:\\downloads\\nlp\\pyenv\\torchenv\\lib\\site-packages (from spacy<3.5.0,>=3.4.0->en-core-web-md==3.4.1) (1.10.4)\n",
      "Requirement already satisfied: pathy>=0.3.5 in j:\\downloads\\nlp\\pyenv\\torchenv\\lib\\site-packages (from spacy<3.5.0,>=3.4.0->en-core-web-md==3.4.1) (0.10.1)\n",
      "Requirement already satisfied: packaging>=20.0 in j:\\downloads\\nlp\\pyenv\\torchenv\\lib\\site-packages (from spacy<3.5.0,>=3.4.0->en-core-web-md==3.4.1) (22.0)\n",
      "Requirement already satisfied: srsly<3.0.0,>=2.4.3 in j:\\downloads\\nlp\\pyenv\\torchenv\\lib\\site-packages (from spacy<3.5.0,>=3.4.0->en-core-web-md==3.4.1) (2.4.5)\n",
      "Requirement already satisfied: langcodes<4.0.0,>=3.2.0 in j:\\downloads\\nlp\\pyenv\\torchenv\\lib\\site-packages (from spacy<3.5.0,>=3.4.0->en-core-web-md==3.4.1) (3.3.0)\n",
      "Requirement already satisfied: typer<0.8.0,>=0.3.0 in j:\\downloads\\nlp\\pyenv\\torchenv\\lib\\site-packages (from spacy<3.5.0,>=3.4.0->en-core-web-md==3.4.1) (0.7.0)\n",
      "Requirement already satisfied: smart-open<7.0.0,>=5.2.1 in j:\\downloads\\nlp\\pyenv\\torchenv\\lib\\site-packages (from spacy<3.5.0,>=3.4.0->en-core-web-md==3.4.1) (6.3.0)\n",
      "Requirement already satisfied: jinja2 in j:\\downloads\\nlp\\pyenv\\torchenv\\lib\\site-packages (from spacy<3.5.0,>=3.4.0->en-core-web-md==3.4.1) (3.1.2)\n",
      "Requirement already satisfied: spacy-legacy<3.1.0,>=3.0.10 in j:\\downloads\\nlp\\pyenv\\torchenv\\lib\\site-packages (from spacy<3.5.0,>=3.4.0->en-core-web-md==3.4.1) (3.0.11)\n",
      "Requirement already satisfied: numpy>=1.15.0 in j:\\downloads\\nlp\\pyenv\\torchenv\\lib\\site-packages (from spacy<3.5.0,>=3.4.0->en-core-web-md==3.4.1) (1.23.5)\n",
      "Requirement already satisfied: wasabi<1.1.0,>=0.9.1 in j:\\downloads\\nlp\\pyenv\\torchenv\\lib\\site-packages (from spacy<3.5.0,>=3.4.0->en-core-web-md==3.4.1) (0.10.1)\n",
      "Requirement already satisfied: tqdm<5.0.0,>=4.38.0 in j:\\downloads\\nlp\\pyenv\\torchenv\\lib\\site-packages (from spacy<3.5.0,>=3.4.0->en-core-web-md==3.4.1) (4.64.1)\n",
      "Requirement already satisfied: requests<3.0.0,>=2.13.0 in j:\\downloads\\nlp\\pyenv\\torchenv\\lib\\site-packages (from spacy<3.5.0,>=3.4.0->en-core-web-md==3.4.1) (2.28.1)\n",
      "Requirement already satisfied: spacy-loggers<2.0.0,>=1.0.0 in j:\\downloads\\nlp\\pyenv\\torchenv\\lib\\site-packages (from spacy<3.5.0,>=3.4.0->en-core-web-md==3.4.1) (1.0.4)\n",
      "Requirement already satisfied: catalogue<2.1.0,>=2.0.6 in j:\\downloads\\nlp\\pyenv\\torchenv\\lib\\site-packages (from spacy<3.5.0,>=3.4.0->en-core-web-md==3.4.1) (2.0.8)\n",
      "Requirement already satisfied: setuptools in j:\\downloads\\nlp\\pyenv\\torchenv\\lib\\site-packages (from spacy<3.5.0,>=3.4.0->en-core-web-md==3.4.1) (65.6.3)\n",
      "Requirement already satisfied: murmurhash<1.1.0,>=0.28.0 in j:\\downloads\\nlp\\pyenv\\torchenv\\lib\\site-packages (from spacy<3.5.0,>=3.4.0->en-core-web-md==3.4.1) (1.0.9)\n",
      "Requirement already satisfied: thinc<8.2.0,>=8.1.0 in j:\\downloads\\nlp\\pyenv\\torchenv\\lib\\site-packages (from spacy<3.5.0,>=3.4.0->en-core-web-md==3.4.1) (8.1.6)\n",
      "Requirement already satisfied: typing-extensions>=4.2.0 in j:\\downloads\\nlp\\pyenv\\torchenv\\lib\\site-packages (from pydantic!=1.8,!=1.8.1,<1.11.0,>=1.7.4->spacy<3.5.0,>=3.4.0->en-core-web-md==3.4.1) (4.4.0)\n",
      "Requirement already satisfied: charset-normalizer<3,>=2 in j:\\downloads\\nlp\\pyenv\\torchenv\\lib\\site-packages (from requests<3.0.0,>=2.13.0->spacy<3.5.0,>=3.4.0->en-core-web-md==3.4.1) (2.1.1)\n",
      "Requirement already satisfied: urllib3<1.27,>=1.21.1 in j:\\downloads\\nlp\\pyenv\\torchenv\\lib\\site-packages (from requests<3.0.0,>=2.13.0->spacy<3.5.0,>=3.4.0->en-core-web-md==3.4.1) (1.26.13)\n",
      "Requirement already satisfied: certifi>=2017.4.17 in j:\\downloads\\nlp\\pyenv\\torchenv\\lib\\site-packages (from requests<3.0.0,>=2.13.0->spacy<3.5.0,>=3.4.0->en-core-web-md==3.4.1) (2022.12.7)\n",
      "Requirement already satisfied: idna<4,>=2.5 in j:\\downloads\\nlp\\pyenv\\torchenv\\lib\\site-packages (from requests<3.0.0,>=2.13.0->spacy<3.5.0,>=3.4.0->en-core-web-md==3.4.1) (3.4)\n",
      "Requirement already satisfied: confection<1.0.0,>=0.0.1 in j:\\downloads\\nlp\\pyenv\\torchenv\\lib\\site-packages (from thinc<8.2.0,>=8.1.0->spacy<3.5.0,>=3.4.0->en-core-web-md==3.4.1) (0.0.3)\n",
      "Requirement already satisfied: blis<0.8.0,>=0.7.8 in j:\\downloads\\nlp\\pyenv\\torchenv\\lib\\site-packages (from thinc<8.2.0,>=8.1.0->spacy<3.5.0,>=3.4.0->en-core-web-md==3.4.1) (0.7.9)\n",
      "Requirement already satisfied: colorama in j:\\downloads\\nlp\\pyenv\\torchenv\\lib\\site-packages (from tqdm<5.0.0,>=4.38.0->spacy<3.5.0,>=3.4.0->en-core-web-md==3.4.1) (0.4.6)\n",
      "Requirement already satisfied: click<9.0.0,>=7.1.1 in j:\\downloads\\nlp\\pyenv\\torchenv\\lib\\site-packages (from typer<0.8.0,>=0.3.0->spacy<3.5.0,>=3.4.0->en-core-web-md==3.4.1) (8.1.3)\n",
      "Requirement already satisfied: MarkupSafe>=2.0 in j:\\downloads\\nlp\\pyenv\\torchenv\\lib\\site-packages (from jinja2->spacy<3.5.0,>=3.4.0->en-core-web-md==3.4.1) (2.1.1)\n",
      "Installing collected packages: en-core-web-md\n",
      "Successfully installed en-core-web-md-3.4.1\n",
      "[+] Download and installation successful\n",
      "You can now load the package via spacy.load('en_core_web_md')\n"
     ]
    }
   ]
  },
  {
   "cell_type": "code",
   "execution_count": 1,
   "outputs": [],
   "source": [
    "#Employment type, Industries, Job function, Seniority level, company, company_id, context, date, description,\n",
    "#education, location, months_experience, post_id, post_url, sal_high, sal_low, salary, title\n",
    "\n",
    "# Full-time,Broadcast Media,Information Technology,Mid-Senior level,CyberCoders,21836.0,\"{\"\"@context\"\": \"\"http://schema.org\"\", \"\"@type\"\": \"\"JobPosting\"\", \"\"datePosted\"\": \"\"2021-07-09T17:39:28.000Z\"\", \"\"description\"\": \"\"Job Title: Senior Data Engineer&lt\n",
    "import pandas as pd\n",
    "\n",
    "df = pd.read_csv('datasets/SO-Indeed/jobs.csv')\n",
    "records = df.to_dict(orient='records')"
   ],
   "metadata": {
    "collapsed": false
   }
  },
  {
   "cell_type": "code",
   "execution_count": 2,
   "outputs": [],
   "source": [
    "import spacy\n",
    "import pywikibot\n",
    "spacy.prefer_gpu()\n",
    "from spacy import displacy\n",
    "from collections import Counter\n",
    "import en_core_web_sm, en_core_web_trf, en_core_web_md\n",
    "nlp_trf = spacy.load(\"en_core_web_trf\")"
   ],
   "metadata": {
    "collapsed": false
   }
  },
  {
   "cell_type": "code",
   "execution_count": 3,
   "outputs": [],
   "source": [
    "from spacy.pipeline.entity_linker import DEFAULT_NEL_MODEL\n",
    "config = {\n",
    "   \"labels_discard\": [],\n",
    "   \"n_sents\": 0,\n",
    "   \"incl_prior\": True,\n",
    "   \"incl_context\": True,\n",
    "   \"model\": DEFAULT_NEL_MODEL,\n",
    "   \"entity_vector_length\": 64,\n",
    "   \"get_candidates\": {'@misc': 'spacy.CandidateGenerator.v1'},\n",
    "   \"threshold\": None,\n",
    "}\n",
    "#doc_trf = nlp_trf(records[0]['description'])\n",
    "#nlp_trf.add_pipe('entity_linker', config=config)"
   ],
   "metadata": {
    "collapsed": false
   }
  },
  {
   "cell_type": "code",
   "source": [
    "from pywikibot.exceptions import NoPageError, InvalidTitleError\n",
    "\n",
    "def get_wikidata(doc): #con trf e entity_linker\n",
    "    graph = []\n",
    "    # Iterate over the entities in the document\n",
    "    for ent in doc.ents:\n",
    "        # Get the entity label\n",
    "        if ent.label_ != 'GPE' and ent.label_ != 'DATE':\n",
    "            label = ent.label_\n",
    "        else : continue\n",
    "        # Get the entity text\n",
    "        entity = ent.text\n",
    "\n",
    "        # Search Wikidata for the entity\n",
    "        site = pywikibot.Site(\"en\", \"wikipedia\")\n",
    "        page = pywikibot.Page(site, entity)\n",
    "\n",
    "        # Get the Wikidata page for the entity\n",
    "        try: graph.append({'entity': entity, \"label\": label, \"WikidataId\": page.data_item().id})\n",
    "        except (NoPageError, InvalidTitleError) as e: pass\n",
    "        #wd_page = page.data_item()\n",
    "        # Print the graph\n",
    "    #print(graph)\n",
    "        # Add the entity to the graph\n",
    "    return graph\n",
    "\n",
    "#wikidata_ids = get_wikidata(doc_trf)"
   ],
   "metadata": {
    "colab": {
     "base_uri": "https://localhost:8080/"
    },
    "id": "zTfQEf5XBrlI",
    "outputId": "df0102bc-998c-456f-c403-9058d37a84de"
   },
   "execution_count": 4,
   "outputs": []
  },
  {
   "cell_type": "code",
   "execution_count": 5,
   "outputs": [],
   "source": [
    "#print([d['WikidataId'].id  for d in wikidata_ids if 'Python' in d['entity']]) #wikidataID"
   ],
   "metadata": {
    "collapsed": false
   }
  },
  {
   "cell_type": "code",
   "execution_count": null,
   "outputs": [
    {
     "name": "stderr",
     "output_type": "stream",
     "text": [
      "Sleeping for 5.0 seconds, 2023-01-10 15:22:49\n",
      "Sleeping for 5.0 seconds, 2023-01-10 15:23:27\n",
      "Sleeping for 5.0 seconds, 2023-01-10 15:23:42\n",
      "Sleeping for 5.0 seconds, 2023-01-10 15:24:10\n",
      "Sleeping for 5.0 seconds, 2023-01-10 15:24:37\n",
      "Sleeping for 5.0 seconds, 2023-01-10 15:38:56\n",
      "Sleeping for 5.0 seconds, 2023-01-10 15:41:44\n",
      "Sleeping for 5.0 seconds, 2023-01-10 15:42:21\n",
      "Sleeping for 5.0 seconds, 2023-01-10 15:45:09\n",
      "Sleeping for 5.0 seconds, 2023-01-10 15:46:00\n",
      "Sleeping for 5.0 seconds, 2023-01-10 15:47:35\n"
     ]
    }
   ],
   "source": [
    "import csv\n",
    "#entity_info_title : [{\"Label\": \"Weight gain\", \"Type\": \"C\", \"WikidataId\": \"Q3403879\", \"Confidence\": 1.0, \"OccurrenceOffsets\": [45], \"SurfaceForms\": [\"Gain Weight\"]}]\n",
    "jobs_info = [ 'post_id', 'industries','job_function', 'title', 'abstract', 'post_url', 'entity_info_title', 'entity_info_abstract']\n",
    "\n",
    "new_dict = []\n",
    "djob = {}\n",
    "with open('train_jobs.csv', 'w', encoding='utf-8', newline='') as csvfile:\n",
    "    writer = csv.DictWriter(csvfile, fieldnames = jobs_info)\n",
    "    writer.writeheader()\n",
    "    for job in records:\n",
    "        djob[\"post_id\"] = job['post_id']\n",
    "        djob[\"industries\"] = job['Industries']\n",
    "        djob[\"job_function\"] = job['Job function']\n",
    "        djob[\"title\"] = job['title']\n",
    "        djob[\"abstract\"] = job['description'].split('.')[0]\n",
    "        djob[\"post_url\"] = job['post_url']\n",
    "        doc_trf = nlp_trf(job['description'])\n",
    "        djob[\"entity_info_title\"] = get_wikidata(doc_trf)\n",
    "        djob[\"entity_info_abstract\"] = []\n",
    "        #print(djob)\n",
    "        writer.writerow(djob)\n"
   ],
   "metadata": {
    "collapsed": false,
    "pycharm": {
     "is_executing": true
    }
   }
  },
  {
   "cell_type": "code",
   "execution_count": null,
   "outputs": [],
   "source": [
    "with open('train_jobs.csv', 'w') as csvfile:\n",
    "    writer = csv.DictWriter(csvfile, fieldnames = jobs_info)\n",
    "    writer.writeheader()\n",
    "    writer.writerows(new_dict)"
   ],
   "metadata": {
    "collapsed": false
   }
  },
  {
   "cell_type": "markdown",
   "source": [
    "#news | jobs\n",
    "#id : post_id\n",
    "#category: Industries\n",
    "#subcategory : job function\n",
    "#title: title\n",
    "#abstract : requirements\n",
    "#url : url\n",
    "#entity_info_title : only one [{label, type, wikidataId, confidence, occurrence offsets, surface forms}]\n",
    "#entity_info_abstract: all the first 3[{label, type, wikidataId, confidence, occurrence offsets, surface forms}]"
   ],
   "metadata": {
    "collapsed": false
   }
  }
 ]
}
