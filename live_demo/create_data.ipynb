{
 "cells": [
  {
   "cell_type": "code",
   "execution_count": 1,
   "outputs": [],
   "source": [
    "test_data = {}"
   ],
   "metadata": {
    "collapsed": false
   }
  },
  {
   "cell_type": "code",
   "execution_count": 1,
   "outputs": [],
   "source": [],
   "metadata": {
    "collapsed": false
   }
  },
  {
   "cell_type": "code",
   "execution_count": 2,
   "outputs": [],
   "source": [
    "import pickle\n",
    "\n",
    "with open('vis_.pkl', 'rb') as f:\n",
    "    test_data['item1'], test_data['item2'], truth, y_pred = pickle.load(f)"
   ],
   "metadata": {
    "collapsed": false
   }
  },
  {
   "cell_type": "code",
   "execution_count": 3,
   "outputs": [],
   "source": [
    "article_in_eng = {}\n",
    "with open ('/Users/andreaparolin/PycharmProjects/kred/adressa/mind_format/train/news_eng.tsv', 'r') as file:\n",
    "    for line in file:\n",
    "        fields = line.split('\\t')\n",
    "        article_in_eng[fields[0]] = fields[1]\n"
   ],
   "metadata": {
    "collapsed": false
   }
  },
  {
   "cell_type": "code",
   "execution_count": 4,
   "outputs": [],
   "source": [
    "visualization_dict = {}\n",
    "for user, item, t,p in zip(test_data['item1'], test_data['item2'], truth, y_pred):\n",
    "    if not(t == 1 and round(p)==1):\n",
    "        continue\n",
    "    username = user.split('_')[0]\n",
    "    if username not in visualization_dict:\n",
    "      visualization_dict[username] = {}\n",
    "\n",
    "    visualization_dict[username][item] = {'predicted':True, 'title': (article_in_eng[item] if item in article_in_eng else '') }"
   ],
   "metadata": {
    "collapsed": false
   }
  },
  {
   "cell_type": "code",
   "execution_count": 5,
   "outputs": [],
   "source": [
    "assert len(test_data['item1']) == len(test_data['item2']) == len(truth) == len(y_pred)"
   ],
   "metadata": {
    "collapsed": false
   }
  },
  {
   "cell_type": "code",
   "execution_count": 6,
   "outputs": [],
   "source": [
    "new_dict = {}\n",
    "for user, articles in visualization_dict.items():\n",
    "    if len(articles) > 3:\n",
    "        new_dict[user] = articles\n",
    "\n"
   ],
   "metadata": {
    "collapsed": false
   }
  },
  {
   "cell_type": "code",
   "execution_count": 7,
   "outputs": [],
   "source": [
    "with open ('/Users/andreaparolin/PycharmProjects/kred/adressa/mind_format/test/behaviors.tsv', 'r') as file:\n",
    "  for line in file:\n",
    "    index, userid, imp_time, history, behavior = line.strip().split('\\t')\n",
    "    if userid not in new_dict:\n",
    "      continue\n",
    "    for article in history.split(' '):\n",
    "      new_dict[userid][article] = {'predicted':False, 'title': (article_in_eng[article] if article in article_in_eng else '') }\n"
   ],
   "metadata": {
    "collapsed": false
   }
  },
  {
   "cell_type": "code",
   "execution_count": 8,
   "outputs": [],
   "source": [
    "for user, items in new_dict.items():\n",
    "    new_dict[user] = [{item:items[item]} for item in items]"
   ],
   "metadata": {
    "collapsed": false
   }
  },
  {
   "cell_type": "code",
   "execution_count": 9,
   "outputs": [],
   "source": [
    "import json\n",
    "\n",
    "json.dump(new_dict, open(\"extracted_data_.json\", \"w\"))"
   ],
   "metadata": {
    "collapsed": false
   }
  },
  {
   "cell_type": "code",
   "execution_count": 10,
   "outputs": [
    {
     "data": {
      "text/plain": "{'232435': [{'N7393': {'predicted': True,\n    'title': \"This is the mistake that spoiled Tande's chances of winning: – It's pure bad luck\"}},\n  {'N3672': {'predicted': True, 'title': 'Here comes the Klett Tunnel'}},\n  {'N4071': {'predicted': True,\n    'title': \"- We're not going to do car chases\"}},\n  {'N5354': {'predicted': True,\n    'title': 'Closing E6 at Klett for almost three days'}},\n  {'': {'predicted': False, 'title': ''}}],\n '29300': [{'N5354': {'predicted': True,\n    'title': 'Closing E6 at Klett for almost three days'}},\n  {'N7808': {'predicted': True, 'title': 'Terribly loud, but no disaster'}},\n  {'N4109': {'predicted': True,\n    'title': 'Ford will launch seven rechargeable vehicles over the next five years'}},\n  {'N7393': {'predicted': True,\n    'title': \"This is the mistake that spoiled Tande's chances of winning: – It's pure bad luck\"}},\n  {'N686': {'predicted': False,\n    'title': 'Obviously intoxicated man in traffic accident at Byåsen'}},\n  {'N1': {'predicted': False, 'title': \"See readers' New Year photos\"}},\n  {'N18': {'predicted': False,\n    'title': 'Norwegian runner returns home from Tour de Ski'}},\n  {'N4': {'predicted': False,\n    'title': 'Here it boils over for Tønseth. Then he ran from the stadium in anger.'}},\n  {'N12': {'predicted': False,\n    'title': 'In this picture, Magnus Carlsen stands out: - A bit random'}},\n  {'N58': {'predicted': False,\n    'title': 'Historical photos of Trøndelag: This new car owner was extremely unlucky'}},\n  {'N19': {'predicted': False,\n    'title': \"Northug's coach doesn't think Sundby will win the Tour de Ski\"}},\n  {'N28': {'predicted': False,\n    'title': '15 000 more in lump sum for new parents'}},\n  {'N36': {'predicted': False, 'title': 'Fire call to kitchen at Singsaker'}},\n  {'N83': {'predicted': False,\n    'title': 'The millionaire dream must start with an ingenious idea'}},\n  {'N13153': {'predicted': False,\n    'title': 'In these municipalities, the debate on mergers continues'}},\n  {'N13138': {'predicted': False,\n    'title': \"Twelve shot dead at New Year's party in Brazil\"}},\n  {'N2973': {'predicted': False,\n    'title': '15-year-olds triggered the fire alarm with phyverkeri'}},\n  {'N78': {'predicted': False, 'title': 'The dream of sun and soul'}},\n  {'N961': {'predicted': False,\n    'title': 'Minister of Trade and Industry asks unemployed to \"take action\"'}},\n  {'N5713': {'predicted': False,\n    'title': 'New Norwegian petrol price record'}},\n  {'N4197': {'predicted': False,\n    'title': 'Police release name of woman who died after E39 accident'}},\n  {'N4119': {'predicted': False,\n    'title': '- Perfectly fine if the petrol price is 19-20 kroner'}},\n  {'N4367': {'predicted': False,\n    'title': '\"It\\'s unfathomable that it\\'s possible to treat a new car like this.'}},\n  {'N4300': {'predicted': False,\n    'title': 'Rema 1000 has applied to use the Æ trademark for this'}},\n  {'N4194': {'predicted': False,\n    'title': 'Tonight you can get a special view of the sky'}},\n  {'N5097': {'predicted': False, 'title': 'Head-on collision at Heimdal'}},\n  {'N10631': {'predicted': False,\n    'title': \"- We have voted for Åfjord - that's enough!\"}},\n  {'N4670': {'predicted': False,\n    'title': 'Here it goes from night to day in one second'}},\n  {'N4224': {'predicted': False,\n    'title': 'Victor is a Spanish ski tourist in Bymarka: \"In Spain it\\'s too hot\"'}},\n  {'N4715': {'predicted': False,\n    'title': 'The breeders can not always get what they want'}},\n  {'N4313': {'predicted': False,\n    'title': 'Tough Rema year is the backdrop for \"Æ\"'}},\n  {'N4839': {'predicted': False, 'title': 'Plug-in hybrids on the rise'}},\n  {'N4204': {'predicted': False,\n    'title': 'Home seller must fork out for ticking off mistakes about renovation'}},\n  {'N4183': {'predicted': False,\n    'title': \"- You're going to shovel the sidewalk outside your house\"}},\n  {'N4231': {'predicted': False,\n    'title': '\"I don\\'t think we can lie that low for so long.'}},\n  {'N5611': {'predicted': False,\n    'title': 'The success coach was saddened when Kalla broke out'}},\n  {'N4352': {'predicted': False,\n    'title': 'Have to fork out after being overloaded with trash'}},\n  {'N4147': {'predicted': False,\n    'title': 'Reitan establishes new gas station chain'}},\n  {'N5364': {'predicted': False, 'title': 'Traffic accident on E14'}},\n  {'N5257': {'predicted': False,\n    'title': 'Moving back to school after six months in barracks at Brøset'}},\n  {'N4662': {'predicted': False, 'title': '- Scary with so much loan'}},\n  {'N4511': {'predicted': False, 'title': 'Munkegata 1960 and 2016'}},\n  {'N4310': {'predicted': False,\n    'title': 'Entrepreneurial billionaire bought penthouse at Ranheim'}},\n  {'N4762': {'predicted': False,\n    'title': \"Young people get their driver's license back to become a professional driver\"}},\n  {'N4111': {'predicted': False, 'title': 'Now Rema has revealed what Æ is'}},\n  {'N4466': {'predicted': False, 'title': 'Considering moving from Midtbyen'}},\n  {'N4411': {'predicted': False,\n    'title': 'Truck lost cargo of metal pipes in the road'}},\n  {'N4297': {'predicted': False, 'title': 'Two lorries have collided'}},\n  {'N5038': {'predicted': False,\n    'title': 'Has stayed away from both alcohol and tobacco'}},\n  {'N4282': {'predicted': False,\n    'title': 'Three people arrested after burglary of car and work barracks'}},\n  {'N4176': {'predicted': False,\n    'title': 'Taken at 120 km/h in the Strindheim Tunnel'}},\n  {'N4094': {'predicted': False,\n    'title': '\"I\\'m 90 percent sure my puppy was taken by wolves.'}},\n  {'N4133': {'predicted': False,\n    'title': 'When he returned from the alpine slopes, the car looked like this.'}},\n  {'N3217': {'predicted': False,\n    'title': 'Are you struggling with your electric car in the cold? Here are ten tips.'}},\n  {'N4105': {'predicted': False,\n    'title': 'An exceptionally impressive smartphone'}},\n  {'N1978': {'predicted': False,\n    'title': 'Historical photos: \"Everyone\" was going to ski to Gråkallen'}},\n  {'N4337': {'predicted': False, 'title': \"Here are Samsung's new super TVs\"}},\n  {'N4220': {'predicted': False,\n    'title': 'Mayor agrees with municipal director about NTNU campus'}},\n  {'N4165': {'predicted': False,\n    'title': 'RBK youngsters on their way away from Lerkendal'}},\n  {'N4075': {'predicted': False,\n    'title': 'Tomorrow there will be a violent change of weather in Trøndelag'}},\n  {'N4088': {'predicted': False,\n    'title': 'Historical Trondheim photos: Tyholttårnet takes shape here'}},\n  {'N4073': {'predicted': False,\n    'title': '600 cats fill this hotel at the end of April'}},\n  {'N4080': {'predicted': False,\n    'title': 'Koteng thinks Reitan is covered too negatively'}},\n  {'N4068': {'predicted': False, 'title': '25,000 salmon chewy to death'}},\n  {'N4834': {'predicted': False,\n    'title': 'Now the inflamed dispute over the ski trail ends up in court'}},\n  {'N4069': {'predicted': False,\n    'title': 'The Æ app led to payment problems in Rema stores'}},\n  {'N4071': {'predicted': False,\n    'title': \"- We're not going to do car chases\"}},\n  {'N4838': {'predicted': False,\n    'title': 'Ottervik must give answers about superbus'}},\n  {'N4084': {'predicted': False,\n    'title': 'Smoke development in Vegmesterstien'}},\n  {'N4077': {'predicted': False,\n    'title': 'Large test of 42 types of crispbread'}},\n  {'N4116': {'predicted': False,\n    'title': 'Get help for your own \"Who do you think you are?\" -hunting'}}],\n '70003': [{'N5798': {'predicted': True,\n    'title': 'Wanted an outhouse-feeling in the bathroom'}},\n  {'N7902': {'predicted': True,\n    'title': \"What's the point of living in Norway if you hate snow?\"}},\n  {'N5591': {'predicted': True,\n    'title': \"The country's oldest – and youngest theatre\"}},\n  {'N7808': {'predicted': True, 'title': 'Terribly loud, but no disaster'}},\n  {'N7393': {'predicted': True,\n    'title': \"This is the mistake that spoiled Tande's chances of winning: – It's pure bad luck\"}},\n  {'N961': {'predicted': False,\n    'title': 'Minister of Trade and Industry asks unemployed to \"take action\"'}},\n  {'N1006': {'predicted': False,\n    'title': 'Easier to be an electricity customer with smart meters'}},\n  {'N1015': {'predicted': False, 'title': 'The Old Skating King'}},\n  {'N4197': {'predicted': False,\n    'title': 'Police release name of woman who died after E39 accident'}},\n  {'N4397': {'predicted': False,\n    'title': 'The name of the drowned 40-year-old has been released'}},\n  {'N4300': {'predicted': False,\n    'title': 'Rema 1000 has applied to use the Æ trademark for this'}},\n  {'N6056': {'predicted': False,\n    'title': '\"Anno\" is fantastic Trondheim advertising'}},\n  {'N978': {'predicted': False,\n    'title': 'This is how Trondheim\\'s \"Anno\" participants live'}},\n  {'N4914': {'predicted': False,\n    'title': 'So important are the movements of the baby in the womb'}},\n  {'N7016': {'predicted': False,\n    'title': \"The technology trends you'll notice next year\"}},\n  {'N3424': {'predicted': False,\n    'title': 'People rush to the gyms in January. Soon almost half will be gone.'}},\n  {'N5940': {'predicted': False, 'title': 'Boiled kujur for dinner'}},\n  {'N4367': {'predicted': False,\n    'title': '\"It\\'s unfathomable that it\\'s possible to treat a new car like this.'}},\n  {'N4500': {'predicted': False,\n    'title': 'Chand makes song for his newborn daughter'}},\n  {'N4442': {'predicted': False,\n    'title': 'See which movies and TV shows were added to Netflix while celebrating New Year'}},\n  {'N4199': {'predicted': False,\n    'title': 'Ola Borten Moe and Ivar Vigdenes claim that there is a de-Christianization of Norway that rectors, politicians, atheists and humanists are behind? Is that true?'}},\n  {'N4469': {'predicted': False,\n    'title': 'With creative approaches, Øystein has gained a rather unique home'}},\n  {'N4079': {'predicted': False,\n    'title': 'The cold leads to dew on the windshield and poor visibility inside the tunnels'}},\n  {'N4077': {'predicted': False,\n    'title': 'Large test of 42 types of crispbread'}},\n  {'N4072': {'predicted': False,\n    'title': 'Fears that Æ sends Rema into a death spiral'}},\n  {'N4133': {'predicted': False,\n    'title': 'When he returned from the alpine slopes, the car looked like this.'}},\n  {'N4118': {'predicted': False,\n    'title': 'Exclusive home hotel: Sold all the furniture to get the hotel feel at home'}},\n  {'N4088': {'predicted': False,\n    'title': 'Historical Trondheim photos: Tyholttårnet takes shape here'}},\n  {'N5716': {'predicted': False,\n    'title': 'To say that Christian Christmas carols are removed is nonsense'}},\n  {'N4357': {'predicted': False, 'title': 'Acem on finance and organization'}},\n  {'N4080': {'predicted': False,\n    'title': 'Koteng thinks Reitan is covered too negatively'}},\n  {'N4834': {'predicted': False,\n    'title': 'Now the inflamed dispute over the ski trail ends up in court'}},\n  {'N4069': {'predicted': False,\n    'title': 'The Æ app led to payment problems in Rema stores'}},\n  {'N4099': {'predicted': False,\n    'title': 'Ex-coach: –It has never been so dramatic for Northug'}},\n  {'N4071': {'predicted': False,\n    'title': \"- We're not going to do car chases\"}},\n  {'N4076': {'predicted': False,\n    'title': \"I'm so tired of everyone saying I have to pull myself together. Do you really think I WILL be sick?!\"}},\n  {'N4838': {'predicted': False,\n    'title': 'Ottervik must give answers about superbus'}},\n  {'N4127': {'predicted': False,\n    'title': \"What's wrong with me, who thinks it went pretty smoothly in 2016?\"}},\n  {'N4112': {'predicted': False, 'title': 'Person found dead on Strinda'}}]}"
     },
     "execution_count": 10,
     "metadata": {},
     "output_type": "execute_result"
    }
   ],
   "source": [
    "new_dict"
   ],
   "metadata": {
    "collapsed": false
   }
  },
  {
   "cell_type": "code",
   "execution_count": null,
   "outputs": [],
   "source": [],
   "metadata": {
    "collapsed": false
   }
  }
 ],
 "metadata": {
  "kernelspec": {
   "display_name": "Python 3",
   "language": "python",
   "name": "python3"
  },
  "language_info": {
   "codemirror_mode": {
    "name": "ipython",
    "version": 2
   },
   "file_extension": ".py",
   "mimetype": "text/x-python",
   "name": "python",
   "nbconvert_exporter": "python",
   "pygments_lexer": "ipython2",
   "version": "2.7.6"
  }
 },
 "nbformat": 4,
 "nbformat_minor": 0
}
