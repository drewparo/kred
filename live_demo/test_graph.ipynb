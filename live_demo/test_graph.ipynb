{
 "cells": [
  {
   "cell_type": "code",
   "execution_count": 1,
   "outputs": [],
   "source": [
    "import json\n",
    "def getPlot():\n",
    "    with open('extracted_data.json') as json_file:\n",
    "        data = json.load(json_file)\n",
    "\n",
    "        G = nx.Graph()\n",
    "\n",
    "        # Add user nodes with labels\n",
    "        for user in data.keys():\n",
    "            G.add_node(user, color='#FEBE8C', label=user)\n",
    "\n",
    "        # Add item nodes and edges\n",
    "        for user, items in data.items():\n",
    "            for item in items:\n",
    "                item_id = list(item.keys())[0]\n",
    "                title = item[item_id]['title']\n",
    "                if item[item_id]['read']:\n",
    "                    G.add_node(item_id, color='#B6E2A1', label=title)\n",
    "                else:\n",
    "                    G.add_node(item_id, color='#F7A4A4', label=title)\n",
    "                G.add_edge(user, item_id)\n",
    "\n",
    "        # Create trace for nodes\n",
    "        node_x = []\n",
    "        node_y = []\n",
    "        node_colors = []\n",
    "        node_labels = []\n",
    "        for node in G.nodes():\n",
    "            x, y = nx.spring_layout(G, seed=42)[node]\n",
    "            node_x.append(x)\n",
    "            node_y.append(y)\n",
    "            node_colors.append(G.nodes[node]['color'])\n",
    "            node_labels.append(G.nodes[node]['label'])\n",
    "\n",
    "        node_trace = go.Scatter(\n",
    "            x=node_x, y=node_y,\n",
    "            mode='markers+text',\n",
    "            marker=dict(symbol='circle', size=100, color=node_colors, line_width=2),\n",
    "            text=node_labels,\n",
    "            textposition='middle center',\n",
    "            hoverinfo='text',\n",
    "            textfont=dict(size=16),\n",
    "        )\n",
    "\n",
    "        # Create trace for edges\n",
    "        edge_x = []\n",
    "        edge_y = []\n",
    "        for edge in G.edges():\n",
    "            x0, y0 = nx.spring_layout(G, seed=42)[edge[0]]\n",
    "            x1, y1 = nx.spring_layout(G, seed=42)[edge[1]]\n",
    "            edge_x.append(x0)\n",
    "            edge_x.append(x1)\n",
    "            edge_x.append(None)\n",
    "            edge_y.append(y0)\n",
    "            edge_y.append(y1)\n",
    "            edge_y.append(None)\n",
    "\n",
    "        edge_trace = go.Scatter(\n",
    "            x=edge_x, y=edge_y,\n",
    "            line=dict(width=1, color='gray'),\n",
    "            hoverinfo='none',\n",
    "            mode='lines'\n",
    "        )\n",
    "\n",
    "        # Create figure\n",
    "        fig = go.Figure(\n",
    "            data=[edge_trace, node_trace],\n",
    "            layout=go.Layout(\n",
    "                title='News Adressa',\n",
    "                showlegend=False,\n",
    "                hovermode='closest',\n",
    "                margin=dict(b=0,l=0,r=0,t=40),\n",
    "                xaxis=dict(showgrid=False, zeroline=False, showticklabels=False),\n",
    "                yaxis=dict(showgrid=False, zeroline=False, showticklabels=False),\n",
    "                plot_bgcolor='white',\n",
    "            )\n",
    "        )\n",
    "        return fig"
   ],
   "metadata": {
    "collapsed": false
   }
  },
  {
   "cell_type": "code",
   "execution_count": null,
   "outputs": [
    {
     "name": "stdout",
     "output_type": "stream",
     "text": [
      " * Serving Flask app '__main__'\n",
      " * Debug mode: off\n"
     ]
    },
    {
     "name": "stderr",
     "output_type": "stream",
     "text": [
      "\u001B[31m\u001B[1mWARNING: This is a development server. Do not use it in a production deployment. Use a production WSGI server instead.\u001B[0m\n",
      " * Running on http://127.0.0.1:8082\n",
      "\u001B[33mPress CTRL+C to quit\u001B[0m\n",
      "127.0.0.1 - - [17/Feb/2023 15:46:21] \"GET / HTTP/1.1\" 200 -\n",
      "127.0.0.1 - - [17/Feb/2023 15:47:27] \"GET / HTTP/1.1\" 200 -\n"
     ]
    }
   ],
   "source": [
    "import plotly.graph_objs as go\n",
    "import networkx as nx\n",
    "from flask import Flask\n",
    "import os\n",
    "\n",
    "app = Flask(__name__)\n",
    "\n",
    "\n",
    "# Define route for the plot\n",
    "@app.route('/')\n",
    "def plot():\n",
    "    return getPlot().to_html(full_html=False)\n",
    "\n",
    "# Start the server\n",
    "if __name__ == '__main__':\n",
    "    app.run(port=8082, debug=False)\n"
   ],
   "metadata": {
    "collapsed": false,
    "pycharm": {
     "is_executing": true
    }
   }
  },
  {
   "cell_type": "code",
   "execution_count": null,
   "outputs": [],
   "source": [
    "data = json.loads('extracted_data.json')"
   ],
   "metadata": {
    "collapsed": false
   }
  },
  {
   "cell_type": "code",
   "execution_count": null,
   "outputs": [],
   "source": [
    "with open('extracted_data.json') as json_file:\n",
    "    data = json.load(json_file)\n",
    "    print(data)"
   ],
   "metadata": {
    "collapsed": false
   }
  },
  {
   "cell_type": "code",
   "execution_count": null,
   "outputs": [],
   "source": [],
   "metadata": {
    "collapsed": false
   }
  }
 ],
 "metadata": {
  "kernelspec": {
   "display_name": "Python 3",
   "language": "python",
   "name": "python3"
  },
  "language_info": {
   "codemirror_mode": {
    "name": "ipython",
    "version": 2
   },
   "file_extension": ".py",
   "mimetype": "text/x-python",
   "name": "python",
   "nbconvert_exporter": "python",
   "pygments_lexer": "ipython2",
   "version": "2.7.6"
  }
 },
 "nbformat": 4,
 "nbformat_minor": 0
}
